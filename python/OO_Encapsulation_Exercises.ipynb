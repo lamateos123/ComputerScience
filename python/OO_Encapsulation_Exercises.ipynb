{
 "cells": [
  {
   "cell_type": "code",
   "execution_count": 4,
   "metadata": {},
   "outputs": [
    {
     "name": "stdout",
     "output_type": "stream",
     "text": [
      "Austria\n",
      "Vienna\n",
      "23423423\n",
      "Europe\n"
     ]
    }
   ],
   "source": [
    "# Exercise 1\n",
    "# create ._variables\n",
    "class Country:\n",
    "    def __init__(self, name, capital, population, continent):\n",
    "        self._name = name\n",
    "        self._capital = capital\n",
    "        self._population = population\n",
    "        self._continent = continent\n",
    "\n",
    "my_country = Country(\"Austria\", \"Vienna\", 23423423, \"Europe\")\n",
    "\n",
    "# just print the attributes\n",
    "print(my_country._name)\n",
    "print(my_country._capital)\n",
    "print(my_country._population)\n",
    "print(my_country._continent)"
   ]
  },
  {
   "cell_type": "code",
   "execution_count": 5,
   "metadata": {},
   "outputs": [
    {
     "name": "stdout",
     "output_type": "stream",
     "text": [
      "123123\n",
      "88484\n"
     ]
    }
   ],
   "source": [
    "# Exercise 2\n",
    "# Exercise 3\n",
    "# Do not use the property decorator neither the property function\n",
    "# follow the python convention for private attributes\n",
    "\n",
    "class BankAccount:\n",
    "    def __inti__(self):\n",
    "        self._checking = 0\n",
    "        self._savings = 0\n",
    "        \n",
    "    def get_checking(self):\n",
    "        return self._checking\n",
    "    \n",
    "    def set_checking(self, new_value):\n",
    "        self._checking = new_value\n",
    "        \n",
    "    def get_savings(self):\n",
    "        return self._savings\n",
    "    \n",
    "    def set_savings(self, new_value):\n",
    "        self._savings = new_value\n",
    "        \n",
    "my_account = BankAccount()\n",
    "my_account.set_checking(123123)\n",
    "print(my_account.get_checking())\n",
    "my_account.set_savings(88484)\n",
    "print(my_account.get_savings())"
   ]
  },
  {
   "cell_type": "code",
   "execution_count": 7,
   "metadata": {},
   "outputs": [
    {
     "name": "stdout",
     "output_type": "stream",
     "text": [
      "Watson josh\n",
      "German\n",
      "Crazy\n",
      "John Travolta\n",
      "American\n",
      "60's\n"
     ]
    }
   ],
   "source": [
    "# Exercise 4\n",
    "# Use the python convention to make these attributes private\n",
    "# Create the getters and setters using the property function\n",
    "class Dancer:\n",
    "    def __init__(self, name, nationality, style):\n",
    "        self._name = name\n",
    "        self._nationality = nationality\n",
    "        self._style = style\n",
    "        \n",
    "    def get_name(self):\n",
    "        return self._name\n",
    "    \n",
    "    def set_name(self, new_value):\n",
    "        self._name = new_value\n",
    "       \n",
    "    def get_nationality(self):\n",
    "        return self._nationality\n",
    "    \n",
    "    def set_nationality(self, new_value):\n",
    "        self._nationality = new_value\n",
    "        \n",
    "    def get_style(self):\n",
    "        return self._style\n",
    "    \n",
    "    def set_style(self, new_value):\n",
    "        self._style = new_value\n",
    "        \n",
    "    name = property(get_name, set_name)\n",
    "    nationality = property(get_nationality, set_nationality)\n",
    "    style = property(get_style, set_style)\n",
    "    \n",
    "my_dancer = Dancer(\"Watson josh\", \"German\", \"Crazy\")\n",
    "print(my_dancer.name)\n",
    "print(my_dancer.nationality)\n",
    "print(my_dancer.style)\n",
    "my_dancer.name = \"John Travolta\"\n",
    "my_dancer.nationality = \"American\"\n",
    "my_dancer.style = \"60's\"\n",
    "\n",
    "print(my_dancer.name)\n",
    "print(my_dancer.nationality)\n",
    "print(my_dancer.style)\n"
   ]
  },
  {
   "cell_type": "code",
   "execution_count": 9,
   "metadata": {},
   "outputs": [
    {
     "name": "stdout",
     "output_type": "stream",
     "text": [
      "Big Pops\n",
      "German\n",
      "The killer\n",
      "Jaime W.T.\n",
      "American\n",
      "The flyer\n"
     ]
    }
   ],
   "source": [
    "# Exercise 5\n",
    "# Create the getters and setters using the property decorator\n",
    "\n",
    "class Wrestler:\n",
    "    def __init__(self, name, nationality, nickname):\n",
    "        self._name = name\n",
    "        self._nationality = nationality\n",
    "        self._nickname = nickname\n",
    "        \n",
    "    @property\n",
    "    def name(self):\n",
    "        return self._name\n",
    "    \n",
    "    @name.setter\n",
    "    def name(self, new_value):\n",
    "        self._name = new_value\n",
    "        \n",
    "    @property\n",
    "    def nationality(self):\n",
    "        return self._nationality\n",
    "    \n",
    "    @nationality.setter\n",
    "    def nationality(self, new_value):\n",
    "        self._nationality = new_value\n",
    "        \n",
    "    @property\n",
    "    def nickname(self):\n",
    "        return self._nickname\n",
    "    \n",
    "    @nickname.setter\n",
    "    def nickname(self, new_value):\n",
    "        self._nickname = new_value\n",
    "        \n",
    "w = Wrestler(\"Big Pops\", \"German\", \"The killer\")\n",
    "print(w.name)\n",
    "print(w.nationality)\n",
    "print(w.nickname)\n",
    "\n",
    "w.name = \"Jaime W.T.\"\n",
    "w.nationality = \"American\"\n",
    "w.nickname = \"The flyer\"\n",
    "print(w.name)\n",
    "print(w.nationality)\n",
    "print(w.nickname)\n"
   ]
  },
  {
   "cell_type": "code",
   "execution_count": null,
   "metadata": {},
   "outputs": [],
   "source": []
  },
  {
   "cell_type": "code",
   "execution_count": null,
   "metadata": {},
   "outputs": [],
   "source": []
  },
  {
   "cell_type": "code",
   "execution_count": null,
   "metadata": {},
   "outputs": [],
   "source": []
  },
  {
   "cell_type": "code",
   "execution_count": null,
   "metadata": {},
   "outputs": [],
   "source": []
  },
  {
   "cell_type": "code",
   "execution_count": null,
   "metadata": {},
   "outputs": [],
   "source": []
  }
 ],
 "metadata": {
  "kernelspec": {
   "display_name": "Python 3",
   "language": "python",
   "name": "python3"
  },
  "language_info": {
   "codemirror_mode": {
    "name": "ipython",
    "version": 3
   },
   "file_extension": ".py",
   "mimetype": "text/x-python",
   "name": "python",
   "nbconvert_exporter": "python",
   "pygments_lexer": "ipython3",
   "version": "3.8.10"
  }
 },
 "nbformat": 4,
 "nbformat_minor": 4
}
