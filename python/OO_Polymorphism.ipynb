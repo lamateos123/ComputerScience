{
 "cells": [
  {
   "cell_type": "code",
   "execution_count": 1,
   "metadata": {},
   "outputs": [
    {
     "name": "stdout",
     "output_type": "stream",
     "text": [
      "15\n",
      "510\n"
     ]
    }
   ],
   "source": [
    "# Polymorphism\n",
    "# A single interface is applicable with different types\n",
    "# Operators with the same name will produce different results\n",
    "\n",
    "a = 5\n",
    "b = 10\n",
    "print(a + b)\n",
    "\n",
    "a = \"5\"\n",
    "b = \"10\"\n",
    "print(a + b)"
   ]
  },
  {
   "cell_type": "code",
   "execution_count": 4,
   "metadata": {},
   "outputs": [
    {
     "name": "stdout",
     "output_type": "stream",
     "text": [
      "I am from class Alpha\n",
      "I am from class Bravo\n"
     ]
    }
   ],
   "source": [
    "# Method overriding\n",
    "# You have two methods with the same name but perform different tasks\n",
    "class Alpha:\n",
    "    def show(self):\n",
    "        print(\"I am from class Alpha\")\n",
    "        \n",
    "class Bravo(Alpha):\n",
    "    def show(self):\n",
    "        print(\"I am from class Bravo\")\n",
    "        \n",
    "test_object = Alpha()\n",
    "test_object.show()\n",
    "\n",
    "test_object = Bravo()\n",
    "test_object.show()"
   ]
  },
  {
   "cell_type": "code",
   "execution_count": 8,
   "metadata": {},
   "outputs": [
    {
     "name": "stdout",
     "output_type": "stream",
     "text": [
      "3\n"
     ]
    },
    {
     "ename": "TypeError",
     "evalue": "sum() takes 3 positional arguments but 4 were given",
     "output_type": "error",
     "traceback": [
      "\u001b[0;31m---------------------------------------------------------------------------\u001b[0m",
      "\u001b[0;31mTypeError\u001b[0m                                 Traceback (most recent call last)",
      "\u001b[0;32m<ipython-input-8-1d50e983fe9b>\u001b[0m in \u001b[0;36m<module>\u001b[0;34m\u001b[0m\n\u001b[1;32m     11\u001b[0m \u001b[0mobj\u001b[0m \u001b[0;34m=\u001b[0m \u001b[0mTestClass\u001b[0m\u001b[0;34m(\u001b[0m\u001b[0;34m)\u001b[0m\u001b[0;34m\u001b[0m\u001b[0;34m\u001b[0m\u001b[0m\n\u001b[1;32m     12\u001b[0m \u001b[0mprint\u001b[0m\u001b[0;34m(\u001b[0m\u001b[0mobj\u001b[0m\u001b[0;34m.\u001b[0m\u001b[0msum\u001b[0m\u001b[0;34m(\u001b[0m\u001b[0;36m1\u001b[0m\u001b[0;34m,\u001b[0m\u001b[0;36m2\u001b[0m\u001b[0;34m)\u001b[0m\u001b[0;34m)\u001b[0m\u001b[0;34m\u001b[0m\u001b[0;34m\u001b[0m\u001b[0m\n\u001b[0;32m---> 13\u001b[0;31m \u001b[0mprint\u001b[0m\u001b[0;34m(\u001b[0m\u001b[0mobj\u001b[0m\u001b[0;34m.\u001b[0m\u001b[0msum\u001b[0m\u001b[0;34m(\u001b[0m\u001b[0;36m1\u001b[0m\u001b[0;34m,\u001b[0m\u001b[0;36m2\u001b[0m\u001b[0;34m,\u001b[0m\u001b[0;36m3\u001b[0m\u001b[0;34m)\u001b[0m\u001b[0;34m)\u001b[0m\u001b[0;34m\u001b[0m\u001b[0;34m\u001b[0m\u001b[0m\n\u001b[0m",
      "\u001b[0;31mTypeError\u001b[0m: sum() takes 3 positional arguments but 4 were given"
     ]
    }
   ],
   "source": [
    "# Method overloading\n",
    "# Single method that can take on different set of parameters\n",
    "\n",
    "class TestClass:\n",
    "    def sum(self, a, b, c):\n",
    "        return a + b + c\n",
    "    \n",
    "    def sum(self, a, b):\n",
    "        return a + b\n",
    "    \n",
    "obj = TestClass()\n",
    "print(obj.sum(1,2))\n",
    "print(obj.sum(1,2,3))"
   ]
  },
  {
   "cell_type": "code",
   "execution_count": 9,
   "metadata": {},
   "outputs": [
    {
     "name": "stdout",
     "output_type": "stream",
     "text": [
      "0\n",
      "1\n",
      "3\n",
      "6\n"
     ]
    }
   ],
   "source": [
    "# python only recognized the second sum\n",
    "# Instead, create a method with optional parameters\n",
    "\n",
    "class TestClass:\n",
    "    def sum(self, a=None, b=None, c=None):\n",
    "        if a is not None and b is not None and c is not None:\n",
    "            return a + b + c\n",
    "        elif a is not None and b is not None:\n",
    "            return a + b\n",
    "        elif a is not None:\n",
    "            return a\n",
    "        else:\n",
    "            return 0\n",
    "        \n",
    "obj = TestClass()\n",
    "print(obj.sum())\n",
    "print(obj.sum(1))\n",
    "print(obj.sum(1,2))\n",
    "print(obj.sum(1,2,3))"
   ]
  },
  {
   "cell_type": "code",
   "execution_count": 10,
   "metadata": {},
   "outputs": [
    {
     "name": "stdout",
     "output_type": "stream",
     "text": [
      "8\n",
      "pythonpythonpython\n"
     ]
    }
   ],
   "source": [
    "# Operator overloading\n",
    "# When a single operator can be used with many data types\n",
    "\n",
    "my_string = \"python\"\n",
    "num1 = 3\n",
    "num2 = 5\n",
    "print(num1 + num2)\n",
    "print(my_string * num1)"
   ]
  },
  {
   "cell_type": "code",
   "execution_count": 11,
   "metadata": {},
   "outputs": [
    {
     "name": "stdout",
     "output_type": "stream",
     "text": [
      "1700\n"
     ]
    }
   ],
   "source": [
    "# MAgic methods or dunder\n",
    "# __add__\n",
    "# +   object.__add__(self, other)\n",
    "\n",
    "class C:\n",
    "    def __init__(self, amount):\n",
    "        self.account = amount\n",
    "        \n",
    "    def __add__(self, other):\n",
    "        return self.account + other.account\n",
    "    \n",
    "    #def __sub__(self, other):\n",
    "    #   return self.account - other.account\n",
    "        \n",
    "class D(C):\n",
    "    pass\n",
    "\n",
    "class E(C):\n",
    "    pass\n",
    "\n",
    "myD = D(500)\n",
    "myE = E(1200)\n",
    "print(myD + myE)"
   ]
  },
  {
   "cell_type": "code",
   "execution_count": 16,
   "metadata": {},
   "outputs": [
    {
     "name": "stdout",
     "output_type": "stream",
     "text": [
      "Home run\n",
      "Ready or not is a hit song\n"
     ]
    },
    {
     "ename": "AttributeError",
     "evalue": "'Dancer' object has no attribute 'hit'",
     "output_type": "error",
     "traceback": [
      "\u001b[0;31m---------------------------------------------------------------------------\u001b[0m",
      "\u001b[0;31mAttributeError\u001b[0m                            Traceback (most recent call last)",
      "\u001b[0;32m<ipython-input-16-3576ada7dd14>\u001b[0m in \u001b[0;36m<module>\u001b[0;34m\u001b[0m\n\u001b[1;32m     47\u001b[0m \u001b[0mprint_hit\u001b[0m\u001b[0;34m(\u001b[0m\u001b[0mmy_player\u001b[0m\u001b[0;34m)\u001b[0m\u001b[0;34m\u001b[0m\u001b[0;34m\u001b[0m\u001b[0m\n\u001b[1;32m     48\u001b[0m \u001b[0mprint_hit\u001b[0m\u001b[0;34m(\u001b[0m\u001b[0mmy_song\u001b[0m\u001b[0;34m)\u001b[0m\u001b[0;34m\u001b[0m\u001b[0;34m\u001b[0m\u001b[0m\n\u001b[0;32m---> 49\u001b[0;31m \u001b[0mprint_hit\u001b[0m\u001b[0;34m(\u001b[0m\u001b[0mmy_dancer\u001b[0m\u001b[0;34m)\u001b[0m\u001b[0;34m\u001b[0m\u001b[0;34m\u001b[0m\u001b[0m\n\u001b[0m",
      "\u001b[0;32m<ipython-input-16-3576ada7dd14>\u001b[0m in \u001b[0;36mprint_hit\u001b[0;34m(obj)\u001b[0m\n\u001b[1;32m     39\u001b[0m \u001b[0;34m\u001b[0m\u001b[0m\n\u001b[1;32m     40\u001b[0m \u001b[0;32mdef\u001b[0m \u001b[0mprint_hit\u001b[0m\u001b[0;34m(\u001b[0m\u001b[0mobj\u001b[0m\u001b[0;34m)\u001b[0m\u001b[0;34m:\u001b[0m\u001b[0;34m\u001b[0m\u001b[0;34m\u001b[0m\u001b[0m\n\u001b[0;32m---> 41\u001b[0;31m     \u001b[0mprint\u001b[0m\u001b[0;34m(\u001b[0m\u001b[0mobj\u001b[0m\u001b[0;34m.\u001b[0m\u001b[0mhit\u001b[0m\u001b[0;34m(\u001b[0m\u001b[0;34m)\u001b[0m\u001b[0;34m)\u001b[0m\u001b[0;34m\u001b[0m\u001b[0;34m\u001b[0m\u001b[0m\n\u001b[0m\u001b[1;32m     42\u001b[0m \u001b[0;34m\u001b[0m\u001b[0m\n\u001b[1;32m     43\u001b[0m \u001b[0mmy_player\u001b[0m \u001b[0;34m=\u001b[0m \u001b[0mBaseBallPlayer\u001b[0m\u001b[0;34m(\u001b[0m\u001b[0;34m)\u001b[0m\u001b[0;34m\u001b[0m\u001b[0;34m\u001b[0m\u001b[0m\n",
      "\u001b[0;31mAttributeError\u001b[0m: 'Dancer' object has no attribute 'hit'"
     ]
    }
   ],
   "source": [
    "# Duck Typing\n",
    "# is used to determine the suitability of an object \n",
    "# based on what it does and not on what it is\n",
    "# if it walks like a duck and talks like a duck, then it must be a duck\n",
    "# a single function works with objects of different types\n",
    "\n",
    "import random\n",
    "\n",
    "class BaseBallPlayer:\n",
    "    def hit(self):\n",
    "        \"\"\"Generate a random int 1 to 4 and return the type of hit\"\"\"\n",
    "        total_bases = random.randint(1, 4)\n",
    "        if total_bases == 1:\n",
    "            return \"single\"\n",
    "        elif total_bases == 2:\n",
    "            return \"double\"\n",
    "        elif total_bases == 3:\n",
    "            return \"triple\"\n",
    "        else:\n",
    "            return \"Home run\"\n",
    "        \n",
    "class Song:\n",
    "    def __init__(self, title, ranking):\n",
    "        self.title = title\n",
    "        self.ranking = ranking\n",
    "        \n",
    "    def hit(self):\n",
    "        \"\"\"Song hit and if in the 40 hits\"\"\"\n",
    "        if self.ranking <= 40:\n",
    "            return f\"{self.title} is a hit song\"\n",
    "        else:\n",
    "            return f\"{self.title} is not a hit\"\n",
    "        \n",
    "class Dancer:\n",
    "    def movement(self):\n",
    "        return \"spin, spin, spin\"\n",
    "    \n",
    "    \n",
    "def print_hit(obj):\n",
    "    print(obj.hit())\n",
    "    \n",
    "my_player = BaseBallPlayer()\n",
    "my_song = Song(\"Ready or not\", 1)\n",
    "my_dancer = Dancer()\n",
    "\n",
    "print_hit(my_player)\n",
    "print_hit(my_song)\n",
    "print_hit(my_dancer)"
   ]
  },
  {
   "cell_type": "code",
   "execution_count": 17,
   "metadata": {},
   "outputs": [
    {
     "name": "stdout",
     "output_type": "stream",
     "text": [
      "triple\n",
      "Ready or not is a hit song\n",
      "'Dancer' object has no attribute 'hit'\n"
     ]
    }
   ],
   "source": [
    "# Handling errors\n",
    "# try\n",
    "# except\n",
    "\n",
    "import random\n",
    "\n",
    "class BaseBallPlayer:\n",
    "    def hit(self):\n",
    "        \"\"\"Generate a random int 1 to 4 and return the type of hit\"\"\"\n",
    "        total_bases = random.randint(1, 4)\n",
    "        if total_bases == 1:\n",
    "            return \"single\"\n",
    "        elif total_bases == 2:\n",
    "            return \"double\"\n",
    "        elif total_bases == 3:\n",
    "            return \"triple\"\n",
    "        else:\n",
    "            return \"Home run\"\n",
    "        \n",
    "class Song:\n",
    "    def __init__(self, title, ranking):\n",
    "        self.title = title\n",
    "        self.ranking = ranking\n",
    "        \n",
    "    def hit(self):\n",
    "        \"\"\"Song hit and if in the 40 hits\"\"\"\n",
    "        if self.ranking <= 40:\n",
    "            return f\"{self.title} is a hit song\"\n",
    "        else:\n",
    "            return f\"{self.title} is not a hit\"\n",
    "        \n",
    "class Dancer:\n",
    "    def movement(self):\n",
    "        return \"spin, spin, spin\"\n",
    "    \n",
    "    \n",
    "def print_hit(obj):\n",
    "    try:\n",
    "        print(obj.hit())\n",
    "    except AttributeError as e:\n",
    "        print(e)\n",
    "    \n",
    "my_player = BaseBallPlayer()\n",
    "my_song = Song(\"Ready or not\", 1)\n",
    "my_dancer = Dancer()\n",
    "\n",
    "print_hit(my_player)\n",
    "print_hit(my_song)\n",
    "print_hit(my_dancer)"
   ]
  }
 ],
 "metadata": {
  "kernelspec": {
   "display_name": "Python 3",
   "language": "python",
   "name": "python3"
  },
  "language_info": {
   "codemirror_mode": {
    "name": "ipython",
    "version": 3
   },
   "file_extension": ".py",
   "mimetype": "text/x-python",
   "name": "python",
   "nbconvert_exporter": "python",
   "pygments_lexer": "ipython3",
   "version": "3.8.10"
  }
 },
 "nbformat": 4,
 "nbformat_minor": 4
}
