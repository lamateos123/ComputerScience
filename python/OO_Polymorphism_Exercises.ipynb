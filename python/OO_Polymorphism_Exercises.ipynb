{
 "cells": [
  {
   "cell_type": "code",
   "execution_count": 3,
   "metadata": {},
   "outputs": [
    {
     "name": "stdout",
     "output_type": "stream",
     "text": [
      "1\n",
      "38\n",
      "95\n",
      "94\n",
      "60\n",
      "29\n"
     ]
    }
   ],
   "source": [
    "# Exercise 1\n",
    "# Override shuffle() in PowerBall\n",
    "import random\n",
    "\n",
    "class Lottery:\n",
    "    def shuffle(self):\n",
    "        results = []\n",
    "        for i in range(5):\n",
    "            results.append(random.randint(1, 20))\n",
    "        return results\n",
    "\n",
    "class PowerBall:\n",
    "    def shuffle(self):\n",
    "        results = []\n",
    "        for i in range(6):\n",
    "            results.append(random.randint(1, 99))\n",
    "        return results\n",
    "    \n",
    "p = PowerBall()\n",
    "for x in p.shuffle():\n",
    "    print(x)"
   ]
  },
  {
   "cell_type": "code",
   "execution_count": 33,
   "metadata": {},
   "outputs": [
    {
     "name": "stdout",
     "output_type": "stream",
     "text": [
      "There are 15 passengers on board.\n"
     ]
    }
   ],
   "source": [
    "# Exercise 2\n",
    "class Airplane:\n",
    "      def __init__(self, first_class, business_class, coach):\n",
    "        self.first_class = first_class\n",
    "        self.business_class = business_class\n",
    "        self.coach = coach\n",
    "    \n",
    "      def total(self):\n",
    "        return self.first_class + self.business_class + self.coach\n",
    "        \n",
    "class Train:\n",
    "      def __init__(self, car1, car2, car3, car4, car5):\n",
    "        self.car1 = car1\n",
    "        self.car2 = car2\n",
    "        self.car3 = car3\n",
    "        self.car4 = car4\n",
    "        self.car5 = car5\n",
    "    \n",
    "      def total(self):\n",
    "        return self.car1 + self.car2 + self.car3 + self.car4 + self.car5\n",
    "    \n",
    "    \n",
    "def passengers(obj):\n",
    "    print(f'There are {obj.total()} passengers on board.')\n",
    "    \n",
    "obj = Airplane(1,2,3)\n",
    "obj = Train(1,2,3,4,5)\n",
    "  \n",
    "passengers(obj)"
   ]
  },
  {
   "cell_type": "code",
   "execution_count": 10,
   "metadata": {},
   "outputs": [
    {
     "name": "stdout",
     "output_type": "stream",
     "text": [
      "True\n",
      "False\n",
      "True\n"
     ]
    },
    {
     "data": {
      "text/plain": [
       "'\\nOperator Method Name\\n+ object.__add__(self, other)\\n- object.__sub__(self, other)\\n* object.__mul__(self, other)\\n/ object.__truediv__(self, other)\\n// object.__floordiv__(self, other)\\n< object.__lt__(self, other)\\n<= object.__le__(self, other)\\n== object.__eq__(self, other)\\n!= object.__ne__(self, other)\\n> object.__gt__(self, other)\\n>= object.__ge__(self, other\\n'"
      ]
     },
     "execution_count": 10,
     "metadata": {},
     "output_type": "execute_result"
    }
   ],
   "source": [
    "# Exercise 3\n",
    "class Characters:\n",
    "    def __init__(self, phrases):\n",
    "        self.phrases = phrases\n",
    "        \n",
    "    def total_characters(self):\n",
    "        total = 0\n",
    "        for phrase in self.phrases:\n",
    "            total += len(phrase)\n",
    "        return total\n",
    "    \n",
    "    def __lt__(self, other):\n",
    "        return self.total_characters() < other.total_characters()\n",
    "        \n",
    "    def __gt__(self, other):\n",
    "        return self.total_characters() > other.total_characters()\n",
    "        \n",
    "    def __eq__(self, other):\n",
    "        return self.total_characters() == other.total_characters()\n",
    "        \n",
    "    \n",
    "sample_phrases1 = ['cat in the hat', 'green eggs and ham', 'the lorax']\n",
    "sample_phrases2 = ['the taming of the shrew', 'hamlet', 'othello']\n",
    "\n",
    "c1 = Characters(sample_phrases1)\n",
    "c2 = Characters(sample_phrases2)\n",
    "print(c1 > c2) # prints 'True'\n",
    "print(c1 < c2) # prints 'False'\n",
    "print(c1 == c1) # prints 'True'\n",
    "\n",
    "# MAGIC METHODS\n",
    "\"\"\"\n",
    "Operator Method Name\n",
    "+ object.__add__(self, other)\n",
    "- object.__sub__(self, other)\n",
    "* object.__mul__(self, other)\n",
    "/ object.__truediv__(self, other)\n",
    "// object.__floordiv__(self, other)\n",
    "< object.__lt__(self, other)\n",
    "<= object.__le__(self, other)\n",
    "== object.__eq__(self, other)\n",
    "!= object.__ne__(self, other)\n",
    "> object.__gt__(self, other)\n",
    ">= object.__ge__(self, other\n",
    "\"\"\""
   ]
  },
  {
   "cell_type": "code",
   "execution_count": 19,
   "metadata": {},
   "outputs": [
    {
     "data": {
      "text/plain": [
       "3.5"
      ]
     },
     "execution_count": 19,
     "metadata": {},
     "output_type": "execute_result"
    }
   ],
   "source": [
    "# Exercise 4\n",
    "class Median:\n",
    "    def calculate_median(self, num1 = None, num2 = None, num3 = None,\\\n",
    "               num4 = None, num5 = None):\n",
    "        if num1 is not None and \\\n",
    "        num2 is not None and \\\n",
    "        num3 is not None and \\\n",
    "        num4 is not None and \\\n",
    "        num5 is not None:\n",
    "            a = [num1,num2,num3,num4,num5]\n",
    "            a.sort()\n",
    "            return a[2]\n",
    "        elif num1 is not None and \\\n",
    "        num2 is not None and \\\n",
    "        num3 is not None and \\\n",
    "        num4 is not None:\n",
    "            a = [num1,num2,num3,num4]\n",
    "            a.sort()\n",
    "            return (a[1] + a[2])/2\n",
    "        elif num1 is not None and num2 is not None and num3 is not None:\n",
    "            a = [num1,num2,num3]\n",
    "            a.sort()\n",
    "            return a[1]\n",
    "        elif num1 is not None and num2 is not None:\n",
    "            return (num1 + num2)/2\n",
    "        \n",
    "m = Median()\n",
    "m.calculate_median(3, 5, 1, 4, 2)\n",
    "m.calculate_median(8, 6, 4, 2)\n",
    "m.calculate_median(9, 3, 7)\n",
    "m.calculate_median(5, 2)"
   ]
  },
  {
   "cell_type": "code",
   "execution_count": 26,
   "metadata": {},
   "outputs": [
    {
     "data": {
      "text/plain": [
       "'It is * truth universally ************* that a ****** man in ********** of a **** fortune, must ** in want ** a wife. ******* little known *** feelings or ***** of such * man may ** on his ***** entering a ************** this truth ** so well ***** in the ***** of the *********** families, that ** is considered ** the rightful ******** of some *** or other ** their daughters.'"
      ]
     },
     "execution_count": 26,
     "metadata": {},
     "output_type": "execute_result"
    }
   ],
   "source": [
    "# Exercise 5\n",
    "# override the swap_words method so that every third word is replaced by a series of *\n",
    "\n",
    "source_file = \"It is a truth universally acknowledged, that a single man in possession of a good fortune, must be in want of a wife. However little known the feelings or views of such a man may be on his first entering a neighbourhood, this truth is so well fixed in the minds of the surrounding families, that he is considered as the rightful property of some one or other of their daughters.\"\n",
    "answer_file = \"\"\n",
    "\n",
    "class Substitute:\n",
    "    def __init__(self, source_file, answer_file):\n",
    "        self.source_file = source_file\n",
    "        self.answer_file = answer_file\n",
    "        self.words = None\n",
    "    \n",
    "    def string_to_list(self):\n",
    "        '''Read text file, turn it into a\n",
    "        2D list of words for each line'''\n",
    "        words = []\n",
    "        #with open(self.source_file, 'r') as file_object:\n",
    "        lines = source_file.split('\\n')\n",
    "        for line in lines:\n",
    "            words.append(line.split())\n",
    "        self.words = words\n",
    "    \n",
    "    def list_to_string(self):\n",
    "        '''Convert 2D list back into a \n",
    "        string with newline characters'''\n",
    "        lines = []\n",
    "        for line in self.words:\n",
    "            lines.append(' '.join(line))\n",
    "        string = '\\n'.join(lines)\n",
    "        self.words = string\n",
    "  \n",
    "    def swap_words(self):\n",
    "        self.string_to_list()\n",
    "        for line in self.words:\n",
    "            for i in range(len(line)):\n",
    "                if (i + 1) % 5 == 0:\n",
    "                    word = line[i]\n",
    "                    line[i] = 'HELLO'\n",
    "        self.list_to_string()\n",
    "\n",
    "class Stars(Substitute):\n",
    "    def swap_words(self):\n",
    "        self.string_to_list()\n",
    "        for line in self.words:\n",
    "            for i in range(len(line)):\n",
    "                if (i + 1) % 3 == 0:\n",
    "                      word = line[i]\n",
    "                      line[i] = '*' * len(word)\n",
    "        self.list_to_string()\n",
    "        return self.words\n",
    "\n",
    "    \n",
    "s = Stars(source_file, answer_file)\n",
    "s.swap_words()\n",
    "print(s.words)"
   ]
  },
  {
   "cell_type": "code",
   "execution_count": null,
   "metadata": {},
   "outputs": [],
   "source": []
  }
 ],
 "metadata": {
  "kernelspec": {
   "display_name": "Python 3",
   "language": "python",
   "name": "python3"
  },
  "language_info": {
   "codemirror_mode": {
    "name": "ipython",
    "version": 3
   },
   "file_extension": ".py",
   "mimetype": "text/x-python",
   "name": "python",
   "nbconvert_exporter": "python",
   "pygments_lexer": "ipython3",
   "version": "3.7.4"
  }
 },
 "nbformat": 4,
 "nbformat_minor": 2
}
