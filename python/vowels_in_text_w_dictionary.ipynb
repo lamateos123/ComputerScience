{
 "cells": [
  {
   "cell_type": "code",
   "execution_count": 1,
   "metadata": {},
   "outputs": [
    {
     "name": "stdout",
     "output_type": "stream",
     "text": [
      "e was found 1 time(s).\n",
      "i was found 1 time(s).\n",
      "o was found 3 time(s).\n",
      "u was found 1 time(s).\n"
     ]
    }
   ],
   "source": [
    "vowels = ['a','e','i','o','u']\n",
    "text = \"Hello world from github\"\n",
    "\n",
    "dictionary = {}\n",
    "\n",
    "for letter in text:\n",
    "    if letter in vowels:\n",
    "        dictionary.setdefault(letter,0)   # put the element to the dictionary\n",
    "        dictionary[letter] += 1           # add one \n",
    "        \n",
    "for k, v in sorted(dictionary.items()):\n",
    "    print(k, 'was found', v, 'time(s).')"
   ]
  },
  {
   "cell_type": "code",
   "execution_count": 2,
   "metadata": {},
   "outputs": [
    {
     "name": "stdout",
     "output_type": "stream",
     "text": [
      "{'H': 1, 'e': 1, 'l': 4, 'o': 3, ' ': 3, 'w': 1, 'r': 2, 'd': 1, 'f': 1, 'm': 1, 'g': 1, 'i': 1, 't': 1, 'h': 1, 'u': 1, 'b': 1}\n"
     ]
    }
   ],
   "source": [
    "text = \"Hello worlld from github\"\n",
    "\n",
    "counts = {}\n",
    "\n",
    "for c in text:\n",
    "    counts[c] =counts.get(c,0) + 1\n",
    "    \n",
    "print(counts)"
   ]
  },
  {
   "cell_type": "code",
   "execution_count": 3,
   "metadata": {},
   "outputs": [
    {
     "name": "stdout",
     "output_type": "stream",
     "text": [
      "l\n"
     ]
    }
   ],
   "source": [
    "#MAX KEY\n",
    "max_key = max(counts, key=lambda k: counts[k])\n",
    "print(max_key)"
   ]
  },
  {
   "cell_type": "code",
   "execution_count": 4,
   "metadata": {},
   "outputs": [
    {
     "name": "stdout",
     "output_type": "stream",
     "text": [
      "('H', 1)\n"
     ]
    }
   ],
   "source": [
    "#MIN KEY\n",
    "min_key = min(counts.items(), key=lambda k: k[1])\n",
    "print(min_key)"
   ]
  },
  {
   "cell_type": "code",
   "execution_count": 6,
   "metadata": {},
   "outputs": [
    {
     "name": "stdout",
     "output_type": "stream",
     "text": [
      "{' ': 3, 'H': 1, 'b': 1, 'd': 1, 'e': 1, 'f': 1, 'g': 1, 'h': 1, 'i': 1, 'l': 4, 'm': 1, 'o': 3, 'r': 2, 't': 1, 'u': 1, 'w': 1}\n"
     ]
    }
   ],
   "source": [
    "# SORT by KEY\n",
    "sorted_by_key = {k: v for k, v in sorted(counts.items())}\n",
    "\n",
    "print(sorted_by_key)\n"
   ]
  },
  {
   "cell_type": "code",
   "execution_count": 9,
   "metadata": {},
   "outputs": [
    {
     "name": "stdout",
     "output_type": "stream",
     "text": [
      "{'l': 4, 'o': 3, ' ': 3, 'r': 2, 'H': 1, 'e': 1, 'w': 1, 'd': 1, 'f': 1, 'm': 1, 'g': 1, 'i': 1, 't': 1, 'h': 1, 'u': 1, 'b': 1}\n"
     ]
    }
   ],
   "source": [
    "# SORT by VALUE\n",
    "\n",
    "sorted_by_value = {k: v for k, v in sorted(counts.items(), \\\n",
    "                                           key=lambda v: v[1],\\\n",
    "                                           reverse = True)}\n",
    "\n",
    "print(sorted_by_value)"
   ]
  },
  {
   "cell_type": "code",
   "execution_count": null,
   "metadata": {},
   "outputs": [],
   "source": []
  }
 ],
 "metadata": {
  "kernelspec": {
   "display_name": "Python 3",
   "language": "python",
   "name": "python3"
  },
  "language_info": {
   "codemirror_mode": {
    "name": "ipython",
    "version": 3
   },
   "file_extension": ".py",
   "mimetype": "text/x-python",
   "name": "python",
   "nbconvert_exporter": "python",
   "pygments_lexer": "ipython3",
   "version": "3.8.10"
  }
 },
 "nbformat": 4,
 "nbformat_minor": 4
}
