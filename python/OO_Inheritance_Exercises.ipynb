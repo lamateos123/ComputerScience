{
 "cells": [
  {
   "cell_type": "code",
   "execution_count": 3,
   "metadata": {},
   "outputs": [],
   "source": [
    "# 1\n",
    "# Use the CelestialBody class as the parent class.\n",
    "# Create the Satellite and Planet classes, both which are children of CelestialBody.\n",
    "# Using super() keyword to extend the __init__ method of the parent class, add the\n",
    "# attribute host_planet to the Satellite class and add the \n",
    "# attribute host_star to the Planet class\n",
    "\n",
    "class CelestialBody:\n",
    "    def __init__(self, size, mass, composition, name):\n",
    "        self.size = size\n",
    "        self.mass = mass\n",
    "        self.composition = composition\n",
    "        self.name - name\n",
    "        \n",
    "# create the class Satellite\n",
    "class Satellite(CelestialBody):\n",
    "    def __init__(self, size, mass, composition, name, host_planet):\n",
    "        super().__init__(size, mass, composition, name)\n",
    "        self.host_planet = host_planet\n",
    "\n",
    "#create the class Planet\n",
    "class Planet(CelestialBody):\n",
    "    def __init__(self, size, mass, composition, name, host_star):\n",
    "        super().__init__(size, mass, composition, name)\n",
    "        self.host_star = host_star"
   ]
  },
  {
   "cell_type": "code",
   "execution_count": 7,
   "metadata": {},
   "outputs": [
    {
     "name": "stdout",
     "output_type": "stream",
     "text": [
      "Vogue Was a Good Day IceC 2319 Fashion 192039\n"
     ]
    }
   ],
   "source": [
    "# 2\n",
    "# Use the parent class Book and create the child class BlogPost and override the constructor so that\n",
    "# the child class has the following attributes:\n",
    "# website - string\n",
    "# title - string\n",
    "# author - string\n",
    "# word_count - integer\n",
    "# genre - string\n",
    "# page_views - integer\n",
    "\n",
    "class Book:\n",
    "    def __init__(self, title, author, genre):\n",
    "        self.title = title\n",
    "        self.author = author\n",
    "        self.genre = genre\n",
    "        \n",
    "# child class\n",
    "class BlogPost(Book):\n",
    "    def __init__(self, website, title, author, word_count, genre, page_views):\n",
    "        #super().__init__(title, author, genre)\n",
    "        self.website = website\n",
    "        self.title = title\n",
    "        self.author = author\n",
    "        self.word_count = word_count\n",
    "        self.genre = genre\n",
    "        self.page_views = page_views\n",
    "\n",
    "my_post = BlogPost(\"Vogue\", \"Was a Good Day\", \"IceC\", 2319, \"Fashion\",192039)\n",
    "print(my_post.website, my_post.title, my_post.author, my_post.word_count, my_post.genre, my_post.page_views)"
   ]
  },
  {
   "cell_type": "code",
   "execution_count": 12,
   "metadata": {},
   "outputs": [
    {
     "data": {
      "text/plain": [
       "'This method is called from Parent2'"
      ]
     },
     "execution_count": 12,
     "metadata": {},
     "output_type": "execute_result"
    }
   ],
   "source": [
    "# 3\n",
    "# Create a class Child such that it is a subclass of Parent1 and Parent2\n",
    "# Override identify so that it returns \"This method is called from Child\"\n",
    "# Create the method identify2 that invokes the identify from Parent2. This method must done\n",
    "# using the super( keyword)\n",
    "\n",
    "class Parent1:\n",
    "    def identify(self):\n",
    "        return \"This method is called from Parent1\"\n",
    "    \n",
    "class Parent2:\n",
    "    def identify(self):\n",
    "        return \"This method is called from Parent2\"\n",
    "    \n",
    "# class Child    \n",
    "class Child(Parent2, Parent1):\n",
    "    def identify(self):\n",
    "        return \"This method is called from Child\"\n",
    "    \n",
    "    def identify2(self):\n",
    "        return super().identify()\n",
    "    \n",
    "    \n",
    "child_object = Child()\n",
    "child_object.identify()\n",
    "child_object.identify2()"
   ]
  },
  {
   "cell_type": "code",
   "execution_count": 14,
   "metadata": {},
   "outputs": [
    {
     "name": "stdout",
     "output_type": "stream",
     "text": [
      "105797\n"
     ]
    }
   ],
   "source": [
    "# 4\n",
    "# The class Bank has a method branch_total which takes the list of customer money and\n",
    "# returns the total amount of money held by the bank\n",
    "# Create the class RegioanlBank as child of the Bank class\n",
    "# This class has a 2D list of the money in the bank accounts for each branch\n",
    "# Extend the RegionalBank class by adding the method regional_total which returns the total mount of money\n",
    "# kept in all of the banks in the region\n",
    "\n",
    "class Bank:\n",
    "    def __init__(self, name, customers, accounts):\n",
    "        self.name = name\n",
    "        self.customers = customers\n",
    "        self.accounts = accounts\n",
    "        \n",
    "    def branch_total(self, accounts):\n",
    "        total = 0\n",
    "        for account in accounts:\n",
    "            total += account\n",
    "        return total\n",
    "    \n",
    "# class RegionalBank\n",
    "class RegionalBank(Bank):\n",
    "    def regional_total(self):\n",
    "        total = 0\n",
    "        for account in accounts:\n",
    "            total += self.branch_total(account)\n",
    "        return total\n",
    "        \n",
    "accounts = [\n",
    "    [100,213,345],\n",
    "    [6576,45645,46776],\n",
    "    [5676,433,33]\n",
    "]\n",
    "\n",
    "my_bank = RegionalBank(\"Chase\", 9, accounts)\n",
    "print(my_bank.regional_total())"
   ]
  },
  {
   "cell_type": "code",
   "execution_count": 32,
   "metadata": {},
   "outputs": [
    {
     "name": "stdout",
     "output_type": "stream",
     "text": [
      "2.0\n",
      "100\n",
      "Sara lives at 77 Mass Ave\n",
      "50\n"
     ]
    }
   ],
   "source": [
    "# 5\n",
    "# Use the Person class and CardHolder class to create a child class PlatinumClient\n",
    "# This class inherits all of the attributes of both parent classes\n",
    "# Add to the child class the attribute cash_back and rewards\n",
    "# cash_back should be 0.02 and rewards = 0\n",
    "# Override  the process_sale method so that 2% of each sale is added to rewards\n",
    "\n",
    "class Person:\n",
    "    def __init__(self, name, address):\n",
    "        self.name = name\n",
    "        self.address = address\n",
    "        \n",
    "    def get_info(self):\n",
    "        return f\"{self.name} lives at {self.address}\"\n",
    "        \n",
    "class CardHolder:\n",
    "    def __init__(self, account_number):\n",
    "        self.account_number = account_number\n",
    "        self.balance = 0\n",
    "        self.credit_limit = 5000\n",
    "        \n",
    "    def process_sale(self, price):\n",
    "        self.balance += price\n",
    "        \n",
    "    def make_payment(self, amount):\n",
    "        self.balance -= amount\n",
    "        \n",
    "# class PlatinumClient\n",
    "class PlatinumClient(Person, CardHolder):\n",
    "    def __init__(self, name, address, account_number):\n",
    "        Person.__init__(self, name, address)\n",
    "        CardHolder.__init__(self, account_number)\n",
    "        self.cash_back = 0.02\n",
    "        self.rewards = 0\n",
    "        \n",
    "    def process_sale(self, price):\n",
    "        self.balance += price\n",
    "        self.rewards += price*self.cash_back\n",
    "    \n",
    "    \n",
    "platinum = PlatinumClient(\"Sara\", \"77 Mass Ave\", 12390)\n",
    "platinum.process_sale(100)\n",
    "print(platinum.rewards)\n",
    "print(platinum.balance)\n",
    "platinum.make_payment(50)\n",
    "print(platinum.get_info())\n",
    "print(platinum.balance)"
   ]
  }
 ],
 "metadata": {
  "kernelspec": {
   "display_name": "Python 3",
   "language": "python",
   "name": "python3"
  },
  "language_info": {
   "codemirror_mode": {
    "name": "ipython",
    "version": 3
   },
   "file_extension": ".py",
   "mimetype": "text/x-python",
   "name": "python",
   "nbconvert_exporter": "python",
   "pygments_lexer": "ipython3",
   "version": "3.8.10"
  }
 },
 "nbformat": 4,
 "nbformat_minor": 4
}
