{
 "cells": [
  {
   "cell_type": "code",
   "execution_count": 1,
   "metadata": {},
   "outputs": [
    {
     "name": "stdout",
     "output_type": "stream",
     "text": [
      "5 <class 'int'>\n",
      "5.0 <class 'float'>\n",
      "5 <class 'int'>\n",
      "range(0, 6) <class 'range'>\n"
     ]
    }
   ],
   "source": [
    "# BUILT_IN DATA TYPES\n",
    "\"\"\"\n",
    "Types\n",
    "--------------------\n",
    "Text:     str\n",
    "Numeric:  int, float, complex xj\n",
    "Sequence: list, tuple, range\n",
    "Mapping:  dict\n",
    "Set:      set\n",
    "Boolean:  bool\n",
    "Binary:   bytes\n",
    "\"\"\"\n",
    "\n",
    "x = 5\n",
    "print(x,end=\" \")\n",
    "print(type(x))\n",
    "\n",
    "x = 5.0\n",
    "print(x,end=\" \")\n",
    "print(type(x))\n",
    "\n",
    "x = int(x)\n",
    "print(x,end=\" \")\n",
    "print(type(x))\n",
    "\n",
    "x = range(6)\n",
    "print(x,end=\" \")\n",
    "print(type(x))\n"
   ]
  },
  {
   "cell_type": "code",
   "execution_count": 2,
   "metadata": {},
   "outputs": [
    {
     "name": "stdout",
     "output_type": "stream",
     "text": [
      "the value is Inside\n",
      "the value is Outside\n"
     ]
    }
   ],
   "source": [
    "# LOCAL VARIABLE inside a function\n",
    "\n",
    "x = \"Outside\"\n",
    "\n",
    "def my_func():\n",
    "    x = \"Inside\"\n",
    "    print(\"the value is \" + x)\n",
    "    \n",
    "my_func()\n",
    "\n",
    "print(\"the value is \" + x)"
   ]
  },
  {
   "cell_type": "code",
   "execution_count": 3,
   "metadata": {},
   "outputs": [
    {
     "name": "stdout",
     "output_type": "stream",
     "text": [
      "the value is Inside\n",
      "the value is Inside\n"
     ]
    }
   ],
   "source": [
    "# GLOBAL VARIABLE inside a function\n",
    "\n",
    "x = \"Outside\"\n",
    "\n",
    "def my_func():\n",
    "    global x # GLOBAL VARIABLE\n",
    "    x = \"Inside\"\n",
    "    print(\"the value is \" + x)\n",
    "    \n",
    "my_func()\n",
    "\n",
    "print(\"the value is \" + x)    "
   ]
  },
  {
   "cell_type": "code",
   "execution_count": 4,
   "metadata": {},
   "outputs": [
    {
     "name": "stdout",
     "output_type": "stream",
     "text": [
      "5\n",
      "2\n",
      "3\n"
     ]
    }
   ],
   "source": [
    "# CASTING int() float() str()\n",
    "x = int(5)\n",
    "y = int(2.8)\n",
    "z = int(\"3\")\n",
    "print(x)\n",
    "print(y)\n",
    "print(z)"
   ]
  },
  {
   "cell_type": "code",
   "execution_count": 5,
   "metadata": {},
   "outputs": [
    {
     "name": "stdout",
     "output_type": "stream",
     "text": [
      "13\n",
      "e\n",
      "llo\n",
      "orld!\n"
     ]
    }
   ],
   "source": [
    "# STRINGS are ARRAYS\n",
    "txt = \"Hello, World!\"\n",
    "print(len(txt))\n",
    "print(txt[1])\n",
    "print(txt[2:5])\n",
    "print(txt[-5:])\n",
    "\n",
    "# METHODS\n",
    "#txt.strip()\n",
    "#txt.lower()\n",
    "#txt.upper()\n",
    "#txt.replace(\"o\",\"x\")\n",
    "#txt.split(\",\")"
   ]
  },
  {
   "cell_type": "code",
   "execution_count": 6,
   "metadata": {},
   "outputs": [
    {
     "name": "stdout",
     "output_type": "stream",
     "text": [
      "False\n",
      "True\n"
     ]
    }
   ],
   "source": [
    "# CHECK the STRING\n",
    "print(\"alien\" in txt)\n",
    "print(\"alien\" not in txt)"
   ]
  },
  {
   "cell_type": "code",
   "execution_count": 7,
   "metadata": {},
   "outputs": [
    {
     "name": "stdout",
     "output_type": "stream",
     "text": [
      "Hello, World!!?\n"
     ]
    }
   ],
   "source": [
    "# CONCATENATE\n",
    "extra = \"?\"\n",
    "txt = txt + txt[-1] + extra\n",
    "print(txt)"
   ]
  },
  {
   "cell_type": "code",
   "execution_count": null,
   "metadata": {},
   "outputs": [],
   "source": []
  }
 ],
 "metadata": {
  "kernelspec": {
   "display_name": "Python 3",
   "language": "python",
   "name": "python3"
  },
  "language_info": {
   "codemirror_mode": {
    "name": "ipython",
    "version": 3
   },
   "file_extension": ".py",
   "mimetype": "text/x-python",
   "name": "python",
   "nbconvert_exporter": "python",
   "pygments_lexer": "ipython3",
   "version": "3.8.10"
  }
 },
 "nbformat": 4,
 "nbformat_minor": 4
}
