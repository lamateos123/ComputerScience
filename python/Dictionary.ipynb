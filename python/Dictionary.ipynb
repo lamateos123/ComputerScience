{
 "cells": [
  {
   "cell_type": "code",
   "execution_count": 1,
   "metadata": {},
   "outputs": [
    {
     "name": "stdout",
     "output_type": "stream",
     "text": [
      "{'key1': 'Value1', 'key2': 'Value2', 12: 'Value3', 'list': [1, 2, 3, 4, 5], 1001: True}\n",
      "[1, 2, 3, 4, 5]\n",
      "5\n",
      "<class 'dict'>\n"
     ]
    }
   ],
   "source": [
    "# Dictionary\n",
    "# KEY <-> VALUE pair\n",
    "# NO duplicates\n",
    "# Changeable items\n",
    "#----------------------------------------------\n",
    "d = {}\n",
    "d = {\"key1\": \"Value1\",\n",
    "    \"key2\": \"Value2\",\n",
    "    12: \"Value3\",\n",
    "    \"list\": [1,2,3,4,5],\n",
    "    1001: True,\n",
    "    }\n",
    "print(d)\n",
    "print(d[\"list\"])\n",
    "print(len(d))\n",
    "print(type(d))"
   ]
  },
  {
   "cell_type": "code",
   "execution_count": 2,
   "metadata": {},
   "outputs": [
    {
     "name": "stdout",
     "output_type": "stream",
     "text": [
      "{'key1': 'Value1', 'key2': 'Value2', 12: 'Value3', 'list': [1, 2, 3, 4, 5], 1001: True}\n",
      "-------------------------\n",
      "Value3\n",
      "Value2\n",
      "dict_keys(['key1', 'key2', 12, 'list', 1001])\n",
      "dict_values(['Value1', 'Value2', 'Value3', [1, 2, 3, 4, 5], True])\n",
      "-------------------------\n",
      "Items in the dictionary d:\n",
      "('key1', 'Value1')\n",
      "('key2', 'Value2')\n",
      "(12, 'Value3')\n",
      "('list', [1, 2, 3, 4, 5])\n",
      "(1001, True)\n",
      "('camera', 'blue')\n"
     ]
    }
   ],
   "source": [
    "# Access data\n",
    "print(d)\n",
    "print(\"-------------------------\")\n",
    "\n",
    "x = d[12]\n",
    "print(x)\n",
    "\n",
    "x = d.get(\"key2\")\n",
    "print(x)\n",
    "\n",
    "x = d.keys()\n",
    "print(x)\n",
    "\n",
    "x = d.values()\n",
    "print(x)\n",
    "\n",
    "# Add data\n",
    "print(\"-------------------------\")\n",
    "d[\"camera\"] = \"blue\"\n",
    "x = d.items()\n",
    "print(\"Items in the dictionary d:\")\n",
    "for item in x:\n",
    "    print(item)"
   ]
  },
  {
   "cell_type": "code",
   "execution_count": 3,
   "metadata": {},
   "outputs": [
    {
     "name": "stdout",
     "output_type": "stream",
     "text": [
      "-------------------------\n",
      "Yes, 'key1' is one of the keys in this dictionary\n",
      "-------------------------\n",
      "ValueX\n",
      "-------------------------\n",
      "ValueY\n"
     ]
    }
   ],
   "source": [
    "# Check if key is in dictionary\n",
    "print(\"-------------------------\")\n",
    "if \"key1\" in d:\n",
    "    print(\"Yes, 'key1' is one of the keys in this dictionary\")\n",
    "    \n",
    "# Modify value\n",
    "print(\"-------------------------\")\n",
    "d[\"key1\"] = \"ValueX\"\n",
    "print(d[\"key1\"])\n",
    "\n",
    "print(\"-------------------------\")\n",
    "d.update({\"key1\": \"ValueY\"})\n",
    "print(d[\"key1\"])"
   ]
  },
  {
   "cell_type": "code",
   "execution_count": 4,
   "metadata": {},
   "outputs": [
    {
     "name": "stdout",
     "output_type": "stream",
     "text": [
      "{'key1': 'ValueY', 'key2': 'Value2', 12: 'Value3', 'list': [1, 2, 3, 4, 5], 1001: True, 'camera': 'blue'}\n",
      "{'key1': 'ValueY', 12: 'Value3', 'list': [1, 2, 3, 4, 5], 1001: True, 'camera': 'blue'}\n",
      "{'key1': 'ValueY', 12: 'Value3', 'list': [1, 2, 3, 4, 5], 1001: True}\n",
      "{'key1': 'ValueY', 'list': [1, 2, 3, 4, 5], 1001: True}\n",
      "{}\n"
     ]
    }
   ],
   "source": [
    "print(d)\n",
    "# Removing items\n",
    "d.pop(\"key2\")\n",
    "print(d)\n",
    "\n",
    "# Remove the last inseted item\n",
    "d.popitem()\n",
    "print(d)\n",
    "\n",
    "# Removes the item specified\n",
    "del d[12]\n",
    "print(d)\n",
    "# if del d will delete the dictionay completely\n",
    "\n",
    "# clear() empties the dictionary\n",
    "d.clear()\n",
    "print(d)"
   ]
  },
  {
   "cell_type": "code",
   "execution_count": 5,
   "metadata": {},
   "outputs": [
    {
     "name": "stdout",
     "output_type": "stream",
     "text": [
      "key1\n",
      "key2\n",
      "12\n",
      "list\n",
      "1001\n",
      "camera\n",
      "-------------------------\n",
      "-------------------------\n",
      "ValueY\n",
      "Value2\n",
      "Value3\n",
      "[1, 2, 3, 4, 5]\n",
      "True\n",
      "blue\n",
      "-------------------------\n",
      "-------------------------\n",
      "key1 ValueY\n",
      "key2 Value2\n",
      "12 Value3\n",
      "list [1, 2, 3, 4, 5]\n",
      "1001 True\n",
      "camera blue\n"
     ]
    }
   ],
   "source": [
    "d = {'key1': 'ValueY', 'key2': 'Value2', 12: 'Value3', 'list': [1, 2, 3, 4, 5], 1001: True, 'camera': 'blue'}\n",
    "# Print all KEY names\n",
    "for x in d:\n",
    "    print(x)\n",
    "    \n",
    "print(\"-------------------------\")\n",
    "# Print all KEY names\n",
    "#for x in d.keys():\n",
    "#    print(x)\n",
    "    \n",
    "print(\"-------------------------\")\n",
    "# Print all VALUES\n",
    "for x in d:\n",
    "    print(d[x])\n",
    "    \n",
    "print(\"-------------------------\")\n",
    "# Print all VALUES\n",
    "#for x in d.values():\n",
    "#    print(x)\n",
    "    \n",
    "print(\"-------------------------\")\n",
    "# Print all KEYS and VALUES\n",
    "for k, v in d.items():\n",
    "    print(k, v)\n",
    "    \n"
   ]
  },
  {
   "cell_type": "code",
   "execution_count": 6,
   "metadata": {},
   "outputs": [
    {
     "name": "stdout",
     "output_type": "stream",
     "text": [
      "{'key1': 'ValueY', 'key2': 'Value2', 12: 'Value3', 'list': [1, 2, 3, 4, 5], 1001: True, 'camera': 'blue'}\n",
      "{'key1': 'ValueY', 'key2': 'Value2', 12: 'Value3', 'list': [1, 2, 3, 4, 5], 1001: True, 'camera': 'blue'}\n"
     ]
    }
   ],
   "source": [
    "# Copy a dictionary\n",
    "d2 = d.copy()\n",
    "print(d2)\n",
    "\n",
    "d3 = dict(d)\n",
    "print(d)"
   ]
  },
  {
   "cell_type": "code",
   "execution_count": 7,
   "metadata": {},
   "outputs": [
    {
     "name": "stdout",
     "output_type": "stream",
     "text": [
      "{'k1': 0, 'k2': 0, 'k3': 0}\n"
     ]
    }
   ],
   "source": [
    "# Create a dictionary with 3 keys, all with value \"ZERO\"\n",
    "x = ('k1','k2','k3')\n",
    "y = 0\n",
    "d = dict.fromkeys(x,y)\n",
    "print(d)"
   ]
  },
  {
   "cell_type": "code",
   "execution_count": 8,
   "metadata": {},
   "outputs": [
    {
     "name": "stdout",
     "output_type": "stream",
     "text": [
      "{'k1': 0, 'k2': 0, 'k3': 0, 'new_item': 0}\n"
     ]
    }
   ],
   "source": [
    "# Set default\n",
    "d.setdefault(\"new_item\",0)   # put the element to the dictionary\n",
    "print(d)"
   ]
  },
  {
   "cell_type": "code",
   "execution_count": null,
   "metadata": {},
   "outputs": [],
   "source": []
  }
 ],
 "metadata": {
  "kernelspec": {
   "display_name": "Python 3",
   "language": "python",
   "name": "python3"
  },
  "language_info": {
   "codemirror_mode": {
    "name": "ipython",
    "version": 3
   },
   "file_extension": ".py",
   "mimetype": "text/x-python",
   "name": "python",
   "nbconvert_exporter": "python",
   "pygments_lexer": "ipython3",
   "version": "3.8.10"
  }
 },
 "nbformat": 4,
 "nbformat_minor": 4
}
