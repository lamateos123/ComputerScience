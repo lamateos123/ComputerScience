{
 "cells": [
  {
   "cell_type": "code",
   "execution_count": 2,
   "metadata": {},
   "outputs": [
    {
     "name": "stdout",
     "output_type": "stream",
     "text": [
      "Watson Josh\n",
      "43\n",
      "researcher\n",
      "Hello, my name is Watson Josh.\n"
     ]
    }
   ],
   "source": [
    "# class Superhero inherits from Person\n",
    "\n",
    "class Person:\n",
    "    def __init__(self, name, age, occupation):\n",
    "        self.name = name\n",
    "        self.age = age\n",
    "        self.occupation = occupation\n",
    "        \n",
    "    def say_hello(self):\n",
    "        print(f\"Hello, my name is {self.name}.\")\n",
    "        \n",
    "    def say_age(self):\n",
    "        print(f\"I am {self.age} years old.\")\n",
    "        \n",
    "class SuperHero(Person):\n",
    "    pass\n",
    "\n",
    "hero = SuperHero(\"Watson Josh\", 43, \"researcher\")\n",
    "print(hero.name)\n",
    "print(hero.age)\n",
    "print(hero.occupation)\n",
    "hero.say_hello()"
   ]
  },
  {
   "cell_type": "code",
   "execution_count": 5,
   "metadata": {},
   "outputs": [
    {
     "name": "stdout",
     "output_type": "stream",
     "text": [
      "Watson Josh\n",
      "43\n",
      "researcher\n",
      "Hello, my name is Watson Josh.\n",
      "I am 43 years old.\n"
     ]
    }
   ],
   "source": [
    "# Same result as above with super()\n",
    "\n",
    "class SuperHero_super(Person):\n",
    "    #def __init__(self, name, age, occupation):\n",
    "    #    super().__init__(name, age, occupation)\n",
    "        \n",
    "    def say_hello(self):\n",
    "        super().say_hello()\n",
    "        \n",
    "    def say_age(self):\n",
    "        super().say_age()\n",
    "        \n",
    "hero = SuperHero_super(\"Watson Josh\", 43, \"researcher\")\n",
    "print(hero.name)\n",
    "print(hero.age)\n",
    "print(hero.occupation)\n",
    "hero.say_hello()\n",
    "hero.say_age()"
   ]
  },
  {
   "cell_type": "code",
   "execution_count": 3,
   "metadata": {},
   "outputs": [
    {
     "name": "stdout",
     "output_type": "stream",
     "text": [
      "Help on class Person in module __main__:\n",
      "\n",
      "class Person(builtins.object)\n",
      " |  Person(name, age, occupation)\n",
      " |  \n",
      " |  Methods defined here:\n",
      " |  \n",
      " |  __init__(self, name, age, occupation)\n",
      " |      Initialize self.  See help(type(self)) for accurate signature.\n",
      " |  \n",
      " |  say_age(self)\n",
      " |  \n",
      " |  say_hello(self)\n",
      " |  \n",
      " |  ----------------------------------------------------------------------\n",
      " |  Data descriptors defined here:\n",
      " |  \n",
      " |  __dict__\n",
      " |      dictionary for instance variables (if defined)\n",
      " |  \n",
      " |  __weakref__\n",
      " |      list of weak references to the object (if defined)\n",
      "\n",
      "None\n",
      "Help on class SuperHero in module __main__:\n",
      "\n",
      "class SuperHero(Person)\n",
      " |  SuperHero(name, age, occupation)\n",
      " |  \n",
      " |  Method resolution order:\n",
      " |      SuperHero\n",
      " |      Person\n",
      " |      builtins.object\n",
      " |  \n",
      " |  Methods inherited from Person:\n",
      " |  \n",
      " |  __init__(self, name, age, occupation)\n",
      " |      Initialize self.  See help(type(self)) for accurate signature.\n",
      " |  \n",
      " |  say_age(self)\n",
      " |  \n",
      " |  say_hello(self)\n",
      " |  \n",
      " |  ----------------------------------------------------------------------\n",
      " |  Data descriptors inherited from Person:\n",
      " |  \n",
      " |  __dict__\n",
      " |      dictionary for instance variables (if defined)\n",
      " |  \n",
      " |  __weakref__\n",
      " |      list of weak references to the object (if defined)\n",
      "\n",
      "None\n"
     ]
    }
   ],
   "source": [
    "# review the structure of the classes\n",
    "\n",
    "print(help(Person))\n",
    "print(help(SuperHero))"
   ]
  },
  {
   "cell_type": "code",
   "execution_count": 9,
   "metadata": {},
   "outputs": [
    {
     "name": "stdout",
     "output_type": "stream",
     "text": [
      "True\n",
      "False\n",
      "False\n",
      "True\n"
     ]
    }
   ],
   "source": [
    "# Inheritance Hierarchy\n",
    "\n",
    "class ClassA:\n",
    "    pass\n",
    "\n",
    "class ClassB(ClassA):\n",
    "    pass\n",
    "\n",
    "class ClassC:\n",
    "    pass\n",
    "\n",
    "class ClassD(ClassC):\n",
    "    pass\n",
    "\n",
    "object_a = ClassA()\n",
    "object_b = ClassB()\n",
    "object_c = ClassC()\n",
    "object_d = ClassD()\n",
    "\n",
    "print(isinstance(object_b, ClassB))\n",
    "print(isinstance(object_d, ClassA))\n",
    "\n",
    "print(issubclass(ClassD, ClassA))\n",
    "print(issubclass(ClassB, ClassA))"
   ]
  },
  {
   "cell_type": "code",
   "execution_count": 17,
   "metadata": {},
   "outputs": [
    {
     "name": "stdout",
     "output_type": "stream",
     "text": [
      "My real name is Peter Parker.\n",
      "Venom\n",
      "The nemesis of Spider-man is Venom.\n",
      "This is how I say Hello. My name is Spider-man!!!!\n",
      "Hello, my name is Spider-man.\n"
     ]
    }
   ],
   "source": [
    "# Extending a Class\n",
    "# Extending a class is when a new method is added to the child class that is not present in either parent class.\n",
    "\n",
    "# Method Overriding \n",
    "# Overriding a method is when the child class has method that shares a name with method from a parent class, but\n",
    "# the child method performs a different task\n",
    "\n",
    "class SuperHero(Person):\n",
    "    def __init__(self, name, age, occupation, secret_id, nemesis):\n",
    "        super().__init__(name, age, occupation) # get from parent class data\n",
    "        self.secret_id = secret_id\n",
    "        self.nemesis = nemesis\n",
    "    \n",
    "    def reveal_secret_id(self):\n",
    "        print(f\"My real name is {self.secret_id}.\")\n",
    "        \n",
    "    def say_nemesis(self):\n",
    "        print(f\"The nemesis of {self.name} is {self.nemesis}.\")\n",
    "        \n",
    "    def say_hello(self):\n",
    "        print(f\"This is how I say Hello. My name is {self.name}!!!!\")\n",
    "        \n",
    "    def old_say_hello(self):\n",
    "        super().say_hello()\n",
    "        \n",
    "    #another method\n",
    "    \n",
    "hero = SuperHero(\"Spider-man\", 17, \"student\", \"Peter Parker\", \"Venom\")\n",
    "hero.reveal_secret_id()\n",
    "print(hero.nemesis)\n",
    "hero.say_nemesis()\n",
    "hero.say_hello()\n",
    "hero.old_say_hello()"
   ]
  },
  {
   "cell_type": "code",
   "execution_count": 19,
   "metadata": {},
   "outputs": [
    {
     "name": "stdout",
     "output_type": "stream",
     "text": [
      "Help on class SuperHero in module __main__:\n",
      "\n",
      "class SuperHero(Person)\n",
      " |  SuperHero(name, age, occupation, secret_id, nemesis)\n",
      " |  \n",
      " |  Method resolution order:\n",
      " |      SuperHero\n",
      " |      Person\n",
      " |      builtins.object\n",
      " |  \n",
      " |  Methods defined here:\n",
      " |  \n",
      " |  __init__(self, name, age, occupation, secret_id, nemesis)\n",
      " |      Initialize self.  See help(type(self)) for accurate signature.\n",
      " |  \n",
      " |  old_say_hello(self)\n",
      " |  \n",
      " |  reveal_secret_id(self)\n",
      " |  \n",
      " |  say_hello(self)\n",
      " |  \n",
      " |  say_nemesis(self)\n",
      " |  \n",
      " |  ----------------------------------------------------------------------\n",
      " |  Methods inherited from Person:\n",
      " |  \n",
      " |  say_age(self)\n",
      " |  \n",
      " |  ----------------------------------------------------------------------\n",
      " |  Data descriptors inherited from Person:\n",
      " |  \n",
      " |  __dict__\n",
      " |      dictionary for instance variables (if defined)\n",
      " |  \n",
      " |  __weakref__\n",
      " |      list of weak references to the object (if defined)\n",
      "\n",
      "None\n"
     ]
    }
   ],
   "source": [
    "# Now the overrided methods appear as part of the current Class\n",
    "\n",
    "print(help(SuperHero))"
   ]
  },
  {
   "cell_type": "code",
   "execution_count": 23,
   "metadata": {},
   "outputs": [
    {
     "name": "stdout",
     "output_type": "stream",
     "text": [
      "mmm... Meat!\n"
     ]
    }
   ],
   "source": [
    "# Multiple Inheritance\n",
    "\n",
    "class Dinosaur:\n",
    "    def __init__(self, size, weight):\n",
    "        self.size = size\n",
    "        self.weight = weight\n",
    "        \n",
    "class Carnivore:\n",
    "    def __init__(self, diet):\n",
    "        self.diet = diet\n",
    "        \n",
    "class Tyranosaur(Carnivore, Dinosaur):  # Check the order of the classes\n",
    "    pass\n",
    "\n",
    "tiny = Tyranosaur(\"mmm... Meat!\")\n",
    "print(tiny.diet)"
   ]
  },
  {
   "cell_type": "code",
   "execution_count": 24,
   "metadata": {},
   "outputs": [
    {
     "name": "stdout",
     "output_type": "stream",
     "text": [
      "21\n"
     ]
    }
   ],
   "source": [
    "class Tyranosaur(Dinosaur, Carnivore):  # Check the order of the classes\n",
    "    pass\n",
    "\n",
    "biggie = Tyranosaur(21, 2000)\n",
    "print(biggie.size)"
   ]
  },
  {
   "cell_type": "code",
   "execution_count": 25,
   "metadata": {},
   "outputs": [
    {
     "name": "stdout",
     "output_type": "stream",
     "text": [
      "21\n",
      "2000\n",
      "whatever it wants\n"
     ]
    }
   ],
   "source": [
    "# Multiple Inheritance including both parents\n",
    "\n",
    "class Rex(Dinosaur, Carnivore):\n",
    "    def __init__(self, size, weight, diet):\n",
    "        Dinosaur.__init__(self, size, weight)\n",
    "        Carnivore.__init__(self, diet)\n",
    "        \n",
    "tiny = Rex(21, 2000, \"whatever it wants\")\n",
    "print(tiny.size)\n",
    "print(tiny.weight)\n",
    "print(tiny.diet)"
   ]
  },
  {
   "cell_type": "code",
   "execution_count": 29,
   "metadata": {},
   "outputs": [
    {
     "name": "stdout",
     "output_type": "stream",
     "text": [
      "True\n",
      "False\n",
      "True\n",
      "True\n",
      "False\n"
     ]
    }
   ],
   "source": [
    "class A:\n",
    "    pass\n",
    "\n",
    "class B:\n",
    "    pass\n",
    "\n",
    "class C:\n",
    "    pass\n",
    "\n",
    "class D(A, B):\n",
    "    pass\n",
    "\n",
    "obj = D()\n",
    "print(isinstance(obj,A))\n",
    "print(isinstance(obj,C))\n",
    "\n",
    "print(issubclass(D, A))\n",
    "print(issubclass(D, B))\n",
    "print(issubclass(D, C))"
   ]
  },
  {
   "cell_type": "code",
   "execution_count": 31,
   "metadata": {},
   "outputs": [
    {
     "name": "stdout",
     "output_type": "stream",
     "text": [
      "Hello from class C\n",
      "Hello from class A\n",
      "Hello from class B\n"
     ]
    }
   ],
   "source": [
    "class A:\n",
    "    def hello(self):\n",
    "        print(\"Hello from class A\")\n",
    "        \n",
    "class B:\n",
    "    def hello(self):\n",
    "        print(\"Hello from class B\")\n",
    "        \n",
    "class C(A,B):\n",
    "    def hello(self):\n",
    "        print(\"Hello from class C\")\n",
    "        super().hello()\n",
    "        B.hello(self)\n",
    "        \n",
    "obj = C()\n",
    "obj.hello()"
   ]
  }
 ],
 "metadata": {
  "kernelspec": {
   "display_name": "Python 3",
   "language": "python",
   "name": "python3"
  },
  "language_info": {
   "codemirror_mode": {
    "name": "ipython",
    "version": 3
   },
   "file_extension": ".py",
   "mimetype": "text/x-python",
   "name": "python",
   "nbconvert_exporter": "python",
   "pygments_lexer": "ipython3",
   "version": "3.8.10"
  }
 },
 "nbformat": 4,
 "nbformat_minor": 4
}
