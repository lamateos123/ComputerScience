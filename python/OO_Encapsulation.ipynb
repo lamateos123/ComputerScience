{
 "cells": [
  {
   "cell_type": "code",
   "execution_count": 1,
   "metadata": {},
   "outputs": [],
   "source": [
    "# Encapsulation is a concept about data and \n",
    "# methods grouped together with restricted data access\n",
    "# Hiding or restricting how the user interacts with the data \"helps\" for keeping the\n",
    "# user from making unwanted changes or mistakes"
   ]
  },
  {
   "cell_type": "code",
   "execution_count": 2,
   "metadata": {},
   "outputs": [],
   "source": [
    "# In python all attributes and methods are public by default\n",
    "# We can mark private with underscore \"_\" but python will not enforce restriction"
   ]
  },
  {
   "cell_type": "code",
   "execution_count": 6,
   "metadata": {},
   "outputs": [
    {
     "name": "stdout",
     "output_type": "stream",
     "text": [
      "apple\n",
      "256\n",
      "12\n",
      "{'maker': 'apple', 'storage': 256, 'mpixels': 12}\n"
     ]
    }
   ],
   "source": [
    "class Phone:\n",
    "    def __init__(self, maker, storage, mpixels):\n",
    "        self.maker = maker\n",
    "        self.storage = storage\n",
    "        self.mpixels = mpixels\n",
    "        \n",
    "my_phone = Phone(\"apple\", 256, 12)\n",
    "print(my_phone.maker)\n",
    "print(my_phone.storage)\n",
    "print(my_phone.mpixels)\n",
    "\n",
    "print(my_phone.__dict__)"
   ]
  },
  {
   "cell_type": "code",
   "execution_count": 8,
   "metadata": {},
   "outputs": [
    {
     "name": "stdout",
     "output_type": "stream",
     "text": [
      "I am a private attribute\n"
     ]
    }
   ],
   "source": [
    "# For accessing __vars\n",
    "# requires a helper_method\n",
    "\n",
    "class PrivateClass:\n",
    "    def __init__(self):\n",
    "        self.__private_attribute = \"I am a private attribute\"\n",
    "        \n",
    "    def helper_method(self):\n",
    "        return self.__private_attribute\n",
    "    \n",
    "obj = PrivateClass()\n",
    "print(obj.helper_method())"
   ]
  },
  {
   "cell_type": "code",
   "execution_count": 9,
   "metadata": {},
   "outputs": [
    {
     "ename": "AttributeError",
     "evalue": "'PrivateClass' object has no attribute '__private_method'",
     "output_type": "error",
     "traceback": [
      "\u001b[0;31m---------------------------------------------------------------------------\u001b[0m",
      "\u001b[0;31mAttributeError\u001b[0m                            Traceback (most recent call last)",
      "\u001b[0;32m<ipython-input-9-087eac6c6920>\u001b[0m in \u001b[0;36m<module>\u001b[0;34m\u001b[0m\n\u001b[1;32m      9\u001b[0m \u001b[0;34m\u001b[0m\u001b[0m\n\u001b[1;32m     10\u001b[0m \u001b[0mobj\u001b[0m \u001b[0;34m=\u001b[0m \u001b[0mPrivateClass\u001b[0m\u001b[0;34m(\u001b[0m\u001b[0;34m)\u001b[0m\u001b[0;34m\u001b[0m\u001b[0;34m\u001b[0m\u001b[0m\n\u001b[0;32m---> 11\u001b[0;31m \u001b[0mprint\u001b[0m\u001b[0;34m(\u001b[0m\u001b[0mobj\u001b[0m\u001b[0;34m.\u001b[0m\u001b[0m__private_method\u001b[0m\u001b[0;34m(\u001b[0m\u001b[0;34m)\u001b[0m\u001b[0;34m)\u001b[0m\u001b[0;34m\u001b[0m\u001b[0;34m\u001b[0m\u001b[0m\n\u001b[0m",
      "\u001b[0;31mAttributeError\u001b[0m: 'PrivateClass' object has no attribute '__private_method'"
     ]
    }
   ],
   "source": [
    "# Trying to access a __method will not work\n",
    "\n",
    "class PrivateClass:\n",
    "    def __init__(self):\n",
    "        self.__private_attribute = \"I am a private attribute\"\n",
    "        \n",
    "    def __private_method(self):\n",
    "        return \"I am a private method\"\n",
    "    \n",
    "obj = PrivateClass()\n",
    "print(obj.__private_method())"
   ]
  },
  {
   "cell_type": "code",
   "execution_count": 10,
   "metadata": {},
   "outputs": [
    {
     "name": "stdout",
     "output_type": "stream",
     "text": [
      "I am a private method\n"
     ]
    }
   ],
   "source": [
    "# Create the method helper_method which calls __private_method and call this\n",
    "# method from outside of the class\n",
    "\n",
    "class PrivateClass:\n",
    "    def __init__(self):\n",
    "        self.__private_attribute = \"I am a private attribute\"\n",
    "        \n",
    "    def __private_method(self):\n",
    "        return \"I am a private method\"\n",
    "    \n",
    "    def helper_method(self):\n",
    "        return self.__private_method()\n",
    "    \n",
    "obj = PrivateClass()\n",
    "print(obj.helper_method())"
   ]
  },
  {
   "cell_type": "code",
   "execution_count": 14,
   "metadata": {},
   "outputs": [
    {
     "name": "stdout",
     "output_type": "stream",
     "text": [
      "apple\n",
      "apple\n",
      "android\n",
      "256\n",
      "12\n"
     ]
    }
   ],
   "source": [
    "# GETTER and SETTER\n",
    "# get acts as an intermediary between the user (outside of the class) and \n",
    "# the private attribute_model (inside of the class)\n",
    "# set is used for updating the \"private\" attribute\n",
    "\n",
    "class Phone:\n",
    "    def __init__(self, maker, storage, mpixels):\n",
    "        self._maker = maker\n",
    "        self._storage = storage\n",
    "        self._mpixels = mpixels\n",
    "        \n",
    "    def get_maker(self):\n",
    "        return self._maker\n",
    "    \n",
    "    def set_maker(self, new_maker):\n",
    "        self._maker = new_maker\n",
    "        \n",
    "my_phone = Phone(\"apple\", 256, 12)\n",
    "print(my_phone._maker)\n",
    "print(my_phone.get_maker())\n",
    "my_phone.set_maker(\"android\")\n",
    "print(my_phone._maker)\n",
    "print(my_phone._storage)\n",
    "print(my_phone._mpixels)"
   ]
  },
  {
   "cell_type": "code",
   "execution_count": 23,
   "metadata": {},
   "outputs": [
    {
     "name": "stdout",
     "output_type": "stream",
     "text": [
      "Calvin\n",
      "Calvin\n",
      "45\n"
     ]
    },
    {
     "ename": "TypeError",
     "evalue": "Name expects a string",
     "output_type": "error",
     "traceback": [
      "\u001b[0;31m---------------------------------------------------------------------------\u001b[0m",
      "\u001b[0;31mTypeError\u001b[0m                                 Traceback (most recent call last)",
      "\u001b[0;32m<ipython-input-23-d6fd2664649b>\u001b[0m in \u001b[0;36m<module>\u001b[0;34m\u001b[0m\n\u001b[1;32m     47\u001b[0m \u001b[0mprint\u001b[0m\u001b[0;34m(\u001b[0m\u001b[0mc\u001b[0m\u001b[0;34m.\u001b[0m\u001b[0mage\u001b[0m\u001b[0;34m)\u001b[0m\u001b[0;34m\u001b[0m\u001b[0;34m\u001b[0m\u001b[0m\n\u001b[1;32m     48\u001b[0m \u001b[0;34m\u001b[0m\u001b[0m\n\u001b[0;32m---> 49\u001b[0;31m \u001b[0mc\u001b[0m\u001b[0;34m.\u001b[0m\u001b[0mname\u001b[0m \u001b[0;34m=\u001b[0m \u001b[0;32mTrue\u001b[0m\u001b[0;34m\u001b[0m\u001b[0;34m\u001b[0m\u001b[0m\n\u001b[0m\u001b[1;32m     50\u001b[0m \u001b[0mprint\u001b[0m\u001b[0;34m(\u001b[0m\u001b[0mc\u001b[0m\u001b[0;34m.\u001b[0m\u001b[0mname\u001b[0m\u001b[0;34m)\u001b[0m\u001b[0;34m\u001b[0m\u001b[0;34m\u001b[0m\u001b[0m\n\u001b[1;32m     51\u001b[0m \u001b[0mc\u001b[0m\u001b[0;34m.\u001b[0m\u001b[0mage\u001b[0m \u001b[0;34m=\u001b[0m \u001b[0;34m-\u001b[0m\u001b[0;36m1\u001b[0m\u001b[0;34m\u001b[0m\u001b[0;34m\u001b[0m\u001b[0m\n",
      "\u001b[0;32m<ipython-input-23-d6fd2664649b>\u001b[0m in \u001b[0;36mname\u001b[0;34m(self, new_name)\u001b[0m\n\u001b[1;32m     29\u001b[0m     \u001b[0;32mdef\u001b[0m \u001b[0mname\u001b[0m\u001b[0;34m(\u001b[0m\u001b[0mself\u001b[0m\u001b[0;34m,\u001b[0m \u001b[0mnew_name\u001b[0m\u001b[0;34m)\u001b[0m\u001b[0;34m:\u001b[0m\u001b[0;34m\u001b[0m\u001b[0;34m\u001b[0m\u001b[0m\n\u001b[1;32m     30\u001b[0m         \u001b[0;32mif\u001b[0m \u001b[0mtype\u001b[0m\u001b[0;34m(\u001b[0m\u001b[0mnew_name\u001b[0m\u001b[0;34m)\u001b[0m \u001b[0;34m!=\u001b[0m \u001b[0mstr\u001b[0m\u001b[0;34m:\u001b[0m\u001b[0;34m\u001b[0m\u001b[0;34m\u001b[0m\u001b[0m\n\u001b[0;32m---> 31\u001b[0;31m             \u001b[0;32mraise\u001b[0m \u001b[0mTypeError\u001b[0m\u001b[0;34m(\u001b[0m\u001b[0;34m\"Name expects a string\"\u001b[0m\u001b[0;34m)\u001b[0m\u001b[0;34m\u001b[0m\u001b[0;34m\u001b[0m\u001b[0m\n\u001b[0m\u001b[1;32m     32\u001b[0m         \u001b[0mself\u001b[0m\u001b[0;34m.\u001b[0m\u001b[0m_name\u001b[0m \u001b[0;34m=\u001b[0m \u001b[0mnew_name\u001b[0m\u001b[0;34m\u001b[0m\u001b[0;34m\u001b[0m\u001b[0m\n\u001b[1;32m     33\u001b[0m \u001b[0;34m\u001b[0m\u001b[0m\n",
      "\u001b[0;31mTypeError\u001b[0m: Name expects a string"
     ]
    }
   ],
   "source": [
    "# @property decorator\n",
    "class Person:\n",
    "    def __init__(self, name):\n",
    "        self._name = name\n",
    "        \n",
    "    def name(self):\n",
    "        return self._name\n",
    "    \n",
    "c = Person(\"Calvin\")\n",
    "print(c.name())\n",
    "\n",
    "\n",
    "# To get rid of the c.name() parentheses\n",
    "# Use the @property decorator so that it assumes a getter behavior\n",
    "# For a setter @variable.setter\n",
    "# In case an input from the setter is not valid as type or value\n",
    "# we can raise an Error\n",
    "\n",
    "class Person:\n",
    "    def __init__(self, name, age):\n",
    "        self._name = name\n",
    "        self._age = age\n",
    "        \n",
    "    @property\n",
    "    def name(self):\n",
    "        return self._name\n",
    "    \n",
    "    @name.setter\n",
    "    def name(self, new_name):\n",
    "        if type(new_name) != str:\n",
    "            raise TypeError(\"Name expects a string\")\n",
    "        self._name = new_name\n",
    "        \n",
    "    @property\n",
    "    def age(self):\n",
    "        return self._age\n",
    "    \n",
    "    @age.setter\n",
    "    def age(self, new_age):\n",
    "        if new_age < 0:\n",
    "            raise ValueError(\"Age expects a positive number\")\n",
    "        self._age = new_age\n",
    "    \n",
    "c = Person(\"Calvin\",34)\n",
    "print(c.name)\n",
    "c.age = 45\n",
    "print(c.age)\n",
    "\n",
    "c.name = True\n",
    "print(c.name)\n",
    "c.age = -1\n",
    "print(c.age)"
   ]
  },
  {
   "cell_type": "code",
   "execution_count": 24,
   "metadata": {},
   "outputs": [
    {
     "name": "stdout",
     "output_type": "stream",
     "text": [
      "Calvin 36\n",
      "Watson 43\n"
     ]
    }
   ],
   "source": [
    "# property function\n",
    "# GETTER and SETTER\n",
    "# First GETTER, second SETTER\n",
    "\n",
    "class Person:\n",
    "    def __init__(self, name, age):\n",
    "        self._name = name\n",
    "        self._age = age\n",
    "        \n",
    "    def get_name(self):\n",
    "        return self._name\n",
    "    \n",
    "    def set_name(self, new_name):\n",
    "        self._name = new_name\n",
    "        \n",
    "    name = property(get_name, set_name)\n",
    "    \n",
    "    def get_age(self):\n",
    "        return self._age\n",
    "    \n",
    "    def set_age(self, new_age):\n",
    "        self._age = new_age\n",
    "        \n",
    "    age = property(get_age, set_age)\n",
    "    \n",
    "c = Person(\"Calvin\", 36)\n",
    "print(c.name, c.age)\n",
    "c.name = \"Watson\"\n",
    "c.age = 43\n",
    "print(c.name, c.age)"
   ]
  },
  {
   "cell_type": "code",
   "execution_count": null,
   "metadata": {},
   "outputs": [],
   "source": []
  }
 ],
 "metadata": {
  "kernelspec": {
   "display_name": "Python 3",
   "language": "python",
   "name": "python3"
  },
  "language_info": {
   "codemirror_mode": {
    "name": "ipython",
    "version": 3
   },
   "file_extension": ".py",
   "mimetype": "text/x-python",
   "name": "python",
   "nbconvert_exporter": "python",
   "pygments_lexer": "ipython3",
   "version": "3.8.10"
  }
 },
 "nbformat": 4,
 "nbformat_minor": 4
}
