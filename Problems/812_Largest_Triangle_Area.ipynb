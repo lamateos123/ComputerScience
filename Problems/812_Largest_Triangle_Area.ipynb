{
 "cells": [
  {
   "cell_type": "code",
   "execution_count": null,
   "metadata": {},
   "outputs": [],
   "source": [
    "# 812. Largest Triangle Area\n",
    "'''\n",
    "Formula of area of a triangle if coordinates are given\n",
    "1/2(x1*(y2-y3)+x2*(y3-y1)+x3*(y1-y2))\n",
    "\n",
    "Given an array of points on the X-Y plane points where points[i] = [xi, yi], \n",
    "return the area of the largest triangle that can be formed by any three different \n",
    "points. Answers within 10-5 of the actual answer will be accepted.\n",
    "\n",
    "Input: points = [[0,0],[0,1],[1,0],[0,2],[2,0]]\n",
    "Output: 2.00000\n",
    "Explanation: The five points are shown in the above figure. The red triangle is the largest.\n",
    "\n",
    "Example 2:\n",
    "\n",
    "Input: points = [[1,0],[0,0],[0,1]]\n",
    "Output: 0.50000\n",
    "\n",
    "'''"
   ]
  },
  {
   "cell_type": "code",
   "execution_count": 1,
   "metadata": {},
   "outputs": [
    {
     "name": "stdout",
     "output_type": "stream",
     "text": [
      "0.5\n"
     ]
    }
   ],
   "source": [
    "def largestTA(points):\n",
    "    area = 0\n",
    "    n = len(points)\n",
    "    for i in range(n):\n",
    "        x1,y1 = points[i]\n",
    "        for j in range(i+1, n):\n",
    "            x2,y2 = points[j]\n",
    "            for k in range(i+2, n):\n",
    "                x3,y3 = points[k]\n",
    "                curr = abs(0.5*(x1*(y2-y3)+x2*(y3-y1)+x3*(y1-y2)))\n",
    "                area = max(curr,area)\n",
    "    return area\n",
    "\n",
    "points = [[1,0],[0,0],[0,1]]\n",
    "print(largestTA(points))"
   ]
  },
  {
   "cell_type": "code",
   "execution_count": null,
   "metadata": {},
   "outputs": [],
   "source": []
  }
 ],
 "metadata": {
  "kernelspec": {
   "display_name": "Python 3",
   "language": "python",
   "name": "python3"
  },
  "language_info": {
   "codemirror_mode": {
    "name": "ipython",
    "version": 3
   },
   "file_extension": ".py",
   "mimetype": "text/x-python",
   "name": "python",
   "nbconvert_exporter": "python",
   "pygments_lexer": "ipython3",
   "version": "3.8.10"
  }
 },
 "nbformat": 4,
 "nbformat_minor": 4
}
