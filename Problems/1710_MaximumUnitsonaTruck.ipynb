{
 "cells": [
  {
   "cell_type": "code",
   "execution_count": 1,
   "metadata": {},
   "outputs": [],
   "source": [
    "# 1710. Maximum Units on a Truck\n",
    "'''\n",
    "You are assigned to put some amount of boxes onto one truck. You are given a \n",
    "2D array boxTypes, where boxTypes[i] = [numberOfBoxesi, numberOfUnitsPerBoxi]:\n",
    "\n",
    "    numberOfBoxesi is the number of boxes of type i.\n",
    "    numberOfUnitsPerBoxi is the number of units in each box of the type i.\n",
    "\n",
    "You are also given an integer truckSize, which is the maximum number of boxes \n",
    "that can be put on the truck. You can choose any boxes to put on the truck as \n",
    "long as the number of boxes does not exceed truckSize.\n",
    "\n",
    "Return the maximum total number of units that can be put on the truck.\n",
    "\n",
    "Example 1:\n",
    "\n",
    "Input: boxTypes = [[1,3],[2,2],[3,1]], truckSize = 4\n",
    "Output: 8\n",
    "Explanation: There are:\n",
    "- 1 box of the first type that contains 3 units.\n",
    "- 2 boxes of the second type that contain 2 units each.\n",
    "- 3 boxes of the third type that contain 1 unit each.\n",
    "You can take all the boxes of the first and second types, and one box of the third type.\n",
    "The total number of units will be = (1 * 3) + (2 * 2) + (1 * 1) = 8.\n",
    "\n",
    "Example 2:\n",
    "\n",
    "Input: boxTypes = [[5,10],[2,5],[4,7],[3,9]], truckSize = 10\n",
    "Output: 91\n",
    "'''"
   ]
  },
  {
   "cell_type": "code",
   "execution_count": 29,
   "metadata": {},
   "outputs": [
    {
     "name": "stdout",
     "output_type": "stream",
     "text": [
      "[[5, 5], [2, 5], [2, 5], [1, 3], [1, 3], [4, 2], [2, 2], [3, 2], [4, 1], [3, 1]]\n",
      "35 5 25\n",
      "35\n",
      "35 7 35\n",
      "35\n",
      "35 9 45\n",
      "35\n",
      "35 10 48\n",
      "35\n",
      "35 11 51\n",
      "35\n",
      "35 15 59\n",
      "35\n",
      "35 17 63\n",
      "35\n",
      "35 20 69\n",
      "35\n",
      "35 24 73\n",
      "35\n",
      "35 27 76\n",
      "35\n"
     ]
    },
    {
     "data": {
      "text/plain": [
       "76"
      ]
     },
     "execution_count": 29,
     "metadata": {},
     "output_type": "execute_result"
    }
   ],
   "source": [
    "def maxUnits(boxTypes, truckSize):\n",
    "    ans_units = 0\n",
    "    ans_boxes = 0\n",
    "    boxTypes.sort(key=lambda x: x[1], reverse=True)\n",
    "    print(boxTypes)\n",
    "    i = 0\n",
    "    while ans_boxes <= truckSize:\n",
    "        \n",
    "        if truckSize - ans_boxes >= boxTypes[i][0]:\n",
    "            ans_boxes += boxTypes[i][0]\n",
    "            ans_units += boxTypes[i][0]*boxTypes[i][1]\n",
    "            print(truckSize, ans_boxes, ans_units)\n",
    "        else:\n",
    "            print(i,truckSize - ans_boxes, ans_units, boxTypes[i][1])\n",
    "            temp = truckSize - ans_boxes\n",
    "            ans_boxes += temp\n",
    "            ans_units += temp * boxTypes[i][1]\n",
    "                                                \n",
    "        i += 1\n",
    "        print(truckSize)\n",
    "        if truckSize - ans_boxes == 0 or i>=len(boxTypes):\n",
    "            return ans_units\n",
    "    return ans\n",
    "\n",
    "boxTypes = [[5,10],[2,5],[4,7],[3,9]]\n",
    "truckSize = 10\n",
    "boxTypes = [[1,3],[5,5],[2,5],[4,2],[4,1],[3,1],[2,2],[1,3],[2,5],[3,2]]\n",
    "truckSize = 35\n",
    "\n",
    "maxUnits(boxTypes, truckSize)"
   ]
  },
  {
   "cell_type": "code",
   "execution_count": 10,
   "metadata": {},
   "outputs": [
    {
     "data": {
      "text/plain": [
       "2"
      ]
     },
     "execution_count": 10,
     "metadata": {},
     "output_type": "execute_result"
    }
   ],
   "source": [
    " boxTypes[0][0]"
   ]
  },
  {
   "cell_type": "code",
   "execution_count": null,
   "metadata": {},
   "outputs": [],
   "source": []
  }
 ],
 "metadata": {
  "kernelspec": {
   "display_name": "Python 3",
   "language": "python",
   "name": "python3"
  },
  "language_info": {
   "codemirror_mode": {
    "name": "ipython",
    "version": 3
   },
   "file_extension": ".py",
   "mimetype": "text/x-python",
   "name": "python",
   "nbconvert_exporter": "python",
   "pygments_lexer": "ipython3",
   "version": "3.7.4"
  }
 },
 "nbformat": 4,
 "nbformat_minor": 2
}
