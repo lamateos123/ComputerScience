{
 "cells": [
  {
   "cell_type": "code",
   "execution_count": null,
   "metadata": {},
   "outputs": [],
   "source": [
    "# 229. Majority Element II\n",
    "'''\n",
    "Given an integer array of size n, find all elements that appear \n",
    "more than ⌊ n/3 ⌋ times.\n",
    "\n",
    "Example 1:\n",
    "\n",
    "Input: nums = [3,2,3]\n",
    "Output: [3]\n",
    "\n",
    "Example 2:\n",
    "\n",
    "Input: nums = [1]\n",
    "Output: [1]\n",
    "\n",
    "Example 3:\n",
    "\n",
    "Input: nums = [1,2]\n",
    "Output: [1,2]\n",
    "\n",
    "'''"
   ]
  },
  {
   "cell_type": "code",
   "execution_count": 35,
   "metadata": {},
   "outputs": [
    {
     "data": {
      "text/plain": [
       "[3]"
      ]
     },
     "execution_count": 35,
     "metadata": {},
     "output_type": "execute_result"
    }
   ],
   "source": [
    "def majorityE2(nums):\n",
    "    ans = []#set()\n",
    "    d = {}\n",
    "    if len(nums) <= 2:\n",
    "        return list(set(nums))\n",
    "    for n in nums:\n",
    "        d.setdefault(n,0)\n",
    "        d[n]+=1\n",
    "    for k,v in d.items():\n",
    "        if d[k]/len(nums) > 1/3:\n",
    "            ans.append(k)#ans.add(k)\n",
    "    return ans#list(ans)\n",
    "    \n",
    "    \n",
    "nums = [3,2,3]\n",
    "#nums = [1]\n",
    "#nums = [1,2]\n",
    "#nums = [2,2]\n",
    "#nums = [1,1,2,2,1,1,1,1,2,2,1,1]\n",
    "nums = [3,3,4]\n",
    "majorityE2(nums)"
   ]
  },
  {
   "cell_type": "code",
   "execution_count": null,
   "metadata": {},
   "outputs": [],
   "source": []
  }
 ],
 "metadata": {
  "kernelspec": {
   "display_name": "Python 3",
   "language": "python",
   "name": "python3"
  },
  "language_info": {
   "codemirror_mode": {
    "name": "ipython",
    "version": 3
   },
   "file_extension": ".py",
   "mimetype": "text/x-python",
   "name": "python",
   "nbconvert_exporter": "python",
   "pygments_lexer": "ipython3",
   "version": "3.7.4"
  }
 },
 "nbformat": 4,
 "nbformat_minor": 2
}
