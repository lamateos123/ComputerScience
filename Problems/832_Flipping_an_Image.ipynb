{
 "cells": [
  {
   "cell_type": "code",
   "execution_count": null,
   "metadata": {},
   "outputs": [],
   "source": [
    "# 832. Flipping an Image\n",
    "#------------------------\n",
    "'''\n",
    "Given an n x n binary matrix image, flip the image horizontally, then invert it, \n",
    "and return the resulting image.\n",
    "\n",
    "To flip an image horizontally means that each row of the image is reversed.\n",
    "\n",
    "    For example, flipping [1,1,0] horizontally results in [0,1,1].\n",
    "\n",
    "To invert an image means that each 0 is replaced by 1, and each 1 is replaced by 0.\n",
    "\n",
    "    For example, inverting [0,1,1] results in [1,0,0].\n",
    "    \n",
    "Example 1:\n",
    "\n",
    "Input: image = [[1,1,0],[1,0,1],[0,0,0]]\n",
    "Output: [[1,0,0],[0,1,0],[1,1,1]]\n",
    "Explanation: First reverse each row: [[0,1,1],[1,0,1],[0,0,0]].\n",
    "Then, invert the image: [[1,0,0],[0,1,0],[1,1,1]]\n",
    "\n",
    "Example 2:\n",
    "\n",
    "Input: image = [[1,1,0,0],[1,0,0,1],[0,1,1,1],[1,0,1,0]]\n",
    "Output: [[1,1,0,0],[0,1,1,0],[0,0,0,1],[1,0,1,0]]\n",
    "Explanation: First reverse each row: [[0,0,1,1],[1,0,0,1],[1,1,1,0],[0,1,0,1]].\n",
    "Then invert the image: [[1,1,0,0],[0,1,1,0],[0,0,0,1],[1,0,1,0]]\n",
    "\n",
    "'''"
   ]
  },
  {
   "cell_type": "code",
   "execution_count": 10,
   "metadata": {},
   "outputs": [
    {
     "name": "stdout",
     "output_type": "stream",
     "text": [
      "3 3\n",
      "[[1, 0, 0], [0, 1, 0], [1, 1, 1]]\n"
     ]
    }
   ],
   "source": [
    "def flipImage(image):\n",
    "    c = len(image)\n",
    "    r = len(image[0])\n",
    "    print(r,c)\n",
    "    ans = []\n",
    "    for i in range(c):\n",
    "        temp = []\n",
    "        for j in range(r):\n",
    "            if image[i][r-j-1] == 0:\n",
    "                temp.append(1)\n",
    "            else:\n",
    "                temp.append(0)\n",
    "        ans.append(temp)\n",
    "    return ans\n",
    "\n",
    "\n",
    "image = [[1,1,0],[1,0,1],[0,0,0]]\n",
    "\n",
    "print(flipImage(image))"
   ]
  },
  {
   "cell_type": "code",
   "execution_count": null,
   "metadata": {},
   "outputs": [],
   "source": []
  }
 ],
 "metadata": {
  "kernelspec": {
   "display_name": "Python 3",
   "language": "python",
   "name": "python3"
  },
  "language_info": {
   "codemirror_mode": {
    "name": "ipython",
    "version": 3
   },
   "file_extension": ".py",
   "mimetype": "text/x-python",
   "name": "python",
   "nbconvert_exporter": "python",
   "pygments_lexer": "ipython3",
   "version": "3.7.4"
  }
 },
 "nbformat": 4,
 "nbformat_minor": 2
}
