{
 "cells": [
  {
   "cell_type": "code",
   "execution_count": 1,
   "metadata": {},
   "outputs": [],
   "source": [
    "# 643. Maximum Average Subarray I\n",
    "'''\n",
    "You are given an integer array nums consisting of n elements, and an integer k.\n",
    "\n",
    "Find a contiguous subarray whose length is equal to k that has the maximum \n",
    "average value and return this value. Any answer with a calculation error less \n",
    "than 10-5 will be accepted.\n",
    "\n",
    " \n",
    "\n",
    "Example 1:\n",
    "\n",
    "Input: nums = [1,12,-5,-6,50,3], k = 4\n",
    "Output: 12.75000\n",
    "Explanation: Maximum average is (12 - 5 - 6 + 50) / 4 = 51 / 4 = 12.75\n",
    "\n",
    "Example 2:\n",
    "\n",
    "Input: nums = [5], k = 1\n",
    "Output: 5.00000\n",
    "\n",
    "'''"
   ]
  },
  {
   "cell_type": "code",
   "execution_count": 37,
   "metadata": {},
   "outputs": [
    {
     "name": "stdout",
     "output_type": "stream",
     "text": [
      "2 1 1\n",
      "51 39 2\n",
      "51 47 3\n",
      "12.75\n"
     ]
    }
   ],
   "source": [
    "def maxA(nums, k):\n",
    "    suma = 0\n",
    "    ans = float('-inf')\n",
    "    i = 0\n",
    "    for j in range(len(nums)):\n",
    "        suma += nums[j]\n",
    "        #print(j,i,k,suma)\n",
    "        if j-i+1 == k:\n",
    "            ans = max(ans, suma)\n",
    "            suma -= nums[i]\n",
    "            i+=1\n",
    "            print(ans,suma,i)\n",
    "    return ans/k\n",
    "\n",
    "nums = [1,12,-5,-6,50,3]\n",
    "k = 4\n",
    "print(maxA(nums,k))"
   ]
  },
  {
   "cell_type": "code",
   "execution_count": 33,
   "metadata": {},
   "outputs": [
    {
     "name": "stdout",
     "output_type": "stream",
     "text": [
      "12.75\n"
     ]
    }
   ],
   "source": [
    "def maxA(nums,k):\n",
    "    maxi = float('-inf')\n",
    "    j = 0\n",
    "    \n",
    "    if len(nums) == 1 and k == 1:\n",
    "        return nums[0]/1\n",
    "    \n",
    "    for i in range(k,len(nums)+1,1):\n",
    "        #print(nums[j:i])\n",
    "        ans = sum(nums[j:i]) / k\n",
    "        if ans > maxi:\n",
    "            maxi = ans\n",
    "        j+=1\n",
    "        #print(sum(nums[j:i]))\n",
    "            \n",
    "    \n",
    "    return maxi\n",
    "\n",
    "nums = [1,12,-5,-6,50,3]\n",
    "k = 4\n",
    "print(maxA(nums,k))"
   ]
  },
  {
   "cell_type": "code",
   "execution_count": 11,
   "metadata": {},
   "outputs": [
    {
     "data": {
      "text/plain": [
       "[12, -5, -6, 50, 3]"
      ]
     },
     "execution_count": 11,
     "metadata": {},
     "output_type": "execute_result"
    }
   ],
   "source": [
    "nums = [1,12,-5,-6,50,3]\n",
    "k = 4\n",
    "nums[len(nums)-k-1:]"
   ]
  },
  {
   "cell_type": "code",
   "execution_count": 12,
   "metadata": {},
   "outputs": [
    {
     "data": {
      "text/plain": [
       "[1, 12, -5, -6]"
      ]
     },
     "execution_count": 12,
     "metadata": {},
     "output_type": "execute_result"
    }
   ],
   "source": [
    "nums[:k]"
   ]
  },
  {
   "cell_type": "code",
   "execution_count": null,
   "metadata": {},
   "outputs": [],
   "source": []
  }
 ],
 "metadata": {
  "kernelspec": {
   "display_name": "Python 3",
   "language": "python",
   "name": "python3"
  },
  "language_info": {
   "codemirror_mode": {
    "name": "ipython",
    "version": 3
   },
   "file_extension": ".py",
   "mimetype": "text/x-python",
   "name": "python",
   "nbconvert_exporter": "python",
   "pygments_lexer": "ipython3",
   "version": "3.8.10"
  }
 },
 "nbformat": 4,
 "nbformat_minor": 4
}
