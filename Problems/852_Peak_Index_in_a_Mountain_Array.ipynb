{
 "cells": [
  {
   "cell_type": "code",
   "execution_count": 1,
   "metadata": {},
   "outputs": [],
   "source": [
    "# 852. Peak Index in a Mountain Array\n",
    "'''\n",
    "Let's call an array arr a mountain if the following properties hold:\n",
    "\n",
    "    arr.length >= 3\n",
    "    There exists some i with 0 < i < arr.length - 1 such that:\n",
    "        arr[0] < arr[1] < ... arr[i-1] < arr[i]\n",
    "        arr[i] > arr[i+1] > ... > arr[arr.length - 1]\n",
    "\n",
    "Given an integer array arr that is guaranteed to be a mountain, return any i \n",
    "such that arr[0] < arr[1] < ... arr[i - 1] < arr[i] > arr[i + 1] > ... > \n",
    "arr[arr.length - 1].\n",
    "\n",
    " \n",
    "Example 1:\n",
    "\n",
    "Input: arr = [0,1,0]\n",
    "Output: 1\n",
    "\n",
    "Example 2:\n",
    "\n",
    "Input: arr = [0,2,1,0]\n",
    "Output: 1\n",
    "\n",
    "Example 3:\n",
    "\n",
    "Input: arr = [0,10,5,2]\n",
    "Output: 1\n",
    "'''"
   ]
  },
  {
   "cell_type": "code",
   "execution_count": 5,
   "metadata": {},
   "outputs": [
    {
     "data": {
      "text/plain": [
       "1"
      ]
     },
     "execution_count": 5,
     "metadata": {},
     "output_type": "execute_result"
    }
   ],
   "source": [
    "def peakIndex(arr):\n",
    "    for i in range(len(arr)):\n",
    "        if arr[i]>arr[i+1]:\n",
    "            return i\n",
    "        \n",
    "'''\n",
    "We can binary search over this array of comparisons, to find the largest \n",
    "index i such that A[i] < A[i+1]. For more on binary search\n",
    "'''\n",
    "def peakIndexBin(arr):\n",
    "    l = 0\n",
    "    r = len(arr)-1\n",
    "    while l < r:\n",
    "        mid = l + (r - l) //2  #(l+r)//2\n",
    "        if arr[mid] < arr[mid+1]:\n",
    "            l = mid + 1\n",
    "        else:\n",
    "            r = mid\n",
    "    return l\n",
    "\n",
    "arr = [0,2,1,0]\n",
    "peakIndexBin(arr)"
   ]
  },
  {
   "cell_type": "code",
   "execution_count": null,
   "metadata": {},
   "outputs": [],
   "source": []
  }
 ],
 "metadata": {
  "kernelspec": {
   "display_name": "Python 3",
   "language": "python",
   "name": "python3"
  },
  "language_info": {
   "codemirror_mode": {
    "name": "ipython",
    "version": 3
   },
   "file_extension": ".py",
   "mimetype": "text/x-python",
   "name": "python",
   "nbconvert_exporter": "python",
   "pygments_lexer": "ipython3",
   "version": "3.8.10"
  }
 },
 "nbformat": 4,
 "nbformat_minor": 4
}
