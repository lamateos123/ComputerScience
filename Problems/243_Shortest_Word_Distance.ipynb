{
 "cells": [
  {
   "cell_type": "code",
   "execution_count": 52,
   "metadata": {},
   "outputs": [
    {
     "data": {
      "text/plain": [
       "'\\nGiven an array of strings wordsDict and two different strings that already exist in \\nthe array word1 and word2, return the shortest distance between these two words in the list.\\n\\n \\n\\nExample 1:\\n\\nInput: wordsDict = [\"practice\", \"makes\", \"perfect\", \"coding\", \"makes\"], \\nword1 = \"coding\", word2 = \"practice\"\\nOutput: 3\\n\\n'"
      ]
     },
     "execution_count": 52,
     "metadata": {},
     "output_type": "execute_result"
    }
   ],
   "source": [
    "# 243. Shortest Word Distance\n",
    "'''\n",
    "Given an array of strings wordsDict and two different strings that already exist in \n",
    "the array word1 and word2, return the shortest distance between these two words in the list.\n",
    "\n",
    " \n",
    "\n",
    "Example 1:\n",
    "\n",
    "Input: wordsDict = [\"practice\", \"makes\", \"perfect\", \"coding\", \"makes\"], \n",
    "word1 = \"coding\", word2 = \"practice\"\n",
    "Output: 3\n",
    "\n",
    "'''"
   ]
  },
  {
   "cell_type": "code",
   "execution_count": 53,
   "metadata": {},
   "outputs": [],
   "source": [
    "def shortestWD(wordsDict,word1,word2):\n",
    "    i1 = -1\n",
    "    i2 = -1\n",
    "    md = len(wordsDict)\n",
    "    for i in range(md):\n",
    "        if wordsDict[i] == word1:\n",
    "            i1 = i\n",
    "        if wordsDict[i] == word2:\n",
    "            i2 = i\n",
    "        if i1!=-1 and i2!=-1:\n",
    "            md = min(md, abs(i1-i2))\n",
    "    return md\n"
   ]
  },
  {
   "cell_type": "code",
   "execution_count": 54,
   "metadata": {},
   "outputs": [
    {
     "name": "stdout",
     "output_type": "stream",
     "text": [
      "3\n",
      "1\n"
     ]
    }
   ],
   "source": [
    "wordsDict = [\"practice\", \"makes\", \"perfect\", \"coding\", \"makes\"]\n",
    "word1 = \"coding\"\n",
    "word2 = \"practice\"\n",
    "\n",
    "print(shortestWD(wordsDict,word1,word2))\n",
    "\n",
    "wordsDict = [\"practice\", \"makes\", \"perfect\", \"coding\", \"makes\"]\n",
    "word1 = \"makes\"\n",
    "word2 = \"coding\"\n",
    "print(shortestWD(wordsDict,word1,word2))"
   ]
  },
  {
   "cell_type": "code",
   "execution_count": null,
   "metadata": {},
   "outputs": [],
   "source": []
  }
 ],
 "metadata": {
  "kernelspec": {
   "display_name": "Python 3",
   "language": "python",
   "name": "python3"
  },
  "language_info": {
   "codemirror_mode": {
    "name": "ipython",
    "version": 3
   },
   "file_extension": ".py",
   "mimetype": "text/x-python",
   "name": "python",
   "nbconvert_exporter": "python",
   "pygments_lexer": "ipython3",
   "version": "3.8.10"
  }
 },
 "nbformat": 4,
 "nbformat_minor": 4
}
