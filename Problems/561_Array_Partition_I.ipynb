{
 "cells": [
  {
   "cell_type": "code",
   "execution_count": null,
   "metadata": {},
   "outputs": [],
   "source": [
    "# 561. Array Partition I\n",
    "'''\n",
    "Given an integer array nums of 2n integers, group these integers into \n",
    "n pairs (a1, b1), (a2, b2), ..., (an, bn) such that the sum of min(ai, bi) \n",
    "for all i is maximized. Return the maximized sum.\n",
    "\n",
    "Example 1:\n",
    "\n",
    "Input: nums = [1,4,3,2]\n",
    "Output: 4\n",
    "Explanation: All possible pairings (ignoring the ordering of elements) are:\n",
    "1. (1, 4), (2, 3) -> min(1, 4) + min(2, 3) = 1 + 2 = 3\n",
    "2. (1, 3), (2, 4) -> min(1, 3) + min(2, 4) = 1 + 2 = 3\n",
    "3. (1, 2), (3, 4) -> min(1, 2) + min(3, 4) = 1 + 3 = 4\n",
    "So the maximum possible sum is 4.\n",
    "'''"
   ]
  },
  {
   "cell_type": "code",
   "execution_count": 7,
   "metadata": {},
   "outputs": [
    {
     "name": "stdout",
     "output_type": "stream",
     "text": [
      "[1, 2, 2, 5, 6, 6]\n",
      "1\n",
      "2\n",
      "6\n"
     ]
    },
    {
     "data": {
      "text/plain": [
       "9"
      ]
     },
     "execution_count": 7,
     "metadata": {},
     "output_type": "execute_result"
    }
   ],
   "source": [
    "def minA(nums):\n",
    "    nums.sort()\n",
    "    ans = 0\n",
    "    print(nums)\n",
    "    for i in range(0,len(nums),2):\n",
    "        print(nums[i])\n",
    "        ans += nums[i]\n",
    "    return ans\n",
    "\n",
    "\n",
    "nums = [6,2,6,5,1,2]\n",
    "minA(nums)"
   ]
  }
 ],
 "metadata": {
  "kernelspec": {
   "display_name": "Python 3",
   "language": "python",
   "name": "python3"
  },
  "language_info": {
   "codemirror_mode": {
    "name": "ipython",
    "version": 3
   },
   "file_extension": ".py",
   "mimetype": "text/x-python",
   "name": "python",
   "nbconvert_exporter": "python",
   "pygments_lexer": "ipython3",
   "version": "3.7.4"
  }
 },
 "nbformat": 4,
 "nbformat_minor": 2
}
