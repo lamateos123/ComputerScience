{
 "cells": [
  {
   "cell_type": "code",
   "execution_count": 1,
   "metadata": {},
   "outputs": [],
   "source": [
    "# 1929. Concatenation of Array\n",
    "#--------------------------------\n",
    "\n",
    "#Given an integer array nums of length n, you want to create an array ans of \n",
    "#length 2n where ans[i] == nums[i] and ans[i + n] == nums[i] for 0 <= i < n (0-indexed).\n",
    "#Specifically, ans is the concatenation of two nums arrays.\n",
    "#Return the array ans.\n",
    "\n",
    "#Example 1:\n",
    "#Input: nums = [1,2,1]\n",
    "#Output: [1,2,1,1,2,1]\n",
    "#Explanation: The array ans is formed as follows:\n",
    "#- ans = [nums[0],nums[1],nums[2],nums[0],nums[1],nums[2]]\n",
    "#- ans = [1,2,1,1,2,1]\n",
    "\n",
    "#Example 2:\n",
    "#Input: nums = [1,3,2,1]\n",
    "#Output: [1,3,2,1,1,3,2,1]\n",
    "#Explanation: The array ans is formed as follows:\n",
    "#- ans = [nums[0],nums[1],nums[2],nums[3],nums[0],nums[1],nums[2],nums[3]]\n",
    "#- ans = [1,3,2,1,1,3,2,1]"
   ]
  },
  {
   "cell_type": "code",
   "execution_count": 3,
   "metadata": {},
   "outputs": [
    {
     "data": {
      "text/plain": [
       "[1, 2, 1, 1, 2, 1]"
      ]
     },
     "execution_count": 3,
     "metadata": {},
     "output_type": "execute_result"
    }
   ],
   "source": [
    "def concat_array(nums):\n",
    "    ans = []\n",
    "    ans = nums + nums\n",
    "    return ans\n",
    "\n",
    "nums = [1,2,1]\n",
    "concat_array(nums)"
   ]
  },
  {
   "cell_type": "code",
   "execution_count": 9,
   "metadata": {},
   "outputs": [
    {
     "data": {
      "text/plain": [
       "[1, 2, 1, 1, 2, 1]"
      ]
     },
     "execution_count": 9,
     "metadata": {},
     "output_type": "execute_result"
    }
   ],
   "source": [
    "def concat_array(nums):\n",
    "    n = len(nums)\n",
    "    ans = [0]*2*n\n",
    "    for i in range(n):\n",
    "        ans[i] = nums[i]\n",
    "        ans[i+n] = nums[i]\n",
    "    return ans\n",
    "\n",
    "nums = [1,2,1]\n",
    "concat_array(nums)"
   ]
  },
  {
   "cell_type": "code",
   "execution_count": null,
   "metadata": {},
   "outputs": [],
   "source": []
  }
 ],
 "metadata": {
  "kernelspec": {
   "display_name": "Python 3",
   "language": "python",
   "name": "python3"
  },
  "language_info": {
   "codemirror_mode": {
    "name": "ipython",
    "version": 3
   },
   "file_extension": ".py",
   "mimetype": "text/x-python",
   "name": "python",
   "nbconvert_exporter": "python",
   "pygments_lexer": "ipython3",
   "version": "3.7.4"
  }
 },
 "nbformat": 4,
 "nbformat_minor": 2
}
