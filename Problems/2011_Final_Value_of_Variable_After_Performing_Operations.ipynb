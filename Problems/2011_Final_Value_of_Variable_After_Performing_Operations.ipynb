{
 "cells": [
  {
   "cell_type": "code",
   "execution_count": 11,
   "metadata": {},
   "outputs": [],
   "source": [
    "# 2011 Final Value of Variable After Performing Operations\n",
    "#--------------------------------------------------------\n",
    "#There is a programming language with only four operations and one \n",
    "#variable X:\n",
    "#\n",
    "#    ++X and X++ increments the value of the variable X by 1.\n",
    "#    --X and X-- decrements the value of the variable X by 1.\n",
    "#\n",
    "#Initially, the value of X is 0.\n",
    "#\n",
    "#Given an array of strings operations containing a list of operations, \n",
    "#return the final value of X after performing all the operations.\n",
    "\n",
    "#Example 1:\n",
    "#Input: operations = [\"--X\",\"X++\",\"X++\"]\n",
    "#Output: 1\n",
    "#Explanation: The operations are performed as follows:\n",
    "#Initially, X = 0.\n",
    "#--X: X is decremented by 1, X =  0 - 1 = -1.\n",
    "#X++: X is incremented by 1, X = -1 + 1 =  0.\n",
    "#X++: X is incremented by 1, X =  0 + 1 =  1."
   ]
  },
  {
   "cell_type": "code",
   "execution_count": 12,
   "metadata": {},
   "outputs": [],
   "source": [
    "def final_value(operations):\n",
    "    result = 0\n",
    "    for operation in operations:\n",
    "        if operation == \"--X\" or operation == \"X--\":\n",
    "            result -= 1\n",
    "        if operation == \"++X\" or operation == \"X++\":\n",
    "            result += 1\n",
    "    return result"
   ]
  },
  {
   "cell_type": "code",
   "execution_count": 13,
   "metadata": {},
   "outputs": [
    {
     "data": {
      "text/plain": [
       "1"
      ]
     },
     "execution_count": 13,
     "metadata": {},
     "output_type": "execute_result"
    }
   ],
   "source": [
    "operations = [\"--X\",\"X++\",\"X++\"]\n",
    "final_value(operations)"
   ]
  },
  {
   "cell_type": "code",
   "execution_count": 14,
   "metadata": {},
   "outputs": [
    {
     "data": {
      "text/plain": [
       "3"
      ]
     },
     "execution_count": 14,
     "metadata": {},
     "output_type": "execute_result"
    }
   ],
   "source": [
    "operations = [\"++X\",\"++X\",\"X++\"]\n",
    "final_value(operations)"
   ]
  },
  {
   "cell_type": "code",
   "execution_count": 15,
   "metadata": {},
   "outputs": [
    {
     "data": {
      "text/plain": [
       "0"
      ]
     },
     "execution_count": 15,
     "metadata": {},
     "output_type": "execute_result"
    }
   ],
   "source": [
    "operations = [\"X++\",\"++X\",\"--X\",\"X--\"]\n",
    "final_value(operations)"
   ]
  },
  {
   "cell_type": "code",
   "execution_count": null,
   "metadata": {},
   "outputs": [],
   "source": []
  }
 ],
 "metadata": {
  "kernelspec": {
   "display_name": "Python 3",
   "language": "python",
   "name": "python3"
  },
  "language_info": {
   "codemirror_mode": {
    "name": "ipython",
    "version": 3
   },
   "file_extension": ".py",
   "mimetype": "text/x-python",
   "name": "python",
   "nbconvert_exporter": "python",
   "pygments_lexer": "ipython3",
   "version": "3.7.4"
  }
 },
 "nbformat": 4,
 "nbformat_minor": 2
}
