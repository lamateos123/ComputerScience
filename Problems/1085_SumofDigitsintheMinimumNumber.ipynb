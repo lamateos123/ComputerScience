{
 "cells": [
  {
   "cell_type": "code",
   "execution_count": 1,
   "metadata": {},
   "outputs": [],
   "source": [
    "# 1085. Sum of Digits in the Minimum Number\n",
    "'''\n",
    "Given an integer array nums, return 0 if the sum of the digits of the \n",
    "minimum integer in nums is odd, or 1 otherwise.\n",
    "\n",
    "Example 1:\n",
    "\n",
    "Input: nums = [34,23,1,24,75,33,54,8]\n",
    "Output: 0\n",
    "Explanation: The minimal element is 1, and the sum of those digits \n",
    "is 1 which is odd, so the answer is 0.\n",
    "\n",
    "Example 2:\n",
    "\n",
    "Input: nums = [99,77,33,66,55]\n",
    "Output: 1\n",
    "Explanation: The minimal element is 33, and the sum of those digits \n",
    "is 3 + 3 = 6 which is even, so the answer is 1.\n",
    "\n",
    "'''"
   ]
  },
  {
   "cell_type": "code",
   "execution_count": 11,
   "metadata": {},
   "outputs": [
    {
     "data": {
      "text/plain": [
       "0"
      ]
     },
     "execution_count": 11,
     "metadata": {},
     "output_type": "execute_result"
    }
   ],
   "source": [
    "def dminN(nums):\n",
    "    ans = 0\n",
    "    mini = 101\n",
    "    #find minumum element\n",
    "    for n in nums:\n",
    "        if n<mini:\n",
    "            mini=n\n",
    "    #add digits\n",
    "    minis = str(mini)\n",
    "    for s in minis:\n",
    "        ans += int(s)\n",
    "    if ans%2 ==0:\n",
    "        return 1\n",
    "    return 0\n",
    "\n",
    "nums = [34,23,1,24,75,33,54,8]\n",
    "nums = [99,77,33,66,55]\n",
    "dminN(nums)"
   ]
  },
  {
   "cell_type": "code",
   "execution_count": 32,
   "metadata": {},
   "outputs": [
    {
     "name": "stdout",
     "output_type": "stream",
     "text": [
      "1 0\n",
      "0 0\n"
     ]
    },
    {
     "data": {
      "text/plain": [
       "1"
      ]
     },
     "execution_count": 32,
     "metadata": {},
     "output_type": "execute_result"
    }
   ],
   "source": [
    "def dminN(nums):\n",
    "    ans = 0\n",
    "    d = 0\n",
    "    mini = 101\n",
    "    #find minumum element\n",
    "    for n in nums:\n",
    "        if n<mini:\n",
    "            mini=n\n",
    "    #add digits\n",
    "\n",
    "    while mini!=0:\n",
    "        print(mini,d)\n",
    "        d=mini//10\n",
    "        mini=mini//10 - d//10\n",
    "        print(mini,d)\n",
    "        ans+=d\n",
    "    \n",
    "    if ans%2 ==0:\n",
    "        return 1\n",
    "    return 0\n",
    "\n",
    "nums = [34,23,1,24,75,33,54,8]\n",
    "#nums = [99,77,33,66,55]\n",
    "dminN(nums)"
   ]
  },
  {
   "cell_type": "code",
   "execution_count": 31,
   "metadata": {},
   "outputs": [
    {
     "name": "stdout",
     "output_type": "stream",
     "text": [
      "5 34\n",
      "4 3\n",
      "3 0\n",
      "0 0\n"
     ]
    }
   ],
   "source": [
    "x = 345\n",
    "d = x%10\n",
    "x = x//10 - d//10\n",
    "print(d,x)\n",
    "\n",
    "d = x%10\n",
    "x = x//10 - d//10\n",
    "print(d,x)\n",
    "\n",
    "d = x%10\n",
    "x = x//10 - d//10\n",
    "print(d,x)\n",
    "\n",
    "d = x%10\n",
    "x = x//10 - d//10\n",
    "print(d,x)\n"
   ]
  },
  {
   "cell_type": "code",
   "execution_count": null,
   "metadata": {},
   "outputs": [],
   "source": []
  }
 ],
 "metadata": {
  "kernelspec": {
   "display_name": "Python 3",
   "language": "python",
   "name": "python3"
  },
  "language_info": {
   "codemirror_mode": {
    "name": "ipython",
    "version": 3
   },
   "file_extension": ".py",
   "mimetype": "text/x-python",
   "name": "python",
   "nbconvert_exporter": "python",
   "pygments_lexer": "ipython3",
   "version": "3.7.4"
  }
 },
 "nbformat": 4,
 "nbformat_minor": 2
}
