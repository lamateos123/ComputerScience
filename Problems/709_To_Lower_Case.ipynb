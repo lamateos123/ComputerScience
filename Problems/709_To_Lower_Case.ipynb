{
 "cells": [
  {
   "cell_type": "code",
   "execution_count": null,
   "metadata": {},
   "outputs": [],
   "source": [
    "# 709. To Lower Case\n",
    "'''\n",
    "Given a string s, return the string after replacing every \n",
    "uppercase letter with the same lowercase letter.\n",
    "\n",
    "Example 1:\n",
    "\n",
    "Input: s = \"Hello\"\n",
    "Output: \"hello\"\n",
    "\n",
    "Example 2:\n",
    "\n",
    "Input: s = \"here\"\n",
    "Output: \"here\"\n",
    "\n",
    "Example 3:\n",
    "\n",
    "Input: s = \"LOVELY\"\n",
    "Output: \"lovely\"\n",
    "\n",
    "\n",
    "ord('A') = 65, ord('Z') = 90\n",
    "ord('a') = 97, ord('z') = 122\n",
    "'''"
   ]
  },
  {
   "cell_type": "code",
   "execution_count": 6,
   "metadata": {},
   "outputs": [
    {
     "name": "stdout",
     "output_type": "stream",
     "text": [
      "{'U': 'u', 'M': 'm', 'I': 'i', 'P': 'p', 'X': 'x', 'J': 'j', 'Z': 'z', 'H': 'h', 'Y': 'y', 'D': 'd', 'T': 't', 'B': 'b', 'K': 'k', 'Q': 'q', 'F': 'f', 'E': 'e', 'N': 'n', 'S': 's', 'C': 'c', 'R': 'r', 'L': 'l', 'G': 'g', 'W': 'w', 'V': 'v', 'O': 'o', 'A': 'a'}\n"
     ]
    },
    {
     "data": {
      "text/plain": [
       "'hello'"
      ]
     },
     "execution_count": 6,
     "metadata": {},
     "output_type": "execute_result"
    }
   ],
   "source": [
    "def toLower(s):\n",
    "    ans = ''\n",
    "    for char in s:\n",
    "        if ord(char) > 64 and ord(char) < 91:\n",
    "            ans += chr(ord(char) + 32)\n",
    "        else:\n",
    "            ans += char\n",
    "    return ans\n",
    "\n",
    "def toLowerd(s):\n",
    "    ans = \"\"\n",
    "    d_upper_lower = {}\n",
    "    for i in range(97,123,1):\n",
    "        j = i-32\n",
    "        char = chr(i)\n",
    "        d_upper_lower[chr(j)] = chr(i)\n",
    "    \n",
    "    print(d_upper_lower)\n",
    "    for char in s:\n",
    "        if char in d_upper_lower:\n",
    "            ans += d_upper_lower[char]\n",
    "        else:\n",
    "            ans += char\n",
    "    return ans\n",
    "    \n",
    "\n",
    "\n",
    "s = \"Hello\"\n",
    "toLower(s)\n",
    "toLowerd(s)\n"
   ]
  },
  {
   "cell_type": "code",
   "execution_count": null,
   "metadata": {},
   "outputs": [],
   "source": []
  }
 ],
 "metadata": {
  "kernelspec": {
   "display_name": "Python 3",
   "language": "python",
   "name": "python3"
  },
  "language_info": {
   "codemirror_mode": {
    "name": "ipython",
    "version": 3
   },
   "file_extension": ".py",
   "mimetype": "text/x-python",
   "name": "python",
   "nbconvert_exporter": "python",
   "pygments_lexer": "ipython3",
   "version": "3.5.2"
  }
 },
 "nbformat": 4,
 "nbformat_minor": 2
}
