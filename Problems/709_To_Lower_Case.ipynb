{
 "cells": [
  {
   "cell_type": "code",
   "execution_count": null,
   "metadata": {},
   "outputs": [],
   "source": [
    "# 709. To Lower Case\n",
    "'''\n",
    "Given a string s, return the string after replacing every \n",
    "uppercase letter with the same lowercase letter.\n",
    "\n",
    "Example 1:\n",
    "\n",
    "Input: s = \"Hello\"\n",
    "Output: \"hello\"\n",
    "\n",
    "Example 2:\n",
    "\n",
    "Input: s = \"here\"\n",
    "Output: \"here\"\n",
    "\n",
    "Example 3:\n",
    "\n",
    "Input: s = \"LOVELY\"\n",
    "Output: \"lovely\"\n",
    "\n",
    "\n",
    "ord('A') = 65, ord('Z') = 90\n",
    "ord('a') = 97, ord('z') = 122\n",
    "'''"
   ]
  },
  {
   "cell_type": "code",
   "execution_count": 1,
   "metadata": {},
   "outputs": [
    {
     "data": {
      "text/plain": [
       "'hello'"
      ]
     },
     "execution_count": 1,
     "metadata": {},
     "output_type": "execute_result"
    }
   ],
   "source": [
    "def toLower(s):\n",
    "    ans = ''\n",
    "    for char in s:\n",
    "        if ord(char) > 64 and ord(char) < 91:\n",
    "            ans += chr(ord(char) + 32)\n",
    "        else:\n",
    "            ans += char\n",
    "    return ans\n",
    "\n",
    "s = \"Hello\"\n",
    "toLower(s)"
   ]
  },
  {
   "cell_type": "code",
   "execution_count": null,
   "metadata": {},
   "outputs": [],
   "source": []
  }
 ],
 "metadata": {
  "kernelspec": {
   "display_name": "Python 3",
   "language": "python",
   "name": "python3"
  },
  "language_info": {
   "codemirror_mode": {
    "name": "ipython",
    "version": 3
   },
   "file_extension": ".py",
   "mimetype": "text/x-python",
   "name": "python",
   "nbconvert_exporter": "python",
   "pygments_lexer": "ipython3",
   "version": "3.5.2"
  }
 },
 "nbformat": 4,
 "nbformat_minor": 2
}
