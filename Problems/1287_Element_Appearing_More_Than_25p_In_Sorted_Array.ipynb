{
 "cells": [
  {
   "cell_type": "code",
   "execution_count": 1,
   "metadata": {},
   "outputs": [],
   "source": [
    "# 1287. Element Appearing More Than 25% In Sorted Array\n",
    "#-------------------------------------------------------\n",
    "'''\n",
    "Given an integer array sorted in non-decreasing order, there is exactly one \n",
    "integer in the array that occurs more than 25% of the time, return that integer.\n",
    "\n",
    "\n",
    "Example 1:\n",
    "\n",
    "Input: arr = [1,2,2,6,6,6,6,7,10]\n",
    "Output: 6\n",
    "\n",
    "Example 2:\n",
    "\n",
    "Input: arr = [1,1]\n",
    "Output: 1\n",
    "\n",
    "'''"
   ]
  },
  {
   "cell_type": "code",
   "execution_count": 5,
   "metadata": {},
   "outputs": [
    {
     "data": {
      "text/plain": [
       "6"
      ]
     },
     "execution_count": 5,
     "metadata": {},
     "output_type": "execute_result"
    }
   ],
   "source": [
    "def twentyFive(arr):\n",
    "    d = {}\n",
    "    for a in arr:\n",
    "        d.setdefault(a,0)\n",
    "        d[a]+=1\n",
    "        if d[a] > len(arr)/4:\n",
    "            return a\n",
    "\n",
    "arr = [1,2,2,6,6,6,6,7,10]\n",
    "twentyFive(arr)"
   ]
  },
  {
   "cell_type": "code",
   "execution_count": null,
   "metadata": {},
   "outputs": [],
   "source": []
  }
 ],
 "metadata": {
  "kernelspec": {
   "display_name": "Python 3",
   "language": "python",
   "name": "python3"
  },
  "language_info": {
   "codemirror_mode": {
    "name": "ipython",
    "version": 3
   },
   "file_extension": ".py",
   "mimetype": "text/x-python",
   "name": "python",
   "nbconvert_exporter": "python",
   "pygments_lexer": "ipython3",
   "version": "3.8.10"
  }
 },
 "nbformat": 4,
 "nbformat_minor": 2
}
