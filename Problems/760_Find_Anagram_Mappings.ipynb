{
 "cells": [
  {
   "cell_type": "code",
   "execution_count": null,
   "metadata": {},
   "outputs": [],
   "source": [
    "# 760. Find Anagram Mappings\n",
    "#---------------------------\n",
    "'''\n",
    "You are given two integer arrays nums1 and nums2 where nums2 is an anagram of nums1. \n",
    "Both arrays may contain duplicates.\n",
    "\n",
    "Return an index mapping array mapping from nums1 to nums2 where mapping[i] = j means \n",
    "the ith element in nums1 appears in nums2 at index j. If there are multiple answers, \n",
    "return any of them.\n",
    "\n",
    "An array a is an anagram of an array b means b is made by randomizing the order of \n",
    "the elements in a.\n",
    "\n",
    "Example 1:\n",
    "\n",
    "Input: nums1 = [12,28,46,32,50], nums2 = [50,12,32,46,28]\n",
    "Output: [1,4,3,2,0]\n",
    "Explanation: As mapping[0] = 1 because the 0th element of nums1 appears at nums2[1], \n",
    "and mapping[1] = 4 because the 1st element of nums1 appears at nums2[4], and so on.\n",
    "\n",
    "Example 2:\n",
    "\n",
    "Input: nums1 = [84,46], nums2 = [84,46]\n",
    "Output: [0,1]\n",
    "\n",
    "'''"
   ]
  },
  {
   "cell_type": "code",
   "execution_count": 6,
   "metadata": {},
   "outputs": [
    {
     "data": {
      "text/plain": [
       "[1, 4, 3, 2, 0]"
      ]
     },
     "execution_count": 6,
     "metadata": {},
     "output_type": "execute_result"
    }
   ],
   "source": [
    "def Anamap(nums1, nums2):\n",
    "    ans = []\n",
    "    for n in nums1:\n",
    "        ans.append(nums2.index(n))\n",
    "    return ans\n",
    "\n",
    "def Anamap_improved(nums1, nums2):\n",
    "    ind = {}\n",
    "    for pos, val in enumerate(nums2):\n",
    "        ind.setdefault(val, pos)\n",
    "        \n",
    "    for pos, val in enumerate(nums1):\n",
    "        nums1[pos] = ind[val]\n",
    "        \n",
    "    return nums1\n",
    "\n",
    "nums1 = [12,28,46,32,50]\n",
    "nums2 = [50,12,32,46,28]\n",
    "Anamap(nums1, nums2)"
   ]
  },
  {
   "cell_type": "code",
   "execution_count": 7,
   "metadata": {},
   "outputs": [
    {
     "data": {
      "text/plain": [
       "[1, 4, 3, 2, 0]"
      ]
     },
     "execution_count": 7,
     "metadata": {},
     "output_type": "execute_result"
    }
   ],
   "source": [
    "nums1 = [12,28,46,32,50]\n",
    "nums2 = [50,12,32,46,28]\n",
    "Anamap(nums1, nums2)\n",
    "\n",
    "Anamap_improved(nums1,nums2)"
   ]
  },
  {
   "cell_type": "code",
   "execution_count": null,
   "metadata": {},
   "outputs": [],
   "source": []
  },
  {
   "cell_type": "code",
   "execution_count": null,
   "metadata": {},
   "outputs": [],
   "source": []
  },
  {
   "cell_type": "code",
   "execution_count": null,
   "metadata": {},
   "outputs": [],
   "source": []
  },
  {
   "cell_type": "code",
   "execution_count": null,
   "metadata": {},
   "outputs": [],
   "source": []
  },
  {
   "cell_type": "code",
   "execution_count": null,
   "metadata": {},
   "outputs": [],
   "source": []
  },
  {
   "cell_type": "code",
   "execution_count": null,
   "metadata": {},
   "outputs": [],
   "source": []
  }
 ],
 "metadata": {
  "kernelspec": {
   "display_name": "Python 3",
   "language": "python",
   "name": "python3"
  },
  "language_info": {
   "codemirror_mode": {
    "name": "ipython",
    "version": 3
   },
   "file_extension": ".py",
   "mimetype": "text/x-python",
   "name": "python",
   "nbconvert_exporter": "python",
   "pygments_lexer": "ipython3",
   "version": "3.7.4"
  }
 },
 "nbformat": 4,
 "nbformat_minor": 2
}
