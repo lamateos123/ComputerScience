{
 "cells": [
  {
   "cell_type": "code",
   "execution_count": null,
   "metadata": {},
   "outputs": [],
   "source": [
    "# 1773. Count Items Matching a Rule\n",
    "#-------------------------------------\n",
    "'''\n",
    "You are given an array items, where each \n",
    "items[i] = [typei, colori, namei] describes the type, color, \n",
    "and name of the ith item. You are also given a rule represented \n",
    "by two strings, ruleKey and ruleValue.\n",
    "\n",
    "The ith item is said to match the rule if one of the following is true:\n",
    "\n",
    "    ruleKey == \"type\" and ruleValue == typei.\n",
    "    ruleKey == \"color\" and ruleValue == colori.\n",
    "    ruleKey == \"name\" and ruleValue == namei.\n",
    "\n",
    "Return the number of items that match the given rule.\n",
    "'''"
   ]
  },
  {
   "cell_type": "code",
   "execution_count": 1,
   "metadata": {},
   "outputs": [
    {
     "data": {
      "text/plain": [
       "1"
      ]
     },
     "execution_count": 1,
     "metadata": {},
     "output_type": "execute_result"
    }
   ],
   "source": [
    "items = [[\"phone\",\"blue\",\"pixel\"],[\"computer\",\"silver\",\"lenovo\"],[\"phone\",\"gold\",\"iphone\"]]\n",
    "ruleKey = \"color\"\n",
    "ruleValue = \"silver\"\n",
    "\n",
    "def countItems(items, ruleKey, ruleValue):\n",
    "    counter = 0\n",
    "\n",
    "    if ruleKey == \"color\":\n",
    "        ruleIndex = 1 # poition in the array\n",
    "    elif ruleKey == \"type\":\n",
    "        ruleIndex = 0\n",
    "    else:\n",
    "        ruleIndex =2\n",
    "\n",
    "    for item in items:\n",
    "        if item[ruleIndex] == ruleValue:\n",
    "            counter += 1\n",
    "    return counter\n",
    "\n",
    "items = [[\"phone\",\"blue\",\"pixel\"],[\"computer\",\"silver\",\"lenovo\"],[\"phone\",\"gold\",\"iphone\"]]\n",
    "ruleKey = \"color\"\n",
    "ruleValue = \"silver\"\n",
    "countItems(items, ruleKey, ruleValue)"
   ]
  },
  {
   "cell_type": "code",
   "execution_count": 2,
   "metadata": {},
   "outputs": [
    {
     "data": {
      "text/plain": [
       "2"
      ]
     },
     "execution_count": 2,
     "metadata": {},
     "output_type": "execute_result"
    }
   ],
   "source": [
    "items = [[\"phone\",\"blue\",\"pixel\"],[\"computer\",\"silver\",\"phone\"],[\"phone\",\"gold\",\"iphone\"]]\n",
    "ruleKey = \"type\"\n",
    "ruleValue = \"phone\"\n",
    "countItems(items, ruleKey, ruleValue)"
   ]
  },
  {
   "cell_type": "code",
   "execution_count": null,
   "metadata": {},
   "outputs": [],
   "source": []
  }
 ],
 "metadata": {
  "kernelspec": {
   "display_name": "Python 3",
   "language": "python",
   "name": "python3"
  },
  "language_info": {
   "codemirror_mode": {
    "name": "ipython",
    "version": 3
   },
   "file_extension": ".py",
   "mimetype": "text/x-python",
   "name": "python",
   "nbconvert_exporter": "python",
   "pygments_lexer": "ipython3",
   "version": "3.7.4"
  }
 },
 "nbformat": 4,
 "nbformat_minor": 2
}
