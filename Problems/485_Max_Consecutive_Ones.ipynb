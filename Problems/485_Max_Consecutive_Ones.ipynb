{
 "cells": [
  {
   "cell_type": "code",
   "execution_count": 1,
   "metadata": {},
   "outputs": [],
   "source": [
    "# 485. Max Consecutive Ones\n",
    "'''\n",
    "Given a binary array nums, return the maximum number of consecutive 1's in the array.\n",
    "\n",
    " \n",
    "\n",
    "Example 1:\n",
    "\n",
    "Input: nums = [1,1,0,1,1,1]\n",
    "Output: 3\n",
    "Explanation: The first two digits or the last three digits are consecutive 1s. \n",
    "The maximum number of consecutive 1s is 3.\n",
    "\n",
    "Example 2:\n",
    "\n",
    "Input: nums = [1,0,1,1,0,1]\n",
    "Output: 2\n",
    "'''"
   ]
  },
  {
   "cell_type": "code",
   "execution_count": 6,
   "metadata": {},
   "outputs": [
    {
     "name": "stdout",
     "output_type": "stream",
     "text": [
      "1\n",
      "1\n",
      "0\n",
      "1\n",
      "1\n",
      "1\n"
     ]
    },
    {
     "data": {
      "text/plain": [
       "3"
      ]
     },
     "execution_count": 6,
     "metadata": {},
     "output_type": "execute_result"
    }
   ],
   "source": [
    "def maxConOnes(nums):\n",
    "    maxi = 0\n",
    "    c = 0\n",
    "    for i in nums:\n",
    "        if i == 1:\n",
    "            c+=1\n",
    "        else:\n",
    "            maxi = max(c,maxi)\n",
    "            c = 0\n",
    "    maxi = max(c,maxi)\n",
    "    return maxi\n",
    "\n",
    "nums = [1,1,0,1,1,1]\n",
    "maxConOnes(nums)"
   ]
  },
  {
   "cell_type": "code",
   "execution_count": null,
   "metadata": {},
   "outputs": [],
   "source": []
  }
 ],
 "metadata": {
  "kernelspec": {
   "display_name": "Python 3",
   "language": "python",
   "name": "python3"
  },
  "language_info": {
   "codemirror_mode": {
    "name": "ipython",
    "version": 3
   },
   "file_extension": ".py",
   "mimetype": "text/x-python",
   "name": "python",
   "nbconvert_exporter": "python",
   "pygments_lexer": "ipython3",
   "version": "3.8.10"
  }
 },
 "nbformat": 4,
 "nbformat_minor": 4
}
