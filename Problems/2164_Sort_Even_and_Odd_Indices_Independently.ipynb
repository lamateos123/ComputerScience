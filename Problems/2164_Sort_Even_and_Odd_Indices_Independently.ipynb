{
 "cells": [
  {
   "cell_type": "code",
   "execution_count": null,
   "metadata": {},
   "outputs": [],
   "source": [
    "# 2164. Sort Even and Odd Indices Independently\n",
    "'''\n",
    "You are given a 0-indexed integer array nums. Rearrange the values of nums \n",
    "according to the following rules:\n",
    "\n",
    "    Sort the values at odd indices of nums in non-increasing order.\n",
    "        For example, if nums = [4,1,2,3] before this step, it becomes [4,3,2,1] after. \n",
    "        The values at odd indices 1 and 3 are sorted in non-increasing order.\n",
    "    Sort the values at even indices of nums in non-decreasing order.\n",
    "        For example, if nums = [4,1,2,3] before this step, it becomes [2,1,4,3] after. \n",
    "        The values at even indices 0 and 2 are sorted in non-decreasing order.\n",
    "\n",
    "Return the array formed after rearranging the values of nums.\n",
    "\n",
    " \n",
    "\n",
    "Example 1:\n",
    "\n",
    "Input: nums = [4,1,2,3]\n",
    "Output: [2,3,4,1]\n",
    "Explanation: \n",
    "First, we sort the values present at odd indices (1 and 3) in non-increasing order.\n",
    "So, nums changes from [4,1,2,3] to [4,3,2,1].\n",
    "Next, we sort the values present at even indices (0 and 2) in non-decreasing order.\n",
    "So, nums changes from [4,1,2,3] to [2,3,4,1].\n",
    "Thus, the array formed after rearranging the values is [2,3,4,1].\n",
    "\n",
    "'''"
   ]
  },
  {
   "cell_type": "code",
   "execution_count": 15,
   "metadata": {},
   "outputs": [
    {
     "name": "stdout",
     "output_type": "stream",
     "text": [
      "10 [5, 9, 12, 14, 20, 21, 30, 32, 33, 44]\n",
      "9 [45, 39, 33, 30, 27, 25, 15, 14, 5]\n",
      "[5, 45, 9, 39, 12, 33, 14, 30, 20, 27, 21, 25, 30, 15, 32, 14, 33, 5, 44]\n"
     ]
    }
   ],
   "source": [
    "def sortEO(nums):\n",
    "    ans_even = []\n",
    "    ans_odd = []\n",
    "    ans = []\n",
    "    start = 'even'\n",
    "    for i in range(len(nums)):\n",
    "        #print(i)\n",
    "        if i%2 == 0:\n",
    "            ans_even.append(nums[i])\n",
    "        else:\n",
    "            ans_odd.append(nums[i])\n",
    "            \n",
    "    ans_odd.sort(reverse=True)\n",
    "    ans_even.sort()\n",
    "    \n",
    "    print(len(ans_even), ans_even)\n",
    "    print(len(ans_odd), ans_odd)\n",
    "    \n",
    "    if len(ans_even) > len(ans_odd):\n",
    "        ans.append(ans_even.pop(0))\n",
    "        start = 'odd'\n",
    "    elif len(ans_even) < len(ans_odd):\n",
    "        ans.append(ans_odd.pop(0))\n",
    "        \n",
    "    for i in range(len(ans_even)):\n",
    "        if start == 'even':\n",
    "            ans.append(ans_even[i])\n",
    "            ans.append(ans_odd[i])   \n",
    "        else:\n",
    "            ans.append(ans_odd[i])   \n",
    "            ans.append(ans_even[i])\n",
    "        \n",
    "    return ans\n",
    "\n",
    "#nums = [4,1,2,3]\n",
    "#print(sortEO(nums))\n",
    "#nums = [36,45,32,31,15,41,9,46,36,6,15,16,33,26,27,31,44,34]\n",
    "nums = [5,39,33,5,12,27,20,45,14,25,32,33,30,30,9,14,44,15,21]\n",
    "print(sortEO(nums))"
   ]
  },
  {
   "cell_type": "code",
   "execution_count": null,
   "metadata": {},
   "outputs": [],
   "source": []
  },
  {
   "cell_type": "code",
   "execution_count": null,
   "metadata": {},
   "outputs": [],
   "source": []
  }
 ],
 "metadata": {
  "kernelspec": {
   "display_name": "Python 3",
   "language": "python",
   "name": "python3"
  },
  "language_info": {
   "codemirror_mode": {
    "name": "ipython",
    "version": 3
   },
   "file_extension": ".py",
   "mimetype": "text/x-python",
   "name": "python",
   "nbconvert_exporter": "python",
   "pygments_lexer": "ipython3",
   "version": "3.8.10"
  }
 },
 "nbformat": 4,
 "nbformat_minor": 4
}
