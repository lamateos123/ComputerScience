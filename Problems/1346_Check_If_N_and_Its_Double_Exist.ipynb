{
 "cells": [
  {
   "cell_type": "code",
   "execution_count": null,
   "metadata": {},
   "outputs": [],
   "source": [
    "# 1346. Check If N and Its Double Exist\n",
    "#---------------------------------------\n",
    "'''\n",
    "Given an array arr of integers, check if there exists two integers N and M such \n",
    "that N is the double of M ( i.e. N = 2 * M).\n",
    "\n",
    "More formally check if there exists two indices i and j such that :\n",
    "\n",
    "    i != j\n",
    "    0 <= i, j < arr.length\n",
    "    arr[i] == 2 * arr[j]\n",
    "\n",
    " \n",
    "Example 1:\n",
    "\n",
    "Input: arr = [10,2,5,3]\n",
    "Output: true\n",
    "Explanation: N = 10 is the double of M = 5,that is, 10 = 2 * 5.\n",
    "\n",
    "Example 2:\n",
    "\n",
    "Input: arr = [7,1,14,11]\n",
    "Output: true\n",
    "Explanation: N = 14 is the double of M = 7,that is, 14 = 2 * 7.\n",
    "\n",
    "Example 3:\n",
    "\n",
    "Input: arr = [3,1,7,11]\n",
    "Output: false\n",
    "Explanation: In this case does not exist N and M, such that N = 2 * M.\n",
    "\n",
    "'''"
   ]
  },
  {
   "cell_type": "code",
   "execution_count": 5,
   "metadata": {},
   "outputs": [
    {
     "name": "stdout",
     "output_type": "stream",
     "text": [
      "[2, 3, 5, 10]\n",
      "True\n"
     ]
    },
    {
     "data": {
      "text/plain": [
       "True"
      ]
     },
     "execution_count": 5,
     "metadata": {},
     "output_type": "execute_result"
    }
   ],
   "source": [
    "def checkDouble(arr):\n",
    "    arr.sort()\n",
    "    print(arr)\n",
    "    for i in range(len(arr)):\n",
    "        for j in range(len(arr)):\n",
    "            if arr[i]==arr[j]*2 and i!=j:\n",
    "                return True\n",
    "    return False\n",
    "\n",
    "def checkDouble_Set(arr):\n",
    "    if arr.count(0) > 1: # the tricky part here is the zeroes\n",
    "        return True\n",
    "    s = set(arr)\n",
    "    for i in arr:\n",
    "        if 2*i in s and i!=0:\n",
    "            return True\n",
    "    return False\n",
    "\n",
    "\n",
    "\n",
    "arr = [10,2,5,3]\n",
    "print(checkDouble(arr))\n",
    "\n",
    "arr = [-2,0,10,-19,4,6,-8]\n",
    "arr = [0,0]\n",
    "checkDouble_Set(arr)\n"
   ]
  },
  {
   "cell_type": "code",
   "execution_count": 25,
   "metadata": {},
   "outputs": [
    {
     "name": "stdout",
     "output_type": "stream",
     "text": [
      "[2, 3, 5, 10]\n",
      "2\n",
      "3\n",
      "5\n",
      "True\n"
     ]
    }
   ],
   "source": [
    "def checkDouble_BS(arr):\n",
    "    arr.sort()\n",
    "    print(arr)\n",
    "    \n",
    "    \n",
    "    for i in arr:\n",
    "        l = 0\n",
    "        r =len(arr)-1   \n",
    "        d = 2*i\n",
    "        print(i)\n",
    "        \n",
    "        while l <= r:\n",
    "            mid = (l+r)//2\n",
    "            #print(i, d, arr[mid], l, r)\n",
    "            if arr[mid] == d:\n",
    "                return True\n",
    "            else:\n",
    "                if arr[mid] < d:\n",
    "                    l = mid + 1\n",
    "                else:\n",
    "                    r = mid - 1\n",
    "    return False\n",
    "\n",
    "\n",
    "\n",
    "arr = [10,2,5,3]\n",
    "print(checkDouble_BS(arr))\n",
    "\n"
   ]
  }
 ],
 "metadata": {
  "kernelspec": {
   "display_name": "Python 3",
   "language": "python",
   "name": "python3"
  },
  "language_info": {
   "codemirror_mode": {
    "name": "ipython",
    "version": 3
   },
   "file_extension": ".py",
   "mimetype": "text/x-python",
   "name": "python",
   "nbconvert_exporter": "python",
   "pygments_lexer": "ipython3",
   "version": "3.8.10"
  }
 },
 "nbformat": 4,
 "nbformat_minor": 2
}
