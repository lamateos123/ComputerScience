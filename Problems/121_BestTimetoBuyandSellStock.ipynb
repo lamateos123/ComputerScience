{
 "cells": [
  {
   "cell_type": "code",
   "execution_count": null,
   "metadata": {},
   "outputs": [],
   "source": [
    "# 121. Best Time to Buy and Sell Stock\n",
    "'''\n",
    "You are given an array prices where prices[i] is the price of a given stock on the ith day.\n",
    "\n",
    "You want to maximize your profit by choosing a single day to buy one stock and choosing a different day in the future to sell that stock.\n",
    "\n",
    "Return the maximum profit you can achieve from this transaction. If you cannot achieve any profit, return 0.\n",
    "\n",
    " \n",
    "\n",
    "Example 1:\n",
    "\n",
    "Input: prices = [7,1,5,3,6,4]\n",
    "Output: 5\n",
    "Explanation: Buy on day 2 (price = 1) and sell on day 5 (price = 6), profit = 6-1 = 5.\n",
    "Note that buying on day 2 and selling on day 1 is not allowed because you must buy before you sell.\n",
    "\n",
    "Example 2:\n",
    "\n",
    "Input: prices = [7,6,4,3,1]\n",
    "Output: 0\n",
    "Explanation: In this case, no transactions are done and the max profit = 0.\n",
    "\n",
    "'''"
   ]
  },
  {
   "cell_type": "code",
   "execution_count": 71,
   "metadata": {},
   "outputs": [
    {
     "data": {
      "text/plain": [
       "3"
      ]
     },
     "execution_count": 71,
     "metadata": {},
     "output_type": "execute_result"
    }
   ],
   "source": [
    "def timeSellorBuy(prices):\n",
    "        minp = 99999\n",
    "        maxp = 0\n",
    "        for i in range(len(prices)):\n",
    "            if prices[i] < minp:\n",
    "                minp = prices[i]\n",
    "            elif prices[i] - minp > maxp:\n",
    "                maxp = prices[i]-minp\n",
    "        \n",
    "        return maxp\n",
    "\n",
    "prices = [7,1,5,3,6,4]\n",
    "prices = [7,6,4,3,1]\n",
    "prices = [2,4,1]\n",
    "prices = [1,2,4]\n",
    "timeSellorBuy(prices)"
   ]
  },
  {
   "cell_type": "code",
   "execution_count": 70,
   "metadata": {},
   "outputs": [
    {
     "name": "stdout",
     "output_type": "stream",
     "text": [
      "1\n",
      "2 3\n",
      "3 3\n",
      "2\n",
      "3 3\n"
     ]
    },
    {
     "data": {
      "text/plain": [
       "3"
      ]
     },
     "execution_count": 70,
     "metadata": {},
     "output_type": "execute_result"
    }
   ],
   "source": [
    "def timeSellorBuy(prices):\n",
    "        c = 0\n",
    "        p = 0\n",
    "        #print(len(prices))\n",
    "        for i in range(len(prices)-1): \n",
    "            if prices[i+1]-prices[i] > 0:\n",
    "                if prices[i+1]-prices[i] > p:\n",
    "                    p = prices[i+1]-prices[i] \n",
    "                #print(prices[i+1],prices[i],p)\n",
    "                j=i+1\n",
    "                print(j)\n",
    "                while prices[j] > prices[i]:# and j<len(prices)-1:\n",
    "                    if prices[j]-prices[i] > p:\n",
    "                        p = prices[j]-prices[i]\n",
    "                    #print(prices[j],prices[i],p,i,j)\n",
    "                    j+=1\n",
    "                    print(j,len(prices))\n",
    "                    if j>= len(prices):\n",
    "                        break\n",
    "\n",
    "        return p\n",
    "\n",
    "prices = [7,1,5,3,6,4]\n",
    "prices = [7,6,4,3,1]\n",
    "prices = [2,4,1]\n",
    "prices = [1,2,4]\n",
    "timeSellorBuy(prices)"
   ]
  },
  {
   "cell_type": "code",
   "execution_count": 69,
   "metadata": {},
   "outputs": [
    {
     "data": {
      "text/plain": [
       "3"
      ]
     },
     "execution_count": 69,
     "metadata": {},
     "output_type": "execute_result"
    }
   ],
   "source": [
    "def timeSellorBuy(prices):\n",
    "        p = 0\n",
    "        for i in range(len(prices)-1): \n",
    "            if prices[i+1]-prices[i] > 0:\n",
    "                if prices[i+1]-prices[i] > p:\n",
    "                    p = prices[i+1]-prices[i] \n",
    "                for j in range(i+1,len(prices)):\n",
    "                    if prices[j]-prices[i] > p:\n",
    "                        p = prices[j]-prices[i]\n",
    "        return p\n",
    "\n",
    "prices = [7,1,5,3,6,4]\n",
    "prices = [7,6,4,3,1]\n",
    "prices = [2,4,1]\n",
    "prices = [1,2,4]\n",
    "timeSellorBuy(prices)"
   ]
  }
 ],
 "metadata": {
  "kernelspec": {
   "display_name": "Python 3",
   "language": "python",
   "name": "python3"
  },
  "language_info": {
   "codemirror_mode": {
    "name": "ipython",
    "version": 3
   },
   "file_extension": ".py",
   "mimetype": "text/x-python",
   "name": "python",
   "nbconvert_exporter": "python",
   "pygments_lexer": "ipython3",
   "version": "3.7.4"
  }
 },
 "nbformat": 4,
 "nbformat_minor": 2
}
