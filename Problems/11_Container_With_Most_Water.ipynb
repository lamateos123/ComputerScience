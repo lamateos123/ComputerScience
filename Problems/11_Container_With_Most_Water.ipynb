{
 "cells": [
  {
   "cell_type": "code",
   "execution_count": null,
   "metadata": {},
   "outputs": [],
   "source": [
    "# 11. Container With Most Water\n",
    "#----------------------------------"
   ]
  },
  {
   "cell_type": "code",
   "execution_count": null,
   "metadata": {},
   "outputs": [],
   "source": [
    "'''\n",
    "You are given an integer array height of length n. \n",
    "There are n vertical lines drawn such that the two endpoints \n",
    "of the ith line are (i, 0) and (i, height[i]).\n",
    "\n",
    "Find two lines that together with the x-axis form a container, \n",
    "such that the container contains the most water.\n",
    "\n",
    "Return the maximum amount of water a container can store.\n",
    "\n",
    "Notice that you may not slant the container.\n",
    "\n",
    "Example 1:\n",
    "\n",
    "Input: height = [1,8,6,2,5,4,8,3,7]\n",
    "Output: 49\n",
    "Explanation: The above vertical lines are represented by array [1,8,6,2,5,4,8,3,7]. In this case, the max area of water (blue section) the container can contain is 49.\n",
    "\n",
    "Example 2:\n",
    "\n",
    "Input: height = [1,1]\n",
    "Output: 1\n",
    "\n",
    "'''"
   ]
  },
  {
   "cell_type": "code",
   "execution_count": 22,
   "metadata": {},
   "outputs": [
    {
     "data": {
      "text/plain": [
       "49"
      ]
     },
     "execution_count": 22,
     "metadata": {},
     "output_type": "execute_result"
    }
   ],
   "source": [
    "def containerWater(height):\n",
    "    max_area = 0\n",
    "    for i in range(len(height)):\n",
    "        for j in range(i+1,len(height)):\n",
    "            if i != j and j>i:\n",
    "                base = j-i\n",
    "                altura = min(height[i],height[j])\n",
    "                area = base*altura\n",
    "                print(base, altura, area)\n",
    "                if area > max_area:\n",
    "                    max_area = area\n",
    "    return max_area\n",
    "\n",
    "def containerWaterPointers(height):\n",
    "    max_vol = 0\n",
    "    l, r = 0, len(height)-1\n",
    "    \n",
    "    while l<r:\n",
    "        width = r-l\n",
    "        cur_vol = min(height[l],height[r]) * width\n",
    "        max_vol = max(max_vol, cur_vol)\n",
    "        \n",
    "        if height[l] < height[r]:\n",
    "            l+=1\n",
    "        else:\n",
    "            r-=1\n",
    "    return max_vol\n",
    "\n",
    "height = [1,8,6,2,5,4,8,3,7]\n",
    "#height = [1,1]\n",
    "#containerWater(height)\n",
    "containerWaterPointers(height)"
   ]
  }
 ],
 "metadata": {
  "kernelspec": {
   "display_name": "Python 3",
   "language": "python",
   "name": "python3"
  },
  "language_info": {
   "codemirror_mode": {
    "name": "ipython",
    "version": 3
   },
   "file_extension": ".py",
   "mimetype": "text/x-python",
   "name": "python",
   "nbconvert_exporter": "python",
   "pygments_lexer": "ipython3",
   "version": "3.7.4"
  }
 },
 "nbformat": 4,
 "nbformat_minor": 2
}
