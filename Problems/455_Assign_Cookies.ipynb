{
 "cells": [
  {
   "cell_type": "code",
   "execution_count": 1,
   "metadata": {},
   "outputs": [],
   "source": [
    "# 455. Assign Cookies\n",
    "'''\n",
    "Assume you are an awesome parent and want to give your children some cookies. \n",
    "But, you should give each child at most one cookie.\n",
    "\n",
    "Each child i has a greed factor g[i], which is the minimum size of a cookie \n",
    "that the child will be content with; and each cookie j has a size s[j]. \n",
    "If s[j] >= g[i], we can assign the cookie j to the child i, and the child i \n",
    "will be content. Your goal is to maximize the number of your content children and \n",
    "output the maximum number.\n",
    "\n",
    " \n",
    "\n",
    "Example 1:\n",
    "\n",
    "Input: g = [1,2,3], s = [1,1]\n",
    "Output: 1\n",
    "Explanation: You have 3 children and 2 cookies. The greed factors of 3 children \n",
    "are 1, 2, 3. \n",
    "And even though you have 2 cookies, since their size is both 1, you could only \n",
    "make the child whose greed factor is 1 content.\n",
    "You need to output 1.\n",
    "\n",
    "Example 2:\n",
    "\n",
    "Input: g = [1,2], s = [1,2,3]\n",
    "Output: 2\n",
    "Explanation: You have 2 children and 3 cookies. The greed factors of 2 children are 1, 2. \n",
    "You have 3 cookies and their sizes are big enough to gratify all of the children, \n",
    "You need to output 2.\n",
    "\n",
    "'''"
   ]
  },
  {
   "cell_type": "code",
   "execution_count": 8,
   "metadata": {},
   "outputs": [
    {
     "name": "stdout",
     "output_type": "stream",
     "text": [
      "1\n",
      "2\n"
     ]
    }
   ],
   "source": [
    "def assignCookies(g,s):\n",
    "    content = 0\n",
    "    g.sort()\n",
    "    s.sort()\n",
    "    for i in range(len(s)):\n",
    "        if content >= len(g):\n",
    "            break\n",
    "        if s[i] >= g[content]:\n",
    "            content += 1\n",
    "            \n",
    "        '''\n",
    "            final = 0\n",
    "                i = 0\n",
    "                for ele in (s):\n",
    "                    if i < len(g) and ele >= g[i]:\n",
    "                        final +=1\n",
    "                        i +=1\n",
    "\n",
    "                return final\n",
    "        '''            \n",
    "\n",
    "    return content\n",
    "\n",
    "g = [1,2,3]\n",
    "s = [1,1]\n",
    "print(assignCookies(g,s))\n",
    "\n",
    "g = [1,2]\n",
    "s = [1,2,3]\n",
    "print(assignCookies(g,s))"
   ]
  },
  {
   "cell_type": "code",
   "execution_count": null,
   "metadata": {},
   "outputs": [],
   "source": []
  }
 ],
 "metadata": {
  "kernelspec": {
   "display_name": "Python 3",
   "language": "python",
   "name": "python3"
  },
  "language_info": {
   "codemirror_mode": {
    "name": "ipython",
    "version": 3
   },
   "file_extension": ".py",
   "mimetype": "text/x-python",
   "name": "python",
   "nbconvert_exporter": "python",
   "pygments_lexer": "ipython3",
   "version": "3.8.10"
  }
 },
 "nbformat": 4,
 "nbformat_minor": 4
}
