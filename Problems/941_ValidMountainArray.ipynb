{
 "cells": [
  {
   "cell_type": "code",
   "execution_count": null,
   "metadata": {},
   "outputs": [],
   "source": [
    "# 941. Valid Mountain Array\n",
    "#----------------------------\n",
    "'''\n",
    "Given an array of integers arr, return true if and only if it is a valid mountain array.\n",
    "\n",
    "Recall that arr is a mountain array if and only if:\n",
    "\n",
    "    arr.length >= 3\n",
    "    There exists some i with 0 < i < arr.length - 1 such that:\n",
    "        arr[0] < arr[1] < ... < arr[i - 1] < arr[i]\n",
    "        arr[i] > arr[i + 1] > ... > arr[arr.length - 1]\n",
    "Example 1:\n",
    "\n",
    "Input: arr = [2,1]\n",
    "Output: false\n",
    "\n",
    "Example 2:\n",
    "\n",
    "Input: arr = [3,5,5]\n",
    "Output: false\n",
    "\n",
    "Example 3:\n",
    "\n",
    "Input: arr = [0,3,2,1]\n",
    "Output: true\n",
    "\n",
    "'''"
   ]
  },
  {
   "cell_type": "code",
   "execution_count": 31,
   "metadata": {},
   "outputs": [
    {
     "name": "stdout",
     "output_type": "stream",
     "text": [
      "up 0 arr[i] 0 arr[i+1] 3 peak 0\n",
      "down 1 arr[i] 3 arr[i+1] 2 peak -1\n",
      "down 2 arr[i] 2 arr[i+1] 1 peak -1\n"
     ]
    },
    {
     "data": {
      "text/plain": [
       "True"
      ]
     },
     "execution_count": 31,
     "metadata": {},
     "output_type": "execute_result"
    }
   ],
   "source": [
    "def validM(arr):\n",
    "    peak = 0\n",
    "    up = 0\n",
    "    \n",
    "    if len(arr) < 2: # mountain shape at least 3 points\n",
    "        return False\n",
    "    \n",
    "    for i in range(len(arr)-1):\n",
    "        if arr[i] == arr[i+1]: # valley\n",
    "            print(\"valley\")\n",
    "            return False\n",
    "        \n",
    "        if arr[i] > arr[i+1] and up == 0: #starting in downhill\n",
    "            print(f'Starting down {i} arr[i] {arr[i]} arr[i+1] {arr[i+1]} peak {peak}')\n",
    "            return False\n",
    "        \n",
    "        if arr[i] < arr[i+1] and peak == 0: #moving up until peak\n",
    "            up = 1\n",
    "            print(f'up {i} arr[i] {arr[i]} arr[i+1] {arr[i+1]} peak {peak}')\n",
    "            \n",
    "        if arr[i] < arr[i+1] and peak != 0: #moving up again after moving down\n",
    "            up = 1\n",
    "            print(f'up again {i} arr[i] {arr[i]} arr[i+1] {arr[i+1]} peak {peak}')\n",
    "            return False\n",
    "        \n",
    "        if arr[i] > arr[i+1]: #moving down\n",
    "            up = -1\n",
    "            peak = -1\n",
    "            print(f'down {i} arr[i] {arr[i]} arr[i+1] {arr[i+1]} peak {peak}')\n",
    "        \n",
    "    if up == -1:\n",
    "        return True\n",
    "\n",
    "        \n",
    "    \n",
    "arr = [0,3,2,1]\n",
    "validM(arr)"
   ]
  },
  {
   "cell_type": "code",
   "execution_count": 32,
   "metadata": {},
   "outputs": [
    {
     "data": {
      "text/plain": [
       "True"
      ]
     },
     "execution_count": 32,
     "metadata": {},
     "output_type": "execute_result"
    }
   ],
   "source": [
    "def solution(arr):\n",
    "    N = len(arr)\n",
    "    i = 0\n",
    "\n",
    "    #walk up\n",
    "    while i+1 < N and arr[i] < arr[i+1]:\n",
    "        i+=1\n",
    "\n",
    "    #peak can't be first neaither last\n",
    "    if i == 0 or i == N-1:\n",
    "        return False\n",
    "\n",
    "    #walk down\n",
    "    while i+1 < N and arr[i] > arr[i+1]:\n",
    "        i+=1\n",
    "\n",
    "    return i == N-1\n",
    "\n",
    "solution(arr)"
   ]
  },
  {
   "cell_type": "code",
   "execution_count": null,
   "metadata": {},
   "outputs": [],
   "source": []
  }
 ],
 "metadata": {
  "kernelspec": {
   "display_name": "Python 3",
   "language": "python",
   "name": "python3"
  },
  "language_info": {
   "codemirror_mode": {
    "name": "ipython",
    "version": 3
   },
   "file_extension": ".py",
   "mimetype": "text/x-python",
   "name": "python",
   "nbconvert_exporter": "python",
   "pygments_lexer": "ipython3",
   "version": "3.7.4"
  }
 },
 "nbformat": 4,
 "nbformat_minor": 2
}
