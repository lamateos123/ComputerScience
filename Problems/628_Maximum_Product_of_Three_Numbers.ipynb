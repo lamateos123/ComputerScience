{
 "cells": [
  {
   "cell_type": "code",
   "execution_count": 1,
   "metadata": {},
   "outputs": [],
   "source": [
    "# 628. Maximum Product of Three Numbers\n",
    "'''\n",
    "Given an integer array nums, find three numbers whose product is maximum and \n",
    "return the maximum product.\n",
    "\n",
    " \n",
    "\n",
    "Example 1:\n",
    "\n",
    "Input: nums = [1,2,3]\n",
    "Output: 6\n",
    "\n",
    "Example 2:\n",
    "\n",
    "Input: nums = [1,2,3,4]\n",
    "Output: 24\n",
    "\n",
    "Example 3:\n",
    "\n",
    "Input: nums = [-1,-2,-3]\n",
    "Output: -6\n",
    "'''"
   ]
  },
  {
   "cell_type": "code",
   "execution_count": 9,
   "metadata": {},
   "outputs": [
    {
     "data": {
      "text/plain": [
       "24"
      ]
     },
     "execution_count": 9,
     "metadata": {},
     "output_type": "execute_result"
    }
   ],
   "source": [
    "def maxP(nums):\n",
    "    min1 = float('inf')\n",
    "    min2 = float('inf')\n",
    "    max1 = float('-inf')\n",
    "    max2 = float('-inf')\n",
    "    max3 = float('-inf')\n",
    "    for i in nums:\n",
    "        if i <= min1:\n",
    "            min2 = min1\n",
    "            min1 = i\n",
    "        elif i <= min2:\n",
    "            min2 = i\n",
    "        if i >= max1:\n",
    "            max3 = max2\n",
    "            max2 = max1\n",
    "            max1 = i\n",
    "        elif i >= max2:\n",
    "            max3 = max2\n",
    "            max2 = i\n",
    "        elif i >= max3:\n",
    "            max3 = i\n",
    "    return max(min1 * min2 * max1, max1 * max2 * max3)\n",
    "\n",
    "nums = [1,2,3,4]\n",
    "maxP(nums)"
   ]
  },
  {
   "cell_type": "code",
   "execution_count": 8,
   "metadata": {},
   "outputs": [
    {
     "data": {
      "text/plain": [
       "24"
      ]
     },
     "execution_count": 8,
     "metadata": {},
     "output_type": "execute_result"
    }
   ],
   "source": [
    "def maxP(nums):\n",
    "    nums.sort()\n",
    "    if nums[0]*nums[1]*nums[len(nums)-1] > nums[len(nums)-1]*nums[len(nums)-2]*nums[len(nums)-3]:\n",
    "        return nums[0]*nums[1]*nums[len(nums)-1]\n",
    "    else:\n",
    "        return nums[len(nums)-1]*nums[len(nums)-2]*nums[len(nums)-3]\n",
    "\n",
    "\n",
    "nums = [1,2,3,4]\n",
    "maxP(nums)"
   ]
  },
  {
   "cell_type": "code",
   "execution_count": null,
   "metadata": {},
   "outputs": [],
   "source": []
  }
 ],
 "metadata": {
  "kernelspec": {
   "display_name": "Python 3",
   "language": "python",
   "name": "python3"
  },
  "language_info": {
   "codemirror_mode": {
    "name": "ipython",
    "version": 3
   },
   "file_extension": ".py",
   "mimetype": "text/x-python",
   "name": "python",
   "nbconvert_exporter": "python",
   "pygments_lexer": "ipython3",
   "version": "3.8.10"
  }
 },
 "nbformat": 4,
 "nbformat_minor": 4
}
