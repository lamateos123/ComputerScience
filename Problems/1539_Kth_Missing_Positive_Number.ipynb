{
 "cells": [
  {
   "cell_type": "code",
   "execution_count": 8,
   "metadata": {},
   "outputs": [],
   "source": [
    "# 1539. Kth Missing Positive Number\n",
    "#------------------------------------\n",
    "\n",
    "#Given an array arr of positive integers sorted in a strictly increasing order, and an integer k.\n",
    "#Find the kth positive integer that is missing from this array.\n",
    "\n",
    "#Example 1:\n",
    "#Input: arr = [2,3,4,7,11], k = 5\n",
    "#Output: 9\n",
    "#Explanation: The missing positive integers are [1,5,6,8,9,10,12,13,...]. \n",
    "#The 5th missing positive integer is 9.\n",
    "\n",
    "#Example 2:\n",
    "#Input: arr = [1,2,3,4], k = 2\n",
    "#Output: 6\n",
    "#Explanation: The missing positive integers are [5,6,7,...]. The 2nd missing positive integer is 6."
   ]
  },
  {
   "cell_type": "code",
   "execution_count": 9,
   "metadata": {},
   "outputs": [
    {
     "name": "stdout",
     "output_type": "stream",
     "text": [
      "[1]\n",
      "[1]\n",
      "[1]\n",
      "[1]\n",
      "[1, 5]\n",
      "[1, 5, 6]\n",
      "[1, 5, 6]\n",
      "[1, 5, 6, 8]\n"
     ]
    },
    {
     "data": {
      "text/plain": [
       "9"
      ]
     },
     "execution_count": 9,
     "metadata": {},
     "output_type": "execute_result"
    }
   ],
   "source": [
    "def kth(arr,k):\n",
    "    missing = []\n",
    "    counter = 0\n",
    "    for x in range(1,10000):\n",
    "        if x in arr:\n",
    "            arr.pop(0)\n",
    "        else:\n",
    "            missing.append(x)\n",
    "            counter+=1\n",
    "            if k == counter:\n",
    "                return missing[counter-1]\n",
    "        print(missing)\n",
    "    return missing[counter-1]\n",
    "\n",
    "arr = [2,3,4,7,11]\n",
    "k = 5\n",
    "kth(arr, k)\n"
   ]
  },
  {
   "cell_type": "code",
   "execution_count": 10,
   "metadata": {},
   "outputs": [
    {
     "name": "stdout",
     "output_type": "stream",
     "text": [
      "[]\n",
      "[]\n",
      "[]\n",
      "[]\n",
      "[5]\n"
     ]
    },
    {
     "data": {
      "text/plain": [
       "6"
      ]
     },
     "execution_count": 10,
     "metadata": {},
     "output_type": "execute_result"
    }
   ],
   "source": [
    "arr = [1,2,3,4]\n",
    "k = 2\n",
    "kth(arr, k)"
   ]
  },
  {
   "cell_type": "code",
   "execution_count": 12,
   "metadata": {},
   "outputs": [
    {
     "name": "stdout",
     "output_type": "stream",
     "text": [
      "[1]\n",
      "[1]\n",
      "[1]\n",
      "[1]\n",
      "[1, 5]\n",
      "[1, 5, 6]\n",
      "[1, 5, 6]\n",
      "[1, 5, 6, 8]\n"
     ]
    },
    {
     "data": {
      "text/plain": [
       "9"
      ]
     },
     "execution_count": 12,
     "metadata": {},
     "output_type": "execute_result"
    }
   ],
   "source": [
    "# Faster by not using pop in the first element\n",
    "def kth(arr,k):\n",
    "    missing = []\n",
    "    counter = 0\n",
    "    j = 0 # counter for the arr, instead to pop first element\n",
    "    for x in range(1,10000):\n",
    "        if x in arr[j:]:\n",
    "            #arr.pop(0)\n",
    "            j+=1\n",
    "        else:\n",
    "            missing.append(x)\n",
    "            counter+=1\n",
    "            if k == counter:\n",
    "                return missing[counter-1]\n",
    "        print(missing)\n",
    "    return missing[counter-1]\n",
    "\n",
    "arr = [2,3,4,7,11]\n",
    "k = 5\n",
    "kth(arr, k)"
   ]
  },
  {
   "cell_type": "code",
   "execution_count": null,
   "metadata": {},
   "outputs": [],
   "source": []
  }
 ],
 "metadata": {
  "kernelspec": {
   "display_name": "Python 3",
   "language": "python",
   "name": "python3"
  },
  "language_info": {
   "codemirror_mode": {
    "name": "ipython",
    "version": 3
   },
   "file_extension": ".py",
   "mimetype": "text/x-python",
   "name": "python",
   "nbconvert_exporter": "python",
   "pygments_lexer": "ipython3",
   "version": "3.7.4"
  }
 },
 "nbformat": 4,
 "nbformat_minor": 2
}
