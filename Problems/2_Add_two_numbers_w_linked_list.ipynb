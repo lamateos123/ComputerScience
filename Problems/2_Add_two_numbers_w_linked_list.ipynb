{
 "cells": [
  {
   "cell_type": "code",
   "execution_count": 1,
   "metadata": {},
   "outputs": [],
   "source": [
    "# 2. Add two numbers with linked list\n",
    "#------------------------------------------------------------------------------------\n",
    "# You are given two non-empty linked lists representing two non-negative integers. \n",
    "# The digits are stored in reverse order, and each of their nodes contains a single digit. \n",
    "#Add the two numbers and return the sum as a linked list.\n",
    "\n",
    "#You may assume the two numbers do not contain any leading zero, except the number 0 itself.\n",
    "#------------------------------------------------------------------------------------\n",
    "#example 1\n",
    "# Input: l1 = [2,4,3], l2 = [5,6,4]\n",
    "# Output: [7,0,8]\n",
    "# Explanation: 342 + 465 = 807.\n",
    "#example 2\n",
    "# Input: l1 = [0], l2 = [0]\n",
    "# Output: [0]\n",
    "#example 3\n",
    "# Input: l1 = [9,9,9,9,9,9,9], l2 = [9,9,9,9]\n",
    "# Output: [8,9,9,9,0,0,0,1]"
   ]
  },
  {
   "cell_type": "code",
   "execution_count": 2,
   "metadata": {},
   "outputs": [],
   "source": [
    "class Node:\n",
    "    def __init__(self, data, next=None):\n",
    "        self.data = data\n",
    "        self.next = next\n",
    "\n",
    "class Head:\n",
    "    def __init__(self):\n",
    "        self.next = None"
   ]
  },
  {
   "cell_type": "code",
   "execution_count": 3,
   "metadata": {},
   "outputs": [],
   "source": [
    "class LinkedList:\n",
    "    def __init__(self):\n",
    "        self.head = Head()\n",
    "        self.head.next = None\n",
    "        \n",
    "    def insert(self, data):\n",
    "        new_node = Node(data)\n",
    "        new_node.next = self.head.next\n",
    "        self.head.next = new_node\n",
    "        \n",
    "    def printll(self):\n",
    "        next_node = self.head.next\n",
    "        while next_node!=None:\n",
    "            print(next_node.data,end=\"->\")\n",
    "            next_node = next_node.next\n",
    "        print(\"None\")\n",
    "    \n",
    "    def to_string(self):\n",
    "        s = \"\"\n",
    "        next_node = self.head.next\n",
    "        while next_node!=None:\n",
    "            s += str(next_node.data)\n",
    "            next_node = next_node.next\n",
    "        return s"
   ]
  },
  {
   "cell_type": "code",
   "execution_count": 4,
   "metadata": {},
   "outputs": [
    {
     "name": "stdout",
     "output_type": "stream",
     "text": [
      "2->4->3->None\n",
      "5->6->4->None\n",
      "807\n",
      "7->0->8->None\n"
     ]
    }
   ],
   "source": [
    "l1 = LinkedList()\n",
    "l1.insert(3)\n",
    "l1.insert(4)\n",
    "l1.insert(2)\n",
    "l1.printll()\n",
    "\n",
    "l2 = LinkedList()\n",
    "l2.insert(4)\n",
    "l2.insert(6)\n",
    "l2.insert(5)\n",
    "l2.printll()\n",
    "\n",
    "l1_digits = l1.to_string()\n",
    "l2_digits = l2.to_string()\n",
    "result = int(l1_digits) + int(l2_digits)\n",
    "print(result)\n",
    "\n",
    "l3 = LinkedList()\n",
    "for x in str(result):\n",
    "    l3.insert(x)\n",
    "    \n",
    "l3.printll()"
   ]
  },
  {
   "cell_type": "code",
   "execution_count": null,
   "metadata": {},
   "outputs": [],
   "source": []
  }
 ],
 "metadata": {
  "kernelspec": {
   "display_name": "Python 3",
   "language": "python",
   "name": "python3"
  },
  "language_info": {
   "codemirror_mode": {
    "name": "ipython",
    "version": 3
   },
   "file_extension": ".py",
   "mimetype": "text/x-python",
   "name": "python",
   "nbconvert_exporter": "python",
   "pygments_lexer": "ipython3",
   "version": "3.7.4"
  }
 },
 "nbformat": 4,
 "nbformat_minor": 2
}
