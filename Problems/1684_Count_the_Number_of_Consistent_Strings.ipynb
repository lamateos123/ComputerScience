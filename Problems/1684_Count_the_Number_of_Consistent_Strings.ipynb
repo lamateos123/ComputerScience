{
 "cells": [
  {
   "cell_type": "code",
   "execution_count": null,
   "metadata": {},
   "outputs": [],
   "source": [
    "# 1684. Count the Number of Consistent Strings\n",
    "#---------------------------------------------\n",
    "'''\n",
    "You are given a string allowed consisting of distinct characters and an array of strings words. \n",
    "A string is consistent if all characters in the string appear in the string allowed.\n",
    "\n",
    "Return the number of consistent strings in the array words.\n",
    "\n",
    "Example 1:\n",
    "\n",
    "Input: allowed = \"ab\", words = [\"ad\",\"bd\",\"aaab\",\"baa\",\"badab\"]\n",
    "Output: 2\n",
    "Explanation: Strings \"aaab\" and \"baa\" are consistent since they only contain characters 'a' and 'b'.\n",
    "\n",
    "Example 2:\n",
    "\n",
    "Input: allowed = \"abc\", words = [\"a\",\"b\",\"c\",\"ab\",\"ac\",\"bc\",\"abc\"]\n",
    "Output: 7\n",
    "Explanation: All strings are consistent.\n",
    "\n",
    "Example 3:\n",
    "\n",
    "Input: allowed = \"cad\", words = [\"cc\",\"acd\",\"b\",\"ba\",\"bac\",\"bad\",\"ac\",\"d\"]\n",
    "Output: 4\n",
    "Explanation: Strings \"cc\", \"acd\", \"ac\", and \"d\" are consistent.\n",
    "\n",
    "'''"
   ]
  },
  {
   "cell_type": "code",
   "execution_count": 27,
   "metadata": {},
   "outputs": [
    {
     "name": "stdout",
     "output_type": "stream",
     "text": [
      "ad\n",
      "db\n",
      "ab\n",
      "ab\n",
      "adb\n"
     ]
    },
    {
     "data": {
      "text/plain": [
       "2"
      ]
     },
     "execution_count": 27,
     "metadata": {},
     "output_type": "execute_result"
    }
   ],
   "source": [
    "def countConsistent(allowed, words):\n",
    "    c = 0\n",
    "    for word in words:\n",
    "        s = set()         # set for get rid of duplicated characters in same word\n",
    "        for w in word:\n",
    "            s.add(w)\n",
    "            ss = \"\".join(s)  # convert set into a string\n",
    "        print(ss)\n",
    "        temp = 0    # if multiple characters from the word match allowed just count 1\n",
    "        for x in ss:\n",
    "            if x in allowed:\n",
    "                temp += 1\n",
    "        if temp == len(ss):\n",
    "            c += 1\n",
    "    return c\n",
    "\n",
    "def countConsistent_Set(allowed, words):\n",
    "    c = 0\n",
    "    for i in range(len(words)):\n",
    "        if set(words[i]).issubset(allowed):\n",
    "            c += 1\n",
    "    return c\n",
    "    \n",
    "allowed = \"ab\"\n",
    "words = [\"ad\",\"bd\",\"aaab\",\"baa\",\"badab\"]\n",
    "countConsistent(allowed, words)"
   ]
  },
  {
   "cell_type": "code",
   "execution_count": 28,
   "metadata": {},
   "outputs": [
    {
     "name": "stdout",
     "output_type": "stream",
     "text": [
      "a\n",
      "b\n",
      "c\n",
      "ab\n",
      "ac\n",
      "cb\n",
      "acb\n"
     ]
    },
    {
     "data": {
      "text/plain": [
       "7"
      ]
     },
     "execution_count": 28,
     "metadata": {},
     "output_type": "execute_result"
    }
   ],
   "source": [
    "allowed = \"abc\"\n",
    "words = [\"a\",\"b\",\"c\",\"ab\",\"ac\",\"bc\",\"abc\"]\n",
    "countConsistent(allowed, words)"
   ]
  },
  {
   "cell_type": "code",
   "execution_count": 29,
   "metadata": {},
   "outputs": [
    {
     "name": "stdout",
     "output_type": "stream",
     "text": [
      "c\n",
      "acd\n",
      "b\n",
      "ab\n",
      "acb\n",
      "adb\n",
      "ac\n",
      "d\n"
     ]
    },
    {
     "data": {
      "text/plain": [
       "4"
      ]
     },
     "execution_count": 29,
     "metadata": {},
     "output_type": "execute_result"
    }
   ],
   "source": [
    "allowed = \"cad\"\n",
    "words = [\"cc\",\"acd\",\"b\",\"ba\",\"bac\",\"bad\",\"ac\",\"d\"]\n",
    "countConsistent(allowed, words)"
   ]
  },
  {
   "cell_type": "code",
   "execution_count": null,
   "metadata": {},
   "outputs": [],
   "source": []
  }
 ],
 "metadata": {
  "kernelspec": {
   "display_name": "Python 3",
   "language": "python",
   "name": "python3"
  },
  "language_info": {
   "codemirror_mode": {
    "name": "ipython",
    "version": 3
   },
   "file_extension": ".py",
   "mimetype": "text/x-python",
   "name": "python",
   "nbconvert_exporter": "python",
   "pygments_lexer": "ipython3",
   "version": "3.7.4"
  }
 },
 "nbformat": 4,
 "nbformat_minor": 2
}
