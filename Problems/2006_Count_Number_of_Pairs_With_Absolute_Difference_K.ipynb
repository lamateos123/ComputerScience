{
 "cells": [
  {
   "cell_type": "code",
   "execution_count": null,
   "metadata": {},
   "outputs": [],
   "source": [
    "# 2006. Count Number of Pairs With Absolute Difference K\n",
    "#-----------------------------------------------------------\n",
    "'''\n",
    "Given an integer array nums and an integer k, \n",
    "return the number of pairs (i, j) where i < j \n",
    "such that |nums[i] - nums[j]| == k.\n",
    "\n",
    "The value of |x| is defined as:\n",
    "\n",
    "    x if x >= 0.\n",
    "    -x if x < 0.\n",
    "\n",
    "Example 1:\n",
    "\n",
    "Input: nums = [1,2,2,1], k = 1\n",
    "Output: 4\n",
    "Explanation: The pairs with an absolute difference of 1 are:\n",
    "- [1,2,2,1]\n",
    "- [1,2,2,1]\n",
    "- [1,2,2,1]\n",
    "- [1,2,2,1]\n",
    "\n",
    "Example 2:\n",
    "\n",
    "Input: nums = [1,3], k = 3\n",
    "Output: 0\n",
    "Explanation: There are no pairs with an absolute difference of 3.\n",
    "\n",
    "'''"
   ]
  },
  {
   "cell_type": "code",
   "execution_count": 3,
   "metadata": {},
   "outputs": [
    {
     "data": {
      "text/plain": [
       "4"
      ]
     },
     "execution_count": 3,
     "metadata": {},
     "output_type": "execute_result"
    }
   ],
   "source": [
    "def countPairs(nums, k):\n",
    "    counter = 0\n",
    "    for i in range(len(nums)):\n",
    "        for j in range(len(nums)):\n",
    "            if (i != j) and (j>i) and (abs(nums[i]-nums[j]) == k):\n",
    "                counter+=1\n",
    "                #print(i,j, abs(nums[i]-nums[j]))\n",
    "    return counter\n",
    "\n",
    "def countPairsImproved(nums, k):\n",
    "    d = {}\n",
    "    counter = 0\n",
    "    for num in nums:\n",
    "        if num not in d:\n",
    "            d[num] = 1\n",
    "        else:\n",
    "            d[num] += 1\n",
    "            \n",
    "    for num in nums:\n",
    "        if num+k in d:\n",
    "            counter += d[num+k]\n",
    "        print(d)\n",
    "    return counter\n",
    "\n",
    "nums = [1,2,2,1]\n",
    "k = 1\n",
    "countPairs(nums, k)"
   ]
  },
  {
   "cell_type": "code",
   "execution_count": 4,
   "metadata": {},
   "outputs": [
    {
     "name": "stdout",
     "output_type": "stream",
     "text": [
      "{1: 2, 2: 2}\n",
      "{1: 2, 2: 2}\n",
      "{1: 2, 2: 2}\n",
      "{1: 2, 2: 2}\n"
     ]
    },
    {
     "data": {
      "text/plain": [
       "4"
      ]
     },
     "execution_count": 4,
     "metadata": {},
     "output_type": "execute_result"
    }
   ],
   "source": [
    "nums = [1,2,2,1]\n",
    "k = 1\n",
    "countPairsImproved(nums, k)"
   ]
  },
  {
   "cell_type": "code",
   "execution_count": null,
   "metadata": {},
   "outputs": [],
   "source": [
    "def countPairsImproved(nums, k):\n",
    "    d = {}\n",
    "    counter = 0\n",
    "    for num in nums:\n",
    "        if num-k > 0:\n",
    "            d.setdefault(num-k,0)\n",
    "            d[num-k] += 1\n",
    "            \n",
    "    for num in nums:\n",
    "        if num + k\n",
    "    print(d)\n",
    "    return 0\n"
   ]
  }
 ],
 "metadata": {
  "kernelspec": {
   "display_name": "Python 3",
   "language": "python",
   "name": "python3"
  },
  "language_info": {
   "codemirror_mode": {
    "name": "ipython",
    "version": 3
   },
   "file_extension": ".py",
   "mimetype": "text/x-python",
   "name": "python",
   "nbconvert_exporter": "python",
   "pygments_lexer": "ipython3",
   "version": "3.7.4"
  }
 },
 "nbformat": 4,
 "nbformat_minor": 2
}
