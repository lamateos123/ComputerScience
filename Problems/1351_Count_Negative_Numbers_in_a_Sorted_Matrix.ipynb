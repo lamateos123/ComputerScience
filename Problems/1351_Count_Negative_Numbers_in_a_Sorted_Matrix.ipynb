{
 "cells": [
  {
   "cell_type": "code",
   "execution_count": 1,
   "metadata": {},
   "outputs": [],
   "source": [
    "# 1351. Count Negative Numbers in a Sorted Matrix\n",
    "'''\n",
    "Given a m x n matrix grid which is sorted in non-increasing order both row-wise and \n",
    "column-wise, return the number of negative numbers in grid.\n",
    "\n",
    "Example 1:\n",
    "\n",
    "Input: grid = [[4,3,2,-1],[3,2,1,-1],[1,1,-1,-2],[-1,-1,-2,-3]]\n",
    "Output: 8\n",
    "Explanation: There are 8 negatives number in the matrix.\n",
    "\n",
    "Example 2:\n",
    "\n",
    "Input: grid = [[3,2],[1,0]]\n",
    "Output: 0\n",
    "'''"
   ]
  },
  {
   "cell_type": "code",
   "execution_count": 28,
   "metadata": {},
   "outputs": [
    {
     "data": {
      "text/plain": [
       "8"
      ]
     },
     "execution_count": 28,
     "metadata": {},
     "output_type": "execute_result"
    }
   ],
   "source": [
    "def countNegative(grid):\n",
    "    ans = 0\n",
    "    c = len(grid)\n",
    "    r = len(grid[0])\n",
    "    #print(r,c)\n",
    "    for i in range(c-1,-1,-1):\n",
    "        for j in range(r-1,-1,-1):\n",
    "            if grid[i][j] < 0:\n",
    "                ans+=1\n",
    "                #print(grid[i][j])\n",
    "            else:\n",
    "                break\n",
    "            \n",
    "    return ans\n",
    "\n",
    "grid = [[4,3,2,-1],[3,2,1,-1],[1,1,-1,-2],[-1,-1,-2,-3]]\n",
    "#grid = [[4,3,2],[3,2,-1],[1,1,-2],[-1,-2,-3]]\n",
    "countNegative(grid)"
   ]
  },
  {
   "cell_type": "code",
   "execution_count": null,
   "metadata": {},
   "outputs": [],
   "source": []
  }
 ],
 "metadata": {
  "kernelspec": {
   "display_name": "Python 3",
   "language": "python",
   "name": "python3"
  },
  "language_info": {
   "codemirror_mode": {
    "name": "ipython",
    "version": 3
   },
   "file_extension": ".py",
   "mimetype": "text/x-python",
   "name": "python",
   "nbconvert_exporter": "python",
   "pygments_lexer": "ipython3",
   "version": "3.7.4"
  }
 },
 "nbformat": 4,
 "nbformat_minor": 2
}
