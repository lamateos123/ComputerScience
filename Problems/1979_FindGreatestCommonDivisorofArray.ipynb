{
 "cells": [
  {
   "cell_type": "code",
   "execution_count": null,
   "metadata": {},
   "outputs": [],
   "source": [
    "# 1979. Find Greatest Common Divisor of Array\n",
    "#---------------------------------------------\n",
    "'''\n",
    "Given an integer array nums, return the greatest common divisor \n",
    "of the smallest number and largest number in nums.\n",
    "\n",
    "The greatest common divisor of two numbers is the largest positive \n",
    "integer that evenly divides both numbers.\n",
    "\n",
    "Example 1:\n",
    "\n",
    "Input: nums = [2,5,6,9,10]\n",
    "Output: 2\n",
    "Explanation:\n",
    "The smallest number in nums is 2.\n",
    "The largest number in nums is 10.\n",
    "The greatest common divisor of 2 and 10 is 2.\n",
    "\n",
    "'''"
   ]
  },
  {
   "cell_type": "code",
   "execution_count": 6,
   "metadata": {},
   "outputs": [
    {
     "data": {
      "text/plain": [
       "1"
      ]
     },
     "execution_count": 6,
     "metadata": {},
     "output_type": "execute_result"
    }
   ],
   "source": [
    "def greatestCD(nums):\n",
    "    mini = 1001\n",
    "    maxi = 0\n",
    "    for n in nums:\n",
    "        if n<mini:\n",
    "            mini=n\n",
    "        if n>maxi:\n",
    "            maxi=n\n",
    "    for i in reversed(range(1,mini+1)):\n",
    "        if mini%i == 0 and maxi%i == 0:\n",
    "            return i\n",
    "            \n",
    "nums = [2,5,6,9,10] \n",
    "nums = [7,5,6,8,3]\n",
    "#nums = [3,3]\n",
    "#nums = [6,7,9]\n",
    "greatestCD(nums)"
   ]
  }
 ],
 "metadata": {
  "kernelspec": {
   "display_name": "Python 3",
   "language": "python",
   "name": "python3"
  },
  "language_info": {
   "codemirror_mode": {
    "name": "ipython",
    "version": 3
   },
   "file_extension": ".py",
   "mimetype": "text/x-python",
   "name": "python",
   "nbconvert_exporter": "python",
   "pygments_lexer": "ipython3",
   "version": "3.8.10"
  }
 },
 "nbformat": 4,
 "nbformat_minor": 2
}
