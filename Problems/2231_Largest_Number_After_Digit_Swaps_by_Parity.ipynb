{
 "cells": [
  {
   "cell_type": "code",
   "execution_count": 1,
   "metadata": {},
   "outputs": [],
   "source": [
    "# 2231. Largest Number After Digit Swaps by Parity\n",
    "'''\n",
    "You are given a positive integer num. You may swap any two digits of num that have \n",
    "the same parity (i.e. both odd digits or both even digits).\n",
    "\n",
    "Return the largest possible value of num after any number of swaps.\n",
    "\n",
    " \n",
    "\n",
    "Example 1:\n",
    "\n",
    "Input: num = 1234\n",
    "Output: 3412\n",
    "Explanation: Swap the digit 3 with the digit 1, this results in the number 3214.\n",
    "Swap the digit 2 with the digit 4, this results in the number 3412.\n",
    "Note that there may be other sequences of swaps but it can be shown that 3412 is \n",
    "the largest possible number.\n",
    "Also note that we may not swap the digit 4 with the digit 1 since they are of \n",
    "different parities.\n",
    "'''"
   ]
  },
  {
   "cell_type": "code",
   "execution_count": 9,
   "metadata": {},
   "outputs": [
    {
     "name": "stdout",
     "output_type": "stream",
     "text": [
      "[4, 2]\n",
      "[3, 1]\n",
      "3412\n"
     ]
    },
    {
     "data": {
      "text/plain": [
       "3412"
      ]
     },
     "execution_count": 9,
     "metadata": {},
     "output_type": "execute_result"
    }
   ],
   "source": [
    "def largestNumberADSP(num):\n",
    "    nums = []\n",
    "    nums_even = []\n",
    "    nums_odd = []\n",
    "    temp = \"\"\n",
    "    num_str = str(num)\n",
    "    for i in num_str:\n",
    "        i = int(i)\n",
    "        if i%2 == 0:\n",
    "            nums_even.append(int(i))\n",
    "        else:\n",
    "            nums_odd.append(int(i))\n",
    "    nums_even.sort(reverse=True)\n",
    "    nums_odd.sort(reverse=True)\n",
    "    print(nums_even)\n",
    "    print(nums_odd)\n",
    "    \n",
    "    j =0\n",
    "    k=0\n",
    "    for i in num_str:\n",
    "        if int(i)%2==0:\n",
    "            nums.append(nums_even[j])\n",
    "            j+=1\n",
    "        else:\n",
    "            nums.append(nums_odd[k])\n",
    "            k+=1\n",
    "    for i in nums:\n",
    "        temp+=str(i)\n",
    "    print(temp)\n",
    "    return int(temp)\n",
    "\n",
    "num = 1234\n",
    "largestNumberADSP(num)"
   ]
  },
  {
   "cell_type": "code",
   "execution_count": null,
   "metadata": {},
   "outputs": [],
   "source": []
  }
 ],
 "metadata": {
  "kernelspec": {
   "display_name": "Python 3",
   "language": "python",
   "name": "python3"
  },
  "language_info": {
   "codemirror_mode": {
    "name": "ipython",
    "version": 3
   },
   "file_extension": ".py",
   "mimetype": "text/x-python",
   "name": "python",
   "nbconvert_exporter": "python",
   "pygments_lexer": "ipython3",
   "version": "3.8.10"
  }
 },
 "nbformat": 4,
 "nbformat_minor": 4
}
