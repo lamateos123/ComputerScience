{
 "cells": [
  {
   "cell_type": "code",
   "execution_count": 1,
   "metadata": {},
   "outputs": [],
   "source": [
    "# 2154. Keep Multiplying Found Values by Two\n",
    "'''\n",
    "You are given an array of integers nums. You are also given an integer original \n",
    "which is the first number that needs to be searched for in nums.\n",
    "\n",
    "You then do the following steps:\n",
    "\n",
    "    If original is found in nums, multiply it by two (i.e., set original = 2 * original).\n",
    "    Otherwise, stop the process.\n",
    "    Repeat this process with the new number as long as you keep finding the number.\n",
    "\n",
    "Return the final value of original.\n",
    "\n",
    " \n",
    "\n",
    "Example 1:\n",
    "\n",
    "Input: nums = [5,3,6,1,12], original = 3\n",
    "Output: 24\n",
    "Explanation: \n",
    "- 3 is found in nums. 3 is multiplied by 2 to obtain 6.\n",
    "- 6 is found in nums. 6 is multiplied by 2 to obtain 12.\n",
    "- 12 is found in nums. 12 is multiplied by 2 to obtain 24.\n",
    "- 24 is not found in nums. Thus, 24 is returned.\n",
    "\n",
    "Example 2:\n",
    "\n",
    "Input: nums = [2,7,9], original = 4\n",
    "Output: 4\n",
    "Explanation:\n",
    "- 4 is not found in nums. Thus, 4 is returned.\n",
    "'''"
   ]
  },
  {
   "cell_type": "code",
   "execution_count": 2,
   "metadata": {},
   "outputs": [
    {
     "name": "stdout",
     "output_type": "stream",
     "text": [
      "24\n",
      "4\n"
     ]
    }
   ],
   "source": [
    "def keepM(nums,original):\n",
    "    if original not in nums:\n",
    "        return original\n",
    "\n",
    "    s = set(nums)\n",
    "    while original in s:\n",
    "        original = original * 2\n",
    "    return original\n",
    "    \n",
    "\n",
    "nums = [5,3,6,1,12]\n",
    "original = 3\n",
    "print(keepM(nums,original))\n",
    "nums = [2,7,9]\n",
    "original = 4\n",
    "print(keepM(nums,original))"
   ]
  },
  {
   "cell_type": "code",
   "execution_count": null,
   "metadata": {},
   "outputs": [],
   "source": []
  }
 ],
 "metadata": {
  "kernelspec": {
   "display_name": "Python 3",
   "language": "python",
   "name": "python3"
  },
  "language_info": {
   "codemirror_mode": {
    "name": "ipython",
    "version": 3
   },
   "file_extension": ".py",
   "mimetype": "text/x-python",
   "name": "python",
   "nbconvert_exporter": "python",
   "pygments_lexer": "ipython3",
   "version": "3.8.10"
  }
 },
 "nbformat": 4,
 "nbformat_minor": 4
}
