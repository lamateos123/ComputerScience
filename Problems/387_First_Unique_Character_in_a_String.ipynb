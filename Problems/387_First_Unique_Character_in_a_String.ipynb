{
 "cells": [
  {
   "cell_type": "code",
   "execution_count": 1,
   "metadata": {},
   "outputs": [],
   "source": [
    "# 387. First Unique Character in a String\n",
    "'''\n",
    "Given a string s, find the first non-repeating character in it and return its index. \n",
    "If it does not exist, return -1.\n",
    "\n",
    "Example 1:\n",
    "\n",
    "Input: s = \"leetcode\"\n",
    "Output: 0\n",
    "\n",
    "Example 2:\n",
    "\n",
    "Input: s = \"loveleetcode\"\n",
    "Output: 2\n",
    "\n",
    "Example 3:\n",
    "\n",
    "Input: s = \"aabb\"\n",
    "Output: -1\n"
   ]
  },
  {
   "cell_type": "code",
   "execution_count": 16,
   "metadata": {},
   "outputs": [
    {
     "data": {
      "text/plain": [
       "-1"
      ]
     },
     "execution_count": 16,
     "metadata": {},
     "output_type": "execute_result"
    }
   ],
   "source": [
    "def firstUnique(s):\n",
    "    i=0\n",
    "    for a in s:\n",
    "        if s.count(a) == 1:\n",
    "            return s.index(a)\n",
    "        else:\n",
    "            i+=1\n",
    "    return -1\n",
    "    \n",
    "    \n",
    "s = \"leetcode\"\n",
    "s = \"loveleetcode\"\n",
    "s = \"aabb\"\n",
    "firstUnique(s)"
   ]
  },
  {
   "cell_type": "code",
   "execution_count": 38,
   "metadata": {},
   "outputs": [
    {
     "name": "stdout",
     "output_type": "stream",
     "text": [
      "{'l': 1, 'e': 3, 't': 1, 'c': 1, 'o': 1, 'd': 1}\n",
      "0\n",
      "{'l': 2, 'o': 2, 'v': 1, 'e': 4, 't': 1, 'c': 1, 'd': 1}\n",
      "2\n",
      "{'a': 2, 'b': 2}\n",
      "-1\n"
     ]
    }
   ],
   "source": [
    "def firstUnique(s):\n",
    "    d = {}\n",
    "    \n",
    "    for ch in s:\n",
    "        d.setdefault(ch,0)\n",
    "        d[ch] += 1\n",
    "    print(d)\n",
    "    \n",
    "    i=0\n",
    "    for ch in s:\n",
    "        if d[ch] == 1:\n",
    "            return i\n",
    "        i+=1\n",
    "    return -1\n",
    "    \n",
    "    \n",
    "s = \"leetcode\"\n",
    "print(firstUnique(s))\n",
    "s = \"loveleetcode\"\n",
    "print(firstUnique(s))\n",
    "s = \"aabb\"\n",
    "print(firstUnique(s))"
   ]
  },
  {
   "cell_type": "code",
   "execution_count": 34,
   "metadata": {},
   "outputs": [
    {
     "name": "stdout",
     "output_type": "stream",
     "text": [
      "0\n",
      "2\n",
      "-1\n"
     ]
    }
   ],
   "source": [
    "import collections\n",
    "\n",
    "def firstUnique(s):\n",
    "    c = collections.Counter(s)\n",
    "    \n",
    "    for idx, ch in enumerate(s):\n",
    "        if c[ch] == 1:\n",
    "            return idx\n",
    "    return -1\n",
    "    \n",
    "    \n",
    "s = \"leetcode\"\n",
    "print(firstUnique(s))\n",
    "s = \"loveleetcode\"\n",
    "print(firstUnique(s))\n",
    "s = \"aabb\"\n",
    "print(firstUnique(s))"
   ]
  },
  {
   "cell_type": "code",
   "execution_count": null,
   "metadata": {},
   "outputs": [],
   "source": []
  },
  {
   "cell_type": "code",
   "execution_count": null,
   "metadata": {},
   "outputs": [],
   "source": []
  },
  {
   "cell_type": "code",
   "execution_count": null,
   "metadata": {},
   "outputs": [],
   "source": []
  },
  {
   "cell_type": "code",
   "execution_count": null,
   "metadata": {},
   "outputs": [],
   "source": []
  },
  {
   "cell_type": "code",
   "execution_count": null,
   "metadata": {},
   "outputs": [],
   "source": []
  },
  {
   "cell_type": "code",
   "execution_count": null,
   "metadata": {},
   "outputs": [],
   "source": []
  },
  {
   "cell_type": "code",
   "execution_count": null,
   "metadata": {},
   "outputs": [],
   "source": []
  },
  {
   "cell_type": "code",
   "execution_count": null,
   "metadata": {},
   "outputs": [],
   "source": []
  },
  {
   "cell_type": "code",
   "execution_count": null,
   "metadata": {},
   "outputs": [],
   "source": []
  }
 ],
 "metadata": {
  "kernelspec": {
   "display_name": "Python 3",
   "language": "python",
   "name": "python3"
  },
  "language_info": {
   "codemirror_mode": {
    "name": "ipython",
    "version": 3
   },
   "file_extension": ".py",
   "mimetype": "text/x-python",
   "name": "python",
   "nbconvert_exporter": "python",
   "pygments_lexer": "ipython3",
   "version": "3.8.10"
  }
 },
 "nbformat": 4,
 "nbformat_minor": 4
}
