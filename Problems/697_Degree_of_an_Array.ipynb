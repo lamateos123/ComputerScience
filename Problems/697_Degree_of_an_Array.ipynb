{
 "cells": [
  {
   "cell_type": "code",
   "execution_count": 1,
   "metadata": {},
   "outputs": [],
   "source": [
    "# 697. Degree of an Array\n",
    "#------------------------\n",
    "\n",
    "#Given a non-empty array of non-negative integers nums, the degree of this array \n",
    "#is defined as the maximum frequency of any one of its elements.\n",
    "\n",
    "#Your task is to find the smallest possible length of a (contiguous) subarray of nums, \n",
    "#that has the same degree as nums.\n",
    "\n",
    "#Example 1:\n",
    "\n",
    "#Input: nums = [1,2,2,3,1]\n",
    "#Output: 2\n",
    "#Explanation: \n",
    "#The input array has a degree of 2 because both elements 1 and 2 appear twice.\n",
    "#Of the subarrays that have the same degree:\n",
    "#[1, 2, 2, 3, 1], [1, 2, 2, 3], [2, 2, 3, 1], [1, 2, 2], [2, 2, 3], [2, 2]\n",
    "#The shortest length is 2. So return 2.\n",
    "\n",
    "#Example 2:\n",
    "\n",
    "#Input: nums = [1,2,2,3,1,4,2]\n",
    "#Output: 6\n",
    "#Explanation: \n",
    "#The degree is 3 because the element 2 is repeated 3 times.\n",
    "#So [2,2,3,1,4,2] is the shortest subarray, therefore returning 6."
   ]
  },
  {
   "cell_type": "code",
   "execution_count": 58,
   "metadata": {},
   "outputs": [
    {
     "name": "stdout",
     "output_type": "stream",
     "text": [
      "{1: 2, 2: 2, 3: 1}\n",
      "1 - 2\n",
      "2 - 2\n",
      "3 - 1\n",
      "list_keys  vmax\n",
      "[1, 2] 2\n",
      "{2: 2, 1: 5}\n",
      "2 - 2\n"
     ]
    },
    {
     "data": {
      "text/plain": [
       "(2, 2)"
      ]
     },
     "execution_count": 58,
     "metadata": {},
     "output_type": "execute_result"
    }
   ],
   "source": [
    "def deg_array(nums):\n",
    "    # make a dictionary to get the number of times n is repeated\n",
    "    d = {}\n",
    "    for n in nums:\n",
    "        d.setdefault(n,0)\n",
    "        d[n] += 1\n",
    "        \n",
    "    # SORT by VALUE higher\n",
    "    sorted_by_value = {k: v for k, v in sorted(d.items(), \\\n",
    "                                               key=lambda v: v[1],\\\n",
    "                                               reverse = True)}\n",
    "    print(sorted_by_value)  \n",
    "    \n",
    "    # get the degree and list of numbers with this degree\n",
    "    vmax = 0 #max value\n",
    "    list_keys = [] #list of max values in case some values are tied\n",
    "    for k, v in sorted_by_value.items():\n",
    "        print(f\"{k} - {v}\")\n",
    "        if v >= vmax:\n",
    "            vmax = v\n",
    "            list_keys.append(k)\n",
    "          \n",
    "    print(\"list_keys  vmax\")\n",
    "    print(list_keys, vmax)\n",
    "    \n",
    "    # perform a loop to get when the item appears and save the initial position and last position\n",
    "    di = {}\n",
    "    for e in list_keys:\n",
    "        i = 0\n",
    "        base = 0\n",
    "        for n in nums:\n",
    "            i = i+1            \n",
    "            if e == n:\n",
    "                if base == 0:\n",
    "                    base = i\n",
    "                di.setdefault(e,0)\n",
    "                di[e] = (i - base) + 1\n",
    "\n",
    "    # SORT by VALUE lower\n",
    "    sorted_by_value = {k: v for k, v in sorted(di.items(), \\\n",
    "                                               key=lambda v: v[1],\\\n",
    "                                               reverse = False)}\n",
    "\n",
    "    print(sorted_by_value)  \n",
    "\n",
    "    for k, v in sorted_by_value.items():\n",
    "        print(f\"{k} - {v}\")\n",
    "        return(k,v)\n",
    "    \n",
    "nums = [1,2,2,3,1]\n",
    "deg_array(nums)\n",
    "\n"
   ]
  },
  {
   "cell_type": "code",
   "execution_count": 59,
   "metadata": {},
   "outputs": [
    {
     "name": "stdout",
     "output_type": "stream",
     "text": [
      "{2: 3, 1: 2, 3: 1, 4: 1}\n",
      "2 - 3\n",
      "1 - 2\n",
      "3 - 1\n",
      "4 - 1\n",
      "list_keys  vmax\n",
      "[2] 3\n",
      "{2: 6}\n",
      "2 - 6\n"
     ]
    },
    {
     "data": {
      "text/plain": [
       "(2, 6)"
      ]
     },
     "execution_count": 59,
     "metadata": {},
     "output_type": "execute_result"
    }
   ],
   "source": [
    "nums = [1,2,2,3,1,4,2]\n",
    "deg_array(nums)"
   ]
  },
  {
   "cell_type": "code",
   "execution_count": 61,
   "metadata": {},
   "outputs": [
    {
     "data": {
      "text/plain": [
       "(2, 2)"
      ]
     },
     "execution_count": 61,
     "metadata": {},
     "output_type": "execute_result"
    }
   ],
   "source": [
    "def deg_array(nums):\n",
    "    # make a dictionary to get the number of times n is repeated\n",
    "    d = {}\n",
    "    for n in nums:\n",
    "        d.setdefault(n,0)\n",
    "        d[n] += 1\n",
    "        \n",
    "    # SORT by VALUE higher\n",
    "    sorted_by_value = {k: v for k, v in sorted(d.items(), \\\n",
    "                                               key=lambda v: v[1],\\\n",
    "                                               reverse = True)} \n",
    "    \n",
    "    # get the degree and list of numbers with this degree\n",
    "    vmax = 0 #max value\n",
    "    list_keys = [] #list of max values in case some values are tied\n",
    "    for k, v in sorted_by_value.items():\n",
    "        if v >= vmax:\n",
    "            vmax = v\n",
    "            list_keys.append(k)\n",
    "    \n",
    "    # perform a loop to get when the item appears and save the initial position and last position\n",
    "    di = {}\n",
    "    for e in list_keys:\n",
    "        i = 0\n",
    "        base = 0\n",
    "        for n in nums:\n",
    "            i = i+1            \n",
    "            if e == n:\n",
    "                if base == 0:\n",
    "                    base = i\n",
    "                di.setdefault(e,0)\n",
    "                di[e] = (i - base) + 1\n",
    "\n",
    "    # SORT by VALUE lower\n",
    "    sorted_by_value = {k: v for k, v in sorted(di.items(), \\\n",
    "                                               key=lambda v: v[1],\\\n",
    "                                               reverse = False)}\n",
    "\n",
    "    for k, v in sorted_by_value.items():\n",
    "        return(k,v)\n",
    "    \n",
    "nums = [1,2,2,3,1]\n",
    "deg_array(nums)"
   ]
  },
  {
   "cell_type": "code",
   "execution_count": 62,
   "metadata": {},
   "outputs": [
    {
     "data": {
      "text/plain": [
       "(2, 6)"
      ]
     },
     "execution_count": 62,
     "metadata": {},
     "output_type": "execute_result"
    }
   ],
   "source": [
    "nums = [1,2,2,3,1,4,2]\n",
    "deg_array(nums)"
   ]
  },
  {
   "cell_type": "code",
   "execution_count": null,
   "metadata": {},
   "outputs": [],
   "source": []
  }
 ],
 "metadata": {
  "kernelspec": {
   "display_name": "Python 3",
   "language": "python",
   "name": "python3"
  },
  "language_info": {
   "codemirror_mode": {
    "name": "ipython",
    "version": 3
   },
   "file_extension": ".py",
   "mimetype": "text/x-python",
   "name": "python",
   "nbconvert_exporter": "python",
   "pygments_lexer": "ipython3",
   "version": "3.7.4"
  }
 },
 "nbformat": 4,
 "nbformat_minor": 2
}
