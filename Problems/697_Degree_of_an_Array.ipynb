{
 "cells": [
  {
   "cell_type": "code",
   "execution_count": 63,
   "metadata": {},
   "outputs": [],
   "source": [
    "# 697. Degree of an Array\n",
    "#------------------------\n",
    "\n",
    "#Given a non-empty array of non-negative integers nums, the degree of this array \n",
    "#is defined as the maximum frequency of any one of its elements.\n",
    "\n",
    "#Your task is to find the smallest possible length of a (contiguous) subarray of nums, \n",
    "#that has the same degree as nums.\n",
    "\n",
    "#Example 1:\n",
    "\n",
    "#Input: nums = [1,2,2,3,1]\n",
    "#Output: 2\n",
    "#Explanation: \n",
    "#The input array has a degree of 2 because both elements 1 and 2 appear twice.\n",
    "#Of the subarrays that have the same degree:\n",
    "#[1, 2, 2, 3, 1], [1, 2, 2, 3], [2, 2, 3, 1], [1, 2, 2], [2, 2, 3], [2, 2]\n",
    "#The shortest length is 2. So return 2.\n",
    "\n",
    "#Example 2:\n",
    "\n",
    "#Input: nums = [1,2,2,3,1,4,2]\n",
    "#Output: 6\n",
    "#Explanation: \n",
    "#The degree is 3 because the element 2 is repeated 3 times.\n",
    "#So [2,2,3,1,4,2] is the shortest subarray, therefore returning 6."
   ]
  },
  {
   "cell_type": "code",
   "execution_count": 64,
   "metadata": {},
   "outputs": [
    {
     "name": "stdout",
     "output_type": "stream",
     "text": [
      "{1: 2, 2: 2, 3: 1}\n",
      "1 - 2\n",
      "2 - 2\n",
      "3 - 1\n",
      "list_keys  vmax\n",
      "[1, 2] 2\n",
      "{2: 2, 1: 5}\n",
      "2 - 2\n"
     ]
    },
    {
     "data": {
      "text/plain": [
       "2"
      ]
     },
     "execution_count": 64,
     "metadata": {},
     "output_type": "execute_result"
    }
   ],
   "source": [
    "def deg_array(nums):\n",
    "    # make a dictionary to get the number of times n is repeated\n",
    "    d = {}\n",
    "    for n in nums:\n",
    "        d.setdefault(n,0)\n",
    "        d[n] += 1\n",
    "        \n",
    "    # SORT by VALUE higher\n",
    "    sorted_by_value = {k: v for k, v in sorted(d.items(), \\\n",
    "                                               key=lambda v: v[1],\\\n",
    "                                               reverse = True)}\n",
    "    print(sorted_by_value)  \n",
    "    \n",
    "    # get the degree and list of numbers with this degree\n",
    "    vmax = 0 #max value\n",
    "    list_keys = [] #list of max values in case some values are tied\n",
    "    for k, v in sorted_by_value.items():\n",
    "        print(f\"{k} - {v}\")\n",
    "        if v >= vmax:\n",
    "            vmax = v\n",
    "            list_keys.append(k)\n",
    "          \n",
    "    print(\"list_keys  vmax\")\n",
    "    print(list_keys, vmax)\n",
    "    \n",
    "    # perform a loop to get when the item appears and save the initial position and last position\n",
    "    di = {}\n",
    "    for e in list_keys:\n",
    "        i = 0\n",
    "        base = 0\n",
    "        for n in nums:\n",
    "            i = i+1            \n",
    "            if e == n:\n",
    "                if base == 0:\n",
    "                    base = i\n",
    "                di.setdefault(e,0)\n",
    "                di[e] = (i - base) + 1\n",
    "\n",
    "    # SORT by VALUE lower\n",
    "    sorted_by_value = {k: v for k, v in sorted(di.items(), \\\n",
    "                                               key=lambda v: v[1],\\\n",
    "                                               reverse = False)}\n",
    "\n",
    "    print(sorted_by_value)  \n",
    "\n",
    "    for k, v in sorted_by_value.items():\n",
    "        print(f\"{k} - {v}\")\n",
    "        return(v)\n",
    "    \n",
    "nums = [1,2,2,3,1]\n",
    "deg_array(nums)\n",
    "\n"
   ]
  },
  {
   "cell_type": "code",
   "execution_count": 65,
   "metadata": {},
   "outputs": [
    {
     "name": "stdout",
     "output_type": "stream",
     "text": [
      "{2: 3, 1: 2, 3: 1, 4: 1}\n",
      "2 - 3\n",
      "1 - 2\n",
      "3 - 1\n",
      "4 - 1\n",
      "list_keys  vmax\n",
      "[2] 3\n",
      "{2: 6}\n",
      "2 - 6\n"
     ]
    },
    {
     "data": {
      "text/plain": [
       "6"
      ]
     },
     "execution_count": 65,
     "metadata": {},
     "output_type": "execute_result"
    }
   ],
   "source": [
    "nums = [1,2,2,3,1,4,2]\n",
    "deg_array(nums)"
   ]
  },
  {
   "cell_type": "code",
   "execution_count": 66,
   "metadata": {},
   "outputs": [
    {
     "data": {
      "text/plain": [
       "2"
      ]
     },
     "execution_count": 66,
     "metadata": {},
     "output_type": "execute_result"
    }
   ],
   "source": [
    "#\n",
    "# Clean version of code\n",
    "#\n",
    "def deg_array(nums):\n",
    "    # make a dictionary to get the number of times n is repeated\n",
    "    d = {}\n",
    "    for n in nums:\n",
    "        d.setdefault(n,0)\n",
    "        d[n] += 1\n",
    "        \n",
    "    # SORT by VALUE higher\n",
    "    sorted_by_value = {k: v for k, v in sorted(d.items(), \\\n",
    "                                               key=lambda v: v[1],\\\n",
    "                                               reverse = True)} \n",
    "    \n",
    "    # get the degree and list of numbers with this degree\n",
    "    vmax = 0 #max value\n",
    "    list_keys = [] #list of max values in case some values are tied\n",
    "    for k, v in sorted_by_value.items():\n",
    "        if v >= vmax:\n",
    "            vmax = v\n",
    "            list_keys.append(k)\n",
    "    \n",
    "    # perform a loop to get when the item appears and save the initial position and last position\n",
    "    di = {}\n",
    "    for e in list_keys:\n",
    "        i = 0\n",
    "        base = 0\n",
    "        for n in nums:\n",
    "            i = i+1            \n",
    "            if e == n:\n",
    "                if base == 0:\n",
    "                    base = i\n",
    "                di.setdefault(e,0)\n",
    "                di[e] = (i - base) + 1\n",
    "\n",
    "    # SORT by VALUE lower\n",
    "    sorted_by_value = {k: v for k, v in sorted(di.items(), \\\n",
    "                                               key=lambda v: v[1],\\\n",
    "                                               reverse = False)}\n",
    "\n",
    "    for k, v in sorted_by_value.items():\n",
    "        return(v)\n",
    "    \n",
    "nums = [1,2,2,3,1]\n",
    "deg_array(nums)"
   ]
  },
  {
   "cell_type": "code",
   "execution_count": 67,
   "metadata": {},
   "outputs": [
    {
     "data": {
      "text/plain": [
       "6"
      ]
     },
     "execution_count": 67,
     "metadata": {},
     "output_type": "execute_result"
    }
   ],
   "source": [
    "nums = [1,2,2,3,1,4,2]\n",
    "deg_array(nums)"
   ]
  },
  {
   "cell_type": "code",
   "execution_count": 79,
   "metadata": {},
   "outputs": [],
   "source": [
    "#\n",
    "# Optimal code O(n) with 3 dictionaries\n",
    "#\n",
    "def deg_of_array(nums):\n",
    "    left, right, count = {}, {}, {}\n",
    "    for i, x in enumerate(nums):\n",
    "        if x not in left:\n",
    "            left[x] = i\n",
    "            print(left)\n",
    "        right[x] = i\n",
    "        print(\"r\", end=\" \")\n",
    "        print(right)\n",
    "        count[x] = count.get(x,0)+1\n",
    "        print(\"count = \", end=\" \")\n",
    "        print(count)\n",
    "        \n",
    "    ans = len(nums)\n",
    "    degree = max(count.values())\n",
    "    print(\"degree =\", end=\" \")\n",
    "    print(degree)\n",
    "    for x in count:\n",
    "        if count[x] == degree:\n",
    "            ans = min(ans, right[x] - left[x] + 1)\n",
    "            print(ans)"
   ]
  },
  {
   "cell_type": "code",
   "execution_count": 80,
   "metadata": {},
   "outputs": [
    {
     "name": "stdout",
     "output_type": "stream",
     "text": [
      "{1: 0}\n",
      "r {1: 0}\n",
      "count =  {1: 1}\n",
      "{1: 0, 2: 1}\n",
      "r {1: 0, 2: 1}\n",
      "count =  {1: 1, 2: 1}\n",
      "r {1: 0, 2: 2}\n",
      "count =  {1: 1, 2: 2}\n",
      "{1: 0, 2: 1, 3: 3}\n",
      "r {1: 0, 2: 2, 3: 3}\n",
      "count =  {1: 1, 2: 2, 3: 1}\n",
      "r {1: 4, 2: 2, 3: 3}\n",
      "count =  {1: 2, 2: 2, 3: 1}\n",
      "{1: 0, 2: 1, 3: 3, 4: 5}\n",
      "r {1: 4, 2: 2, 3: 3, 4: 5}\n",
      "count =  {1: 2, 2: 2, 3: 1, 4: 1}\n",
      "r {1: 4, 2: 6, 3: 3, 4: 5}\n",
      "count =  {1: 2, 2: 3, 3: 1, 4: 1}\n",
      "degree = 3\n",
      "6\n"
     ]
    }
   ],
   "source": [
    "nums = [1,2,2,3,1,4,2]\n",
    "deg_of_array(nums)"
   ]
  },
  {
   "cell_type": "code",
   "execution_count": null,
   "metadata": {},
   "outputs": [],
   "source": []
  }
 ],
 "metadata": {
  "kernelspec": {
   "display_name": "Python 3",
   "language": "python",
   "name": "python3"
  },
  "language_info": {
   "codemirror_mode": {
    "name": "ipython",
    "version": 3
   },
   "file_extension": ".py",
   "mimetype": "text/x-python",
   "name": "python",
   "nbconvert_exporter": "python",
   "pygments_lexer": "ipython3",
   "version": "3.7.4"
  }
 },
 "nbformat": 4,
 "nbformat_minor": 2
}
