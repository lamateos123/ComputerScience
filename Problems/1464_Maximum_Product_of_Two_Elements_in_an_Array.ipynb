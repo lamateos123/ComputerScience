{
 "cells": [
  {
   "cell_type": "code",
   "execution_count": 1,
   "metadata": {},
   "outputs": [],
   "source": [
    "# 1464. Maximum Product of Two Elements in an Array\n",
    "#--------------------------------------------------\n",
    "'''\n",
    "Given the array of integers nums, you will choose two different indices i and j \n",
    "of that array. Return the maximum value of (nums[i]-1)*(nums[j]-1).\n",
    "\n",
    " \n",
    "\n",
    "Example 1:\n",
    "\n",
    "Input: nums = [3,4,5,2]\n",
    "Output: 12 \n",
    "Explanation: If you choose the indices i=1 and j=2 (indexed from 0), you will get \n",
    "the maximum value, that is, (nums[1]-1)*(nums[2]-1) = (4-1)*(5-1) = 3*4 = 12. \n",
    "\n",
    "Example 2:\n",
    "\n",
    "Input: nums = [1,5,4,5]\n",
    "Output: 16\n",
    "Explanation: Choosing the indices i=1 and j=3 (indexed from 0), you will get the \n",
    "maximum value of (5-1)*(5-1) = 16.\n",
    "\n",
    "Example 3:\n",
    "\n",
    "Input: nums = [3,7]\n",
    "Output: 12\n",
    "\n",
    "'''\n"
   ]
  },
  {
   "cell_type": "code",
   "execution_count": 6,
   "metadata": {},
   "outputs": [
    {
     "name": "stdout",
     "output_type": "stream",
     "text": [
      "5 4\n"
     ]
    },
    {
     "data": {
      "text/plain": [
       "12"
      ]
     },
     "execution_count": 6,
     "metadata": {},
     "output_type": "execute_result"
    }
   ],
   "source": [
    "def maxP(nums):\n",
    "    max_number1 = 0\n",
    "    max_number2 = 0\n",
    "    taken = 0\n",
    "    for i in range(len(nums)):\n",
    "        if nums[i] > max_number1:\n",
    "            max_number1 = nums[i]\n",
    "            taken = i\n",
    "    for i in range(len(nums)):\n",
    "        if nums[i] > max_number2 and i != taken:\n",
    "            max_number2 = nums[i]\n",
    "    print(max_number1, max_number2)\n",
    "    return (max_number1 - 1) * (max_number2 - 1)\n",
    "    \n",
    "nums = [3,4,5,2]\n",
    "maxP(nums)"
   ]
  },
  {
   "cell_type": "code",
   "execution_count": 15,
   "metadata": {},
   "outputs": [
    {
     "name": "stdout",
     "output_type": "stream",
     "text": [
      "[2, 3, 5, 4]\n",
      "[5, 4]\n"
     ]
    },
    {
     "data": {
      "text/plain": [
       "12"
      ]
     },
     "execution_count": 15,
     "metadata": {},
     "output_type": "execute_result"
    }
   ],
   "source": [
    "import heapq\n",
    "\n",
    "def maxPheap(nums):\n",
    "    heapq.heapify(nums)\n",
    "    print(list(nums))\n",
    "    ns = heapq.nlargest(2,nums)\n",
    "    print(ns)\n",
    "    return (ns[0]-1) * (ns[1]-1)\n",
    "nums = [3,4,5,2]\n",
    "maxPheap(nums)"
   ]
  },
  {
   "cell_type": "code",
   "execution_count": 10,
   "metadata": {},
   "outputs": [
    {
     "name": "stdout",
     "output_type": "stream",
     "text": [
      "heap_list [0, 3, 7]\n",
      "DOWN i*2 2 <= self.current_size 2\n",
      "Parent i=1 3 > 2 with value 7\n",
      "[0, 7, 3]\n",
      "DOWN i*2 2 <= self.current_size 1\n"
     ]
    },
    {
     "data": {
      "text/plain": [
       "7"
      ]
     },
     "execution_count": 10,
     "metadata": {},
     "output_type": "execute_result"
    }
   ],
   "source": [
    "# Implementing binary heap \n",
    "#--------------------------\n",
    "'''\n",
    "Ideally the structure is a complete tree, which can be represented as a list.\n",
    "Insert [0] to the list, for integer division purpouses\n",
    "In the list:\n",
    "            The left child of a parent p is at 2p\n",
    "            The right child of a parent p is at 2p + 1 \n",
    "            The parent node p can be found with integer division. Given a node at position n,\n",
    "            the parent is at position n/2\n",
    "'''\n",
    "class BinaryHeap:\n",
    "    def __init__(self):\n",
    "        self.heap = [0]\n",
    "        self.current_size = 0\n",
    "            \n",
    "    def buildHeap_List(self, lista):\n",
    "        i = len(lista)//2\n",
    "        self.current_size = len(lista)\n",
    "        self.heap_list = [0] + lista[:]\n",
    "        print(f'heap_list {self.heap_list}')\n",
    "        while i>0:\n",
    "            self.percolateDown(i)\n",
    "            i = i-1\n",
    "        print(self.heap_list)\n",
    "    \n",
    "    def percolateDown(self, i):\n",
    "        print(f'DOWN i*2 {i*2} <= self.current_size {self.current_size}')\n",
    "        while (i*2) <= self.current_size:\n",
    "            mc = self.maxChild(i)#self.minChild(i)\n",
    "            if self.heap_list[i] < self.heap_list[mc]:\n",
    "                self.heap_list[i], self.heap_list[mc] = self.heap_list[mc], self.heap_list[i]\n",
    "            i = mc\n",
    "    \n",
    "    def minChild(self, i):\n",
    "        if (i*2+1) > self.current_size:\n",
    "            print(f'Parent i={i} {i*2+1} > {self.current_size} with value {self.heap_list[i*2]}')\n",
    "            return i*2 \n",
    "        else:\n",
    "            if self.heap_list[i*2] < self.heap_list[i*2+1]:\n",
    "                print(f'Left i={i*2} with value {self.heap_list[i*2]}')\n",
    "                return i*2 #left child\n",
    "            else:\n",
    "                print(f'Right i={i*2+1} with value {self.heap_list[i*2+1]}')\n",
    "                return i*2+1 # right child\n",
    "    \n",
    "    def maxChild(self, i):\n",
    "        if (i*2+1) > self.current_size:\n",
    "            print(f'Parent i={i} {i*2+1} > {self.current_size} with value {self.heap_list[i*2]}')\n",
    "            return i*2 \n",
    "        else:\n",
    "            if self.heap_list[i*2] > self.heap_list[i*2+1]:\n",
    "                print(f'Left i={i*2} with value {self.heap_list[i*2]}')\n",
    "                return i*2 #left child\n",
    "            else:\n",
    "                print(f'Right i={i*2+1} with value {self.heap_list[i*2+1]}')\n",
    "                return i*2+1 # right child\n",
    "    \n",
    "    def delMax(self):\n",
    "        root_val = self.heap_list[1] # root element\n",
    "        self.heap_list[1] = self.heap_list[self.current_size] # set the last element as root\n",
    "        self.current_size = self.current_size - 1\n",
    "        self.heap_list.pop() # remove last element\n",
    "        self.percolateDown(1)\n",
    "        return root_val\n",
    "    \n",
    "nums = [3,4,5,2]\n",
    "nums = [1,5,4,5]\n",
    "nums = [3,7]\n",
    "bh = BinaryHeap()\n",
    "bh.buildHeap_List(nums)\n",
    "bh.delMax()"
   ]
  },
  {
   "cell_type": "code",
   "execution_count": 11,
   "metadata": {},
   "outputs": [
    {
     "name": "stdout",
     "output_type": "stream",
     "text": [
      "DOWN i*2 2 <= self.current_size 0\n"
     ]
    },
    {
     "data": {
      "text/plain": [
       "3"
      ]
     },
     "execution_count": 11,
     "metadata": {},
     "output_type": "execute_result"
    }
   ],
   "source": [
    "bh.delMax()"
   ]
  },
  {
   "cell_type": "code",
   "execution_count": null,
   "metadata": {},
   "outputs": [],
   "source": []
  },
  {
   "cell_type": "code",
   "execution_count": null,
   "metadata": {},
   "outputs": [],
   "source": []
  },
  {
   "cell_type": "code",
   "execution_count": null,
   "metadata": {},
   "outputs": [],
   "source": []
  },
  {
   "cell_type": "code",
   "execution_count": null,
   "metadata": {},
   "outputs": [],
   "source": []
  },
  {
   "cell_type": "code",
   "execution_count": null,
   "metadata": {},
   "outputs": [],
   "source": []
  },
  {
   "cell_type": "code",
   "execution_count": null,
   "metadata": {},
   "outputs": [],
   "source": []
  },
  {
   "cell_type": "code",
   "execution_count": null,
   "metadata": {},
   "outputs": [],
   "source": []
  },
  {
   "cell_type": "code",
   "execution_count": null,
   "metadata": {},
   "outputs": [],
   "source": []
  }
 ],
 "metadata": {
  "kernelspec": {
   "display_name": "Python 3",
   "language": "python",
   "name": "python3"
  },
  "language_info": {
   "codemirror_mode": {
    "name": "ipython",
    "version": 3
   },
   "file_extension": ".py",
   "mimetype": "text/x-python",
   "name": "python",
   "nbconvert_exporter": "python",
   "pygments_lexer": "ipython3",
   "version": "3.7.4"
  }
 },
 "nbformat": 4,
 "nbformat_minor": 2
}
