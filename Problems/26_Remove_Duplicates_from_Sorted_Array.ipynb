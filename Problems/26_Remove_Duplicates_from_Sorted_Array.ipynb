{
 "cells": [
  {
   "cell_type": "code",
   "execution_count": 9,
   "metadata": {},
   "outputs": [],
   "source": [
    "# 26. Remove Duplicates from Sorted Array\n",
    "#-----------------------------------------\n",
    "\n",
    "#Example 1:\n",
    "#Input: nums = [1,1,2]\n",
    "#Output: 2, nums = [1,2,_]\n",
    "#Explanation: Your function should return k = 2, with the first two \n",
    "#elements of nums being 1 and 2 respectively.\n",
    "#It does not matter what you leave beyond the returned k \n",
    "#(hence they are underscores)\n",
    "\n",
    "# Do not allocate extra space for another array. You must do this by \n",
    "# modifying the input array in-place with O(1) extra memory.\n",
    "\n",
    "#Example 2:\n",
    "#Input: nums = [0,0,1,1,1,2,2,3,3,4]\n",
    "#Output: 5, nums = [0,1,2,3,4,_,_,_,_,_]"
   ]
  },
  {
   "cell_type": "code",
   "execution_count": 10,
   "metadata": {},
   "outputs": [
    {
     "name": "stdout",
     "output_type": "stream",
     "text": [
      "[1, 1, 2]\n",
      "[1, 2, 2]\n"
     ]
    },
    {
     "data": {
      "text/plain": [
       "2"
      ]
     },
     "execution_count": 10,
     "metadata": {},
     "output_type": "execute_result"
    }
   ],
   "source": [
    "def remove_duplicates(nums):\n",
    "    diff_nums_index = 0\n",
    "    same_nums_index = 0\n",
    "    counter = 0\n",
    "    for i in range(0,len(nums)-1):\n",
    "        if nums[i] != nums[i+1]:\n",
    "            diff_nums_index = i+1\n",
    "            nums[diff_nums_index - same_nums_index] = nums[diff_nums_index]\n",
    "            counter += 1\n",
    "        else:\n",
    "            same_nums_index += 1\n",
    "        print(nums)\n",
    "    return counter + 1\n",
    "    \n",
    "nums = [1,1,2]\n",
    "remove_duplicates(nums)"
   ]
  },
  {
   "cell_type": "code",
   "execution_count": 11,
   "metadata": {},
   "outputs": [
    {
     "name": "stdout",
     "output_type": "stream",
     "text": [
      "[0, 0, 1, 1, 1, 2, 2, 3, 3, 4]\n",
      "[0, 1, 1, 1, 1, 2, 2, 3, 3, 4]\n",
      "[0, 1, 1, 1, 1, 2, 2, 3, 3, 4]\n",
      "[0, 1, 1, 1, 1, 2, 2, 3, 3, 4]\n",
      "[0, 1, 2, 1, 1, 2, 2, 3, 3, 4]\n",
      "[0, 1, 2, 1, 1, 2, 2, 3, 3, 4]\n",
      "[0, 1, 2, 3, 1, 2, 2, 3, 3, 4]\n",
      "[0, 1, 2, 3, 1, 2, 2, 3, 3, 4]\n",
      "[0, 1, 2, 3, 4, 2, 2, 3, 3, 4]\n"
     ]
    },
    {
     "data": {
      "text/plain": [
       "5"
      ]
     },
     "execution_count": 11,
     "metadata": {},
     "output_type": "execute_result"
    }
   ],
   "source": [
    "nums = [0,0,1,1,1,2,2,3,3,4]\n",
    "remove_duplicates(nums)"
   ]
  },
  {
   "cell_type": "code",
   "execution_count": null,
   "metadata": {},
   "outputs": [],
   "source": []
  }
 ],
 "metadata": {
  "kernelspec": {
   "display_name": "Python 3",
   "language": "python",
   "name": "python3"
  },
  "language_info": {
   "codemirror_mode": {
    "name": "ipython",
    "version": 3
   },
   "file_extension": ".py",
   "mimetype": "text/x-python",
   "name": "python",
   "nbconvert_exporter": "python",
   "pygments_lexer": "ipython3",
   "version": "3.7.4"
  }
 },
 "nbformat": 4,
 "nbformat_minor": 2
}
