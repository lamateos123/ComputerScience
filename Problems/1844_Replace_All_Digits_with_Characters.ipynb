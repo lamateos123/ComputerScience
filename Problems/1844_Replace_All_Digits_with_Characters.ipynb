{
 "cells": [
  {
   "cell_type": "code",
   "execution_count": 1,
   "metadata": {},
   "outputs": [],
   "source": [
    "# 1844. Replace All Digits with Characters\n",
    "'''\n",
    "You are given a 0-indexed string s that has lowercase English \n",
    "letters in its even indices and digits in its odd indices.\n",
    "\n",
    "There is a function shift(c, x), where c is a character and x is \n",
    "a digit, that returns the xth character after c.\n",
    "\n",
    "    For example, shift('a', 5) = 'f' and shift('x', 0) = 'x'.\n",
    "\n",
    "For every odd index i, you want to replace the digit s[i] with \n",
    "shift(s[i-1], s[i]).\n",
    "\n",
    "Return s after replacing all digits. It is guaranteed that \n",
    "shift(s[i-1], s[i]) will never exceed 'z'.\n",
    "\n",
    "Example 1:\n",
    "\n",
    "Input: s = \"a1c1e1\"\n",
    "Output: \"abcdef\"\n",
    "Explanation: The digits are replaced as follows:\n",
    "- s[1] -> shift('a',1) = 'b'\n",
    "- s[3] -> shift('c',1) = 'd'\n",
    "- s[5] -> shift('e',1) = 'f'\n",
    "\n",
    "Example 2:\n",
    "\n",
    "Input: s = \"a1b2c3d4e\"\n",
    "Output: \"abbdcfdhe\"\n",
    "Explanation: The digits are replaced as follows:\n",
    "- s[1] -> shift('a',1) = 'b'\n",
    "- s[3] -> shift('b',2) = 'd'\n",
    "- s[5] -> shift('c',3) = 'f'\n",
    "- s[7] -> shift('d',4) = 'h'\n",
    "'''"
   ]
  },
  {
   "cell_type": "code",
   "execution_count": 20,
   "metadata": {},
   "outputs": [
    {
     "data": {
      "text/plain": [
       "{0: 'a',\n",
       " 1: 'b',\n",
       " 2: 'c',\n",
       " 3: 'd',\n",
       " 4: 'e',\n",
       " 5: 'f',\n",
       " 6: 'g',\n",
       " 7: 'h',\n",
       " 8: 'i',\n",
       " 9: 'j',\n",
       " 10: 'k',\n",
       " 11: 'l',\n",
       " 12: 'm',\n",
       " 13: 'n',\n",
       " 14: 'o',\n",
       " 15: 'p',\n",
       " 16: 'q',\n",
       " 17: 'r',\n",
       " 18: 's',\n",
       " 19: 't',\n",
       " 20: 'u',\n",
       " 21: 'v',\n",
       " 22: 'w',\n",
       " 23: 'x',\n",
       " 24: 'y',\n",
       " 25: 'z'}"
      ]
     },
     "execution_count": 20,
     "metadata": {},
     "output_type": "execute_result"
    }
   ],
   "source": [
    "d = {}\n",
    "for i in range(97,123,1):\n",
    "    j = i-97\n",
    "    char = chr(i)\n",
    "    d[j] = chr(i)\n",
    "\n",
    "d"
   ]
  },
  {
   "cell_type": "code",
   "execution_count": 41,
   "metadata": {},
   "outputs": [
    {
     "name": "stdout",
     "output_type": "stream",
     "text": [
      "6\n",
      "{0: 'a', 1: 'b', 2: 'c', 3: 'd', 4: 'e', 5: 'f', 6: 'g', 7: 'h', 8: 'i', 9: 'j', 10: 'k', 11: 'l', 12: 'm', 13: 'n', 14: 'o', 15: 'p', 16: 'q', 17: 'r', 18: 's', 19: 't', 20: 'u', 21: 'v', 22: 'w', 23: 'x', 24: 'y', 25: 'z'}\n",
      "{'h': 7, 'b': 1, 'i': 8, 'a': 0, 'y': 24, 't': 19, 's': 18, 'c': 2, 'f': 5, 'l': 11, 'w': 22, 'o': 14, 'n': 13, 'k': 10, 'm': 12, 'x': 23, 'v': 21, 'j': 9, 'u': 20, 'g': 6, 'p': 15, 'e': 4, 'z': 25, 'd': 3, 'r': 17, 'q': 16}\n"
     ]
    },
    {
     "data": {
      "text/plain": [
       "'abcdef'"
      ]
     },
     "execution_count": 41,
     "metadata": {},
     "output_type": "execute_result"
    }
   ],
   "source": [
    "def repDC(s):\n",
    "    ans = \"\"\n",
    "    d_number_letter = {}\n",
    "    d_letter_number = {}\n",
    "    print(len(s))\n",
    "\n",
    "    for i in range(97,123,1):\n",
    "        j = i-97\n",
    "        char = chr(i)\n",
    "        d_number_letter[j] = chr(i)\n",
    "        d_letter_number[chr(i)] = j\n",
    "        \n",
    "    print(d_number_letter)\n",
    "    print(d_letter_number)\n",
    " \n",
    "    for i in range(len(s)):\n",
    "        if i%2 == 0:\n",
    "            ans += s[i]\n",
    "        else:\n",
    "            temp = d_letter_number[s[i-1]]\n",
    "            ans += d_number_letter[int(temp)+int(s[i])]\n",
    "        \n",
    "    return ans\n",
    "\n",
    "s = \"a1c1e1\"\n",
    "#s = \"a1b2c3d4e\"\n",
    "repDC(s)"
   ]
  },
  {
   "cell_type": "code",
   "execution_count": null,
   "metadata": {},
   "outputs": [],
   "source": []
  }
 ],
 "metadata": {
  "kernelspec": {
   "display_name": "Python 3",
   "language": "python",
   "name": "python3"
  },
  "language_info": {
   "codemirror_mode": {
    "name": "ipython",
    "version": 3
   },
   "file_extension": ".py",
   "mimetype": "text/x-python",
   "name": "python",
   "nbconvert_exporter": "python",
   "pygments_lexer": "ipython3",
   "version": "3.5.2"
  }
 },
 "nbformat": 4,
 "nbformat_minor": 2
}
