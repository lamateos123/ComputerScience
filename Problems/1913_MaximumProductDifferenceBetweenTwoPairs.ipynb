{
 "cells": [
  {
   "cell_type": "code",
   "execution_count": 1,
   "metadata": {},
   "outputs": [
    {
     "data": {
      "text/plain": [
       "'\\n\\n'"
      ]
     },
     "execution_count": 1,
     "metadata": {},
     "output_type": "execute_result"
    }
   ],
   "source": [
    "# 1913. Maximum Product Difference Between Two Pairs\n",
    "#---------------------------------------------------\n",
    "'''\n",
    "The product difference between two pairs (a, b) and (c, d) is defined as (a * b) - (c * d).\n",
    "\n",
    "    For example, the product difference between (5, 6) and (2, 7) is (5 * 6) - (2 * 7) = 16.\n",
    "\n",
    "Given an integer array nums, choose four distinct indices w, x, y, and z such that the product difference between pairs (nums[w], nums[x]) and (nums[y], nums[z]) is maximized.\n",
    "\n",
    "Return the maximum such product difference.\n",
    "\n",
    " \n",
    "\n",
    "Example 1:\n",
    "\n",
    "Input: nums = [5,6,2,7,4]\n",
    "Output: 34\n",
    "Explanation: We can choose indices 1 and 3 for the first pair (6, 7) and indices 2 and 4 for the second pair (2, 4).\n",
    "The product difference is (6 * 7) - (2 * 4) = 34.\n",
    "\n",
    "'''\n"
   ]
  },
  {
   "cell_type": "code",
   "execution_count": 5,
   "metadata": {},
   "outputs": [
    {
     "data": {
      "text/plain": [
       "34"
      ]
     },
     "execution_count": 5,
     "metadata": {},
     "output_type": "execute_result"
    }
   ],
   "source": [
    "def maxP(nums):\n",
    "    nums.sort()\n",
    "    return (nums[-2]*nums[-1])-(nums[0]*nums[1])\n",
    "    \n",
    "    \n",
    "nums = [5,6,2,7,4]\n",
    "maxP(nums)"
   ]
  }
 ],
 "metadata": {
  "kernelspec": {
   "display_name": "Python 3",
   "language": "python",
   "name": "python3"
  },
  "language_info": {
   "codemirror_mode": {
    "name": "ipython",
    "version": 3
   },
   "file_extension": ".py",
   "mimetype": "text/x-python",
   "name": "python",
   "nbconvert_exporter": "python",
   "pygments_lexer": "ipython3",
   "version": "3.7.4"
  }
 },
 "nbformat": 4,
 "nbformat_minor": 2
}
