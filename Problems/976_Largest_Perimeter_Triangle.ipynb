{
 "cells": [
  {
   "cell_type": "code",
   "execution_count": 1,
   "metadata": {},
   "outputs": [],
   "source": [
    "# 976. Largest Perimeter Triangle\n",
    "'''\n",
    "Given an integer array nums, return the largest perimeter of a triangle with a \n",
    "non-zero area, formed from three of these lengths. If it is impossible to form \n",
    "any triangle of a non-zero area, return 0.\n",
    "\n",
    "a<= b<= c\n",
    "a+b > c\n",
    "\n",
    "Example 1:\n",
    "\n",
    "Input: nums = [2,1,2]\n",
    "Output: 5\n",
    "\n",
    "Example 2:\n",
    "\n",
    "Input: nums = [1,2,1]\n",
    "Output: 0\n",
    "\n",
    "'''"
   ]
  },
  {
   "cell_type": "code",
   "execution_count": 6,
   "metadata": {},
   "outputs": [
    {
     "name": "stdout",
     "output_type": "stream",
     "text": [
      "0\n"
     ]
    }
   ],
   "source": [
    "def largestPT(nums):\n",
    "    nums.sort(reverse=True)\n",
    "    #c = nums[0]\n",
    "    for i in range(len(nums)-3):\n",
    "        if nums[i+2]+nums[i+1] > nums[i]:\n",
    "            return nums[i+2]+nums[i+1]+nums[i]\n",
    "    return 0\n",
    "    \n",
    "    \n",
    "nums = [2,1,2]\n",
    "print(largestPT(nums))"
   ]
  },
  {
   "cell_type": "code",
   "execution_count": null,
   "metadata": {},
   "outputs": [],
   "source": []
  }
 ],
 "metadata": {
  "kernelspec": {
   "display_name": "Python 3",
   "language": "python",
   "name": "python3"
  },
  "language_info": {
   "codemirror_mode": {
    "name": "ipython",
    "version": 3
   },
   "file_extension": ".py",
   "mimetype": "text/x-python",
   "name": "python",
   "nbconvert_exporter": "python",
   "pygments_lexer": "ipython3",
   "version": "3.8.10"
  }
 },
 "nbformat": 4,
 "nbformat_minor": 4
}
