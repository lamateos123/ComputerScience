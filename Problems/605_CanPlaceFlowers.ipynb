{
 "cells": [
  {
   "cell_type": "code",
   "execution_count": null,
   "metadata": {},
   "outputs": [],
   "source": [
    "# 605. Can Place Flowers\n",
    "'''\n",
    "You have a long flowerbed in which some of the plots are planted, \n",
    "and some are not. However, flowers cannot be planted in adjacent plots.\n",
    "\n",
    "Given an integer array flowerbed containing 0's and 1's, where 0 means \n",
    "empty and 1 means not empty, and an integer n, return if n new flowers \n",
    "can be planted in the flowerbed without violating the no-adjacent-flowers rule.\n",
    "\n",
    "Example 1:\n",
    "\n",
    "Input: flowerbed = [1,0,0,0,1], n = 1\n",
    "Output: true\n",
    "\n",
    "Example 2:\n",
    "\n",
    "Input: flowerbed = [1,0,0,0,1], n = 2\n",
    "Output: false\n",
    "\n",
    "'''"
   ]
  },
  {
   "cell_type": "code",
   "execution_count": 49,
   "metadata": {},
   "outputs": [],
   "source": [
    "def flower(flowerbed, n):\n",
    "    c = 0 \n",
    "    nums = flowerbed\n",
    "    l = len(nums)\n",
    "    \n",
    "    if l == 1:\n",
    "        if nums[0]==0:\n",
    "            if n!=0:\n",
    "                c+=1\n",
    "            else:\n",
    "                return True\n",
    "            \n",
    "    if l > 1:\n",
    "        if nums[0]==0 and nums[1]==0:\n",
    "            nums[0]=1\n",
    "            c+=1\n",
    "        if nums[-1]==0 and nums[-2]==0:\n",
    "            nums[-1]=1\n",
    "            c+=1\n",
    "        for i in range(1,l-1):\n",
    "            if nums[i-1]==0 and nums[i]==0 and nums[i+1]==0:\n",
    "                nums[i]=1\n",
    "                c+=1\n",
    "    return c>=n"
   ]
  },
  {
   "cell_type": "code",
   "execution_count": 50,
   "metadata": {},
   "outputs": [
    {
     "data": {
      "text/plain": [
       "True"
      ]
     },
     "execution_count": 50,
     "metadata": {},
     "output_type": "execute_result"
    }
   ],
   "source": [
    "flowerbed = [1,0,0,0,1]\n",
    "n = 1\n",
    "flower(flowerbed, n)"
   ]
  },
  {
   "cell_type": "code",
   "execution_count": 51,
   "metadata": {},
   "outputs": [],
   "source": [
    "def flower(flowerbed, n):\n",
    "    c = 0\n",
    "    prev = 0\n",
    "    for cur in flowerbed:\n",
    "        if cur == 1:\n",
    "            if prev == 1:\n",
    "                c -= 1\n",
    "            prev = 1\n",
    "        else:\n",
    "            if prev == 1:\n",
    "                prev = 0\n",
    "            else:\n",
    "                c += 1\n",
    "                prev = 1\n",
    "    return c>=n"
   ]
  },
  {
   "cell_type": "code",
   "execution_count": 52,
   "metadata": {},
   "outputs": [
    {
     "data": {
      "text/plain": [
       "True"
      ]
     },
     "execution_count": 52,
     "metadata": {},
     "output_type": "execute_result"
    }
   ],
   "source": [
    "flowerbed = [1,0,0,0,1]\n",
    "n = 1\n",
    "flower(flowerbed, n)\n"
   ]
  }
 ],
 "metadata": {
  "kernelspec": {
   "display_name": "Python 3",
   "language": "python",
   "name": "python3"
  },
  "language_info": {
   "codemirror_mode": {
    "name": "ipython",
    "version": 3
   },
   "file_extension": ".py",
   "mimetype": "text/x-python",
   "name": "python",
   "nbconvert_exporter": "python",
   "pygments_lexer": "ipython3",
   "version": "3.7.4"
  }
 },
 "nbformat": 4,
 "nbformat_minor": 2
}
