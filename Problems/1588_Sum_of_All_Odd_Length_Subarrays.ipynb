{
 "cells": [
  {
   "cell_type": "code",
   "execution_count": 1,
   "metadata": {},
   "outputs": [],
   "source": [
    "# 1588. Sum of All Odd Length Subarrays\n",
    "#----------------------------------------\n",
    "'''\n",
    "Given an array of positive integers arr, calculate the sum of all possible odd-length subarrays.\n",
    "\n",
    "A subarray is a contiguous subsequence of the array.\n",
    "\n",
    "Return the sum of all odd-length subarrays of arr.\n",
    "'''"
   ]
  },
  {
   "cell_type": "code",
   "execution_count": 109,
   "metadata": {},
   "outputs": [
    {
     "name": "stdout",
     "output_type": "stream",
     "text": [
      "5\n",
      "0 1 [1]\n",
      "1 1 [4]\n",
      "2 1 [2]\n",
      "3 1 [5]\n",
      "4 1 [3]\n",
      "0 3 [1, 4, 2]\n",
      "1 3 [4, 2, 5]\n",
      "2 3 [2, 5, 3]\n",
      "0 5 [1, 4, 2, 5, 3]\n"
     ]
    },
    {
     "data": {
      "text/plain": [
       "58"
      ]
     },
     "execution_count": 109,
     "metadata": {},
     "output_type": "execute_result"
    }
   ],
   "source": [
    "def sumOddLen(arr):\n",
    "    total = 0\n",
    "    print(len(arr))\n",
    "    for window in range(1,len(arr)+1,2):\n",
    "        for i in range(len(arr)-window+1):\n",
    "            print(i, window, arr[i:i+window])\n",
    "            total += sum(arr[i:i+window])\n",
    "    return total\n",
    "    \n",
    "arr = [1,4,2,5,3]\n",
    "#arr = [1,2] #3\n",
    "#arr = [7,6,8,6] #68  27 + 21 + 20\n",
    "\n",
    "sumOddLen(arr)"
   ]
  },
  {
   "cell_type": "code",
   "execution_count": 112,
   "metadata": {},
   "outputs": [
    {
     "data": {
      "text/plain": [
       "58"
      ]
     },
     "execution_count": 112,
     "metadata": {},
     "output_type": "execute_result"
    }
   ],
   "source": [
    "def sumOddLen(arr):\n",
    "    n = len(arr)\n",
    "    total = 0\n",
    "    for start in range(n):\n",
    "        sub_sum = 0\n",
    "        for i in range(start, n):\n",
    "            sub_sum += arr[i]\n",
    "            if not (i-start)%2:\n",
    "                total +=sub_sum\n",
    "    return total\n",
    "\n",
    "arr = [1,4,2,5,3]\n",
    "#arr = [1,2] #3\n",
    "#arr = [7,6,8,6] #68  27 + 21 + 20\n",
    "\n",
    "sumOddLen(arr)"
   ]
  },
  {
   "cell_type": "code",
   "execution_count": null,
   "metadata": {},
   "outputs": [],
   "source": []
  }
 ],
 "metadata": {
  "kernelspec": {
   "display_name": "Python 3",
   "language": "python",
   "name": "python3"
  },
  "language_info": {
   "codemirror_mode": {
    "name": "ipython",
    "version": 3
   },
   "file_extension": ".py",
   "mimetype": "text/x-python",
   "name": "python",
   "nbconvert_exporter": "python",
   "pygments_lexer": "ipython3",
   "version": "3.7.4"
  }
 },
 "nbformat": 4,
 "nbformat_minor": 2
}
