{
 "cells": [
  {
   "cell_type": "code",
   "execution_count": 1,
   "metadata": {},
   "outputs": [],
   "source": [
    "# 66. Plus One\n",
    "'''\n",
    "You are given a large integer represented as an integer array digits, where each \n",
    "digits[i] is the ith digit of the integer. The digits are ordered from most \n",
    "significant to least significant in left-to-right order. The large integer \n",
    "does not contain any leading 0's.\n",
    "\n",
    "Increment the large integer by one and return the resulting array of digits.\n",
    "\n",
    "Example 1:\n",
    "\n",
    "Input: digits = [1,2,3]\n",
    "Output: [1,2,4]\n",
    "Explanation: The array represents the integer 123.\n",
    "Incrementing by one gives 123 + 1 = 124.\n",
    "Thus, the result should be [1,2,4].\n",
    "\n",
    "Example 2:\n",
    "\n",
    "Input: digits = [4,3,2,1]\n",
    "Output: [4,3,2,2]\n",
    "Explanation: The array represents the integer 4321.\n",
    "Incrementing by one gives 4321 + 1 = 4322.\n",
    "Thus, the result should be [4,3,2,2].\n",
    "\n",
    "Example 3:\n",
    "\n",
    "Input: digits = [9]\n",
    "Output: [1,0]\n",
    "Explanation: The array represents the integer 9.\n",
    "Incrementing by one gives 9 + 1 = 10.\n",
    "Thus, the result should be [1,0].\n",
    "'''"
   ]
  },
  {
   "cell_type": "code",
   "execution_count": 11,
   "metadata": {},
   "outputs": [
    {
     "data": {
      "text/plain": [
       "[4, 3, 2, 2]"
      ]
     },
     "execution_count": 11,
     "metadata": {},
     "output_type": "execute_result"
    }
   ],
   "source": [
    "def plusOne(digits):\n",
    "    ans = []\n",
    "    num = 0\n",
    "    m = 1\n",
    "    for d in digits[::-1]:\n",
    "        num += d * m\n",
    "        m *= 10\n",
    "        print(m,num)\n",
    "    num += 1\n",
    "    for n in str(num):\n",
    "        ans.append(n)\n",
    "    return ans\n",
    "\n",
    "def plusOneOptimal(digits):\n",
    "    n = len(digits)\n",
    "    for i in range(n):\n",
    "        idx = n - 1 - i\n",
    "        if digits[idx] == 9:\n",
    "            digits[idx] = 0\n",
    "        else:\n",
    "            digits[idx] += 1\n",
    "            return digits\n",
    "    return [1] + digits\n",
    "\n",
    "#digits = [4,3,2,1]\n",
    "#plusOne(digits)\n",
    "digits = [4,3,2,1]\n",
    "plusOneOptimal(digits)\n",
    "\n"
   ]
  },
  {
   "cell_type": "code",
   "execution_count": null,
   "metadata": {},
   "outputs": [],
   "source": []
  }
 ],
 "metadata": {
  "kernelspec": {
   "display_name": "Python 3",
   "language": "python",
   "name": "python3"
  },
  "language_info": {
   "codemirror_mode": {
    "name": "ipython",
    "version": 3
   },
   "file_extension": ".py",
   "mimetype": "text/x-python",
   "name": "python",
   "nbconvert_exporter": "python",
   "pygments_lexer": "ipython3",
   "version": "3.8.10"
  }
 },
 "nbformat": 4,
 "nbformat_minor": 4
}
