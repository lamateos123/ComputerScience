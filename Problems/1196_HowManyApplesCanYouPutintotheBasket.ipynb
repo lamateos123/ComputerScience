{
 "cells": [
  {
   "cell_type": "code",
   "execution_count": 1,
   "metadata": {},
   "outputs": [],
   "source": [
    "# 1196. How Many Apples Can You Put into the Basket\n",
    "'''\n",
    "You have some apples and a basket that can carry up to 5000 units of weight.\n",
    "\n",
    "Given an integer array weight where weight[i] is the weight of the ith apple, \n",
    "return the maximum number of apples you can put in the basket.\n",
    "\n",
    " \n",
    "\n",
    "Example 1:\n",
    "\n",
    "Input: weight = [100,200,150,1000]\n",
    "Output: 4\n",
    "Explanation: All 4 apples can be carried by the basket since their sum of weights is 1450.\n",
    "\n",
    "Example 2:\n",
    "\n",
    "Input: weight = [900,950,800,1000,700,800]\n",
    "Output: 5\n",
    "Explanation: The sum of weights of the 6 apples exceeds 5000 so we choose any 5 of them.\n",
    "\n",
    "'''"
   ]
  },
  {
   "cell_type": "code",
   "execution_count": 11,
   "metadata": {},
   "outputs": [
    {
     "data": {
      "text/plain": [
       "4"
      ]
     },
     "execution_count": 11,
     "metadata": {},
     "output_type": "execute_result"
    }
   ],
   "source": [
    "def manyApples(weight):\n",
    "    ans = 0\n",
    "    c = 0\n",
    "    limit = 5000\n",
    "    weight.sort()\n",
    "    for w in weight:\n",
    "        if ans+w <= limit:\n",
    "            ans+=w\n",
    "            c += 1\n",
    "        else:\n",
    "            return c\n",
    "    return c\n",
    "    \n",
    "weight = [100,200,150,1000]\n",
    "manyApples(weight)\n"
   ]
  },
  {
   "cell_type": "code",
   "execution_count": 14,
   "metadata": {},
   "outputs": [
    {
     "data": {
      "text/plain": [
       "4"
      ]
     },
     "execution_count": 14,
     "metadata": {},
     "output_type": "execute_result"
    }
   ],
   "source": [
    "def manyApplesHeap(weight):\n",
    "    heapq.heapify(weight)\n",
    "    \n",
    "    suma = 0\n",
    "    c = 0\n",
    "    while weight and suma + weight[0] <= 5000:\n",
    "        suma += heapq.heappop(weight)\n",
    "        c += 1\n",
    "    return c\n",
    "\n",
    "    \n",
    "weight = [100,200,150,1000]\n",
    "manyApples(weight)\n",
    "manyApplesHeap(weight)"
   ]
  },
  {
   "cell_type": "code",
   "execution_count": null,
   "metadata": {},
   "outputs": [],
   "source": []
  },
  {
   "cell_type": "code",
   "execution_count": null,
   "metadata": {},
   "outputs": [],
   "source": []
  },
  {
   "cell_type": "code",
   "execution_count": null,
   "metadata": {},
   "outputs": [],
   "source": []
  },
  {
   "cell_type": "code",
   "execution_count": null,
   "metadata": {},
   "outputs": [],
   "source": []
  },
  {
   "cell_type": "code",
   "execution_count": null,
   "metadata": {},
   "outputs": [],
   "source": []
  },
  {
   "cell_type": "code",
   "execution_count": null,
   "metadata": {},
   "outputs": [],
   "source": []
  },
  {
   "cell_type": "code",
   "execution_count": null,
   "metadata": {},
   "outputs": [],
   "source": []
  }
 ],
 "metadata": {
  "kernelspec": {
   "display_name": "Python 3",
   "language": "python",
   "name": "python3"
  },
  "language_info": {
   "codemirror_mode": {
    "name": "ipython",
    "version": 3
   },
   "file_extension": ".py",
   "mimetype": "text/x-python",
   "name": "python",
   "nbconvert_exporter": "python",
   "pygments_lexer": "ipython3",
   "version": "3.8.10"
  }
 },
 "nbformat": 4,
 "nbformat_minor": 4
}
