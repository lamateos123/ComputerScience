{
 "cells": [
  {
   "cell_type": "code",
   "execution_count": 1,
   "metadata": {},
   "outputs": [],
   "source": [
    "# 1470. Shuffle the Array\n",
    "#---------------------------\n",
    "#Given the array nums consisting of 2n elements in the form [x1,x2,...,xn,y1,y2,...,yn].\n",
    "\n",
    "#Return the array in the form [x1,y1,x2,y2,...,xn,yn].\n",
    "\n",
    "#Example 1:\n",
    "#Input: nums = [2,5,1,3,4,7], n = 3\n",
    "#Output: [2,3,5,4,1,7] \n",
    "#Explanation: Since x1=2, x2=5, x3=1, y1=3, y2=4, y3=7 then the answer is [2,3,5,4,1,7].\n",
    "\n",
    "#Example 2:\n",
    "#Input: nums = [1,2,3,4,4,3,2,1], n = 4\n",
    "#Output: [1,4,2,3,3,2,4,1]\n",
    "\n",
    "#Example 3:\n",
    "#Input: nums = [1,1,2,2], n = 2\n",
    "#Output: [1,2,1,2]"
   ]
  },
  {
   "cell_type": "code",
   "execution_count": 32,
   "metadata": {},
   "outputs": [
    {
     "name": "stdout",
     "output_type": "stream",
     "text": [
      "[2, 5, 1]\n",
      "[3, 4, 7]\n",
      "([2, 3, 5, 4, 1, 7], 3)\n",
      "([2, 3, 5, 4, 1, 7], 3)\n"
     ]
    }
   ],
   "source": [
    "def shuffleArray(nums):\n",
    "    ans = []\n",
    "    x = nums[:len(nums)//2]\n",
    "    y = nums[len(nums)//2:]\n",
    "    for i in range(len(nums)//2):\n",
    "        ans.append(x[i])\n",
    "        ans.append(y[i])\n",
    "    print(x)\n",
    "    print(y)\n",
    "    return (ans,len(nums)//2)\n",
    "    \n",
    "def shuffleArray2(nums):\n",
    "    ans = [] \n",
    "    for i in range(len(nums)//2):\n",
    "        ans.append(nums[i])\n",
    "        ans.append(nums[len(nums)//2+i])\n",
    "    return (ans, len(nums)//2)\n",
    "\n",
    "\n",
    "nums = [2,5,1,3,4,7]\n",
    "print(shuffleArray(nums))\n",
    "\n",
    "nums = [2,5,1,3,4,7]\n",
    "print(shuffleArray2(nums))"
   ]
  },
  {
   "cell_type": "code",
   "execution_count": 33,
   "metadata": {},
   "outputs": [
    {
     "name": "stdout",
     "output_type": "stream",
     "text": [
      "[1, 2, 3, 4]\n",
      "[4, 3, 2, 1]\n",
      "([1, 4, 2, 3, 3, 2, 4, 1], 4)\n"
     ]
    }
   ],
   "source": [
    "nums = [1,2,3,4,4,3,2,1]\n",
    "print(shuffleArray(nums))"
   ]
  },
  {
   "cell_type": "code",
   "execution_count": 34,
   "metadata": {},
   "outputs": [
    {
     "name": "stdout",
     "output_type": "stream",
     "text": [
      "[1, 1]\n",
      "[2, 2]\n",
      "([1, 2, 1, 2], 2)\n"
     ]
    }
   ],
   "source": [
    "nums = [1,1,2,2]\n",
    "print(shuffleArray(nums))"
   ]
  },
  {
   "cell_type": "code",
   "execution_count": null,
   "metadata": {},
   "outputs": [],
   "source": []
  }
 ],
 "metadata": {
  "kernelspec": {
   "display_name": "Python 3",
   "language": "python",
   "name": "python3"
  },
  "language_info": {
   "codemirror_mode": {
    "name": "ipython",
    "version": 3
   },
   "file_extension": ".py",
   "mimetype": "text/x-python",
   "name": "python",
   "nbconvert_exporter": "python",
   "pygments_lexer": "ipython3",
   "version": "3.7.4"
  }
 },
 "nbformat": 4,
 "nbformat_minor": 2
}
