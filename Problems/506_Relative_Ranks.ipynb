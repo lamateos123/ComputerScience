{
 "cells": [
  {
   "cell_type": "code",
   "execution_count": null,
   "metadata": {},
   "outputs": [],
   "source": [
    "# 506. Relative Ranks\n",
    "'''\n",
    "You are given an integer array score of size n, where score[i] is the score of the \n",
    "ith athlete in a competition. All the scores are guaranteed to be unique.\n",
    "\n",
    "The athletes are placed based on their scores, where the 1st place athlete has the \n",
    "highest score, the 2nd place athlete has the 2nd highest score, and so on. \n",
    "The placement of each athlete determines their rank:\n",
    "\n",
    "    The 1st place athlete's rank is \"Gold Medal\".\n",
    "    The 2nd place athlete's rank is \"Silver Medal\".\n",
    "    The 3rd place athlete's rank is \"Bronze Medal\".\n",
    "    For the 4th place to the nth place athlete, their rank is their placement \n",
    "    number (i.e., the xth place athlete's rank is \"x\").\n",
    "\n",
    "Return an array answer of size n where answer[i] is the rank of the ith athlete.\n",
    "\n",
    "Example 1:\n",
    "\n",
    "Input: score = [5,4,3,2,1]\n",
    "Output: [\"Gold Medal\",\"Silver Medal\",\"Bronze Medal\",\"4\",\"5\"]\n",
    "Explanation: The placements are [1st, 2nd, 3rd, 4th, 5th].\n",
    "\n",
    "Example 2:\n",
    "\n",
    "Input: score = [10,3,8,9,4]\n",
    "Output: [\"Gold Medal\",\"5\",\"Bronze Medal\",\"Silver Medal\",\"4\"]\n",
    "Explanation: The placements are [1st, 5th, 3rd, 2nd, 4th].\n",
    "\n",
    "'''"
   ]
  },
  {
   "cell_type": "code",
   "execution_count": 2,
   "metadata": {},
   "outputs": [
    {
     "name": "stdout",
     "output_type": "stream",
     "text": [
      "[2, 3, 6, 4, 5, 7]\n"
     ]
    }
   ],
   "source": [
    "import heapq\n",
    "nums = [7,5,6,4,3,2,]\n",
    "heapq.heapify(nums)\n",
    "print(list(nums))"
   ]
  },
  {
   "cell_type": "code",
   "execution_count": 6,
   "metadata": {},
   "outputs": [
    {
     "name": "stdout",
     "output_type": "stream",
     "text": [
      "{10: 0, 3: 0, 8: 0, 9: 0, 4: 0}\n",
      "[3, 4, 8, 9, 10]\n"
     ]
    },
    {
     "data": {
      "text/plain": [
       "['Bronze Medal', '6', '4', 'Bronze Medal', '5']"
      ]
     },
     "execution_count": 6,
     "metadata": {},
     "output_type": "execute_result"
    }
   ],
   "source": [
    "import heapq\n",
    "def relativity(score):\n",
    "    ans = []\n",
    "    n = len(score)\n",
    "    h = {v:0 for v in score}\n",
    "    print(h)\n",
    "    heapq.heapify(score)\n",
    "    print(score)\n",
    "    for i in range(len(score)):\n",
    "        ans = heapq.heappop(score)\n",
    "        if n+1 > 3:\n",
    "            h[ans] = str(n+1)\n",
    "            n-=1\n",
    "        else:\n",
    "            if n==2:\n",
    "                h[ans] = \"Bronze Medal\"\n",
    "            elif n==1:\n",
    "                h[ans] = \"Silver Medal\"\n",
    "            else:\n",
    "                h[ans] = \"Gold Medal\"\n",
    "                break\n",
    "    return list(h.values())\n",
    "\n",
    "score = [10,3,8,9,4]\n",
    "relativity(score)"
   ]
  },
  {
   "cell_type": "code",
   "execution_count": null,
   "metadata": {},
   "outputs": [],
   "source": [
    "def relativity(score):\n",
    "    ans = []\n",
    "    rank = -1\n",
    "    temp = score.copy()\n",
    "    temp.sort(reverse = True)\n",
    "    print(f'orig: {score}')\n",
    "    print(f'sort: {temp}')\n",
    "    for i in range(len(score)):\n",
    "        rank = temp.index(score[i])\n",
    "        if rank == 0:\n",
    "            ans.append(\"Gold Medal\")\n",
    "        elif rank == 1:\n",
    "            ans.append(\"Silver Medal\")\n",
    "        elif rank == 2:\n",
    "            ans.append(\"Bronze Medal\")\n",
    "        else:\n",
    "            rank = rank+1\n",
    "            ans.append(str(rank))\n",
    "        #ans.append(temp.index(score[i]))\n",
    "    \n",
    "    \n",
    "    \n",
    "    \n",
    "    return ans\n",
    "    \n",
    "score = [10,3,8,9,4]\n",
    "relativity(score)"
   ]
  },
  {
   "cell_type": "code",
   "execution_count": null,
   "metadata": {},
   "outputs": [],
   "source": [
    "def relativity(score):\n",
    "    \n",
    "    return ans\n",
    "    \n",
    "score = [10,3,8,9,4]\n",
    "relativity(score)"
   ]
  },
  {
   "cell_type": "code",
   "execution_count": null,
   "metadata": {},
   "outputs": [],
   "source": []
  }
 ],
 "metadata": {
  "kernelspec": {
   "display_name": "Python 3",
   "language": "python",
   "name": "python3"
  },
  "language_info": {
   "codemirror_mode": {
    "name": "ipython",
    "version": 3
   },
   "file_extension": ".py",
   "mimetype": "text/x-python",
   "name": "python",
   "nbconvert_exporter": "python",
   "pygments_lexer": "ipython3",
   "version": "3.8.10"
  }
 },
 "nbformat": 4,
 "nbformat_minor": 4
}
