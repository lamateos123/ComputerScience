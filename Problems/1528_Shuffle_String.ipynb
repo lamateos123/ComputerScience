{
 "cells": [
  {
   "cell_type": "code",
   "execution_count": 1,
   "metadata": {},
   "outputs": [],
   "source": [
    "# 1528. Shuffle String\n",
    "#---------------------\n",
    "#You are given a string s and an integer array indices of the same length. \n",
    "#The string s will be shuffled such that the character at the ith position \n",
    "#moves to indices[i] in the shuffled string.\n",
    "\n",
    "#Return the shuffled string."
   ]
  },
  {
   "cell_type": "code",
   "execution_count": 37,
   "metadata": {},
   "outputs": [
    {
     "data": {
      "text/plain": [
       "'leetcode'"
      ]
     },
     "execution_count": 37,
     "metadata": {},
     "output_type": "execute_result"
    }
   ],
   "source": [
    "def shuffleString(s, indices):\n",
    "    ans = \"\"\n",
    "    for i in range(len(s)):\n",
    "        ans += s[indices.index(i)]\n",
    "        print(indices[i],indices.index(i))\n",
    "    return ans\n",
    "\n",
    "def shuffleString2(s, indices):\n",
    "    ans = [''] * len(indices)\n",
    "    pointer = 0\n",
    "    for index in indices:\n",
    "        ans[index] = s[pointer]\n",
    "        pointer += 1\n",
    "    return ''.join(ans)\n",
    "        \n",
    "s = \"codeleet\"\n",
    "indices = [4,5,6,7,0,2,1,3]\n",
    "shuffleString2(s, indices)\n",
    "\n",
    "\n",
    "#s = \"eycodm_\"\n",
    "#indices = [6,1,3,4,5,0,2,]\n",
    "#shuffleString(s, indices)"
   ]
  },
  {
   "cell_type": "code",
   "execution_count": 21,
   "metadata": {},
   "outputs": [
    {
     "data": {
      "text/plain": [
       "'abc'"
      ]
     },
     "execution_count": 21,
     "metadata": {},
     "output_type": "execute_result"
    }
   ],
   "source": [
    "s = \"abc\"\n",
    "indices = [0,1,2]\n",
    "shuffleString(s, indices)"
   ]
  },
  {
   "cell_type": "code",
   "execution_count": null,
   "metadata": {},
   "outputs": [],
   "source": []
  }
 ],
 "metadata": {
  "kernelspec": {
   "display_name": "Python 3",
   "language": "python",
   "name": "python3"
  },
  "language_info": {
   "codemirror_mode": {
    "name": "ipython",
    "version": 3
   },
   "file_extension": ".py",
   "mimetype": "text/x-python",
   "name": "python",
   "nbconvert_exporter": "python",
   "pygments_lexer": "ipython3",
   "version": "3.7.4"
  }
 },
 "nbformat": 4,
 "nbformat_minor": 2
}
