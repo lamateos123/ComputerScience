{
 "cells": [
  {
   "cell_type": "code",
   "execution_count": 28,
   "metadata": {},
   "outputs": [],
   "source": [
    "# 94. Binary Tree Inorder Traversal\n",
    "#---------------------------------------\n",
    "# Given the root of a binary tree, return the inorder traversal \n",
    "# of its nodes' values.\n",
    "\n",
    "#Example 1:\n",
    "#Input: root = [1,null,2,3]\n",
    "#Output: [1,3,2]\n",
    "\n",
    "#Example 2:\n",
    "#Input: root = []\n",
    "#Output: []\n",
    "\n",
    "#Example 3:\n",
    "#Input: root = [1]\n",
    "#Output: [1]"
   ]
  },
  {
   "cell_type": "code",
   "execution_count": 29,
   "metadata": {},
   "outputs": [
    {
     "name": "stdout",
     "output_type": "stream",
     "text": [
      "['a', 'b', 'c', 'd', 'e', None, 'f']\n"
     ]
    }
   ],
   "source": [
    "class TreeNode:\n",
    "    def __init__(self, val=0, left=None, right=None):\n",
    "        self.val = val\n",
    "        self.left = left\n",
    "        self.right = right\n",
    "        \n",
    "#   1\n",
    "#    \\\n",
    "#     2\n",
    "#    /\n",
    "#   3\n",
    "#tree = TreeNode(1)\n",
    "#tree.right = TreeNode(2)\n",
    "#tree.right.left = TreeNode(3)\n",
    "#\n",
    "#tree_structure = []\n",
    "#tree_structure.append(tree.val)\n",
    "#tree_structure.append(tree.left)\n",
    "#tree_structure.append(tree.right.val)\n",
    "#tree_structure.append(tree.right.left.val)\n",
    "#tree_structure.append(tree.right.right)\n",
    "\n",
    "tree = TreeNode('a')\n",
    "tree.left = TreeNode('b')\n",
    "tree.right = TreeNode('c')\n",
    "tree.left.left = TreeNode('d')\n",
    "tree.left.right = TreeNode('e')\n",
    "#tree.right.left = TreeNode(3)\n",
    "tree.right.right = TreeNode('f')\n",
    "\n",
    "tree_structure = []\n",
    "tree_structure.append(tree.val)\n",
    "tree_structure.append(tree.left.val)\n",
    "tree_structure.append(tree.right.val)\n",
    "tree_structure.append(tree.left.left.val)\n",
    "tree_structure.append(tree.left.right.val)\n",
    "tree_structure.append(tree.right.left)\n",
    "tree_structure.append(tree.right.right.val)\n",
    "\n",
    "print(tree_structure)"
   ]
  },
  {
   "cell_type": "code",
   "execution_count": 26,
   "metadata": {},
   "outputs": [
    {
     "data": {
      "text/plain": [
       "['d', 'b', 'e', 'a', 'c', 'f']"
      ]
     },
     "execution_count": 26,
     "metadata": {},
     "output_type": "execute_result"
    }
   ],
   "source": [
    "# Iterative approach\n",
    "#--------------------\n",
    "# Inorder means traverse similar to writing an equation\n",
    "def btInorder(root):\n",
    "    stack = []\n",
    "    ans = []\n",
    "    node = root\n",
    "    \n",
    "    while node or stack: #the stack will empty when the node reaches the root\n",
    "        while node:\n",
    "            stack.append(node)\n",
    "            node = node.left\n",
    "        node = stack.pop()\n",
    "        ans.append(node.val)\n",
    "        node = node.right\n",
    "    return ans\n",
    "\n",
    "btInorder(tree)"
   ]
  },
  {
   "cell_type": "code",
   "execution_count": 32,
   "metadata": {},
   "outputs": [
    {
     "data": {
      "text/plain": [
       "['d', 'b', 'e', 'a', 'c', 'f']"
      ]
     },
     "execution_count": 32,
     "metadata": {},
     "output_type": "execute_result"
    }
   ],
   "source": [
    "# Recursive approach\n",
    "#---------------------\n",
    "ans = []\n",
    "\n",
    "def btInorder_recursive(root,ans):\n",
    "    if root:\n",
    "        btInorder_recursive(root.left,ans)\n",
    "        ans.append(root.val)\n",
    "        btInorder_recursive(root.right,ans)\n",
    "    return ans\n",
    "\n",
    "btInorder_recursive(tree,ans)"
   ]
  },
  {
   "cell_type": "code",
   "execution_count": null,
   "metadata": {},
   "outputs": [],
   "source": []
  }
 ],
 "metadata": {
  "kernelspec": {
   "display_name": "Python 3",
   "language": "python",
   "name": "python3"
  },
  "language_info": {
   "codemirror_mode": {
    "name": "ipython",
    "version": 3
   },
   "file_extension": ".py",
   "mimetype": "text/x-python",
   "name": "python",
   "nbconvert_exporter": "python",
   "pygments_lexer": "ipython3",
   "version": "3.7.4"
  }
 },
 "nbformat": 4,
 "nbformat_minor": 2
}
