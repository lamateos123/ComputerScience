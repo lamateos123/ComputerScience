{
 "cells": [
  {
   "cell_type": "code",
   "execution_count": null,
   "metadata": {},
   "outputs": [],
   "source": [
    "# 1436. Destination City\n",
    "'''\n",
    "You are given the array paths, where paths[i] = [cityAi, cityBi] \n",
    "means there exists a direct path going from cityAi to cityBi. \n",
    "Return the destination city, that is, the city without any path \n",
    "outgoing to another city.\n",
    "\n",
    "It is guaranteed that the graph of paths forms a line without any \n",
    "loop, therefore, there will be exactly one destination city.\n",
    "\n",
    " \n",
    "\n",
    "Example 1:\n",
    "\n",
    "Input: paths = [[\"London\",\"New York\"],[\"New York\",\"Lima\"],\n",
    "[\"Lima\",\"Sao Paulo\"]]\n",
    "Output: \"Sao Paulo\" \n",
    "Explanation: Starting at \"London\" city you will reach \n",
    "\"Sao Paulo\" city which is the destination city. \n",
    "Your trip consist of: \"London\" -> \"New York\" -> \"Lima\" -> \"Sao Paulo\".\n",
    "\n",
    "Example 2:\n",
    "\n",
    "Input: paths = [[\"B\",\"C\"],[\"D\",\"B\"],[\"C\",\"A\"]]\n",
    "Output: \"A\"\n",
    "Explanation: All possible trips are: \n",
    "\"D\" -> \"B\" -> \"C\" -> \"A\". \n",
    "\"B\" -> \"C\" -> \"A\". \n",
    "\"C\" -> \"A\". \n",
    "\"A\". \n",
    "Clearly the destination city is \"A\".\n",
    "\n",
    "'''"
   ]
  },
  {
   "cell_type": "code",
   "execution_count": 36,
   "metadata": {},
   "outputs": [
    {
     "data": {
      "text/plain": [
       "'A'"
      ]
     },
     "execution_count": 36,
     "metadata": {},
     "output_type": "execute_result"
    }
   ],
   "source": [
    "def destination(paths):\n",
    "    d = {}\n",
    "    for path in paths:\n",
    "        #print(path[1])\n",
    "        d.setdefault(path[1],0)\n",
    "        d[path[1]] += 1\n",
    "    for path in paths:\n",
    "        #print(path[0])\n",
    "        if path[0] in d:\n",
    "            d[path[0]] += 1\n",
    "    min_key = min(d, key=lambda k: d[k])\n",
    "    \n",
    "    return min_key\n",
    "\n",
    "\n",
    "paths = [[\"B\",\"C\"],[\"D\",\"B\"],[\"C\",\"A\"]]\n",
    "destination(paths)"
   ]
  },
  {
   "cell_type": "code",
   "execution_count": 28,
   "metadata": {},
   "outputs": [
    {
     "data": {
      "text/plain": [
       "'A'"
      ]
     },
     "execution_count": 28,
     "metadata": {},
     "output_type": "execute_result"
    }
   ],
   "source": [
    "def destination(paths):\n",
    "    d = {}\n",
    "    for path in paths:\n",
    "        #print(path[1])\n",
    "        d.setdefault(path[1],0)\n",
    "        d[path[1]] += 1\n",
    "    for path in paths:\n",
    "        #print(path[0])\n",
    "        if path[0] in d:\n",
    "            d.pop(path[0])\n",
    "            #del d[path[0]]\n",
    "            #d[path[0]] += 1\n",
    "    for k,v in d.items():\n",
    "        return k\n",
    "\n",
    "paths = [[\"B\",\"C\"],[\"D\",\"B\"],[\"C\",\"A\"]]\n",
    "destination(paths)"
   ]
  },
  {
   "cell_type": "code",
   "execution_count": null,
   "metadata": {},
   "outputs": [],
   "source": []
  }
 ],
 "metadata": {
  "kernelspec": {
   "display_name": "Python 3",
   "language": "python",
   "name": "python3"
  },
  "language_info": {
   "codemirror_mode": {
    "name": "ipython",
    "version": 3
   },
   "file_extension": ".py",
   "mimetype": "text/x-python",
   "name": "python",
   "nbconvert_exporter": "python",
   "pygments_lexer": "ipython3",
   "version": "3.6.9"
  }
 },
 "nbformat": 4,
 "nbformat_minor": 4
}
