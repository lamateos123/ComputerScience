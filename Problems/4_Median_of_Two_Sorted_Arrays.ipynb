{
 "cells": [
  {
   "cell_type": "code",
   "execution_count": null,
   "metadata": {},
   "outputs": [],
   "source": [
    "# 4. Median of Two Sorted Arrays\n",
    "#-------------------------------------------------------------------\n",
    "# Given two sorted arrays nums1 and nums2 of size m and n respectively, \n",
    "# return the median of the two sorted arrays.\n",
    "#\n",
    "# The overall run time complexity should be O(log (m+n)).\n",
    "#-------------------------------------------------------------------\n",
    "# example 1\n",
    "# Input: nums1 = [1,3], nums2 = [2]\n",
    "# Output: 2.00000\n",
    "# Explanation: merged array = [1,2,3] and median is 2.\n",
    "# example 2\n",
    "# Input: nums1 = [1,2], nums2 = [3,4]\n",
    "# Output: 2.50000\n",
    "# Explanation: merged array = [1,2,3,4] and median is (2 + 3) / 2 = 2.5."
   ]
  },
  {
   "cell_type": "code",
   "execution_count": 19,
   "metadata": {},
   "outputs": [
    {
     "name": "stdout",
     "output_type": "stream",
     "text": [
      "[1, 2, 3, 4, 5, 6, 7, 8, 9, 10, 11, 110]\n",
      "The medians are: 7 and 6\n"
     ]
    },
    {
     "data": {
      "text/plain": [
       "6.5"
      ]
     },
     "execution_count": 19,
     "metadata": {},
     "output_type": "execute_result"
    }
   ],
   "source": [
    "nums1 = [1,3,4,9,10,11,110]\n",
    "nums2 = [2,5,6,7,8]\n",
    "\n",
    "def median_sorted_arrays(nums1,nums2):\n",
    "    nums1.extend(nums2)\n",
    "    nums1.sort()\n",
    "    print(nums1)\n",
    "    if len(nums1)%2==0:\n",
    "        print(f\"The medians are: {nums1[int(len(nums1)/2)]} and {nums1[int(len(nums1)/2)-1]}\")        \n",
    "        return((float(nums1[int(len(nums1)/2)]+nums1[int(len(nums1)/2)-1]))/2)\n",
    "    else:\n",
    "        print(f\"The median is: {nums1[int(len(nums1)/2)]}\")\n",
    "        return(nums1[int(len(nums1)/2)])\n",
    "    \n",
    "median_sorted_arrays(nums1, nums2)"
   ]
  },
  {
   "cell_type": "code",
   "execution_count": null,
   "metadata": {},
   "outputs": [],
   "source": []
  }
 ],
 "metadata": {
  "kernelspec": {
   "display_name": "Python 3",
   "language": "python",
   "name": "python3"
  },
  "language_info": {
   "codemirror_mode": {
    "name": "ipython",
    "version": 3
   },
   "file_extension": ".py",
   "mimetype": "text/x-python",
   "name": "python",
   "nbconvert_exporter": "python",
   "pygments_lexer": "ipython3",
   "version": "3.7.4"
  }
 },
 "nbformat": 4,
 "nbformat_minor": 2
}
