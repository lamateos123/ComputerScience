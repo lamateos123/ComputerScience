{
 "cells": [
  {
   "cell_type": "code",
   "execution_count": 1,
   "metadata": {},
   "outputs": [],
   "source": [
    "# 1089. Duplicate Zeros\n",
    "'''\n",
    "Given a fixed-length integer array arr, duplicate each occurrence of zero, \n",
    "shifting the remaining elements to the right.\n",
    "\n",
    "Note that elements beyond the length of the original array are not written. \n",
    "Do the above modifications to the input array in place and do not return anything.\n",
    "\n",
    " \n",
    "\n",
    "Example 1:\n",
    "\n",
    "Input: arr = [1,0,2,3,0,4,5,0]\n",
    "Output: [1,0,0,2,3,0,0,4]\n",
    "Explanation: After calling your function, the input array is modified to: \n",
    "[1,0,0,2,3,0,0,4]\n",
    "\n",
    "Example 2:\n",
    "\n",
    "Input: arr = [1,2,3]\n",
    "Output: [1,2,3]\n",
    "Explanation: After calling your function, the input array is modified to: [1,2,3]\n",
    "'''"
   ]
  },
  {
   "cell_type": "code",
   "execution_count": 69,
   "metadata": {},
   "outputs": [
    {
     "data": {
      "text/plain": [
       "[1, 0, 0, 2, 3, 0, 0, 4]"
      ]
     },
     "execution_count": 69,
     "metadata": {},
     "output_type": "execute_result"
    }
   ],
   "source": [
    "def duplicateZeros(arr):\n",
    "    n = len(arr)\n",
    "    i = 0\n",
    "    \n",
    "    while i < n:\n",
    "        if arr[i] == 0:\n",
    "            for k in range(n-1, i, -1):\n",
    "                arr[k]=arr[k-1]\n",
    "            i+=1\n",
    "            if i >= n:\n",
    "                break\n",
    "            arr[i] = 0\n",
    "        i+=1\n",
    "    return arr\n",
    "    \n",
    "arr = [1,0,2,3,0,4,5,0]\n",
    "#arr=[0,0,0,0,0,0,0]\n",
    "duplicateZeros(arr)"
   ]
  },
  {
   "cell_type": "code",
   "execution_count": 39,
   "metadata": {},
   "outputs": [
    {
     "data": {
      "text/plain": [
       "[1, 0, 0, 2, 3, 0, 0, 4]"
      ]
     },
     "execution_count": 39,
     "metadata": {},
     "output_type": "execute_result"
    }
   ],
   "source": [
    "def duplicateZeros(arr):\n",
    "    n = len(arr)\n",
    "    ans = []\n",
    "    i = 0\n",
    "    j = 0\n",
    "    \n",
    "    for i in arr:\n",
    "        ans.append(i)\n",
    "        if i == 0:\n",
    "            if len(ans) >= len(arr):\n",
    "                break\n",
    "            ans.append(0)\n",
    "        if len(ans) >= len(arr):\n",
    "            break\n",
    "        \n",
    "        \n",
    "    return ans\n",
    "    \n",
    "arr = [1,0,2,3,0,4,5,0]\n",
    "duplicateZeros(arr)"
   ]
  },
  {
   "cell_type": "code",
   "execution_count": null,
   "metadata": {},
   "outputs": [],
   "source": [
    "class Solution:\n",
    "    def duplicateZeros(self, arr: List[int]) -> None:\n",
    "        \"\"\"\n",
    "        Do not return anything, modify arr in-place instead.\n",
    "        \"\"\"\n",
    "\n",
    "        possible_dups = 0\n",
    "        length_ = len(arr) - 1\n",
    "\n",
    "        # Find the number of zeros to be duplicated\n",
    "        for left in range(length_ + 1):\n",
    "\n",
    "            # Stop when left points beyond the last element in the original list\n",
    "            # which would be part of the modified list\n",
    "            if left > length_ - possible_dups:\n",
    "                break\n",
    "\n",
    "            # Count the zeros\n",
    "            if arr[left] == 0:\n",
    "                # Edge case: This zero can't be duplicated. We have no more space,\n",
    "                # as left is pointing to the last element which could be included  \n",
    "                if left == length_ - possible_dups:\n",
    "                    arr[length_] = 0 # For this zero we just copy it without duplication.\n",
    "                    length_ -= 1\n",
    "                    break\n",
    "                possible_dups += 1\n",
    "\n",
    "        # Start backwards from the last element which would be part of new list.\n",
    "        last = length_ - possible_dups\n",
    "\n",
    "        # Copy zero twice, and non zero once.\n",
    "        for i in range(last, -1, -1):\n",
    "            if arr[i] == 0:\n",
    "                arr[i + possible_dups] = 0\n",
    "                possible_dups -= 1\n",
    "                arr[i + possible_dups] = 0\n",
    "            else:\n",
    "                arr[i + possible_dups] = arr[i]"
   ]
  }
 ],
 "metadata": {
  "kernelspec": {
   "display_name": "Python 3",
   "language": "python",
   "name": "python3"
  },
  "language_info": {
   "codemirror_mode": {
    "name": "ipython",
    "version": 3
   },
   "file_extension": ".py",
   "mimetype": "text/x-python",
   "name": "python",
   "nbconvert_exporter": "python",
   "pygments_lexer": "ipython3",
   "version": "3.8.10"
  }
 },
 "nbformat": 4,
 "nbformat_minor": 4
}
