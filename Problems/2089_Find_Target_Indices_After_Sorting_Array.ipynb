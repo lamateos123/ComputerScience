{
 "cells": [
  {
   "cell_type": "code",
   "execution_count": 1,
   "metadata": {},
   "outputs": [],
   "source": [
    "# 2089. Find Target Indices After Sorting Array\n",
    "#-----------------------------------------------\n",
    "'''\n",
    "You are given a 0-indexed integer array nums and a target element target.\n",
    "\n",
    "A target index is an index i such that nums[i] == target.\n",
    "\n",
    "Return a list of the target indices of nums after sorting nums in non-decreasing order. \n",
    "If there are no target indices, return an empty list. The returned list must be sorted \n",
    "in increasing order.\n",
    "\n",
    "Example 1:\n",
    "\n",
    "Input: nums = [1,2,5,2,3], target = 2\n",
    "Output: [1,2]\n",
    "Explanation: After sorting, nums is [1,2,2,3,5].\n",
    "The indices where nums[i] == 2 are 1 and 2.\n",
    "\n",
    "Example 2:\n",
    "\n",
    "Input: nums = [1,2,5,2,3], target = 3\n",
    "Output: [3]\n",
    "Explanation: After sorting, nums is [1,2,2,3,5].\n",
    "The index where nums[i] == 3 is 3.\n",
    "\n",
    "Example 3:\n",
    "\n",
    "Input: nums = [1,2,5,2,3], target = 5\n",
    "Output: [4]\n",
    "Explanation: After sorting, nums is [1,2,2,3,5].\n",
    "The index where nums[i] == 5 is 4.\n",
    "\n",
    "'''"
   ]
  },
  {
   "cell_type": "code",
   "execution_count": 2,
   "metadata": {},
   "outputs": [
    {
     "data": {
      "text/plain": [
       "[1, 2]"
      ]
     },
     "execution_count": 2,
     "metadata": {},
     "output_type": "execute_result"
    }
   ],
   "source": [
    "def findTarget(nums, target):\n",
    "    ans = []\n",
    "    nums.sort()\n",
    "    for i in range(len(nums)):\n",
    "        if nums[i]==target:\n",
    "            ans.append(i)\n",
    "    #ans.sort()\n",
    "    return ans\n",
    "    \n",
    "nums = [1,2,5,2,3]\n",
    "target = 2\n",
    "findTarget(nums, target)"
   ]
  },
  {
   "cell_type": "code",
   "execution_count": null,
   "metadata": {},
   "outputs": [],
   "source": []
  },
  {
   "cell_type": "code",
   "execution_count": null,
   "metadata": {},
   "outputs": [],
   "source": []
  }
 ],
 "metadata": {
  "kernelspec": {
   "display_name": "Python 3",
   "language": "python",
   "name": "python3"
  },
  "language_info": {
   "codemirror_mode": {
    "name": "ipython",
    "version": 3
   },
   "file_extension": ".py",
   "mimetype": "text/x-python",
   "name": "python",
   "nbconvert_exporter": "python",
   "pygments_lexer": "ipython3",
   "version": "3.7.4"
  }
 },
 "nbformat": 4,
 "nbformat_minor": 2
}
