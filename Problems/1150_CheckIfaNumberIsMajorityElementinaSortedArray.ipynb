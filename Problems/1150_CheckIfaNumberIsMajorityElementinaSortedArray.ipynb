{
 "cells": [
  {
   "cell_type": "code",
   "execution_count": 1,
   "metadata": {},
   "outputs": [],
   "source": [
    "# 1150. Check If a Number Is Majority Element in a Sorted Array\n",
    "'''\n",
    "Given an integer array nums sorted in non-decreasing order and \n",
    "an integer target, return true if target is a majority element, \n",
    "or false otherwise.\n",
    "\n",
    "A majority element in an array nums is an element that appears \n",
    "more than nums.length / 2 times in the array.\n",
    "\n",
    "Example 1:\n",
    "\n",
    "Input: nums = [2,4,5,5,5,5,5,6,6], target = 5\n",
    "Output: true\n",
    "Explanation: The value 5 appears 5 times and the length of the array is 9.\n",
    "Thus, 5 is a majority element because 5 > 9/2 is true.\n",
    "\n",
    "'''"
   ]
  },
  {
   "cell_type": "code",
   "execution_count": 2,
   "metadata": {},
   "outputs": [
    {
     "data": {
      "text/plain": [
       "True"
      ]
     },
     "execution_count": 2,
     "metadata": {},
     "output_type": "execute_result"
    }
   ],
   "source": [
    "def majorElement(nums, target):\n",
    "    c = 0\n",
    "    for n in nums:\n",
    "        if n != target:\n",
    "            c += 1\n",
    "    if len(nums)/2 > c:\n",
    "        return True\n",
    "    return False\n",
    "\n",
    "nums = [2,4,5,5,5,5,5,6,6]\n",
    "target = 5\n",
    "majorElement(nums, target)"
   ]
  },
  {
   "cell_type": "code",
   "execution_count": 3,
   "metadata": {},
   "outputs": [
    {
     "data": {
      "text/plain": [
       "True"
      ]
     },
     "execution_count": 3,
     "metadata": {},
     "output_type": "execute_result"
    }
   ],
   "source": [
    "def majorElementDict(nums, target):\n",
    "    c = 0\n",
    "    d = {}\n",
    "    for n in nums:\n",
    "        d.setdefault(n,0)\n",
    "        d[n]+=1\n",
    "        \n",
    "    max_key = max(d, key=lambda k: d[k])\n",
    "    if max_key == target and len(nums)/2 < d[max_key]:\n",
    "        return True\n",
    "    return False\n",
    "\n",
    "nums = [2,4,5,5,5,5,5,6,6]\n",
    "target = 5\n",
    "majorElementDict(nums, target)"
   ]
  },
  {
   "cell_type": "code",
   "execution_count": null,
   "metadata": {},
   "outputs": [],
   "source": []
  }
 ],
 "metadata": {
  "kernelspec": {
   "display_name": "Python 3",
   "language": "python",
   "name": "python3"
  },
  "language_info": {
   "codemirror_mode": {
    "name": "ipython",
    "version": 3
   },
   "file_extension": ".py",
   "mimetype": "text/x-python",
   "name": "python",
   "nbconvert_exporter": "python",
   "pygments_lexer": "ipython3",
   "version": "3.7.4"
  }
 },
 "nbformat": 4,
 "nbformat_minor": 2
}
