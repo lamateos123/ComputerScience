{
 "cells": [
  {
   "cell_type": "code",
   "execution_count": null,
   "metadata": {},
   "outputs": [],
   "source": [
    "# 8. Implement string to integer atoi\n",
    "\"\"\"\n",
    "Implement the myAtoi(string s) function, which converts a string to a 32-bit signed integer \n",
    "(similar to C/C++'s atoi function).\n",
    "\n",
    "The algorithm for myAtoi(string s) is as follows:\n",
    "\n",
    "Read in and ignore any leading whitespace.\n",
    "Check if the next character (if not already at the end of the string) is '-' or '+'. \n",
    "Read this character in if it is either. This determines if the final result is negative or \n",
    "positive respectively. Assume the result is positive if neither is present.\n",
    "Read in next the characters until the next non-digit character or the end of the input is reached. \n",
    "The rest of the string is ignored.\n",
    "Convert these digits into an integer (i.e. \"123\" -> 123, \"0032\" -> 32). If no digits were read, \n",
    "then the integer is 0. Change the sign as necessary (from step 2).\n",
    "If the integer is out of the 32-bit signed integer range [-231, 231 - 1], then clamp the integer \n",
    "so that it remains in the range. Specifically, integers less than -231 should be clamped to -231, \n",
    "and integers greater than 231 - 1 should be clamped to 231 - 1.\n",
    "Return the integer as the final result.\n",
    "Note:\n",
    "\n",
    "Only the space character ' ' is considered a whitespace character.\n",
    "Do not ignore any characters other than the leading whitespace or the rest of the string after the digits.\n",
    "\n",
    "\"\"\"\n",
    "# Examples:\n",
    "# Input: s = \"42\"\n",
    "# Output: 42\n",
    "# Input: s = \"   -42\"\n",
    "# Output: -42\n",
    "# Input: s = \"4193 with words\"\n",
    "# Output: 4193\n",
    "# Input: s = \"words and 987\"\n",
    "# Output: 0\n",
    "# Input: s = \"-91283472332\"\n",
    "# Output: -2147483648"
   ]
  },
  {
   "cell_type": "code",
   "execution_count": 14,
   "metadata": {},
   "outputs": [
    {
     "data": {
      "text/plain": [
       "34193"
      ]
     },
     "execution_count": 14,
     "metadata": {},
     "output_type": "execute_result"
    }
   ],
   "source": [
    "s = \"  -42\"\n",
    "s = \"words and 987\"\n",
    "s = \"4193 with words\"\n",
    "s = \"00034193 with words\"\n",
    "\n",
    "def atoi(s):\n",
    "    result = 0\n",
    "    start = 0\n",
    "    end = 0\n",
    "    x = s.strip()   # removed white space in front\n",
    "    end = len(x)\n",
    "    if len(x) > 0:\n",
    "        if not x[0].isdigit() and x[0] != \"-\": # if starting with a non digit and is not a sign\n",
    "            return 0\n",
    "        else: # starts with zeros\n",
    "            for i in range(len(x)):\n",
    "                if x[i] == 0:\n",
    "                    start += 1\n",
    "                else:\n",
    "                    break\n",
    "            \n",
    "            for i in range(len(x)-1,-1,-1): # clear the letters after a number\n",
    "                if not x[i].isdigit():\n",
    "                    end -= 1\n",
    "                    \n",
    "    # At this point we have a clear number\n",
    "    if int(x[start:end]) > 2147483647: # check upper limit\n",
    "        result = 2147483647\n",
    "    elif int(x[start:end]) < -2147483648: # check lower limit\n",
    "        result = -2147483648\n",
    "    else:\n",
    "        result = int(x[start:end]) # return the number\n",
    "    return result\n",
    "\n",
    "atoi(s)"
   ]
  },
  {
   "cell_type": "code",
   "execution_count": null,
   "metadata": {},
   "outputs": [],
   "source": []
  }
 ],
 "metadata": {
  "kernelspec": {
   "display_name": "Python 3",
   "language": "python",
   "name": "python3"
  },
  "language_info": {
   "codemirror_mode": {
    "name": "ipython",
    "version": 3
   },
   "file_extension": ".py",
   "mimetype": "text/x-python",
   "name": "python",
   "nbconvert_exporter": "python",
   "pygments_lexer": "ipython3",
   "version": "3.7.6"
  }
 },
 "nbformat": 4,
 "nbformat_minor": 4
}
