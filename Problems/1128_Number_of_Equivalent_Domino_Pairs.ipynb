{
 "cells": [
  {
   "cell_type": "code",
   "execution_count": null,
   "metadata": {},
   "outputs": [],
   "source": [
    "# 1128. Number of Equivalent Domino Pairs\n",
    "'''\n",
    "Given a list of dominoes, dominoes[i] = [a, b] is equivalent to \n",
    "dominoes[j] = [c, d] if and only if either (a == c and b == d), or (a == d and b == c) - \n",
    "that is, one domino can be rotated to be equal to another domino.\n",
    "\n",
    "Return the number of pairs (i, j) for which 0 <= i < j < dominoes.length, and dominoes[i] \n",
    "is equivalent to dominoes[j].\n",
    "\n",
    " \n",
    "\n",
    "Example 1:\n",
    "\n",
    "Input: dominoes = [[1,2],[2,1],[3,4],[5,6]]\n",
    "Output: 1\n",
    "\n",
    "Example 2:\n",
    "\n",
    "Input: dominoes = [[1,2],[1,2],[1,1],[1,2],[2,2]]\n",
    "Output: 3\n",
    "'''"
   ]
  },
  {
   "cell_type": "code",
   "execution_count": 36,
   "metadata": {},
   "outputs": [
    {
     "name": "stdout",
     "output_type": "stream",
     "text": [
      "11\n",
      "11\n",
      "28\n",
      "41\n",
      "{11: 2, 28: 1, 41: 1}\n",
      "[[1, 2], [1, 2], [3, 4], [5, 6]]\n",
      "1\n"
     ]
    }
   ],
   "source": [
    "def edomino(dominoes):\n",
    "    c = 0\n",
    "    d = {}\n",
    "    fichas = [[0,0],[0,1],[0,2],[0,3],[0,4],[0,5],[0,6],[0,7],[0,8],[0,9],\n",
    "              [1,1],[1,2],[1,3],[1,4],[1,5],[1,6],[1,7],[1,8],[1,9],\n",
    "              [2,2],[2,3],[2,4],[2,5],[2,6],[2,7],[2,8],[2,9],\n",
    "              [3,3],[3,4],[3,5],[3,6],[3,7],[3,8],[3,9],\n",
    "              [4,4],[4,5],[4,6],[4,7],[4,8],[4,9],\n",
    "              [5,5],[5,6],[5,7],[5,8],[5,9],\n",
    "              [6,6],[6,7],[6,8],[6,9],\n",
    "              [7,7],[7,8],[7,9],\n",
    "              [8,8],[8,9],\n",
    "              [9,9]]\n",
    "    \n",
    "    for i in range(len(dominoes)):\n",
    "        dominoes[i].sort()\n",
    "\n",
    "    for ficha in dominoes:\n",
    "        x = fichas.index(ficha)\n",
    "        print(x)\n",
    "        d.setdefault(x,0)\n",
    "        d[x]+=1\n",
    "        \n",
    "    print(d)\n",
    "    print(dominoes)\n",
    "    \n",
    "    for k,v in d.items():\n",
    "        if v>0:\n",
    "            c+=(v*(v-1))//2\n",
    "            \n",
    "    \n",
    "    return c\n",
    "    \n",
    "        \n",
    "dominoes = [[1,2],[2,1],[3,4],[5,6]]\n",
    "print(edomino(dominoes))"
   ]
  },
  {
   "cell_type": "code",
   "execution_count": 18,
   "metadata": {},
   "outputs": [
    {
     "name": "stdout",
     "output_type": "stream",
     "text": [
      "[1, 2] [2, 1]\n",
      "[1, 2] [3, 4]\n",
      "[1, 2] [5, 6]\n",
      "[2, 1] [3, 4]\n",
      "[2, 1] [5, 6]\n",
      "[3, 4] [5, 6]\n",
      "1\n"
     ]
    }
   ],
   "source": [
    "def edomino(dominoes):\n",
    "    c = 0\n",
    "    for i in range(len(dominoes)):  \n",
    "        for j in range(i, len(dominoes)):\n",
    "            if i!=j:\n",
    "                print(dominoes[i],dominoes[j])\n",
    "                if ((dominoes[i][0] == dominoes[j][0] and dominoes[i][1] == dominoes[j][1]) or (dominoes[i][0] == dominoes[j][1] and dominoes[i][1] == dominoes[j][0])):\n",
    "                    c+=1\n",
    "    return c\n",
    "    \n",
    "        \n",
    "dominoes = [[1,2],[2,1],[3,4],[5,6]]\n",
    "print(edomino(dominoes))"
   ]
  },
  {
   "cell_type": "code",
   "execution_count": null,
   "metadata": {},
   "outputs": [],
   "source": []
  }
 ],
 "metadata": {
  "kernelspec": {
   "display_name": "Python 3",
   "language": "python",
   "name": "python3"
  },
  "language_info": {
   "codemirror_mode": {
    "name": "ipython",
    "version": 3
   },
   "file_extension": ".py",
   "mimetype": "text/x-python",
   "name": "python",
   "nbconvert_exporter": "python",
   "pygments_lexer": "ipython3",
   "version": "3.8.10"
  }
 },
 "nbformat": 4,
 "nbformat_minor": 4
}
