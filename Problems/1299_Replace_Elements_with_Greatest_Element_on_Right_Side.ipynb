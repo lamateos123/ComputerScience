{
 "cells": [
  {
   "cell_type": "code",
   "execution_count": 1,
   "metadata": {},
   "outputs": [],
   "source": [
    "# 1299. Replace Elements with Greatest Element on Right Side\n",
    "'''\n",
    "Given an array arr, replace every element in that array with the greatest element among the elements to its right, \n",
    "and replace the last element with -1.\n",
    "\n",
    "After doing so, return the array.\n",
    "\n",
    " \n",
    "\n",
    "Example 1:\n",
    "\n",
    "Input: arr = [17,18,5,4,6,1]\n",
    "Output: [18,6,6,6,1,-1]\n",
    "Explanation: \n",
    "- index 0 --> the greatest element to the right of index 0 is index 1 (18).\n",
    "- index 1 --> the greatest element to the right of index 1 is index 4 (6).\n",
    "- index 2 --> the greatest element to the right of index 2 is index 4 (6).\n",
    "- index 3 --> the greatest element to the right of index 3 is index 4 (6).\n",
    "- index 4 --> the greatest element to the right of index 4 is index 5 (1).\n",
    "- index 5 --> there are no elements to the right of index 5, so we put -1.\n",
    "\n",
    "Example 2:\n",
    "\n",
    "Input: arr = [400]\n",
    "Output: [-1]\n",
    "Explanation: There are no elements to the right of index 0.\n",
    "\n",
    "'''"
   ]
  },
  {
   "cell_type": "code",
   "execution_count": 11,
   "metadata": {},
   "outputs": [
    {
     "name": "stdout",
     "output_type": "stream",
     "text": [
      "[18, 6, 6, 6, 1, -1]\n"
     ]
    }
   ],
   "source": [
    "def repele(arr):\n",
    "    n = len(arr)-1\n",
    "    largest = arr[n]\n",
    "    arr[n] = -1\n",
    "    n-=1\n",
    "    \n",
    "    while n>=0:\n",
    "        if arr[n]>largest:\n",
    "            arr[n], largest = largest, arr[n]\n",
    "        else:\n",
    "            arr[n] = largest\n",
    "        n-=1\n",
    "    return arr\n",
    "            \n",
    "\n",
    "arr = [17,18,5,4,6,1]\n",
    "print(repele(arr))"
   ]
  },
  {
   "cell_type": "code",
   "execution_count": 9,
   "metadata": {},
   "outputs": [
    {
     "name": "stdout",
     "output_type": "stream",
     "text": [
      "[18, 6, 6, 6, 1, -1]\n"
     ]
    }
   ],
   "source": [
    "def repele(arr):\n",
    "    for i in range(len(arr)-1):\n",
    "        arr[i] = max(arr[i+1:])\n",
    "    arr[-1]=-1\n",
    "    return arr\n",
    "            \n",
    "\n",
    "arr = [17,18,5,4,6,1]\n",
    "print(repele(arr))"
   ]
  },
  {
   "cell_type": "code",
   "execution_count": 8,
   "metadata": {},
   "outputs": [
    {
     "name": "stdout",
     "output_type": "stream",
     "text": [
      "[18, 6, 6, 6, 1, -1]\n"
     ]
    }
   ],
   "source": [
    "def repele(arr):\n",
    "    maxi = 0\n",
    "    for i in range(len(arr)):\n",
    "        maxi = 0\n",
    "        for j in range(i,len(arr)):\n",
    "            \n",
    "            maxi = max(maxi,arr[j])\n",
    "            arr[i] = maxi\n",
    "    arr.pop(0)\n",
    "    arr.append(-1)\n",
    "    return arr\n",
    "            \n",
    "\n",
    "arr = [17,18,5,4,6,1]\n",
    "print(repele(arr))"
   ]
  },
  {
   "cell_type": "code",
   "execution_count": null,
   "metadata": {},
   "outputs": [],
   "source": []
  }
 ],
 "metadata": {
  "kernelspec": {
   "display_name": "Python 3",
   "language": "python",
   "name": "python3"
  },
  "language_info": {
   "codemirror_mode": {
    "name": "ipython",
    "version": 3
   },
   "file_extension": ".py",
   "mimetype": "text/x-python",
   "name": "python",
   "nbconvert_exporter": "python",
   "pygments_lexer": "ipython3",
   "version": "3.8.10"
  }
 },
 "nbformat": 4,
 "nbformat_minor": 4
}
