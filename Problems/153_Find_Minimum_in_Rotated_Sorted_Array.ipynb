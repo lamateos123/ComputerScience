{
 "cells": [
  {
   "cell_type": "code",
   "execution_count": 1,
   "metadata": {},
   "outputs": [],
   "source": [
    "# 153. Find Minimum in Rotated Sorted Array\n",
    "'''\n",
    "Suppose an array of length n sorted in ascending order is rotated between 1 and n times. \n",
    "For example, the array nums = [0,1,2,4,5,6,7] might become:\n",
    "\n",
    "    [4,5,6,7,0,1,2] if it was rotated 4 times.\n",
    "    [0,1,2,4,5,6,7] if it was rotated 7 times.\n",
    "\n",
    "Notice that rotating an array [a[0], a[1], a[2], ..., a[n-1]] 1 time results in the array \n",
    "[a[n-1], a[0], a[1], a[2], ..., a[n-2]].\n",
    "\n",
    "Given the sorted rotated array nums of unique elements, return the minimum element of this \n",
    "array.\n",
    "\n",
    "You must write an algorithm that runs in O(log n) time.\n",
    "\n",
    "Example 1:\n",
    "\n",
    "Input: nums = [3,4,5,1,2]\n",
    "Output: 1\n",
    "Explanation: The original array was [1,2,3,4,5] rotated 3 times.\n",
    "\n",
    "Example 2:\n",
    "\n",
    "Input: nums = [4,5,6,7,0,1,2]\n",
    "Output: 0\n",
    "Explanation: The original array was [0,1,2,4,5,6,7] and it was rotated 4 times.\n",
    "\n",
    "Example 3:\n",
    "\n",
    "Input: nums = [11,13,15,17]\n",
    "Output: 11\n",
    "Explanation: The original array was [11,13,15,17] and it was rotated 4 times. \n",
    "'''"
   ]
  },
  {
   "cell_type": "code",
   "execution_count": 11,
   "metadata": {},
   "outputs": [
    {
     "name": "stdout",
     "output_type": "stream",
     "text": [
      "1\n",
      "0\n",
      "11\n",
      "1\n"
     ]
    }
   ],
   "source": [
    "def minRotated(nums):\n",
    "    if len(nums) == 1:\n",
    "        return nums[0]\n",
    "\n",
    "    l = 0\n",
    "    r = len(nums)-1\n",
    "    \n",
    "    # IF the last element is greater \n",
    "    # THEN the first element then there is no rotation.\n",
    "    # e.g. 1 < 2 < 3 < 4 < 5 < 7. Already sorted array.\n",
    "    # Hence the smallest element is first element. A[0]\n",
    "    if nums[r] > nums[0]:\n",
    "        return nums[0]  \n",
    "    \n",
    "    while l<r:\n",
    "        mid = l + (r-l) // 2\n",
    "        # IF the mid element is greater than its next element mid+1 \n",
    "        # THEN mid+1 element is the smallest\n",
    "        # This point would be the point of change. From higher to lower value.\n",
    "        if nums[mid]>nums[mid+1]:\n",
    "            return nums[mid+1]\n",
    "        # if the mid element is lesser than its previous element \n",
    "        #then mid element is the smallest\n",
    "        if nums[mid-1] > nums[mid]:\n",
    "            return nums[mid]\n",
    "\n",
    "        # if mid element is greater than 0th element\n",
    "        # the least value is still somewhere to the right\n",
    "        if nums[mid] > nums[0]:\n",
    "            l = mid + 1\n",
    "        # IF nums[0] is greater than the mid value \n",
    "        # THEN this means the smallest value is somewhere to the left\n",
    "        else:\n",
    "            r = mid - 1\n",
    "    return l\n",
    "\n",
    "nums = [3,4,5,1,2]\n",
    "print(minRotated(nums))\n",
    "nums = [4,5,6,7,0,1,2]\n",
    "print(minRotated(nums))\n",
    "nums = [11,13,15,17]\n",
    "print(minRotated(nums))\n",
    "nums=[2,3,4,5,1]\n",
    "print(minRotated(nums))"
   ]
  },
  {
   "cell_type": "code",
   "execution_count": null,
   "metadata": {},
   "outputs": [],
   "source": [
    "\n",
    "            # if the mid elements value is greater than the 0th element this means\n",
    "            # the least value is still somewhere to the right as we are still dealing with elements greater than nums[0]\n",
    "            if nums[mid] > nums[0]:\n",
    "                left = mid + 1\n",
    "            # if nums[0] is greater than the mid value then this means the smallest value is somewhere to the left\n",
    "            else:\n",
    "                right = mid - 1"
   ]
  },
  {
   "cell_type": "code",
   "execution_count": null,
   "metadata": {},
   "outputs": [],
   "source": []
  },
  {
   "cell_type": "code",
   "execution_count": null,
   "metadata": {},
   "outputs": [],
   "source": []
  },
  {
   "cell_type": "code",
   "execution_count": null,
   "metadata": {},
   "outputs": [],
   "source": []
  },
  {
   "cell_type": "code",
   "execution_count": null,
   "metadata": {},
   "outputs": [],
   "source": []
  },
  {
   "cell_type": "code",
   "execution_count": null,
   "metadata": {},
   "outputs": [],
   "source": []
  },
  {
   "cell_type": "code",
   "execution_count": null,
   "metadata": {},
   "outputs": [],
   "source": []
  },
  {
   "cell_type": "code",
   "execution_count": null,
   "metadata": {},
   "outputs": [],
   "source": []
  },
  {
   "cell_type": "code",
   "execution_count": null,
   "metadata": {},
   "outputs": [],
   "source": []
  },
  {
   "cell_type": "code",
   "execution_count": null,
   "metadata": {},
   "outputs": [],
   "source": []
  }
 ],
 "metadata": {
  "kernelspec": {
   "display_name": "Python 3",
   "language": "python",
   "name": "python3"
  },
  "language_info": {
   "codemirror_mode": {
    "name": "ipython",
    "version": 3
   },
   "file_extension": ".py",
   "mimetype": "text/x-python",
   "name": "python",
   "nbconvert_exporter": "python",
   "pygments_lexer": "ipython3",
   "version": "3.8.10"
  }
 },
 "nbformat": 4,
 "nbformat_minor": 4
}
