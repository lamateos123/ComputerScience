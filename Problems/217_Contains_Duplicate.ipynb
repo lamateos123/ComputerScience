{
 "cells": [
  {
   "cell_type": "code",
   "execution_count": 1,
   "metadata": {},
   "outputs": [],
   "source": [
    "# 217. Contains Duplicate\n",
    "#---------------------------\n",
    "# Given an integer array nums, return true if any value appears at least twice\n",
    "# in the array, and return false if every element is distint\n",
    "\n",
    "# Example 1:\n",
    "#Input: nums = [1,2,3,1]\n",
    "#Output: true\n",
    "\n",
    "#Example 2:\n",
    "#Input: nums = [1,2,3,4]\n",
    "#Output: false\n",
    "\n",
    "#Example 3:\n",
    "#Input: nums = [1,1,1,3,3,4,3,2,4,2]\n",
    "#Output: true"
   ]
  },
  {
   "cell_type": "code",
   "execution_count": 4,
   "metadata": {},
   "outputs": [],
   "source": [
    "def contains_duplicate(nums):\n",
    "    d = {}\n",
    "    for n in nums:\n",
    "        d.setdefault(n,0)\n",
    "        d[n] += 1\n",
    "        if d[n] > 1:\n",
    "            return True\n",
    "    return False"
   ]
  },
  {
   "cell_type": "code",
   "execution_count": 5,
   "metadata": {},
   "outputs": [
    {
     "name": "stdout",
     "output_type": "stream",
     "text": [
      "True\n",
      "False\n",
      "True\n"
     ]
    }
   ],
   "source": [
    "nums = [1,2,3,1]\n",
    "print(contains_duplicate(nums))\n",
    "\n",
    "nums = [1,2,3,4]\n",
    "print(contains_duplicate(nums))\n",
    "\n",
    "nums = [1,1,1,3,3,4,3,2,4,2]\n",
    "print(contains_duplicate(nums))"
   ]
  },
  {
   "cell_type": "code",
   "execution_count": null,
   "metadata": {},
   "outputs": [],
   "source": []
  }
 ],
 "metadata": {
  "kernelspec": {
   "display_name": "Python 3",
   "language": "python",
   "name": "python3"
  },
  "language_info": {
   "codemirror_mode": {
    "name": "ipython",
    "version": 3
   },
   "file_extension": ".py",
   "mimetype": "text/x-python",
   "name": "python",
   "nbconvert_exporter": "python",
   "pygments_lexer": "ipython3",
   "version": "3.7.4"
  }
 },
 "nbformat": 4,
 "nbformat_minor": 2
}
