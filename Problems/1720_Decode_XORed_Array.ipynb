{
 "cells": [
  {
   "cell_type": "code",
   "execution_count": null,
   "metadata": {},
   "outputs": [],
   "source": [
    "# 1720. Decode XORed Array\n",
    "#---------------------------\n",
    "'''\n",
    "There is a hidden integer array arr that consists of n non-negative \n",
    "integers.\n",
    "\n",
    "It was encoded into another integer array encoded of length n - 1, \n",
    "such that encoded[i] = arr[i] XOR arr[i + 1]. \n",
    "For example, if arr = [1,0,2,1], then encoded = [1,2,3].\n",
    "\n",
    "You are given the encoded array. You are also given an integer first, \n",
    "that is the first element of arr, i.e. arr[0].\n",
    "\n",
    "Return the original array arr. It can be proved that the answer exists \n",
    "and is unique.\n",
    "\n",
    "Example 1:\n",
    "\n",
    "Input: encoded = [1,2,3], first = 1\n",
    "Output: [1,0,2,1]\n",
    "Explanation: If arr = [1,0,2,1], then first = 1 and \n",
    "encoded = [1 XOR 0, 0 XOR 2, 2 XOR 1] = [1,2,3]\n",
    "\n",
    "Example 2:\n",
    "\n",
    "Input: encoded = [6,2,7,3], first = 4\n",
    "Output: [4,2,0,7,4]\n",
    "\n",
    "'''"
   ]
  },
  {
   "cell_type": "code",
   "execution_count": 11,
   "metadata": {},
   "outputs": [
    {
     "name": "stdout",
     "output_type": "stream",
     "text": [
      "[4, 2, 0, 7, 4]\n"
     ]
    }
   ],
   "source": [
    "encoded = [1,2,3]\n",
    "first = 1\n",
    "\n",
    "encoded = [6,2,7,3]\n",
    "first = 4\n",
    "\n",
    "def decodexor(encoded, first):\n",
    "    ans = [first]\n",
    "    for i in encoded:\n",
    "        ans.append(i^ans[-1])\n",
    "    return ans\n",
    "        \n",
    "print(decodexor(encoded, first))"
   ]
  },
  {
   "cell_type": "code",
   "execution_count": null,
   "metadata": {},
   "outputs": [],
   "source": []
  }
 ],
 "metadata": {
  "kernelspec": {
   "display_name": "Python 3",
   "language": "python",
   "name": "python3"
  },
  "language_info": {
   "codemirror_mode": {
    "name": "ipython",
    "version": 3
   },
   "file_extension": ".py",
   "mimetype": "text/x-python",
   "name": "python",
   "nbconvert_exporter": "python",
   "pygments_lexer": "ipython3",
   "version": "3.6.9"
  }
 },
 "nbformat": 4,
 "nbformat_minor": 4
}
