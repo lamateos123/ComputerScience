{
 "cells": [
  {
   "cell_type": "code",
   "execution_count": 1,
   "metadata": {},
   "outputs": [],
   "source": [
    "# 1450. Number of Students Doing Homework at a Given Time\n",
    "'''\n",
    "Given two integer arrays startTime and endTime and given an \n",
    "integer queryTime.\n",
    "\n",
    "The ith student started doing their homework at the time \n",
    "startTime[i] and finished it at time endTime[i].\n",
    "\n",
    "Return the number of students doing their homework at time \n",
    "queryTime. More formally, return the number of students where \n",
    "queryTime lays in the interval [startTime[i], endTime[i]] inclusive.\n",
    "\n",
    "\n",
    "Example 1:\n",
    "\n",
    "Input: startTime = [1,2,3], endTime = [3,2,7], queryTime = 4\n",
    "Output: 1\n",
    "Explanation: We have 3 students where:\n",
    "The first student started doing homework at time 1 and finished at time 3 and wasn't doing anything at time 4.\n",
    "The second student started doing homework at time 2 and finished at time 2 and also wasn't doing anything at time 4.\n",
    "The third student started doing homework at time 3 and finished at time 7 and was the only student doing homework at time 4.\n",
    "\n",
    "'''"
   ]
  },
  {
   "cell_type": "code",
   "execution_count": 4,
   "metadata": {},
   "outputs": [
    {
     "data": {
      "text/plain": [
       "1"
      ]
     },
     "execution_count": 4,
     "metadata": {},
     "output_type": "execute_result"
    }
   ],
   "source": [
    "def homework(startTime, endTime, queryTime):\n",
    "    ans = 0\n",
    "    for i in range(len(startTime)):\n",
    "        if queryTime >= startTime[i] and queryTime <= endTime[i]:\n",
    "            ans += 1\n",
    "    return ans\n",
    "\n",
    "\n",
    "startTime = [1,2,3]\n",
    "endTime = [3,2,7]\n",
    "queryTime = 4\n",
    "\n",
    "startTime = [4]\n",
    "endTime = [4]\n",
    "queryTime = 4\n",
    "homework(startTime, endTime, queryTime)"
   ]
  },
  {
   "cell_type": "code",
   "execution_count": 5,
   "metadata": {},
   "outputs": [
    {
     "data": {
      "text/plain": [
       "1"
      ]
     },
     "execution_count": 5,
     "metadata": {},
     "output_type": "execute_result"
    }
   ],
   "source": [
    "def homework(startTime, endTime, queryTime):\n",
    "    ans = 0\n",
    "    for i in range(len(startTime)):\n",
    "        if queryTime in range(startTime[i], endTime[i]+1):\n",
    "            ans += 1\n",
    "    return ans\n",
    "\n",
    "\n",
    "startTime = [1,2,3]\n",
    "endTime = [3,2,7]\n",
    "queryTime = 4\n",
    "\n",
    "startTime = [4]\n",
    "endTime = [4]\n",
    "queryTime = 4\n",
    "homework(startTime, endTime, queryTime)"
   ]
  },
  {
   "cell_type": "code",
   "execution_count": null,
   "metadata": {},
   "outputs": [],
   "source": []
  }
 ],
 "metadata": {
  "kernelspec": {
   "display_name": "Python 3",
   "language": "python",
   "name": "python3"
  },
  "language_info": {
   "codemirror_mode": {
    "name": "ipython",
    "version": 3
   },
   "file_extension": ".py",
   "mimetype": "text/x-python",
   "name": "python",
   "nbconvert_exporter": "python",
   "pygments_lexer": "ipython3",
   "version": "3.7.4"
  }
 },
 "nbformat": 4,
 "nbformat_minor": 2
}
