{
 "cells": [
  {
   "cell_type": "code",
   "execution_count": 1,
   "metadata": {},
   "outputs": [],
   "source": [
    "# 2078. Two Furthest Houses With Different Colors\n",
    "'''\n",
    "There are n houses evenly lined up on the street, and each house is beautifully painted. \n",
    "You are given a 0-indexed integer array colors of length n, where colors[i] represents the color of the ith house.\n",
    "\n",
    "Return the maximum distance between two houses with different colors.\n",
    "\n",
    "The distance between the ith and jth houses is abs(i - j), where abs(x) is the absolute value of x.\n",
    "\n",
    " \n",
    "\n",
    "Example 1:\n",
    "\n",
    "Input: colors = [1,1,1,6,1,1,1]\n",
    "Output: 3\n",
    "Explanation: In the above image, color 1 is blue, and color 6 is red.\n",
    "The furthest two houses with different colors are house 0 and house 3.\n",
    "House 0 has color 1, and house 3 has color 6. The distance between them is abs(0 - 3) = 3.\n",
    "Note that houses 3 and 6 can also produce the optimal answer.\n",
    "'''"
   ]
  },
  {
   "cell_type": "code",
   "execution_count": 4,
   "metadata": {},
   "outputs": [
    {
     "name": "stdout",
     "output_type": "stream",
     "text": [
      "4\n"
     ]
    }
   ],
   "source": [
    "def twoHouses(colors):\n",
    "    x = 0\n",
    "    for i in range(len(colors)):\n",
    "        for j in range(i+1,len(colors)):\n",
    "            if colors[i] != colors[j]:\n",
    "                x = max(x,abs(i-j))\n",
    "    return x\n",
    "    \n",
    "colors = [1,1,1,6,1,1,1]\n",
    "colors = [1,8,3,8,3]\n",
    "print(twoHouses(colors))"
   ]
  },
  {
   "cell_type": "code",
   "execution_count": null,
   "metadata": {},
   "outputs": [],
   "source": []
  }
 ],
 "metadata": {
  "kernelspec": {
   "display_name": "Python 3",
   "language": "python",
   "name": "python3"
  },
  "language_info": {
   "codemirror_mode": {
    "name": "ipython",
    "version": 3
   },
   "file_extension": ".py",
   "mimetype": "text/x-python",
   "name": "python",
   "nbconvert_exporter": "python",
   "pygments_lexer": "ipython3",
   "version": "3.8.10"
  }
 },
 "nbformat": 4,
 "nbformat_minor": 4
}
