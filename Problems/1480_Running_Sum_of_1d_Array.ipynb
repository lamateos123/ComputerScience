{
 "cells": [
  {
   "cell_type": "code",
   "execution_count": 1,
   "metadata": {},
   "outputs": [],
   "source": [
    "# 1480. Running Sum of 1d Array\n",
    "#------------------------------\n",
    "\n",
    "#Given an array nums. We define a running sum of an array as runningSum[i] = sum(nums[0]…nums[i]).\n",
    "#Return the running sum of nums.\n",
    "\n",
    "#Example 1:\n",
    "#Input: nums = [1,2,3,4]\n",
    "#Output: [1,3,6,10]\n",
    "#Explanation: Running sum is obtained as follows: [1, 1+2, 1+2+3, 1+2+3+4].\n",
    "\n",
    "#Example 2:\n",
    "#Input: nums = [1,1,1,1,1]\n",
    "#Output: [1,2,3,4,5]\n",
    "#Explanation: Running sum is obtained as follows: [1, 1+1, 1+1+1, 1+1+1+1, 1+1+1+1+1].\n",
    "\n",
    "#Example 3:\n",
    "#Input: nums = [3,1,2,10,1]\n",
    "#Output: [3,4,6,16,17]"
   ]
  },
  {
   "cell_type": "code",
   "execution_count": 2,
   "metadata": {},
   "outputs": [
    {
     "data": {
      "text/plain": [
       "[3, 4, 6, 16, 17]"
      ]
     },
     "execution_count": 2,
     "metadata": {},
     "output_type": "execute_result"
    }
   ],
   "source": [
    "def running_sum(nums):\n",
    "    suma = 0\n",
    "    for i in range(len(nums)):\n",
    "        suma+=nums[i]\n",
    "        nums[i] = suma\n",
    "    return nums\n",
    "\n",
    "\n",
    "nums = [3,1,2,10,1]\n",
    "running_sum(nums)"
   ]
  },
  {
   "cell_type": "code",
   "execution_count": 4,
   "metadata": {},
   "outputs": [
    {
     "data": {
      "text/plain": [
       "[3, 4, 6, 16, 17]"
      ]
     },
     "execution_count": 4,
     "metadata": {},
     "output_type": "execute_result"
    }
   ],
   "source": [
    "def running_sum(nums):\n",
    "    for i in range(1,len(nums)):\n",
    "        nums[i] += nums[i-1]\n",
    "    return nums\n",
    "\n",
    "\n",
    "nums = [3,1,2,10,1]\n",
    "running_sum(nums)"
   ]
  },
  {
   "cell_type": "code",
   "execution_count": null,
   "metadata": {},
   "outputs": [],
   "source": []
  }
 ],
 "metadata": {
  "kernelspec": {
   "display_name": "Python 3",
   "language": "python",
   "name": "python3"
  },
  "language_info": {
   "codemirror_mode": {
    "name": "ipython",
    "version": 3
   },
   "file_extension": ".py",
   "mimetype": "text/x-python",
   "name": "python",
   "nbconvert_exporter": "python",
   "pygments_lexer": "ipython3",
   "version": "3.7.4"
  }
 },
 "nbformat": 4,
 "nbformat_minor": 2
}
