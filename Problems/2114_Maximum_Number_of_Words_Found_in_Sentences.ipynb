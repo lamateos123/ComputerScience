{
 "cells": [
  {
   "cell_type": "code",
   "execution_count": 4,
   "metadata": {},
   "outputs": [],
   "source": [
    "# 2114. Maximum Number of Words Found in Sentences\n",
    "#-------------------------------------------------\n",
    "#A sentence is a list of words that are separated by a single space \n",
    "#with no leading or trailing spaces.\n",
    "#\n",
    "#You are given an array of strings sentences, where each sentences[i] \n",
    "#represents a single sentence.\n",
    "#\n",
    "#Return the maximum number of words that appear in a single sentence.\n",
    "\n",
    "#Example 1:\n",
    "\n",
    "#Input: sentences = [\"alice and bob love leetcode\", \"i think so too\", \n",
    "#\"this is great thanks very much\"]\n",
    "#Output: 6\n",
    "#Explanation: \n",
    "#- The first sentence, \"alice and bob love leetcode\", has 5 words in total.\n",
    "#- The second sentence, \"i think so too\", has 4 words in total.\n",
    "#- The third sentence, \"this is great thanks very much\", has 6 words in total.\n",
    "#Thus, the maximum number of words in a single sentence comes from the third sentence, which has 6 words.\n"
   ]
  },
  {
   "cell_type": "code",
   "execution_count": 7,
   "metadata": {},
   "outputs": [
    {
     "data": {
      "text/plain": [
       "6"
      ]
     },
     "execution_count": 7,
     "metadata": {},
     "output_type": "execute_result"
    }
   ],
   "source": [
    "def max_words(sentences):\n",
    "    counter = 0\n",
    "    for sentence in sentences:\n",
    "        words = sentence.split()\n",
    "        if len(words) > counter:\n",
    "            counter = len(words)\n",
    "    return counter\n",
    "\n",
    "sentences = [\"alice and bob love leetcode\", \"i think so too\", \"this is great thanks very much\"]\n",
    "max_words(sentences)"
   ]
  },
  {
   "cell_type": "code",
   "execution_count": 9,
   "metadata": {},
   "outputs": [
    {
     "data": {
      "text/plain": [
       "3"
      ]
     },
     "execution_count": 9,
     "metadata": {},
     "output_type": "execute_result"
    }
   ],
   "source": [
    "sentences = [\"please wait\", \"continue to fight\", \"continue to win\"]\n",
    "max_words(sentences)"
   ]
  },
  {
   "cell_type": "code",
   "execution_count": null,
   "metadata": {},
   "outputs": [],
   "source": []
  },
  {
   "cell_type": "code",
   "execution_count": null,
   "metadata": {},
   "outputs": [],
   "source": []
  },
  {
   "cell_type": "code",
   "execution_count": null,
   "metadata": {},
   "outputs": [],
   "source": []
  }
 ],
 "metadata": {
  "kernelspec": {
   "display_name": "Python 3",
   "language": "python",
   "name": "python3"
  },
  "language_info": {
   "codemirror_mode": {
    "name": "ipython",
    "version": 3
   },
   "file_extension": ".py",
   "mimetype": "text/x-python",
   "name": "python",
   "nbconvert_exporter": "python",
   "pygments_lexer": "ipython3",
   "version": "3.7.4"
  }
 },
 "nbformat": 4,
 "nbformat_minor": 2
}
