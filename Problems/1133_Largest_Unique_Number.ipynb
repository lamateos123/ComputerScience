{
 "cells": [
  {
   "cell_type": "code",
   "execution_count": 1,
   "metadata": {},
   "outputs": [],
   "source": [
    "# 1133. Largest Unique Number\n",
    "'''\n",
    "Given an integer array nums, return the largest integer that only occurs once. \n",
    "If no integer occurs once, return -1.\n",
    "\n",
    " \n",
    "\n",
    "Example 1:\n",
    "\n",
    "Input: nums = [5,7,3,9,4,9,8,3,1]\n",
    "Output: 8\n",
    "Explanation: The maximum integer in the array is 9 but it is repeated. \n",
    "The number 8 occurs only once, so it is the answer.\n",
    "\n",
    "Example 2:\n",
    "\n",
    "Input: nums = [9,9,8,8]\n",
    "Output: -1\n",
    "Explanation: There is no number that occurs only once.\n",
    "'''"
   ]
  },
  {
   "cell_type": "code",
   "execution_count": 4,
   "metadata": {},
   "outputs": [
    {
     "name": "stdout",
     "output_type": "stream",
     "text": [
      "8\n"
     ]
    }
   ],
   "source": [
    "def largestUN(nums):\n",
    "    d = {}\n",
    "    ans = -1\n",
    "    for i in nums:\n",
    "        d.setdefault(i,0)\n",
    "        d[i]+=1\n",
    "    for k,v in d.items():\n",
    "        if v==1:\n",
    "            ans = max(ans,k)\n",
    "    return ans\n",
    "    \n",
    "nums = [5,7,3,9,4,9,8,3,1]\n",
    "print(largestUN(nums))"
   ]
  },
  {
   "cell_type": "code",
   "execution_count": null,
   "metadata": {},
   "outputs": [],
   "source": []
  }
 ],
 "metadata": {
  "kernelspec": {
   "display_name": "Python 3",
   "language": "python",
   "name": "python3"
  },
  "language_info": {
   "codemirror_mode": {
    "name": "ipython",
    "version": 3
   },
   "file_extension": ".py",
   "mimetype": "text/x-python",
   "name": "python",
   "nbconvert_exporter": "python",
   "pygments_lexer": "ipython3",
   "version": "3.8.10"
  }
 },
 "nbformat": 4,
 "nbformat_minor": 4
}
