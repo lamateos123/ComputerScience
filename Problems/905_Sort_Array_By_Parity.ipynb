{
 "cells": [
  {
   "cell_type": "code",
   "execution_count": 1,
   "metadata": {},
   "outputs": [],
   "source": [
    "# 905. Sort Array By Parity\n",
    "'''\n",
    "Given an integer array nums, move all the even integers at the beginning of \n",
    "the array followed by all the odd integers.\n",
    "\n",
    "Return any array that satisfies this condition.\n",
    "\n",
    " \n",
    "\n",
    "Example 1:\n",
    "\n",
    "Input: nums = [3,1,2,4]\n",
    "Output: [2,4,3,1]\n",
    "Explanation: The outputs [4,2,3,1], [2,4,1,3], and [4,2,1,3] would also be accepted.\n",
    "\n",
    "Example 2:\n",
    "\n",
    "Input: nums = [0]\n",
    "Output: [0]\n",
    "\n",
    "'''"
   ]
  },
  {
   "cell_type": "code",
   "execution_count": 13,
   "metadata": {},
   "outputs": [
    {
     "name": "stdout",
     "output_type": "stream",
     "text": [
      "[0, 1, 3]\n"
     ]
    }
   ],
   "source": [
    "def sortbyParity(nums):\n",
    "    i = 0\n",
    "    j = len(nums)-1\n",
    "    while i < j:\n",
    "        if nums[i]%2 == 1 and nums[j]%2 == 0:\n",
    "            temp = nums[i]\n",
    "            nums[i] = nums[j]\n",
    "            nums[j] = temp\n",
    "            \n",
    "        if nums[i]%2 == 0: i+=1;\n",
    "        if nums[j]%2 == 1: j-=1\n",
    "        \n",
    "    return nums\n",
    "\n",
    "nums = [3,1,2,4]\n",
    "nums = [0]\n",
    "nums = [0,1,2]\n",
    "nums = [1,0,3]\n",
    "print(sortbyParity(nums))\n",
    "            "
   ]
  },
  {
   "cell_type": "code",
   "execution_count": 14,
   "metadata": {},
   "outputs": [
    {
     "name": "stdout",
     "output_type": "stream",
     "text": [
      "[0, 1, 3]\n"
     ]
    }
   ],
   "source": [
    "def sortbyParity(nums):\n",
    "    nums.sort(key = lambda x:x%2)\n",
    "    return nums\n",
    "\n",
    "nums = [1,0,3]\n",
    "print(sortbyParity(nums))\n"
   ]
  },
  {
   "cell_type": "code",
   "execution_count": 16,
   "metadata": {},
   "outputs": [
    {
     "name": "stdout",
     "output_type": "stream",
     "text": [
      "[0, 1, 3]\n"
     ]
    }
   ],
   "source": [
    "def sortbyParity(nums):\n",
    "    temp = []\n",
    "    for i in nums:\n",
    "        if i%2==0:\n",
    "            temp.append(i)\n",
    "            \n",
    "    for i in nums:\n",
    "        if i%2==1:\n",
    "            temp.append(i)\n",
    "    return temp\n",
    "\n",
    "nums = [1,0,3]\n",
    "print(sortbyParity(nums))\n"
   ]
  },
  {
   "cell_type": "code",
   "execution_count": null,
   "metadata": {},
   "outputs": [],
   "source": []
  }
 ],
 "metadata": {
  "kernelspec": {
   "display_name": "Python 3",
   "language": "python",
   "name": "python3"
  },
  "language_info": {
   "codemirror_mode": {
    "name": "ipython",
    "version": 3
   },
   "file_extension": ".py",
   "mimetype": "text/x-python",
   "name": "python",
   "nbconvert_exporter": "python",
   "pygments_lexer": "ipython3",
   "version": "3.8.10"
  }
 },
 "nbformat": 4,
 "nbformat_minor": 4
}
