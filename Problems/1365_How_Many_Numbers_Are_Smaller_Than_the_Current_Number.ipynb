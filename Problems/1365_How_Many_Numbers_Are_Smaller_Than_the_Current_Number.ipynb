{
 "cells": [
  {
   "cell_type": "code",
   "execution_count": 1,
   "metadata": {},
   "outputs": [],
   "source": [
    "# 1365. How Many Numbers Are Smaller Than the Current Number\n",
    "#-------------------------------------------------------------\n",
    "#Given the array nums, for each nums[i] find out how many numbers in the \n",
    "#array are smaller than it. That is, for each nums[i] you have to count \n",
    "#the number of valid j's such that j != i and nums[j] < nums[i].\n",
    "\n",
    "#Return the answer in an array.\n",
    "\n",
    "#Example 1:\n",
    "#Input: nums = [8,1,2,2,3]\n",
    "#Output: [4,0,1,1,3]\n",
    "#Explanation: \n",
    "#For nums[0]=8 there exist four smaller numbers than it (1, 2, 2 and 3). \n",
    "#For nums[1]=1 does not exist any smaller number than it.\n",
    "#For nums[2]=2 there exist one smaller number than it (1). \n",
    "#For nums[3]=2 there exist one smaller number than it (1). \n",
    "#For nums[4]=3 there exist three smaller numbers than it (1, 2 and 2).\n",
    "\n",
    "#Example 2:\n",
    "#Input: nums = [6,5,4,8]\n",
    "#Output: [2,1,0,3]\n",
    "\n",
    "#Example 3:\n",
    "#Input: nums = [7,7,7,7]\n",
    "#Output: [0,0,0,0]"
   ]
  },
  {
   "cell_type": "code",
   "execution_count": 21,
   "metadata": {},
   "outputs": [
    {
     "name": "stdout",
     "output_type": "stream",
     "text": [
      "[1, 2, 2, 3, 8]\n",
      "8 4\n",
      "1 0\n",
      "2 1\n",
      "2 1\n",
      "3 3\n"
     ]
    },
    {
     "data": {
      "text/plain": [
       "[4, 0, 1, 1, 3]"
      ]
     },
     "execution_count": 21,
     "metadata": {},
     "output_type": "execute_result"
    }
   ],
   "source": [
    "def howManyNums(nums):\n",
    "    ans = []\n",
    "    for i in range(len(nums)):\n",
    "        count = 0\n",
    "        for j in range(len(nums)):            \n",
    "            if i != j:\n",
    "                #print(nums[i], nums[j])\n",
    "                if nums[i] > nums[j]:\n",
    "                    count+=1\n",
    "        ans.append(count)\n",
    "    return ans\n",
    "\n",
    "def howManyNums_improved(nums):\n",
    "    ans = []\n",
    "    ns = sorted(nums)\n",
    "    print(ns)\n",
    "    for i in range(len(nums)):\n",
    "        print(nums[i], ns.index(nums[i]))\n",
    "        ans.append(ns.index(nums[i]))\n",
    "        # what is the index of the number 1->0 |2->1 | 3->3| 8->4 |\n",
    "        # the sort order the numbers and the index is the smaller number to that index\n",
    "    return ans\n",
    "\n",
    "nums = [8,1,2,2,3]            \n",
    "howManyNums_improved(nums)"
   ]
  },
  {
   "cell_type": "code",
   "execution_count": 18,
   "metadata": {},
   "outputs": [
    {
     "data": {
      "text/plain": [
       "[4, 0, 1, 1, 3]"
      ]
     },
     "execution_count": 18,
     "metadata": {},
     "output_type": "execute_result"
    }
   ],
   "source": [
    "nums = [8,1,2,2,3]            \n",
    "howManyNums(nums)"
   ]
  },
  {
   "cell_type": "code",
   "execution_count": 12,
   "metadata": {},
   "outputs": [
    {
     "data": {
      "text/plain": [
       "[2, 1, 0, 3]"
      ]
     },
     "execution_count": 12,
     "metadata": {},
     "output_type": "execute_result"
    }
   ],
   "source": [
    "nums = [6,5,4,8]            \n",
    "howManyNums(nums)"
   ]
  },
  {
   "cell_type": "code",
   "execution_count": 13,
   "metadata": {},
   "outputs": [
    {
     "data": {
      "text/plain": [
       "[0, 0, 0, 0]"
      ]
     },
     "execution_count": 13,
     "metadata": {},
     "output_type": "execute_result"
    }
   ],
   "source": [
    "nums = [7,7,7,7]            \n",
    "howManyNums(nums)"
   ]
  }
 ],
 "metadata": {
  "kernelspec": {
   "display_name": "Python 3",
   "language": "python",
   "name": "python3"
  },
  "language_info": {
   "codemirror_mode": {
    "name": "ipython",
    "version": 3
   },
   "file_extension": ".py",
   "mimetype": "text/x-python",
   "name": "python",
   "nbconvert_exporter": "python",
   "pygments_lexer": "ipython3",
   "version": "3.7.4"
  }
 },
 "nbformat": 4,
 "nbformat_minor": 2
}
