{
 "cells": [
  {
   "cell_type": "code",
   "execution_count": 16,
   "metadata": {},
   "outputs": [],
   "source": [
    "# 1672. Richest Customer Wealth\n",
    "#-------------------------------\n",
    "\n",
    "#You are given an m x n integer grid accounts where accounts[i][j] \n",
    "#is the amount of money the i​​​​​​​​​​​th​​​​ customer has in the j​​​​​​​​​​​th​​​​ bank. \n",
    "#Return the wealth that the richest customer has.\n",
    "\n",
    "#A customer's wealth is the amount of money they have in all their \n",
    "#bank accounts. The richest customer is the customer that has the maximum wealth.\n",
    "\n",
    "\n",
    "#Example 1:\n",
    "#Input: accounts = [[1,2,3],[3,2,1]]\n",
    "#Output: 6\n",
    "#Explanation:\n",
    "#1st customer has wealth = 1 + 2 + 3 = 6\n",
    "#2nd customer has wealth = 3 + 2 + 1 = 6\n",
    "#Both customers are considered the richest with a wealth of 6 each, so return 6.\n",
    "\n",
    "#Example 2:\n",
    "#Input: accounts = [[1,5],[7,3],[3,5]]\n",
    "#Output: 10\n",
    "#Explanation: \n",
    "#1st customer has wealth = 6\n",
    "#2nd customer has wealth = 10 \n",
    "#3rd customer has wealth = 8\n",
    "#The 2nd customer is the richest with a wealth of 10.\n",
    "\n",
    "#Example 3:\n",
    "#Input: accounts = [[2,8,7],[7,1,3],[1,9,5]]\n",
    "#Output: 17"
   ]
  },
  {
   "cell_type": "code",
   "execution_count": 25,
   "metadata": {},
   "outputs": [
    {
     "name": "stdout",
     "output_type": "stream",
     "text": [
      "6\n",
      "6\n"
     ]
    }
   ],
   "source": [
    "def richestCustomer(accounts):\n",
    "    richest = 0\n",
    "    for account in accounts:\n",
    "        wealthy = 0\n",
    "        for money in account:\n",
    "            wealthy += money\n",
    "        if wealthy > richest:\n",
    "            richest = wealthy\n",
    "    return richest\n",
    "\n",
    "\n",
    "def richestCustomerwSum(accounts):\n",
    "    richest = 0\n",
    "    for account in accounts:\n",
    "        wealthy = 0\n",
    "        wealthy = sum(account)\n",
    "        #richest = max(richest, wealthy)\n",
    "        if wealthy > richest:\n",
    "            richest = wealthy\n",
    "    return richest\n",
    "    \n",
    "    \n",
    "accounts = [[1,2,3],[3,2,1]]\n",
    "print(richestCustomer(accounts))\n",
    "\n",
    "accounts = [[1,2,3],[3,2,1]]\n",
    "print(richestCustomerwSum(accounts))"
   ]
  },
  {
   "cell_type": "code",
   "execution_count": 21,
   "metadata": {},
   "outputs": [
    {
     "name": "stdout",
     "output_type": "stream",
     "text": [
      "10\n"
     ]
    }
   ],
   "source": [
    "accounts = [[1,5],[7,3],[3,5]]\n",
    "print(richestCustomer(accounts))"
   ]
  },
  {
   "cell_type": "code",
   "execution_count": 22,
   "metadata": {},
   "outputs": [
    {
     "name": "stdout",
     "output_type": "stream",
     "text": [
      "17\n"
     ]
    }
   ],
   "source": [
    "accounts = [[2,8,7],[7,1,3],[1,9,5]]\n",
    "print(richestCustomer(accounts))"
   ]
  },
  {
   "cell_type": "code",
   "execution_count": null,
   "metadata": {},
   "outputs": [],
   "source": []
  }
 ],
 "metadata": {
  "kernelspec": {
   "display_name": "Python 3",
   "language": "python",
   "name": "python3"
  },
  "language_info": {
   "codemirror_mode": {
    "name": "ipython",
    "version": 3
   },
   "file_extension": ".py",
   "mimetype": "text/x-python",
   "name": "python",
   "nbconvert_exporter": "python",
   "pygments_lexer": "ipython3",
   "version": "3.7.4"
  }
 },
 "nbformat": 4,
 "nbformat_minor": 2
}
