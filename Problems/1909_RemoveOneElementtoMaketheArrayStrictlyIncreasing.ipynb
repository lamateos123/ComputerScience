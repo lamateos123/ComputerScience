{
 "cells": [
  {
   "cell_type": "code",
   "execution_count": null,
   "metadata": {},
   "outputs": [],
   "source": [
    "# 1909. Remove One Element to Make the Array Strictly Increasing\n",
    "#-----------------------------------------------------------------\n",
    "'''\n",
    "Given a 0-indexed integer array nums, return true if it can be made strictly \n",
    "increasing after removing exactly one element, or false otherwise. If the array \n",
    "is already strictly increasing, return true.\n",
    "\n",
    "The array nums is strictly increasing if nums[i - 1] < nums[i] for each \n",
    "index (1 <= i < nums.length).\n",
    "\n",
    "Example 1:\n",
    "\n",
    "Input: nums = [1,2,10,5,7]\n",
    "Output: true\n",
    "Explanation: By removing 10 at index 2 from nums, it becomes [1,2,5,7].\n",
    "[1,2,5,7] is strictly increasing, so return true.\n",
    "\n",
    "Example 2:\n",
    "\n",
    "Input: nums = [2,3,1,2]\n",
    "Output: false\n",
    "Explanation:\n",
    "[3,1,2] is the result of removing the element at index 0.\n",
    "[2,1,2] is the result of removing the element at index 1.\n",
    "[2,3,2] is the result of removing the element at index 2.\n",
    "[2,3,1] is the result of removing the element at index 3.\n",
    "No resulting array is strictly increasing, so return false.\n",
    "'''"
   ]
  },
  {
   "cell_type": "code",
   "execution_count": 40,
   "metadata": {},
   "outputs": [
    {
     "data": {
      "text/plain": [
       "True"
      ]
     },
     "execution_count": 40,
     "metadata": {},
     "output_type": "execute_result"
    }
   ],
   "source": [
    "def strictlyUp(nums):   \n",
    "    c = 0\n",
    "    idx = -1\n",
    "    \n",
    "    for i in range(len(nums)-1):\n",
    "        if nums[i] >= nums[i+1]:\n",
    "            idx = i\n",
    "            c += 1\n",
    "    if c == 0:\n",
    "        return True\n",
    "    if c == 1:\n",
    "        if idx == 0 or idx == len(nums)-2:\n",
    "            return True\n",
    "        if nums[idx-1] < nums[idx+1] or (idx+2 < len(nums) and nums[idx] < nums[idx+2]):\n",
    "            return True\n",
    "                \n",
    "nums = [1,2,10,5,7] # the element is in between the array\n",
    "#nums = [2,3,1,2]\n",
    "#nums = [1,1]\n",
    "#nums = [2,1]\n",
    "#nums = [1,1,1]\n",
    "#nums = [1,2,3]\n",
    "nums = [105,924,32,968] # the element is in between the array\n",
    "\n",
    "strictlyUp(nums)"
   ]
  },
  {
   "cell_type": "code",
   "execution_count": null,
   "metadata": {},
   "outputs": [],
   "source": []
  }
 ],
 "metadata": {
  "kernelspec": {
   "display_name": "Python 3",
   "language": "python",
   "name": "python3"
  },
  "language_info": {
   "codemirror_mode": {
    "name": "ipython",
    "version": 3
   },
   "file_extension": ".py",
   "mimetype": "text/x-python",
   "name": "python",
   "nbconvert_exporter": "python",
   "pygments_lexer": "ipython3",
   "version": "3.7.4"
  }
 },
 "nbformat": 4,
 "nbformat_minor": 2
}
