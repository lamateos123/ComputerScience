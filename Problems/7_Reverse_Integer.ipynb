{
 "cells": [
  {
   "cell_type": "code",
   "execution_count": 1,
   "metadata": {},
   "outputs": [],
   "source": [
    "# 7. Reverse Integer\n",
    "# ---------------------------------------------------------\n",
    "# Given a signed 32-bit integer x, return x with its digits reversed. \n",
    "# If reversing x causes the value to go outside the signed 32-bit integer range then zero\n",
    "#----------------------------------------------------------\n",
    "# example 1\n",
    "# Input: x = 123\n",
    "# Output: 321\n",
    "# Example 2:\n",
    "# Input: x = -123\n",
    "# Output: -321\n",
    "# Example 3:\n",
    "# Input: x = 120\n",
    "# Output: 21"
   ]
  },
  {
   "cell_type": "code",
   "execution_count": 14,
   "metadata": {},
   "outputs": [
    {
     "data": {
      "text/plain": [
       "-321"
      ]
     },
     "execution_count": 14,
     "metadata": {},
     "output_type": "execute_result"
    }
   ],
   "source": [
    "x = 0\n",
    "x = -123\n",
    "#x = 120\n",
    "#x = 2147483645\n",
    "\n",
    "# notice 3 cases\n",
    "# - negative number\n",
    "# - zero\n",
    "# - if pass the 32-bit\n",
    "\n",
    "def reverse_integer(num):\n",
    "    s = str(abs(num))\n",
    "    reverse = \"\"\n",
    "    reverse = s[::-1]\n",
    "    if num < 0:\n",
    "        reverse = \"-\" + reverse\n",
    "    if int(num) > 2147483647 or (num) < -2147483648:\n",
    "        return 0\n",
    "\n",
    "    return int(reverse)\n",
    "\n",
    "reverse_integer(x)"
   ]
  },
  {
   "cell_type": "code",
   "execution_count": null,
   "metadata": {},
   "outputs": [],
   "source": []
  }
 ],
 "metadata": {
  "kernelspec": {
   "display_name": "Python 3",
   "language": "python",
   "name": "python3"
  },
  "language_info": {
   "codemirror_mode": {
    "name": "ipython",
    "version": 3
   },
   "file_extension": ".py",
   "mimetype": "text/x-python",
   "name": "python",
   "nbconvert_exporter": "python",
   "pygments_lexer": "ipython3",
   "version": "3.7.6"
  }
 },
 "nbformat": 4,
 "nbformat_minor": 4
}
