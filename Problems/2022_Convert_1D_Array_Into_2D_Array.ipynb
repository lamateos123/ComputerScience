{
 "cells": [
  {
   "cell_type": "code",
   "execution_count": null,
   "metadata": {},
   "outputs": [],
   "source": [
    "# 2022. Convert 1D Array Into 2D Array\n",
    "#-------------------------------------\n",
    "'''\n",
    "You are given a 0-indexed 1-dimensional (1D) integer array original, and two integers, m and n. \n",
    "You are tasked with creating a 2-dimensional (2D) array with m rows and n columns using all the \n",
    "elements from original.\n",
    "\n",
    "The elements from indices 0 to n - 1 (inclusive) of original should form the first row of the \n",
    "constructed 2D array, the elements from indices n to 2 * n - 1 (inclusive) should form the second \n",
    "row of the constructed 2D array, and so on.\n",
    "\n",
    "Return an m x n 2D array constructed according to the above procedure, or an empty 2D array if it is impossible.\n",
    "\n",
    "Example 1\n",
    "Input: original = [1,2,3,4], m = 2, n = 2\n",
    "Output: [[1,2],[3,4]]\n",
    "Explanation: The constructed 2D array should contain 2 rows and 2 columns.\n",
    "The first group of n=2 elements in original, [1,2], becomes the first row in the constructed 2D array.\n",
    "The second group of n=2 elements in original, [3,4], becomes the second row in the constructed 2D array.\n",
    "\n",
    "'''"
   ]
  },
  {
   "cell_type": "code",
   "execution_count": 68,
   "metadata": {},
   "outputs": [
    {
     "data": {
      "text/plain": [
       "[[1, 2], [3, 4]]"
      ]
     },
     "execution_count": 68,
     "metadata": {},
     "output_type": "execute_result"
    }
   ],
   "source": [
    "def conver1to2(original, m, n):\n",
    "    ans = []\n",
    "    if len(original) != m*n:\n",
    "        return []\n",
    "    k = 0\n",
    "    for i in range(m):\n",
    "        temp = [0]*n\n",
    "        for j in range(n):\n",
    "            temp[j] = original[k]\n",
    "            k+=1\n",
    "        ans.append(temp)\n",
    "    return ans\n",
    "\n",
    "original = [1,2,3,4]\n",
    "m = 2\n",
    "n = 2\n",
    "\n",
    "conver1to2(original, m, n)"
   ]
  },
  {
   "cell_type": "code",
   "execution_count": 67,
   "metadata": {},
   "outputs": [
    {
     "name": "stdout",
     "output_type": "stream",
     "text": [
      "[[0, 0], [0, 0]]\n",
      "[[0, 0], [0, 0]]\n",
      "\n",
      "0\n",
      "1\n",
      "0\n",
      "2\n",
      "1\n",
      "3\n",
      "2\n",
      "4\n"
     ]
    },
    {
     "data": {
      "text/plain": [
       "[[3, 4], [3, 4]]"
      ]
     },
     "execution_count": 67,
     "metadata": {},
     "output_type": "execute_result"
    }
   ],
   "source": [
    "def conver1to2(original, m, n):\n",
    "    ans = [[0]*m]*n\n",
    "    print(ans)\n",
    "    \n",
    "    #ans = [[6,7],[8,9]]\n",
    "    print(ans)\n",
    "    print()\n",
    "    c=0\n",
    "    for i in range(m):\n",
    "        for j in range(n):\n",
    "            #print(i,j,original[c])\n",
    "            print(ans[i][j])\n",
    "            ans[i][j]=original[c]\n",
    "            print(ans[i][j])\n",
    "            \n",
    "            c+=1\n",
    "    return ans\n",
    "\n",
    "original = [1,2,3,4]\n",
    "m = 2\n",
    "n = 2\n",
    "\n",
    "conver1to2(original, m, n)"
   ]
  },
  {
   "cell_type": "code",
   "execution_count": null,
   "metadata": {},
   "outputs": [],
   "source": []
  }
 ],
 "metadata": {
  "kernelspec": {
   "display_name": "Python 3",
   "language": "python",
   "name": "python3"
  },
  "language_info": {
   "codemirror_mode": {
    "name": "ipython",
    "version": 3
   },
   "file_extension": ".py",
   "mimetype": "text/x-python",
   "name": "python",
   "nbconvert_exporter": "python",
   "pygments_lexer": "ipython3",
   "version": "3.8.10"
  }
 },
 "nbformat": 4,
 "nbformat_minor": 4
}
