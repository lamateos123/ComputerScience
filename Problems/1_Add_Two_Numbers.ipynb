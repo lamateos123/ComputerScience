{
 "cells": [
  {
   "cell_type": "code",
   "execution_count": null,
   "metadata": {},
   "outputs": [],
   "source": [
    "# 1. Add two numbers\n",
    "#-------------------------------------------------------------------\n",
    "#Given an array of integers nums and an integer target, \n",
    "#return indices of the two numbers such that they add up to target.\n",
    "\n",
    "#You may assume that each input would have exactly one solution, \n",
    "#and you may not use the same element twice.\n",
    "\n",
    "#You can return the answer in any order.\n",
    "#-------------------------------------------------------------------\n",
    "\n",
    "nums = [2,7,11,15]\n",
    "target = 9\n",
    "# [0,1]"
   ]
  }
 ],
 "metadata": {
  "kernelspec": {
   "display_name": "Python 3",
   "language": "python",
   "name": "python3"
  },
  "language_info": {
   "codemirror_mode": {
    "name": "ipython",
    "version": 3
   },
   "file_extension": ".py",
   "mimetype": "text/x-python",
   "name": "python",
   "nbconvert_exporter": "python",
   "pygments_lexer": "ipython3",
   "version": "3.8.10"
  }
 },
 "nbformat": 4,
 "nbformat_minor": 4
}
