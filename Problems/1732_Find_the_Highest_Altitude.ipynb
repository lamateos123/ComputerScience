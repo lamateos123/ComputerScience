{
 "cells": [
  {
   "cell_type": "code",
   "execution_count": null,
   "metadata": {},
   "outputs": [],
   "source": [
    "# 1732. Find the Highest Altitude\n",
    "#---------------------------------\n",
    "'''\n",
    "There is a biker going on a road trip. The road trip consists of n + 1 \n",
    "points at different altitudes. The biker starts his trip on point 0 with \n",
    "altitude equal 0.\n",
    "\n",
    "You are given an integer array gain of length n where gain[i] is the net \n",
    "gain in altitude between points i​​​​​​ and i + 1 for all (0 <= i < n). \n",
    "Return the highest altitude of a point.\n",
    "\n",
    " \n",
    "\n",
    "Example 1:\n",
    "\n",
    "Input: gain = [-5,1,5,0,-7]\n",
    "Output: 1\n",
    "Explanation: The altitudes are [0,-5,-4,1,1,-6]. The highest is 1.\n",
    "\n",
    "Example 2:\n",
    "\n",
    "Input: gain = [-4,-3,-2,-1,4,3,2]\n",
    "Output: 0\n",
    "Explanation: The altitudes are [0,-4,-7,-9,-10,-6,-3,-1]. The highest is 0.\n",
    "\n",
    "\n",
    "'''"
   ]
  },
  {
   "cell_type": "code",
   "execution_count": 5,
   "metadata": {},
   "outputs": [
    {
     "name": "stdout",
     "output_type": "stream",
     "text": [
      "[0, -4, -7, -9, -10, -6, -3, -1]\n"
     ]
    },
    {
     "data": {
      "text/plain": [
       "0"
      ]
     },
     "execution_count": 5,
     "metadata": {},
     "output_type": "execute_result"
    }
   ],
   "source": [
    "def highestAltitude(gain):\n",
    "    temp = 0\n",
    "    ans = [0]\n",
    "    for g in gain:\n",
    "        temp+=g\n",
    "        ans.append(temp)\n",
    "    print(ans)\n",
    "    return max(ans)\n",
    "\n",
    "gain = [-5,1,5,0,-7]\n",
    "gain = [-4,-3,-2,-1,4,3,2]\n",
    "highestAltitude(gain)"
   ]
  },
  {
   "cell_type": "code",
   "execution_count": null,
   "metadata": {},
   "outputs": [],
   "source": []
  }
 ],
 "metadata": {
  "kernelspec": {
   "display_name": "Python 3",
   "language": "python",
   "name": "python3"
  },
  "language_info": {
   "codemirror_mode": {
    "name": "ipython",
    "version": 3
   },
   "file_extension": ".py",
   "mimetype": "text/x-python",
   "name": "python",
   "nbconvert_exporter": "python",
   "pygments_lexer": "ipython3",
   "version": "3.6.9"
  }
 },
 "nbformat": 4,
 "nbformat_minor": 4
}
