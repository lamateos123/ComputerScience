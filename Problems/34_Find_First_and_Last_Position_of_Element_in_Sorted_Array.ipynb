{
 "cells": [
  {
   "cell_type": "code",
   "execution_count": null,
   "metadata": {},
   "outputs": [],
   "source": [
    "# 34. Find First and Last Position of Element in Sorted Array\n",
    "'''\n",
    "Given an array of integers nums sorted in non-decreasing order, \n",
    "find the starting and ending position of a given target value.\n",
    "\n",
    "If target is not found in the array, return [-1, -1].\n",
    "\n",
    "You must write an algorithm with O(log n) runtime complexity.\n",
    "\n",
    " \n",
    "\n",
    "Example 1:\n",
    "\n",
    "Input: nums = [5,7,7,8,8,10], target = 8\n",
    "Output: [3,4]\n",
    "\n",
    "Example 2:\n",
    "\n",
    "Input: nums = [5,7,7,8,8,10], target = 6\n",
    "Output: [-1,-1]\n",
    "\n",
    "Example 3:\n",
    "\n",
    "Input: nums = [], target = 0\n",
    "Output: [-1,-1]\n",
    "'''"
   ]
  },
  {
   "cell_type": "code",
   "execution_count": 20,
   "metadata": {},
   "outputs": [
    {
     "name": "stdout",
     "output_type": "stream",
     "text": [
      "1 4\n",
      "4 4\n",
      "[1, 1]\n"
     ]
    }
   ],
   "source": [
    "def searchRange(nums, target):\n",
    "    a = 0\n",
    "    b = 0\n",
    "    if len(nums) == 1 and nums[0]==target:\n",
    "        return[0,0]\n",
    "    if len(nums) == 1 and nums[0]!=target:\n",
    "        return[-1,-1]\n",
    "    for i in range(len(nums)):\n",
    "        print(nums[i],target)\n",
    "        if nums[i]==target:\n",
    "            a=i\n",
    "            for j in range(len(nums)-1,-1,-1):\n",
    "                if nums[j]==target:\n",
    "                    b=j\n",
    "                    return[a,b]\n",
    "    \n",
    "    return [-1,-1]\n",
    "'''\n",
    "nums = [5,7,7,8,8,10]\n",
    "target = 8\n",
    "print(searchRange(nums, target))\n",
    "\n",
    "nums = [5,7,7,8,8,10]\n",
    "target = 6\n",
    "print(searchRange(nums, target))\n",
    "'''\n",
    "nums = [1,4]\n",
    "target = 4\n",
    "print(searchRange(nums, target))\n"
   ]
  },
  {
   "cell_type": "code",
   "execution_count": 12,
   "metadata": {},
   "outputs": [
    {
     "name": "stdout",
     "output_type": "stream",
     "text": [
      "[3, 4]\n",
      "[-1, -1]\n",
      "[-1, -1]\n"
     ]
    }
   ],
   "source": [
    "def searchRange(nums, target):\n",
    "    lower = findBound(nums, target, True)\n",
    "    if lower == -1:\n",
    "        return [-1,-1]\n",
    "    \n",
    "    upper = findBound(nums, target, False)\n",
    "    return[lower, upper]\n",
    "\n",
    "def findBound(nums, target, isFirst):\n",
    "    N = len(nums)\n",
    "    l = 0\n",
    "    r = N-1\n",
    "    while l<=r:\n",
    "        mid = l + (r-l) // 2\n",
    "        \n",
    "        if nums[mid] == target:\n",
    "            if isFirst:\n",
    "                # if true we found the lower bound\n",
    "                if mid == l or nums[mid-1]<target:\n",
    "                    return mid\n",
    "                # search on the left side for the lower bound\n",
    "                r = mid-1\n",
    "            else:\n",
    "                # if true we found the upper bound\n",
    "                if mid == r or nums[mid+1]>target:\n",
    "                    return mid\n",
    "                # search on the right side for the upper bound\n",
    "                l = mid + 1\n",
    "        elif nums[mid] > target:\n",
    "            r = mid-1\n",
    "        else:\n",
    "            l = mid+1\n",
    "    return -1\n",
    "\n",
    "nums = [5,7,7,8,8,10]\n",
    "target = 8\n",
    "print(searchRange(nums, target))\n",
    "\n",
    "nums = [5,7,7,8,8,10]\n",
    "target = 6\n",
    "print(searchRange(nums, target))\n",
    "\n",
    "nums = [1]\n",
    "target = 0\n",
    "print(searchRange(nums, target))\n"
   ]
  },
  {
   "cell_type": "code",
   "execution_count": null,
   "metadata": {},
   "outputs": [],
   "source": []
  }
 ],
 "metadata": {
  "kernelspec": {
   "display_name": "Python 3",
   "language": "python",
   "name": "python3"
  },
  "language_info": {
   "codemirror_mode": {
    "name": "ipython",
    "version": 3
   },
   "file_extension": ".py",
   "mimetype": "text/x-python",
   "name": "python",
   "nbconvert_exporter": "python",
   "pygments_lexer": "ipython3",
   "version": "3.8.10"
  }
 },
 "nbformat": 4,
 "nbformat_minor": 4
}
