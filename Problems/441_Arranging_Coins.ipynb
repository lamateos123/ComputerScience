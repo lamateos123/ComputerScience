{
 "cells": [
  {
   "cell_type": "code",
   "execution_count": 1,
   "metadata": {},
   "outputs": [],
   "source": [
    "# 441. Arranging Coins\n",
    "'''\n",
    "You have n coins and you want to build a staircase with these coins. \n",
    "The staircase consists of k rows where the ith row has exactly i coins. \n",
    "The last row of the staircase may be incomplete.\n",
    "\n",
    "Given the integer n, return the number of complete rows of the staircase you will build.\n",
    "\n",
    " \n",
    "\n",
    "Example 1:\n",
    "\n",
    "Input: n = 5\n",
    "Output: 2\n",
    "Explanation: Because the 3rd row is incomplete, we return 2.\n",
    "\n",
    "Example 2:\n",
    "\n",
    "Input: n = 8\n",
    "Output: 3\n",
    "Explanation: Because the 4th row is incomplete, we return 3.\n",
    "\n",
    "find the maximum k such that \n",
    "k(k+1) / 2 <= N\n",
    "\n",
    "'''"
   ]
  },
  {
   "cell_type": "code",
   "execution_count": 28,
   "metadata": {},
   "outputs": [
    {
     "data": {
      "text/plain": [
       "3"
      ]
     },
     "execution_count": 28,
     "metadata": {},
     "output_type": "execute_result"
    }
   ],
   "source": [
    "def arrangingCoins(n):\n",
    "    l = 0\n",
    "    r = n\n",
    "    while l<= r:\n",
    "        k = (r+l)//2\n",
    "        cur = k * (k+1) // 2\n",
    "        if cur == n:\n",
    "            return k\n",
    "        if n < cur:\n",
    "            r = k - 1\n",
    "        else:\n",
    "            l = k + 1\n",
    "    return r\n",
    "\n",
    "def arrangingCoinsFormula(n):\n",
    "    return (int)((2*n+0.25)**0.5 -0.5)\n",
    "\n",
    "\n",
    "n = 8\n",
    "arrangingCoins(n)"
   ]
  },
  {
   "cell_type": "code",
   "execution_count": 29,
   "metadata": {},
   "outputs": [
    {
     "data": {
      "text/plain": [
       "4.031128874149275"
      ]
     },
     "execution_count": 29,
     "metadata": {},
     "output_type": "execute_result"
    }
   ],
   "source": [
    "(2*n+0.25)**0.5"
   ]
  },
  {
   "cell_type": "code",
   "execution_count": 30,
   "metadata": {},
   "outputs": [
    {
     "data": {
      "text/plain": [
       "16.25"
      ]
     },
     "execution_count": 30,
     "metadata": {},
     "output_type": "execute_result"
    }
   ],
   "source": [
    "(2*n+0.25)\n"
   ]
  },
  {
   "cell_type": "code",
   "execution_count": 31,
   "metadata": {},
   "outputs": [
    {
     "data": {
      "text/plain": [
       "3.5311288741492746"
      ]
     },
     "execution_count": 31,
     "metadata": {},
     "output_type": "execute_result"
    }
   ],
   "source": [
    "((2*n+0.25)**0.5 -0.5)"
   ]
  },
  {
   "cell_type": "code",
   "execution_count": null,
   "metadata": {},
   "outputs": [],
   "source": []
  }
 ],
 "metadata": {
  "kernelspec": {
   "display_name": "Python 3",
   "language": "python",
   "name": "python3"
  },
  "language_info": {
   "codemirror_mode": {
    "name": "ipython",
    "version": 3
   },
   "file_extension": ".py",
   "mimetype": "text/x-python",
   "name": "python",
   "nbconvert_exporter": "python",
   "pygments_lexer": "ipython3",
   "version": "3.8.10"
  }
 },
 "nbformat": 4,
 "nbformat_minor": 4
}
