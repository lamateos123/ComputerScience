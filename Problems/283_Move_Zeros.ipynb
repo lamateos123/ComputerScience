{
 "cells": [
  {
   "cell_type": "code",
   "execution_count": 1,
   "metadata": {},
   "outputs": [],
   "source": [
    "# 283. Move Zeros\n",
    "# -----------------\n",
    "\n",
    "#Given an integer array nums, move all 0's to the end of it while maintaining \n",
    "#the relative order of the non-zero elements.\n",
    "\n",
    "#Note that you must do this in-place without making a copy of the array.\n",
    "\n",
    "#Example 1:\n",
    "#Input: nums = [0,1,0,3,12]\n",
    "#Output: [1,3,12,0,0]\n",
    "\n",
    "#Example 2:\n",
    "#Input: nums = [0]\n",
    "#Output: [0]"
   ]
  },
  {
   "cell_type": "code",
   "execution_count": 33,
   "metadata": {},
   "outputs": [
    {
     "name": "stdout",
     "output_type": "stream",
     "text": [
      "0 0\n",
      "1 1\n",
      "2 0\n",
      "3 3\n",
      "4 12\n",
      "2\n",
      "[1, 3, 12]\n",
      "[0, 0]\n",
      "[1, 3, 12, 0, 0]\n"
     ]
    },
    {
     "data": {
      "text/plain": [
       "[1, 3, 12, 0, 0]"
      ]
     },
     "execution_count": 33,
     "metadata": {},
     "output_type": "execute_result"
    }
   ],
   "source": [
    "# O(n) solution\n",
    "#--------------------\n",
    "#Both the requirements are mutually exclusive, i.e., \n",
    "#can be solve as a story line\n",
    "#solve the individual sub-problems and then combine them for the final solution.\n",
    "#-----------------------------------------------------------------------------------------\n",
    "def move_zeros(nums):\n",
    "    count_zeros = 0\n",
    "    non_zero = []\n",
    "    \n",
    "    #count zeros\n",
    "    for i, n in enumerate(nums):\n",
    "        print(i, n)\n",
    "        if n == 0:\n",
    "            count_zeros+=1\n",
    "        else:\n",
    "            non_zero.append(n) #make all non_zeros retain their original order\n",
    "    print(count_zeros)\n",
    "    print(non_zero)\n",
    "    \n",
    "    #move all zeros to the end\n",
    "    zeros = [0]*count_zeros\n",
    "    print(zeros)\n",
    "    \n",
    "    #combine results\n",
    "    nums = non_zero + zeros\n",
    "    print(nums)\n",
    "    \n",
    "    return nums\n",
    "\n",
    "nums = [0,1,0,3,12]\n",
    "move_zeros(nums)"
   ]
  },
  {
   "cell_type": "code",
   "execution_count": 34,
   "metadata": {},
   "outputs": [
    {
     "name": "stdout",
     "output_type": "stream",
     "text": [
      "0 0\n",
      "1 0\n",
      "2 1\n",
      "2\n",
      "[1]\n",
      "[0, 0]\n",
      "[1, 0, 0]\n"
     ]
    },
    {
     "data": {
      "text/plain": [
       "[1, 0, 0]"
      ]
     },
     "execution_count": 34,
     "metadata": {},
     "output_type": "execute_result"
    }
   ],
   "source": [
    "nums = [0,0,1]\n",
    "move_zeros(nums)"
   ]
  },
  {
   "cell_type": "code",
   "execution_count": 35,
   "metadata": {},
   "outputs": [
    {
     "name": "stdout",
     "output_type": "stream",
     "text": [
      "0 0\n",
      "1\n",
      "[]\n",
      "[0]\n",
      "[0]\n"
     ]
    },
    {
     "data": {
      "text/plain": [
       "[0]"
      ]
     },
     "execution_count": 35,
     "metadata": {},
     "output_type": "execute_result"
    }
   ],
   "source": [
    "nums = [0]\n",
    "move_zeros(nums)"
   ]
  },
  {
   "cell_type": "code",
   "execution_count": null,
   "metadata": {},
   "outputs": [],
   "source": []
  },
  {
   "cell_type": "code",
   "execution_count": 37,
   "metadata": {},
   "outputs": [
    {
     "data": {
      "text/plain": [
       "[1, 3, 12, 0, 0]"
      ]
     },
     "execution_count": 37,
     "metadata": {},
     "output_type": "execute_result"
    }
   ],
   "source": [
    "# Space O(1) / Time O(n) solution\n",
    "#---------------------------------\n",
    "#Both the requirements are mutually exclusive, i.e., \n",
    "#can be solve as a story line\n",
    "#solve the individual sub-problems and then combine them for the final solution.\n",
    "#-----------------------------------------------------------------------------------------\n",
    "def move_zeros(nums):\n",
    "    last_non_zero_found_at = 0\n",
    "    for cur in range(len(nums)):\n",
    "        if nums[cur] != 0:\n",
    "            nums[last_non_zero_found_at], nums[cur] = nums[cur], nums[last_non_zero_found_at]\n",
    "            last_non_zero_found_at+=1\n",
    "    return nums\n",
    "    \n",
    "nums = [0,1,0,3,12]\n",
    "move_zeros(nums)"
   ]
  },
  {
   "cell_type": "code",
   "execution_count": 38,
   "metadata": {},
   "outputs": [
    {
     "data": {
      "text/plain": [
       "[1, 0, 0]"
      ]
     },
     "execution_count": 38,
     "metadata": {},
     "output_type": "execute_result"
    }
   ],
   "source": [
    "nums = [0,0,1]\n",
    "move_zeros(nums)"
   ]
  },
  {
   "cell_type": "code",
   "execution_count": 39,
   "metadata": {},
   "outputs": [
    {
     "data": {
      "text/plain": [
       "[0]"
      ]
     },
     "execution_count": 39,
     "metadata": {},
     "output_type": "execute_result"
    }
   ],
   "source": [
    "nums = [0]\n",
    "move_zeros(nums)"
   ]
  },
  {
   "cell_type": "code",
   "execution_count": 40,
   "metadata": {},
   "outputs": [
    {
     "data": {
      "text/plain": [
       "[1, 2, 3, 4, 5, 6, 7, 0]"
      ]
     },
     "execution_count": 40,
     "metadata": {},
     "output_type": "execute_result"
    }
   ],
   "source": [
    "nums = [1,2,3,0,4,5,6,7]\n",
    "move_zeros(nums)"
   ]
  },
  {
   "cell_type": "code",
   "execution_count": null,
   "metadata": {},
   "outputs": [],
   "source": []
  }
 ],
 "metadata": {
  "kernelspec": {
   "display_name": "Python 3",
   "language": "python",
   "name": "python3"
  },
  "language_info": {
   "codemirror_mode": {
    "name": "ipython",
    "version": 3
   },
   "file_extension": ".py",
   "mimetype": "text/x-python",
   "name": "python",
   "nbconvert_exporter": "python",
   "pygments_lexer": "ipython3",
   "version": "3.7.4"
  }
 },
 "nbformat": 4,
 "nbformat_minor": 2
}
