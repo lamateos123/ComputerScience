{
 "cells": [
  {
   "cell_type": "code",
   "execution_count": 1,
   "metadata": {},
   "outputs": [],
   "source": [
    "# 914. X of a Kind in a Deck of Cards\n",
    "'''\n",
    "n a deck of cards, each card has an integer written on it.\n",
    "\n",
    "Return true if and only if you can choose X >= 2 such that it is possible \n",
    "to split the entire deck into 1 or more groups of cards, where:\n",
    "\n",
    "    Each group has exactly X cards.\n",
    "    All the cards in each group have the same integer.\n",
    "\n",
    " \n",
    "\n",
    "Example 1:\n",
    "\n",
    "Input: deck = [1,2,3,4,4,3,2,1]\n",
    "Output: true\n",
    "Explanation: Possible partition [1,1],[2,2],[3,3],[4,4].\n",
    "\n",
    "Example 2:\n",
    "\n",
    "Input: deck = [1,1,1,2,2,2,3,3]\n",
    "Output: false\n",
    "Explanation: No possible partition.\n",
    "'''"
   ]
  },
  {
   "cell_type": "code",
   "execution_count": 13,
   "metadata": {},
   "outputs": [
    {
     "name": "stdout",
     "output_type": "stream",
     "text": [
      "6\n"
     ]
    }
   ],
   "source": [
    "def gcd(a,b):\n",
    "    while (a!=0 and b!=0) and a!=b:\n",
    "        if a>b:\n",
    "            a%=b\n",
    "        else:\n",
    "            b%=a\n",
    "    return a if a>b else b\n",
    "\n",
    "\n",
    "print(gcd(0,6))\n"
   ]
  },
  {
   "cell_type": "code",
   "execution_count": 16,
   "metadata": {},
   "outputs": [
    {
     "name": "stdout",
     "output_type": "stream",
     "text": [
      "{1: 4, 2: 7} 4\n",
      "[4, 7]\n",
      "4\n",
      "1\n"
     ]
    },
    {
     "data": {
      "text/plain": [
       "False"
      ]
     },
     "execution_count": 16,
     "metadata": {},
     "output_type": "execute_result"
    }
   ],
   "source": [
    "def xKind(deck):\n",
    "    d = {}\n",
    "    temp = 0\n",
    "    for i in deck:\n",
    "        d.setdefault(i,0)\n",
    "        d[i]+=1\n",
    "    mini = min(d.values())\n",
    "    \n",
    "    if mini < 2:\n",
    "        return False\n",
    "        \n",
    "    print(d, mini)\n",
    "    \n",
    "    ans = list(d.values())\n",
    "    print(ans)\n",
    "    \n",
    "    xgcd = 0\n",
    "    for x in ans:\n",
    "        xgcd = gcd(xgcd,x)\n",
    "        print(xgcd)\n",
    "    \n",
    "    return xgcd > 1\n",
    "    \n",
    "\n",
    "deck = [1,2,3,4,4,3,2,1]\n",
    "deck = [1,1,1,1,2,2,2,2,2,2,2]\n",
    "#deck = [1,1,1,2,2,2,3,3]\n",
    "xKind(deck)"
   ]
  },
  {
   "cell_type": "code",
   "execution_count": 8,
   "metadata": {},
   "outputs": [
    {
     "name": "stdout",
     "output_type": "stream",
     "text": [
      "{1: 2, 2: 2, 3: 2, 4: 2} 2\n",
      "[2, 2, 2, 2]\n"
     ]
    },
    {
     "data": {
      "text/plain": [
       "True"
      ]
     },
     "execution_count": 8,
     "metadata": {},
     "output_type": "execute_result"
    }
   ],
   "source": [
    "def xKind(deck):\n",
    "    d = {}\n",
    "    temp = 0\n",
    "    for i in deck:\n",
    "        d.setdefault(i,0)\n",
    "        d[i]+=1\n",
    "    mini = min(d.values())\n",
    "    \n",
    "    if mini < 2:\n",
    "        return False\n",
    "        \n",
    "    print(d, mini)\n",
    "    \n",
    "    ans = list(d.values())\n",
    "    print(ans)\n",
    "    \n",
    "    for i in range(2, mini+1):\n",
    "        \n",
    "        for x in ans:\n",
    "            if x%i != 0:\n",
    "                return False\n",
    "    \n",
    "    \n",
    "    #if all(v%mini == 0 for v in d.values()):\n",
    "    #    return True\n",
    "    return True\n",
    "    \n",
    "\n",
    "deck = [1,2,3,4,4,3,2,1]\n",
    "#deck = [1,1,1,2,2,2,3,3]\n",
    "xKind(deck)"
   ]
  },
  {
   "cell_type": "code",
   "execution_count": null,
   "metadata": {},
   "outputs": [],
   "source": []
  }
 ],
 "metadata": {
  "kernelspec": {
   "display_name": "Python 3",
   "language": "python",
   "name": "python3"
  },
  "language_info": {
   "codemirror_mode": {
    "name": "ipython",
    "version": 3
   },
   "file_extension": ".py",
   "mimetype": "text/x-python",
   "name": "python",
   "nbconvert_exporter": "python",
   "pygments_lexer": "ipython3",
   "version": "3.8.10"
  }
 },
 "nbformat": 4,
 "nbformat_minor": 4
}
