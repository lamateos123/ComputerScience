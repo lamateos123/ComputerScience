{
 "cells": [
  {
   "cell_type": "code",
   "execution_count": 1,
   "metadata": {},
   "outputs": [
    {
     "data": {
      "text/plain": [
       "'\\n'"
      ]
     },
     "execution_count": 1,
     "metadata": {},
     "output_type": "execute_result"
    }
   ],
   "source": [
    "# 500. Keyboard Row\n",
    "'''\n",
    "Given an array of strings words, return the words that can be typed using letters of \n",
    "the alphabet on only one row of American keyboard like the image below.\n",
    "\n",
    "In the American keyboard:\n",
    "\n",
    "    the first row consists of the characters \"qwertyuiop\",\n",
    "    the second row consists of the characters \"asdfghjkl\", and\n",
    "    the third row consists of the characters \"zxcvbnm\".\n",
    "\n",
    "Example 1:\n",
    "\n",
    "Input: words = [\"Hello\",\"Alaska\",\"Dad\",\"Peace\"]\n",
    "Output: [\"Alaska\",\"Dad\"]\n",
    "\n",
    "Example 2:\n",
    "\n",
    "Input: words = [\"omk\"]\n",
    "Output: []\n",
    "\n",
    "Example 3:\n",
    "\n",
    "Input: words = [\"adsdf\",\"sfd\"]\n",
    "Output: [\"adsdf\",\"sfd\"]\n",
    "\n",
    "'''"
   ]
  },
  {
   "cell_type": "code",
   "execution_count": 4,
   "metadata": {},
   "outputs": [
    {
     "name": "stdout",
     "output_type": "stream",
     "text": [
      "['Alaska', 'Dad']\n",
      "[]\n",
      "['adsdf', 'sfd']\n"
     ]
    }
   ],
   "source": [
    "def keyRow(words):\n",
    "    ans = []\n",
    "    r1 = \"qwertyuiopQWERTYUIOP\"\n",
    "    r2 = \"asdfghjklASDFGHJKL\"\n",
    "    r3 = \"zxcvbnmZXCVBNM\"\n",
    "    c1 = 0\n",
    "    c2 = 0\n",
    "    c3 = 0\n",
    "    for word in words:\n",
    "        for w in word:\n",
    "            if w in r1:\n",
    "                c1+=1\n",
    "            elif w in r2:\n",
    "                c2+=1\n",
    "            elif w in r3:\n",
    "                c3+=1\n",
    "            else:\n",
    "                return 0\n",
    "        if c1 == len(word):\n",
    "            ans.append(word)\n",
    "        elif c2 == len(word):\n",
    "            ans.append(word)\n",
    "        elif c3 == len(word):\n",
    "            ans.append(word)\n",
    "        c1 = 0\n",
    "        c2 = 0\n",
    "        c3 = 0\n",
    "    return ans\n",
    "    \n",
    "words = [\"Hello\",\"Alaska\",\"Dad\",\"Peace\"]\n",
    "print(keyRow(words))\n",
    "words = [\"omk\"]\n",
    "print(keyRow(words))\n",
    "words = [\"adsdf\",\"sfd\"]\n",
    "print(keyRow(words))"
   ]
  },
  {
   "cell_type": "code",
   "execution_count": null,
   "metadata": {},
   "outputs": [],
   "source": []
  }
 ],
 "metadata": {
  "kernelspec": {
   "display_name": "Python 3",
   "language": "python",
   "name": "python3"
  },
  "language_info": {
   "codemirror_mode": {
    "name": "ipython",
    "version": 3
   },
   "file_extension": ".py",
   "mimetype": "text/x-python",
   "name": "python",
   "nbconvert_exporter": "python",
   "pygments_lexer": "ipython3",
   "version": "3.8.10"
  }
 },
 "nbformat": 4,
 "nbformat_minor": 4
}
