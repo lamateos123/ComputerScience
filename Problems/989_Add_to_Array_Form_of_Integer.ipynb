{
 "cells": [
  {
   "cell_type": "code",
   "execution_count": 1,
   "metadata": {},
   "outputs": [],
   "source": [
    "# 989. Add to Array-Form of Integer\n",
    "'''\n",
    "The array-form of an integer num is an array representing its digits in left to right order.\n",
    "\n",
    "    For example, for num = 1321, the array form is [1,3,2,1].\n",
    "\n",
    "Given num, the array-form of an integer, and an integer k, return the array-form of the \n",
    "integer num + k.\n",
    "\n",
    " \n",
    "\n",
    "Example 1:\n",
    "\n",
    "Input: num = [1,2,0,0], k = 34\n",
    "Output: [1,2,3,4]\n",
    "Explanation: 1200 + 34 = 1234\n",
    "'''"
   ]
  },
  {
   "cell_type": "code",
   "execution_count": 7,
   "metadata": {},
   "outputs": [
    {
     "data": {
      "text/plain": [
       "[1, 2, 3, 4]"
      ]
     },
     "execution_count": 7,
     "metadata": {},
     "output_type": "execute_result"
    }
   ],
   "source": [
    "def addAFI(num,k):\n",
    "    ans = []\n",
    "    nums = \"\"\n",
    "    for i in num:\n",
    "        nums += str(i);\n",
    "    nums = int(nums)\n",
    "    nums += k\n",
    "    nums = str(nums)\n",
    "    \n",
    "    for i in nums:\n",
    "        ans.append(int(i))\n",
    "    return ans\n",
    "    \n",
    "num = [1,2,0,0]\n",
    "k = 34\n",
    "addAFI(num,k)"
   ]
  },
  {
   "cell_type": "code",
   "execution_count": null,
   "metadata": {},
   "outputs": [],
   "source": []
  }
 ],
 "metadata": {
  "kernelspec": {
   "display_name": "Python 3",
   "language": "python",
   "name": "python3"
  },
  "language_info": {
   "codemirror_mode": {
    "name": "ipython",
    "version": 3
   },
   "file_extension": ".py",
   "mimetype": "text/x-python",
   "name": "python",
   "nbconvert_exporter": "python",
   "pygments_lexer": "ipython3",
   "version": "3.8.10"
  }
 },
 "nbformat": 4,
 "nbformat_minor": 4
}
