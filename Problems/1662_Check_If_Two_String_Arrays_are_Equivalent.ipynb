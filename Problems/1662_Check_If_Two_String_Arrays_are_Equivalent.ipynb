{
 "cells": [
  {
   "cell_type": "code",
   "execution_count": null,
   "metadata": {},
   "outputs": [],
   "source": [
    "# 1662. Check If Two String Arrays are Equivalent\n",
    "#-------------------------------------------------\n",
    "'''\n",
    "Given two string arrays word1 and word2, return true if the two arrays represent \n",
    "the same string, and false otherwise.\n",
    "\n",
    "A string is represented by an array if the array elements concatenated in order \n",
    "forms the string.\n",
    "\n",
    "Example 1:\n",
    "\n",
    "Input: word1 = [\"ab\", \"c\"], word2 = [\"a\", \"bc\"]\n",
    "Output: true\n",
    "Explanation:\n",
    "word1 represents string \"ab\" + \"c\" -> \"abc\"\n",
    "word2 represents string \"a\" + \"bc\" -> \"abc\"\n",
    "The strings are the same, so return true.\n",
    "\n",
    "Example 2:\n",
    "\n",
    "Input: word1 = [\"a\", \"cb\"], word2 = [\"ab\", \"c\"]\n",
    "Output: false\n",
    "\n",
    "Example 3:\n",
    "\n",
    "Input: word1  = [\"abc\", \"d\", \"defg\"], word2 = [\"abcddefg\"]\n",
    "Output: true\n",
    "\n",
    "'''"
   ]
  },
  {
   "cell_type": "code",
   "execution_count": 3,
   "metadata": {},
   "outputs": [
    {
     "data": {
      "text/plain": [
       "True"
      ]
     },
     "execution_count": 3,
     "metadata": {},
     "output_type": "execute_result"
    }
   ],
   "source": [
    "def checkTwo(word1,word2):\n",
    "    s1 = \"\"\n",
    "    s2 = \"\"\n",
    "    for w in word1:\n",
    "        s1 += w\n",
    "    for w in word2:\n",
    "        s2 += w\n",
    "    if s1 == s2:\n",
    "        return True\n",
    "    return False\n",
    "        \n",
    "def checkTwo_B(word1, word2):\n",
    "    s1 = \"\".join(word1)\n",
    "    s2 = \"\".join(word2)\n",
    "    if s1 == s2:\n",
    "        return True\n",
    "    return False\n",
    "\n",
    "word1 = [\"ab\", \"c\"]\n",
    "word2 = [\"a\", \"bc\"]\n",
    "checkTwo(word1,word2)"
   ]
  },
  {
   "cell_type": "code",
   "execution_count": null,
   "metadata": {},
   "outputs": [],
   "source": []
  }
 ],
 "metadata": {
  "kernelspec": {
   "display_name": "Python 3",
   "language": "python",
   "name": "python3"
  },
  "language_info": {
   "codemirror_mode": {
    "name": "ipython",
    "version": 3
   },
   "file_extension": ".py",
   "mimetype": "text/x-python",
   "name": "python",
   "nbconvert_exporter": "python",
   "pygments_lexer": "ipython3",
   "version": "3.7.4"
  }
 },
 "nbformat": 4,
 "nbformat_minor": 2
}
