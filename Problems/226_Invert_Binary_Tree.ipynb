{
 "cells": [
  {
   "cell_type": "code",
   "execution_count": 6,
   "metadata": {},
   "outputs": [],
   "source": [
    "# 226. Invert Binary Tree\n",
    "#---------------------------\n",
    "\n",
    "# Given a root of a binary tree, invert the tree, and return its root\n",
    "\n",
    "# Example 1\n",
    "# Input: root = [4,2,7,1,3,6,9]\n",
    "# Output: [4,7,2,9,6,3,1]\n",
    "\n",
    "# Example 2\n",
    "# Input: root = [2,1,3]\n",
    "# Output: [2,3,1]\n",
    "\n",
    "# Example 3\n",
    "# Input: root = []\n",
    "# Output: []"
   ]
  },
  {
   "cell_type": "code",
   "execution_count": 7,
   "metadata": {},
   "outputs": [],
   "source": [
    "# Define a Tree structure\n",
    "class Node:\n",
    "    def __init__(self, data):\n",
    "        self.data = data\n",
    "        self.left = None\n",
    "        self.right = None\n",
    "        \n",
    "    def printTree(self):\n",
    "        if self.left:\n",
    "            self.left.printTree()\n",
    "        print(self.data, end=\" \")\n",
    "        if self.right:\n",
    "            self.right.printTree()\n",
    "            \n",
    "def createTree():\n",
    "    Tree = Node(10)\n",
    "    Tree.left = Node(20)\n",
    "    Tree.right = Node(30)\n",
    "    Tree.left.left = Node(40)\n",
    "    Tree.right.right = Node(50)\n",
    "    print(\"Original Tree:\")\n",
    "    Tree.printTree()\n",
    "    print()\n",
    "    return Tree"
   ]
  },
  {
   "cell_type": "code",
   "execution_count": 8,
   "metadata": {},
   "outputs": [
    {
     "name": "stdout",
     "output_type": "stream",
     "text": [
      "Original Tree:\n",
      "40 20 10 30 50 \n",
      "Inverted Tree:\n",
      "50 30 10 20 40 "
     ]
    }
   ],
   "source": [
    "# Recursive approach\n",
    "#---------------------\n",
    "# Traverse in preorder (book chapters) and invert left to right\n",
    "# 1. Return NULL if tree is empty (base case)\n",
    "# 2. Preorder traversal\n",
    "# 3. Swap left to right every node before their subtree\n",
    "# time O(n) traversing each node once\n",
    "# space O(h) proportinal to the max depth of tree\n",
    "\n",
    "# Create Tree 40 20 10 30 50\n",
    "Tree = createTree()\n",
    "\n",
    "def invertTree(root):\n",
    "    if root:\n",
    "        root.left, root.right = invertTree(root.right), invertTree(root.left)\n",
    "    return root\n",
    "    \n",
    "invertTree(Tree)\n",
    "print(\"Inverted Tree:\")\n",
    "Tree.printTree()"
   ]
  },
  {
   "cell_type": "code",
   "execution_count": 9,
   "metadata": {},
   "outputs": [
    {
     "name": "stdout",
     "output_type": "stream",
     "text": [
      "Original Tree:\n",
      "40 20 10 30 50 \n",
      "Inverted Tree:\n",
      "50 30 10 20 40 "
     ]
    }
   ],
   "source": [
    "# Iterative approach DSF\n",
    "#-----------------------\n",
    "# Preorder traversal using stack LIFO\n",
    "# 1. Return NULL if tree is empty\n",
    "# 2. Stack the root\n",
    "# 3. Loop until S in not empty\n",
    "# 4.      Pop elements from the stack and swap left to right childs\n",
    "# 5.      Push right child of popped element into S\n",
    "# 6.      Push left child of popped element into S\n",
    "# (the right child is pushed before the left to ensure the left subtree\n",
    "# is processed first while inverting the binary tree)\n",
    "# time O(n) for each node push() and pop()\n",
    "# space O(n) stack n to store all nodes\n",
    "\n",
    "# Create Tree 40 20 10 30 50\n",
    "Tree = createTree()\n",
    "\n",
    "def invertTree(root):\n",
    "    if root:\n",
    "        stack = [root]\n",
    "        while stack:\n",
    "            node = stack.pop()\n",
    "            node.left, node.right = node.right, node.left\n",
    "            if node.left:\n",
    "                stack.append(node.left)\n",
    "            if node.right:\n",
    "                stack.append(node.right)\n",
    "    return root\n",
    "\n",
    "invertTree(Tree)\n",
    "print(\"Inverted Tree:\")\n",
    "Tree.printTree()"
   ]
  },
  {
   "cell_type": "code",
   "execution_count": 10,
   "metadata": {},
   "outputs": [
    {
     "name": "stdout",
     "output_type": "stream",
     "text": [
      "Original Tree:\n",
      "40 20 10 30 50 \n",
      "Inverted Tree:\n",
      "50 30 10 20 40 "
     ]
    }
   ],
   "source": [
    "# Iterative level order approach BFS\n",
    "#--------------------------------\n",
    "# Preorder traversal using queue FIFO\n",
    "# 1. Return NULL if tree is empty\n",
    "# 2. Enqueue the root\n",
    "# 3. Loop until Q in not empty\n",
    "# 4.      Delete a node from the queue\n",
    "# 5.      Swap left and right child\n",
    "# 6.      Insert left and right child into the queue\n",
    "# time O(n) for each node enqueue() and dequeue()\n",
    "# space O(n) queue n to store all nodes\n",
    "\n",
    "# Create Tree 40 20 10 30 50\n",
    "Tree = createTree()\n",
    "\n",
    "def invertTree(root):\n",
    "    if root:\n",
    "        queue = [root]\n",
    "        while queue:\n",
    "            node = queue.pop(0)\n",
    "            node.left, node.right = node.right, node.left\n",
    "            if node.left:\n",
    "                queue.append(node.left)\n",
    "            if node.right:\n",
    "                queue.append(node.right)\n",
    "        \n",
    "    return root\n",
    "\n",
    "invertTree(Tree)\n",
    "print(\"Inverted Tree:\")\n",
    "Tree.printTree()"
   ]
  }
 ],
 "metadata": {
  "kernelspec": {
   "display_name": "Python 3",
   "language": "python",
   "name": "python3"
  },
  "language_info": {
   "codemirror_mode": {
    "name": "ipython",
    "version": 3
   },
   "file_extension": ".py",
   "mimetype": "text/x-python",
   "name": "python",
   "nbconvert_exporter": "python",
   "pygments_lexer": "ipython3",
   "version": "3.7.4"
  }
 },
 "nbformat": 4,
 "nbformat_minor": 2
}
