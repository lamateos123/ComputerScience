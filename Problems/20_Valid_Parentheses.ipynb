{
 "cells": [
  {
   "cell_type": "code",
   "execution_count": 1,
   "metadata": {},
   "outputs": [],
   "source": [
    "# 20. Valid Parentheses\n",
    "#-------------------------------------------------------------------\n",
    "# Given a string s containing just the characters '(', ')', '{', '}', '[' and ']', \n",
    "# determine if the input string is valid.\n",
    "# An input string is valid if:\n",
    "# Open brackets must be closed by the same type of brackets.\n",
    "# Open brackets must be closed in the correct order.\n",
    "# Examples:\n",
    "# Input: s = \"()\"\n",
    "# Output: true\n",
    "# Input: s = \"()[]{}\"\n",
    "# Output: true\n",
    "# Input: s = \"(]\"\n",
    "# Output: false\n",
    "# Input: s = \"([)]\"\n",
    "# Output: false"
   ]
  },
  {
   "cell_type": "code",
   "execution_count": 16,
   "metadata": {},
   "outputs": [
    {
     "name": "stdout",
     "output_type": "stream",
     "text": [
      "2\n"
     ]
    },
    {
     "data": {
      "text/plain": [
       "False"
      ]
     },
     "execution_count": 16,
     "metadata": {},
     "output_type": "execute_result"
    }
   ],
   "source": [
    "def valid_parentheses(s):\n",
    "    stack = []\n",
    "    openn = \"([{\"\n",
    "    if len(s) <= 1: # if just one character \n",
    "        return False\n",
    "    for c in s: # pass all the characters\n",
    "        print(len(s))\n",
    "        if c in openn: # if is an open ([{ put it in the stack\n",
    "            stack.append(c)\n",
    "        elif c == \"]\" and len(stack) > 0 and stack.pop() == \"[\": # if closing\n",
    "            print(\"[OK]\")\n",
    "        elif c == \")\" and len(stack) > 0 and stack.pop() == \"(\": # if closing\n",
    "            print(\"(OK)\")\n",
    "        elif c == \"}\" and len(stack) > 0 and stack.pop() == \"{\": # if closing\n",
    "            print(\"{OK}\")\n",
    "        else:\n",
    "            return False # no right closing\n",
    "    if len(stack) > 0: # if after matching all open to close in the string there is a characters\n",
    "        return False\n",
    "    return True # All checks went well\n",
    "\n",
    "s = \"()[]{}\"\n",
    "s = \"([)]\"\n",
    "s = \"{{\"\n",
    "s = \"](\"\n",
    "valid_parentheses(s)"
   ]
  },
  {
   "cell_type": "code",
   "execution_count": null,
   "metadata": {},
   "outputs": [],
   "source": []
  }
 ],
 "metadata": {
  "kernelspec": {
   "display_name": "Python 3",
   "language": "python",
   "name": "python3"
  },
  "language_info": {
   "codemirror_mode": {
    "name": "ipython",
    "version": 3
   },
   "file_extension": ".py",
   "mimetype": "text/x-python",
   "name": "python",
   "nbconvert_exporter": "python",
   "pygments_lexer": "ipython3",
   "version": "3.7.4"
  }
 },
 "nbformat": 4,
 "nbformat_minor": 2
}
