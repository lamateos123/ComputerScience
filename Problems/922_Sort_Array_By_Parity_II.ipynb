{
 "cells": [
  {
   "cell_type": "code",
   "execution_count": null,
   "metadata": {},
   "outputs": [],
   "source": [
    "# 922. Sort Array By Parity II\n",
    "'''\n",
    "Given an array of integers nums, half of the integers in nums are odd, \n",
    "and the other half are even.\n",
    "\n",
    "Sort the array so that whenever nums[i] is odd, i is odd, and whenever \n",
    "nums[i] is even, i is even.\n",
    "\n",
    "Return any answer array that satisfies this condition.\n",
    "\n",
    "Example 1:\n",
    "\n",
    "Input: nums = [4,2,5,7]\n",
    "Output: [4,5,2,7]\n",
    "Explanation: [4,7,2,5], [2,5,4,7], [2,7,4,5] would also have been \n",
    "accepted.\n",
    "\n",
    "Example 2:\n",
    "\n",
    "Input: nums = [2,3]\n",
    "Output: [2,3]\n",
    "'''"
   ]
  },
  {
   "cell_type": "code",
   "execution_count": 10,
   "metadata": {},
   "outputs": [
    {
     "data": {
      "text/plain": [
       "[4, 5, 2, 7]"
      ]
     },
     "execution_count": 10,
     "metadata": {},
     "output_type": "execute_result"
    }
   ],
   "source": [
    "def sortParity(nums):\n",
    "    even = 0\n",
    "    odd = 0\n",
    "    ans_even = []\n",
    "    ans_odd = []\n",
    "    ans = []\n",
    "    for n in nums:\n",
    "        if n%2 == 0:\n",
    "            ans_even.append(n)\n",
    "        else:\n",
    "            ans_odd.append(n)\n",
    "            \n",
    "    for i in range(len(nums)//2):\n",
    "        ans.append(ans_even[i])\n",
    "        ans.append(ans_odd[i])\n",
    "            \n",
    "    return ans\n",
    "\n",
    "nums = [4,2,5,7]\n",
    "sortParity(nums)"
   ]
  },
  {
   "cell_type": "code",
   "execution_count": 12,
   "metadata": {},
   "outputs": [
    {
     "data": {
      "text/plain": [
       "[4, 5, 2, 7]"
      ]
     },
     "execution_count": 12,
     "metadata": {},
     "output_type": "execute_result"
    }
   ],
   "source": [
    "def softParity(nums):\n",
    "    N = len(nums)\n",
    "    ans = []\n",
    "    t=0\n",
    "    for i in nums:\n",
    "        if i%2 == 0:\n",
    "            ans[t] = i\n",
    "            t+=2\n",
    "    t=1\n",
    "    for j in nums:\n",
    "        if j%2 != 0:\n",
    "            ans[t] = j\n",
    "            t+=2\n",
    "    return ans\n",
    "\n",
    "nums = [4,2,5,7]\n",
    "sortParity(nums)"
   ]
  },
  {
   "cell_type": "code",
   "execution_count": 13,
   "metadata": {},
   "outputs": [
    {
     "data": {
      "text/plain": [
       "[4, 5, 2, 7]"
      ]
     },
     "execution_count": 13,
     "metadata": {},
     "output_type": "execute_result"
    }
   ],
   "source": [
    "def softParity(nums):\n",
    "    j=1\n",
    "    for i in range(0, len(nums, 2)):\n",
    "        if nums[i]%2:\n",
    "            while nums[j]%2:\n",
    "                j+=2\n",
    "            nums[i], nums[j] = nums[i], nums[j]\n",
    "    return nums\n",
    "\n",
    "nums = [4,2,5,7]\n",
    "sortParity(nums)\n",
    "    "
   ]
  },
  {
   "cell_type": "code",
   "execution_count": null,
   "metadata": {},
   "outputs": [],
   "source": []
  }
 ],
 "metadata": {
  "kernelspec": {
   "display_name": "Python 3",
   "language": "python",
   "name": "python3"
  },
  "language_info": {
   "codemirror_mode": {
    "name": "ipython",
    "version": 3
   },
   "file_extension": ".py",
   "mimetype": "text/x-python",
   "name": "python",
   "nbconvert_exporter": "python",
   "pygments_lexer": "ipython3",
   "version": "3.8.10"
  }
 },
 "nbformat": 4,
 "nbformat_minor": 4
}
