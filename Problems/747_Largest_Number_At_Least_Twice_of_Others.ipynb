{
 "cells": [
  {
   "cell_type": "code",
   "execution_count": 1,
   "metadata": {},
   "outputs": [
    {
     "data": {
      "text/plain": [
       "''"
      ]
     },
     "execution_count": 1,
     "metadata": {},
     "output_type": "execute_result"
    }
   ],
   "source": [
    "# 747. Largest Number At Least Twice of Others\n",
    "'''\n",
    "You are given an integer array nums where the largest integer is unique.\n",
    "\n",
    "Determine whether the largest element in the array is at least twice as much as \n",
    "every other number in the array. If it is, return the index of the largest element, \n",
    "or return -1 otherwise.\n",
    "\n",
    " \n",
    "\n",
    "Example 1:\n",
    "\n",
    "Input: nums = [3,6,1,0]\n",
    "Output: 1\n",
    "Explanation: 6 is the largest integer.\n",
    "For every other number in the array x, 6 is at least twice as big as x.\n",
    "The index of value 6 is 1, so we return 1.\n",
    "\n",
    "Example 2:\n",
    "\n",
    "Input: nums = [1,2,3,4]\n",
    "Output: -1\n",
    "Explanation: 4 is less than twice the value of 3, so we return -1.\n",
    "\n",
    "Example 3:\n",
    "\n",
    "Input: nums = [1]\n",
    "Output: 0\n",
    "Explanation: 1 is trivially at least twice the value as any other number because \n",
    "there are no other numbers.\n",
    "'''"
   ]
  },
  {
   "cell_type": "code",
   "execution_count": 8,
   "metadata": {},
   "outputs": [
    {
     "name": "stdout",
     "output_type": "stream",
     "text": [
      "1\n",
      "-1\n"
     ]
    }
   ],
   "source": [
    "def largestNumALTO(nums):\n",
    "    if len(nums) == 1:\n",
    "        return 0\n",
    "    \n",
    "    maxi = max(nums)\n",
    "    \n",
    "    for i in nums:\n",
    "        if i*2 > maxi and i!=maxi:\n",
    "            return -1\n",
    "            \n",
    "            \n",
    "    return nums.index(maxi)\n",
    "    \n",
    "\n",
    "            \n",
    "    \n",
    "nums = [3,6,1,0]\n",
    "print(largestNumALTO(nums))\n",
    "nums = [1,2,3,4]\n",
    "print(largestNumALTO(nums))"
   ]
  },
  {
   "cell_type": "code",
   "execution_count": null,
   "metadata": {},
   "outputs": [],
   "source": []
  }
 ],
 "metadata": {
  "kernelspec": {
   "display_name": "Python 3",
   "language": "python",
   "name": "python3"
  },
  "language_info": {
   "codemirror_mode": {
    "name": "ipython",
    "version": 3
   },
   "file_extension": ".py",
   "mimetype": "text/x-python",
   "name": "python",
   "nbconvert_exporter": "python",
   "pygments_lexer": "ipython3",
   "version": "3.8.10"
  }
 },
 "nbformat": 4,
 "nbformat_minor": 4
}
