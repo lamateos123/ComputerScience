{
 "cells": [
  {
   "cell_type": "code",
   "execution_count": 1,
   "metadata": {},
   "outputs": [],
   "source": [
    "# 520. Detect Capital\n",
    "'''\n",
    "We define the usage of capitals in a word to be right when one \n",
    "of the following cases holds:\n",
    "\n",
    "    All letters in this word are capitals, like \"USA\".\n",
    "    All letters in this word are not capitals, like \"leetcode\".\n",
    "    Only the first letter in this word is capital, like \"Google\".\n",
    "\n",
    "Given a string word, return true if the usage of capitals in it is \n",
    "right.\n",
    "\n",
    "Example 1:\n",
    "\n",
    "Input: word = \"USA\"\n",
    "Output: true\n",
    "\n",
    "Example 2:\n",
    "\n",
    "Input: word = \"FlaG\"\n",
    "Output: false\n",
    "\n",
    "'''"
   ]
  },
  {
   "cell_type": "code",
   "execution_count": 4,
   "metadata": {},
   "outputs": [
    {
     "data": {
      "text/plain": [
       "True"
      ]
     },
     "execution_count": 4,
     "metadata": {},
     "output_type": "execute_result"
    }
   ],
   "source": [
    "def detectFinal(word):\n",
    "    if word.islower() or word.isupper():\n",
    "        return True\n",
    "    elif word[0].isupper() and word[1:].islower():\n",
    "        return True\n",
    "    else:\n",
    "        return False\n",
    "\n",
    "word = \"USA\"\n",
    "word = \"FlaG\"\n",
    "word = \"Flag\"\n",
    "detectFinal(word)"
   ]
  },
  {
   "cell_type": "code",
   "execution_count": 5,
   "metadata": {},
   "outputs": [
    {
     "data": {
      "text/plain": [
       "True"
      ]
     },
     "execution_count": 5,
     "metadata": {},
     "output_type": "execute_result"
    }
   ],
   "source": [
    "def detectFinal(word):\n",
    "    if word.islower() or word.isupper() or (word[0].isupper() and word[1:].islower()):\n",
    "        return True\n",
    "    return False\n",
    "\n",
    "word = \"USA\"\n",
    "word = \"FlaG\"\n",
    "word = \"Flag\"\n",
    "detectFinal(word)"
   ]
  },
  {
   "cell_type": "code",
   "execution_count": null,
   "metadata": {},
   "outputs": [],
   "source": []
  }
 ],
 "metadata": {
  "kernelspec": {
   "display_name": "Python 3",
   "language": "python",
   "name": "python3"
  },
  "language_info": {
   "codemirror_mode": {
    "name": "ipython",
    "version": 3
   },
   "file_extension": ".py",
   "mimetype": "text/x-python",
   "name": "python",
   "nbconvert_exporter": "python",
   "pygments_lexer": "ipython3",
   "version": "3.5.2"
  }
 },
 "nbformat": 4,
 "nbformat_minor": 2
}
