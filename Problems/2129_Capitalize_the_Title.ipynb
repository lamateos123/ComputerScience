{
 "cells": [
  {
   "cell_type": "code",
   "execution_count": 1,
   "metadata": {},
   "outputs": [],
   "source": [
    "# 2129. Capitalize the Title\n",
    "'''\n",
    "You are given a string title consisting of one or more words \n",
    "separated by a single space, where each word consists of English \n",
    "letters. Capitalize the string by changing the capitalization of \n",
    "each word such that:\n",
    "\n",
    "    If the length of the word is 1 or 2 letters, change all \n",
    "    letters to lowercase.\n",
    "    Otherwise, change the first letter to uppercase and the \n",
    "    remaining letters to lowercase.\n",
    "\n",
    "Return the capitalized title.\n",
    "\n",
    " \n",
    "\n",
    "Example 1:\n",
    "\n",
    "Input: title = \"capiTalIze tHe titLe\"\n",
    "Output: \"Capitalize The Title\"\n",
    "Explanation:\n",
    "Since all the words have a length of at least 3, the first \n",
    "letter of each word is uppercase, and the remaining letters \n",
    "are lowercase.\n",
    "\n",
    "Example 2:\n",
    "\n",
    "Input: title = \"First leTTeR of EACH Word\"\n",
    "Output: \"First Letter of Each Word\"\n",
    "Explanation:\n",
    "The word \"of\" has length 2, so it is all lowercase.\n",
    "The remaining words have a length of at least 3, so the \n",
    "first letter of each remaining word is uppercase, and the \n",
    "remaining letters are lowercase.\n",
    "\n",
    "Example 3:\n",
    "\n",
    "Input: title = \"i lOve leetcode\"\n",
    "Output: \"i Love Leetcode\"\n",
    "Explanation:\n",
    "The word \"i\" has length 1, so it is lowercase.\n",
    "The remaining words have a length of at least 3, so the \n",
    "first letter of each remaining word is uppercase, and the \n",
    "remaining letters are lowercase.\n",
    "'''"
   ]
  },
  {
   "cell_type": "code",
   "execution_count": 5,
   "metadata": {},
   "outputs": [
    {
     "data": {
      "text/plain": [
       "'First Letter ofEach Word'"
      ]
     },
     "execution_count": 5,
     "metadata": {},
     "output_type": "execute_result"
    }
   ],
   "source": [
    "def capitalize(title):\n",
    "    ans = \"\"\n",
    "    temp = title.split(\" \")\n",
    "    for i in temp:\n",
    "        if len(i) > 2:\n",
    "            ans += i.capitalize() + \" \"\n",
    "        else:\n",
    "            ans += i.lower() + \" \"\n",
    "\n",
    "    return ans.strip()\n",
    "\n",
    "title = \"First leTTeR of EACH Word\"\n",
    "capitalize(title)"
   ]
  },
  {
   "cell_type": "code",
   "execution_count": null,
   "metadata": {},
   "outputs": [],
   "source": []
  }
 ],
 "metadata": {
  "kernelspec": {
   "display_name": "Python 3",
   "language": "python",
   "name": "python3"
  },
  "language_info": {
   "codemirror_mode": {
    "name": "ipython",
    "version": 3
   },
   "file_extension": ".py",
   "mimetype": "text/x-python",
   "name": "python",
   "nbconvert_exporter": "python",
   "pygments_lexer": "ipython3",
   "version": "3.5.2"
  }
 },
 "nbformat": 4,
 "nbformat_minor": 2
}
