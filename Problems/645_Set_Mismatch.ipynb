{
 "cells": [
  {
   "cell_type": "code",
   "execution_count": 2,
   "metadata": {},
   "outputs": [],
   "source": [
    "# 645. Set Mismatch\n",
    "'''\n",
    "You have a set of integers s, which originally contains all the numbers from 1 to n. \n",
    "Unfortunately, due to some error, one of the numbers in s got duplicated to another \n",
    "number in the set, which results in repetition of one number and loss of another number.\n",
    "\n",
    "You are given an integer array nums representing the data status of this set after \n",
    "the error.\n",
    "\n",
    "Find the number that occurs twice and the number that is missing and return them in \n",
    "the form of an array.\n",
    "\n",
    "Example 1:\n",
    "\n",
    "Input: nums = [1,2,2,4]\n",
    "Output: [2,3]\n",
    "\n",
    "Example 2:\n",
    "\n",
    "Input: nums = [1,1]\n",
    "Output: [1,2]\n",
    "'''"
   ]
  },
  {
   "cell_type": "code",
   "execution_count": 15,
   "metadata": {},
   "outputs": [
    {
     "data": {
      "text/plain": [
       "[1, 2]"
      ]
     },
     "execution_count": 15,
     "metadata": {},
     "output_type": "execute_result"
    }
   ],
   "source": [
    "def sMis(nums):\n",
    "    for i in range(1,len(nums)+1):\n",
    "        print(i,nums[i-1])\n",
    "        if nums[i-1] != i:\n",
    "            return [nums[i-1],i]\n",
    "        \n",
    "def sMisd(nums):\n",
    "    d = {}\n",
    "    for i in nums:\n",
    "        d.setdefault(i,0)\n",
    "        d[i]+=1\n",
    "    for k,v in d.items():\n",
    "        if v == 2:\n",
    "            return [k,k+1]\n",
    "\n",
    "nums = [1,2,2,4]\n",
    "nums = [1,1]\n",
    "sMisd(nums)"
   ]
  },
  {
   "cell_type": "code",
   "execution_count": null,
   "metadata": {},
   "outputs": [],
   "source": []
  }
 ],
 "metadata": {
  "kernelspec": {
   "display_name": "Python 3",
   "language": "python",
   "name": "python3"
  },
  "language_info": {
   "codemirror_mode": {
    "name": "ipython",
    "version": 3
   },
   "file_extension": ".py",
   "mimetype": "text/x-python",
   "name": "python",
   "nbconvert_exporter": "python",
   "pygments_lexer": "ipython3",
   "version": "3.8.10"
  }
 },
 "nbformat": 4,
 "nbformat_minor": 4
}
