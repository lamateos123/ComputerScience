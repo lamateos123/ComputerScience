{
 "cells": [
  {
   "cell_type": "code",
   "execution_count": null,
   "metadata": {},
   "outputs": [],
   "source": [
    "# 1266. Minimum Time Visiting All Points\n",
    "#-----------------------------------------\n",
    "'''\n",
    "On a 2D plane, there are n points with integer coordinates points[i] = [xi, yi]. \n",
    "Return the minimum time in seconds to visit all the points in the order given by points.\n",
    "\n",
    "You can move according to these rules:\n",
    "\n",
    "    In 1 second, you can either:\n",
    "        move vertically by one unit,\n",
    "        move horizontally by one unit, or\n",
    "        move diagonally sqrt(2) units (in other words, move one unit vertically then \n",
    "        one unit horizontally in 1 second).\n",
    "    You have to visit the points in the same order as they appear in the array.\n",
    "    You are allowed to pass through points that appear later in the order, but these \n",
    "    do not count as visits.\n",
    "\n",
    "Example 1\n",
    "Input: points = [[1,1],[3,4],[-1,0]]\n",
    "Output: 7\n",
    "Explanation: One optimal path is [1,1] -> [2,2] -> [3,3] -> [3,4] -> [2,3] -> [1,2] -> [0,1] -> [-1,0]   \n",
    "Time from [1,1] to [3,4] = 3 seconds \n",
    "Time from [3,4] to [-1,0] = 4 seconds\n",
    "Total time = 7 seconds\n",
    "'''\n"
   ]
  },
  {
   "cell_type": "code",
   "execution_count": 1,
   "metadata": {},
   "outputs": [
    {
     "data": {
      "text/plain": [
       "7"
      ]
     },
     "execution_count": 1,
     "metadata": {},
     "output_type": "execute_result"
    }
   ],
   "source": [
    "def visitTime(points):\n",
    "    ans = 0\n",
    "    for i in range(len(points)-1):\n",
    "        ans += max(abs(points[i][0]-points[i+1][0]), abs(points[i][1]-points[i+1][1]))\n",
    "    return ans\n",
    "\n",
    "points = [[1,1],[3,4],[-1,0]]\n",
    "visitTime(points)"
   ]
  },
  {
   "cell_type": "code",
   "execution_count": null,
   "metadata": {},
   "outputs": [],
   "source": []
  }
 ],
 "metadata": {
  "kernelspec": {
   "display_name": "Python 3",
   "language": "python",
   "name": "python3"
  },
  "language_info": {
   "codemirror_mode": {
    "name": "ipython",
    "version": 3
   },
   "file_extension": ".py",
   "mimetype": "text/x-python",
   "name": "python",
   "nbconvert_exporter": "python",
   "pygments_lexer": "ipython3",
   "version": "3.7.4"
  }
 },
 "nbformat": 4,
 "nbformat_minor": 2
}
