{
 "cells": [
  {
   "cell_type": "code",
   "execution_count": 1,
   "metadata": {},
   "outputs": [],
   "source": [
    "# 360. Sort Transformed Array\n",
    "#-----------------------------\n",
    "'''\n",
    "Given a sorted integer array nums and three integers a, b and c, apply a quadratic \n",
    "function of the form f(x) = ax2 + bx + c to each element nums[i] in the array, \n",
    "and return the array in a sorted order.\n",
    "\n",
    " \n",
    "Example 1:\n",
    "\n",
    "Input: nums = [-4,-2,2,4], a = 1, b = 3, c = 5\n",
    "Output: [3,9,15,33]\n",
    "\n",
    "Example 2:\n",
    "\n",
    "Input: nums = [-4,-2,2,4], a = -1, b = 3, c = 5\n",
    "Output: [-23,-5,1,7]\n",
    "\n",
    "'''"
   ]
  },
  {
   "cell_type": "code",
   "execution_count": 5,
   "metadata": {},
   "outputs": [
    {
     "data": {
      "text/plain": [
       "[3, 9, 15, 33]"
      ]
     },
     "execution_count": 5,
     "metadata": {},
     "output_type": "execute_result"
    }
   ],
   "source": [
    "def sortTransform(nums, a, b, c):\n",
    "    for i in range(len(nums)):\n",
    "        nums[i] = a*nums[i]**2 + b*nums[i] + c\n",
    "    nums.sort()\n",
    "    return nums\n",
    "    \n",
    "nums = [-4,-2,2,4]\n",
    "a = 1\n",
    "b = 3\n",
    "c = 5\n",
    "sortTransform(nums, a, b, c)"
   ]
  },
  {
   "cell_type": "code",
   "execution_count": null,
   "metadata": {},
   "outputs": [],
   "source": [
    "'''\n",
    "a>0\n",
    "y\n",
    "^\n",
    "|\t+               +\n",
    "|\t +             +\n",
    "|\t   +         +\n",
    "|\t\t   + +\n",
    "---------------------------> x\n",
    "\n",
    "a<0\n",
    "y\n",
    "^\n",
    "|\t       + +\n",
    "|\t   +         +  \n",
    "|\t +             +\n",
    "|\t+\t            +\n",
    "---------------------------> x\n",
    "'''"
   ]
  }
 ],
 "metadata": {
  "kernelspec": {
   "display_name": "Python 3",
   "language": "python",
   "name": "python3"
  },
  "language_info": {
   "codemirror_mode": {
    "name": "ipython",
    "version": 3
   },
   "file_extension": ".py",
   "mimetype": "text/x-python",
   "name": "python",
   "nbconvert_exporter": "python",
   "pygments_lexer": "ipython3",
   "version": "3.7.4"
  }
 },
 "nbformat": 4,
 "nbformat_minor": 2
}
