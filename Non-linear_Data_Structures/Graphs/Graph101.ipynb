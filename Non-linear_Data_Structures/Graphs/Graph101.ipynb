{
 "cells": [
  {
   "cell_type": "code",
   "execution_count": 1,
   "metadata": {},
   "outputs": [],
   "source": [
    "# Class Node (Vertex) implemented with dictionaries\n",
    "class Node:\n",
    "    def __init__(self, key):\n",
    "        self.id = key\n",
    "        self.connectedTo = {}\n",
    "        \n",
    "    def addNeighbor(self, nbr, weight=0):\n",
    "        self.connectedTo[nbr] = weight\n",
    "        \n",
    "    def getConnections(self):\n",
    "        return self.connectedTo.keys()\n",
    "    \n",
    "    def getId(self):\n",
    "        return self.id\n",
    "    \n",
    "    def getWeight(self, nbr):\n",
    "        return self.connectedTo[nbr]\n",
    "        \n",
    "    def __str__(self):\n",
    "        return str(self.id) + \"connected to: \" + str([x.id for x in self.connectedTo])"
   ]
  },
  {
   "cell_type": "code",
   "execution_count": 12,
   "metadata": {},
   "outputs": [],
   "source": [
    "class Graph:\n",
    "    def __init__(self):\n",
    "        self.nodeList = {}\n",
    "        self.numNodes = 0\n",
    "        \n",
    "    def addNode(self, key):\n",
    "        self.numNodes = self.numNodes + 1\n",
    "        newNode = Node(key)\n",
    "        self.nodeList[key] = newNode\n",
    "        return newNode\n",
    "    \n",
    "    def getNode(self, n):\n",
    "        if n in self.nodeList:\n",
    "            return self.nodeList[n]\n",
    "        else:\n",
    "            return None\n",
    "        \n",
    "    def addEdge(self, f, t, cost=0):\n",
    "        if f not in self.nodeList:\n",
    "            nv = self.addNode(f)\n",
    "        if t not in self.nodeList:\n",
    "            nv = self.addNode(t)\n",
    "        self.nodeList[f].addNeighbor(self.nodeList[t], cost)\n",
    "        \n",
    "    def getNodes(self):\n",
    "        return self.nodeList.keys()\n",
    "\n",
    "    def __contains__(self,n):\n",
    "        return n in self.nodeList\n",
    "    \n",
    "    def __iter__(self):\n",
    "        return iter(self.nodeList.values())    "
   ]
  },
  {
   "cell_type": "code",
   "execution_count": null,
   "metadata": {},
   "outputs": [],
   "source": []
  },
  {
   "cell_type": "code",
   "execution_count": 13,
   "metadata": {},
   "outputs": [
    {
     "data": {
      "text/plain": [
       "<__main__.Graph at 0x28b5d63e808>"
      ]
     },
     "execution_count": 13,
     "metadata": {},
     "output_type": "execute_result"
    }
   ],
   "source": [
    "g = Graph()\n",
    "g"
   ]
  },
  {
   "cell_type": "code",
   "execution_count": 14,
   "metadata": {},
   "outputs": [
    {
     "data": {
      "text/plain": [
       "{0: <__main__.Node at 0x28b5d5a4c08>,\n",
       " 1: <__main__.Node at 0x28b5d63e288>,\n",
       " 2: <__main__.Node at 0x28b5d63e988>,\n",
       " 3: <__main__.Node at 0x28b5d63e9c8>,\n",
       " 4: <__main__.Node at 0x28b5d63ee48>,\n",
       " 5: <__main__.Node at 0x28b5d63ef08>}"
      ]
     },
     "execution_count": 14,
     "metadata": {},
     "output_type": "execute_result"
    }
   ],
   "source": [
    "for i in range(6):\n",
    "    g.addNode(i)\n",
    "g.nodeList"
   ]
  },
  {
   "cell_type": "code",
   "execution_count": 15,
   "metadata": {},
   "outputs": [],
   "source": [
    "g.addEdge(0,1,5)\n",
    "g.addEdge(0,5,2)\n",
    "g.addEdge(1,2,4)\n",
    "g.addEdge(2,3,9)\n",
    "g.addEdge(3,4,7)\n",
    "g.addEdge(3,5,3)\n",
    "g.addEdge(4,0,1)\n",
    "g.addEdge(5,4,8)\n",
    "g.addEdge(5,2,1)"
   ]
  },
  {
   "cell_type": "code",
   "execution_count": 19,
   "metadata": {},
   "outputs": [
    {
     "data": {
      "text/plain": [
       "dict_keys([0, 1, 2, 3, 4, 5])"
      ]
     },
     "execution_count": 19,
     "metadata": {},
     "output_type": "execute_result"
    }
   ],
   "source": [
    "g.getNodes()"
   ]
  },
  {
   "cell_type": "code",
   "execution_count": 41,
   "metadata": {},
   "outputs": [
    {
     "data": {
      "text/plain": [
       "0"
      ]
     },
     "execution_count": 41,
     "metadata": {},
     "output_type": "execute_result"
    }
   ],
   "source": [
    "n0 = g.getNode(0)\n",
    "n0.getId()"
   ]
  },
  {
   "cell_type": "code",
   "execution_count": 44,
   "metadata": {},
   "outputs": [
    {
     "data": {
      "text/plain": [
       "1"
      ]
     },
     "execution_count": 44,
     "metadata": {},
     "output_type": "execute_result"
    }
   ],
   "source": [
    "n1 = g.getNode(1)\n",
    "n1.getId()"
   ]
  },
  {
   "cell_type": "code",
   "execution_count": 45,
   "metadata": {},
   "outputs": [
    {
     "data": {
      "text/plain": [
       "5"
      ]
     },
     "execution_count": 45,
     "metadata": {},
     "output_type": "execute_result"
    }
   ],
   "source": [
    "n0.getConnections()\n",
    "n0.getWeight(n1)"
   ]
  },
  {
   "cell_type": "code",
   "execution_count": 53,
   "metadata": {},
   "outputs": [
    {
     "name": "stdout",
     "output_type": "stream",
     "text": [
      "(0, 1 , 5)\n",
      "(0, 5 , 2)\n",
      "(1, 2 , 4)\n",
      "(2, 3 , 9)\n",
      "(3, 4 , 7)\n",
      "(3, 5 , 3)\n",
      "(4, 0 , 1)\n",
      "(5, 4 , 8)\n",
      "(5, 2 , 1)\n"
     ]
    }
   ],
   "source": [
    "for v in g:\n",
    "    for w in v.getConnections():\n",
    "        print(f\"({v.getId()}, {w.getId()} , {v.getWeight(w)})\")"
   ]
  },
  {
   "cell_type": "code",
   "execution_count": 17,
   "metadata": {},
   "outputs": [
    {
     "data": {
      "text/plain": [
       "<__main__.Node at 0x28b5d63e288>"
      ]
     },
     "execution_count": 17,
     "metadata": {},
     "output_type": "execute_result"
    }
   ],
   "source": [
    "g.getNode(1)"
   ]
  },
  {
   "cell_type": "code",
   "execution_count": 18,
   "metadata": {},
   "outputs": [
    {
     "data": {
      "text/plain": [
       "dict_keys([0, 1, 2, 3, 4, 5])"
      ]
     },
     "execution_count": 18,
     "metadata": {},
     "output_type": "execute_result"
    }
   ],
   "source": [
    "g.getNodes()"
   ]
  }
 ],
 "metadata": {
  "kernelspec": {
   "display_name": "Python 3",
   "language": "python",
   "name": "python3"
  },
  "language_info": {
   "codemirror_mode": {
    "name": "ipython",
    "version": 3
   },
   "file_extension": ".py",
   "mimetype": "text/x-python",
   "name": "python",
   "nbconvert_exporter": "python",
   "pygments_lexer": "ipython3",
   "version": "3.7.4"
  }
 },
 "nbformat": 4,
 "nbformat_minor": 2
}
