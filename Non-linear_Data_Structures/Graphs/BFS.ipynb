{
 "cells": [
  {
   "cell_type": "code",
   "execution_count": 13,
   "metadata": {},
   "outputs": [
    {
     "name": "stdout",
     "output_type": "stream",
     "text": [
      "5 2 4 8 3 7 "
     ]
    }
   ],
   "source": [
    "graph = {\n",
    "    '5' :['3','7'], #5 3 7 2 4 8 \n",
    "    '3' :['2','4'],\n",
    "    '7' :['8'],\n",
    "    '2' :[],\n",
    "    '4' :['8'],\n",
    "    '8' :[]\n",
    "}\n",
    "'''\n",
    "graph = {\n",
    "    '0' :['1','5'],\n",
    "    '1' :['2'],\n",
    "    '2' :['3'],\n",
    "    '3' :['4','5'],\n",
    "    '4' :['0'],\n",
    "    '5' :['2','4']\n",
    "}\n",
    "'''\n",
    "\n",
    "visited = []\n",
    "queue = []\n",
    "\n",
    "def bfs(visited, graph, node):\n",
    "    visited.append(node)\n",
    "    queue.append(node)\n",
    "    \n",
    "    while queue:\n",
    "        x = queue.pop(0)\n",
    "        print(x, end=\" \")\n",
    "        \n",
    "        for neighbour in graph:\n",
    "            #print(neighbour)\n",
    "            if neighbour not in visited:\n",
    "                visited.append(neighbour)\n",
    "                queue.append(neighbour)\n",
    "                \n",
    "bfs(visited, graph, '5')\n"
   ]
  },
  {
   "cell_type": "code",
   "execution_count": null,
   "metadata": {},
   "outputs": [],
   "source": []
  }
 ],
 "metadata": {
  "kernelspec": {
   "display_name": "Python 3",
   "language": "python",
   "name": "python3"
  },
  "language_info": {
   "codemirror_mode": {
    "name": "ipython",
    "version": 3
   },
   "file_extension": ".py",
   "mimetype": "text/x-python",
   "name": "python",
   "nbconvert_exporter": "python",
   "pygments_lexer": "ipython3",
   "version": "3.7.4"
  }
 },
 "nbformat": 4,
 "nbformat_minor": 2
}
