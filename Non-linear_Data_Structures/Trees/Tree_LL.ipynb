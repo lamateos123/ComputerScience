{
 "cells": [
  {
   "cell_type": "code",
   "execution_count": 5,
   "metadata": {},
   "outputs": [],
   "source": [
    "# Define a tree from a list of lists\n",
    "#-------------------------------------\n",
    "\n",
    "def BinaryTree(root):\n",
    "    return [root, [], []]\n",
    "\n",
    "def insertLeft(root, new_branch):\n",
    "    temp = root.pop(1)\n",
    "    if len(temp) > 1:\n",
    "        root.insert(1, [new_branch, temp, []])\n",
    "    else:\n",
    "        root.insert(1, [new_branch, [], []])\n",
    "    return root\n",
    "\n",
    "def insertRight(root, new_branch):\n",
    "    temp = root.pop(2)\n",
    "    if len(temp) > 1:\n",
    "        root.insert(2, [new_branch, [], temp])\n",
    "    else:\n",
    "        root.insert(2, [new_branch, [], []])\n",
    "    return root\n",
    "\n",
    "def getRootVal(root):\n",
    "    return root[0]\n",
    "\n",
    "def setRootVal(root, new_value):\n",
    "    root[0] = new_value\n",
    "    \n",
    "def getLeftChild(root):\n",
    "    return root[1]\n",
    "\n",
    "def getRightChild(root):\n",
    "    return root[2]"
   ]
  },
  {
   "cell_type": "code",
   "execution_count": 10,
   "metadata": {},
   "outputs": [
    {
     "name": "stdout",
     "output_type": "stream",
     "text": [
      "['a', ['b', ['d', [], []], ['e', [], []]], ['c', [], ['f', [], []]]]\n"
     ]
    }
   ],
   "source": [
    "bt = BinaryTree('a')\n",
    "insertLeft(bt,'b')\n",
    "insertRight(bt,'c')\n",
    "insertLeft(getLeftChild(bt),'d')\n",
    "insertRight(getLeftChild(bt),'e')\n",
    "insertRight(getRightChild(bt),'f')\n",
    "\n",
    "print(bt)"
   ]
  },
  {
   "cell_type": "code",
   "execution_count": null,
   "metadata": {},
   "outputs": [],
   "source": []
  }
 ],
 "metadata": {
  "kernelspec": {
   "display_name": "Python 3",
   "language": "python",
   "name": "python3"
  },
  "language_info": {
   "codemirror_mode": {
    "name": "ipython",
    "version": 3
   },
   "file_extension": ".py",
   "mimetype": "text/x-python",
   "name": "python",
   "nbconvert_exporter": "python",
   "pygments_lexer": "ipython3",
   "version": "3.7.4"
  }
 },
 "nbformat": 4,
 "nbformat_minor": 2
}
