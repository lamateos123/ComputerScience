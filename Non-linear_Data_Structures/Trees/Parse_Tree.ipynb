{
 "cells": [
  {
   "cell_type": "code",
   "execution_count": 51,
   "metadata": {},
   "outputs": [],
   "source": [
    "# Trees can represent real world data such as mathematical expressions\n",
    "# ((7+3)*(5-2))\n",
    "#       *                        *\n",
    "#    +     -                   10  3\n",
    "#  7   3  5  2\n",
    "#\n",
    "# Build a parse tree from a fully parentherized mathematical expression\n",
    "# Evaluate the expression stored in a parse tree\n",
    "# Recover the original mathematical expression from a parse tree\n",
    "#\n",
    "#  Tokens:\n",
    "# 1) left parentheses (\n",
    "# 2) right parentheses )\n",
    "# 3) operators +,-,*,/\n",
    "# 4) operands 0,1,2,3,4,5,6,7,8,9\n",
    "#\n",
    "#  Rules:\n",
    "# 1) If current token \"(\", add new node as the left child in the current node,\n",
    "#    and descend to the left child\n",
    "# 2) If \"+,-,*,/\" set the root value of the current node to the operator.\n",
    "#    Add a new node as the right child of the current node and\n",
    "#    descend to the right child\n",
    "# 3) If a number, set the root value of the current node to the number and\n",
    "#    return to the parent\n",
    "# 4) If the current token \")\", go to the parent of the current node"
   ]
  },
  {
   "cell_type": "code",
   "execution_count": 52,
   "metadata": {},
   "outputs": [],
   "source": [
    "\"\"\"The end of the array is the input. The append and pop operations cost O(1)\"\"\"\n",
    "\n",
    "class Stack:\n",
    "    def __init__(self):\n",
    "        self.items = []\n",
    "        \n",
    "    def is_empty(self):\n",
    "        \"\"\"test to see if the stack is empty. Requires no parameters and returns a boolean value\"\"\"\n",
    "        return self.items == []\n",
    "    \n",
    "    def push(self, item):\n",
    "        \"\"\"adds a new item to the top of the stack. It requires the items and returns nothing\"\"\"\n",
    "        self.items.append(item)\n",
    "        \n",
    "    def pop(self):\n",
    "        \"\"\"removes the top item from the stack. It requires no parameters and returns the item. The stack is modified\"\"\"\n",
    "        return self.items.pop()\n",
    "    \n",
    "    def peek(self):\n",
    "        \"\"\"return the top item from the stack. Requires no parameters. The stack is not modified\"\"\"\n",
    "        return self.items[len(self.items)-1]\n",
    "    \n",
    "    def size(self):\n",
    "        \"\"\"return the number of items in the stack. Requires no parameters and returns an integer\"\"\"\n",
    "        return len(self.items)\n",
    "    \n",
    "    def print(self):\n",
    "        \"\"\"Prints the stack items\"\"\"\n",
    "        for item in self.items:\n",
    "            print(item,end=\",\")"
   ]
  },
  {
   "cell_type": "code",
   "execution_count": 53,
   "metadata": {},
   "outputs": [],
   "source": [
    "class BinaryTree:\n",
    "    def __init__(self, root_obj):\n",
    "        self.key = root_obj\n",
    "        self.left_child = None\n",
    "        self.right_child = None\n",
    "        \n",
    "    def insert_left(self, new_node):\n",
    "        if self.left_child == None:\n",
    "            self.left_child = BinaryTree(new_node)\n",
    "        else:\n",
    "            temp = BinaryTree(new_node)\n",
    "            temp.left = self.left_child\n",
    "            self.left_child = temp\n",
    "            \n",
    "    def insert_right(self, new_node):\n",
    "        if self.right_child == None:\n",
    "            self.right_child = BinaryTree(new_node)\n",
    "        else:\n",
    "            temp = BinaryTree(new_node)\n",
    "            temp.right = self.right_child\n",
    "            self.right_child = temp\n",
    "            \n",
    "    def get_right_child(self):\n",
    "        return self.right_child\n",
    "    \n",
    "    def get_left_child(self):\n",
    "        return self.left_child\n",
    "    \n",
    "    def set_root_value(self, new_val):\n",
    "        self.key = new_val\n",
    "        \n",
    "    def get_root_value(self):\n",
    "        return self.key"
   ]
  },
  {
   "cell_type": "code",
   "execution_count": 54,
   "metadata": {},
   "outputs": [
    {
     "name": "stdout",
     "output_type": "stream",
     "text": [
      "(\n",
      "(\n",
      "10\n",
      "+\n",
      "5\n",
      ")\n",
      "*\n",
      "3\n",
      ")\n"
     ]
    }
   ],
   "source": [
    "def parse_tree(equation):\n",
    "    equation_list = equation.split()\n",
    "    stack = Stack()\n",
    "    root_tree = BinaryTree('')\n",
    "    stack.push(root_tree)\n",
    "    current_tree = root_tree\n",
    "    \n",
    "    for x in equation_list:\n",
    "        print(x)\n",
    "        if x == '(':\n",
    "            current_tree.insert_left('')\n",
    "            stack.push(current_tree)\n",
    "            current_tree = current_tree.get_left_child()\n",
    "        elif x in ['+', '-', '*', '/']:\n",
    "            current_tree.set_root_value(x)\n",
    "            current_tree.insert_right('')\n",
    "            stack.push(current_tree)\n",
    "            current_tree = current_tree.get_right_child()\n",
    "        elif x == ')':\n",
    "            current_tree = stack.pop()\n",
    "        elif x not in ['+', '-', '*', '/', ')']:\n",
    "            try:\n",
    "                current_tree.set_root_value(int(x))\n",
    "                parent = stack.pop()\n",
    "                current_tree = parent\n",
    "            except ValueError:\n",
    "                raise ValueError(\"token '{}' is not a valid integer\".format(i))\n",
    "    \n",
    "    return root_tree\n",
    "\n",
    "equation = \"( ( 10 + 5 ) * 3 )\"#\"(3+(4*5))\"\n",
    "result = parse_tree(equation)"
   ]
  },
  {
   "cell_type": "code",
   "execution_count": 55,
   "metadata": {},
   "outputs": [
    {
     "data": {
      "text/plain": [
       "'*'"
      ]
     },
     "execution_count": 55,
     "metadata": {},
     "output_type": "execute_result"
    }
   ],
   "source": [
    "result.get_root_value()"
   ]
  },
  {
   "cell_type": "code",
   "execution_count": 56,
   "metadata": {},
   "outputs": [
    {
     "name": "stdout",
     "output_type": "stream",
     "text": [
      "+\n"
     ]
    }
   ],
   "source": [
    "print(result.get_left_child().get_root_value())"
   ]
  },
  {
   "cell_type": "code",
   "execution_count": 57,
   "metadata": {},
   "outputs": [
    {
     "name": "stdout",
     "output_type": "stream",
     "text": [
      "3\n"
     ]
    }
   ],
   "source": [
    "print(result.get_right_child().get_root_value())"
   ]
  },
  {
   "cell_type": "code",
   "execution_count": 58,
   "metadata": {},
   "outputs": [
    {
     "name": "stdout",
     "output_type": "stream",
     "text": [
      "10\n"
     ]
    }
   ],
   "source": [
    "print(result.get_left_child().get_left_child().get_root_value())"
   ]
  },
  {
   "cell_type": "code",
   "execution_count": 59,
   "metadata": {},
   "outputs": [
    {
     "name": "stdout",
     "output_type": "stream",
     "text": [
      "5\n"
     ]
    }
   ],
   "source": [
    "print(result.get_left_child().get_right_child().get_root_value())"
   ]
  },
  {
   "cell_type": "code",
   "execution_count": null,
   "metadata": {},
   "outputs": [],
   "source": []
  },
  {
   "cell_type": "code",
   "execution_count": 62,
   "metadata": {},
   "outputs": [
    {
     "name": "stdout",
     "output_type": "stream",
     "text": [
      "(\n",
      "3\n",
      "+\n",
      "(\n",
      "4\n",
      "*\n",
      "5\n",
      ")\n",
      ")\n"
     ]
    }
   ],
   "source": [
    "equation = \" ( 3 + ( 4 * 5 ) )\"\n",
    "result = parse_tree(equation)"
   ]
  },
  {
   "cell_type": "code",
   "execution_count": 63,
   "metadata": {},
   "outputs": [
    {
     "data": {
      "text/plain": [
       "'+'"
      ]
     },
     "execution_count": 63,
     "metadata": {},
     "output_type": "execute_result"
    }
   ],
   "source": [
    "result.get_root_value()"
   ]
  },
  {
   "cell_type": "code",
   "execution_count": 64,
   "metadata": {},
   "outputs": [
    {
     "name": "stdout",
     "output_type": "stream",
     "text": [
      "3\n"
     ]
    }
   ],
   "source": [
    "print(result.get_left_child().get_root_value())"
   ]
  },
  {
   "cell_type": "code",
   "execution_count": 65,
   "metadata": {},
   "outputs": [
    {
     "name": "stdout",
     "output_type": "stream",
     "text": [
      "*\n"
     ]
    }
   ],
   "source": [
    "print(result.get_right_child().get_root_value())"
   ]
  },
  {
   "cell_type": "code",
   "execution_count": 68,
   "metadata": {},
   "outputs": [
    {
     "name": "stdout",
     "output_type": "stream",
     "text": [
      "4\n"
     ]
    }
   ],
   "source": [
    "print(result.get_right_child().get_left_child().get_root_value())"
   ]
  },
  {
   "cell_type": "code",
   "execution_count": 70,
   "metadata": {},
   "outputs": [
    {
     "name": "stdout",
     "output_type": "stream",
     "text": [
      "5\n"
     ]
    }
   ],
   "source": [
    "print(result.get_right_child().get_right_child().get_root_value())"
   ]
  },
  {
   "cell_type": "code",
   "execution_count": null,
   "metadata": {},
   "outputs": [],
   "source": []
  }
 ],
 "metadata": {
  "kernelspec": {
   "display_name": "Python 3",
   "language": "python",
   "name": "python3"
  },
  "language_info": {
   "codemirror_mode": {
    "name": "ipython",
    "version": 3
   },
   "file_extension": ".py",
   "mimetype": "text/x-python",
   "name": "python",
   "nbconvert_exporter": "python",
   "pygments_lexer": "ipython3",
   "version": "3.7.4"
  }
 },
 "nbformat": 4,
 "nbformat_minor": 2
}
