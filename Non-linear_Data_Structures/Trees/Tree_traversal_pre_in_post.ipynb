{
 "cells": [
  {
   "cell_type": "code",
   "execution_count": 1,
   "metadata": {},
   "outputs": [],
   "source": [
    "# Tree Traversal\n",
    "#\n",
    "# preorder\n",
    "# inorder (get full expression back without any parentheses)\n",
    "# postorder (parser)"
   ]
  },
  {
   "cell_type": "code",
   "execution_count": 4,
   "metadata": {},
   "outputs": [],
   "source": [
    "class BinaryTree:\n",
    "    def __init__(self, root_obj):\n",
    "        self.key = root_obj\n",
    "        self.left_child = None\n",
    "        self.right_child = None\n",
    "        \n",
    "    def preorder(self):\n",
    "        print(self.key)\n",
    "        if self.left_child:\n",
    "            self.left_child.preorder()\n",
    "        if self.right_child:\n",
    "            self.right_child.preorder()\n",
    "    \n",
    "        \n",
    "    def insert_left(self, new_node):\n",
    "        if self.left_child == None:\n",
    "            self.left_child = BinaryTree(new_node)\n",
    "        else:\n",
    "            temp = BinaryTree(new_node)\n",
    "            temp.left = self.left_child\n",
    "            self.left_child = temp\n",
    "            \n",
    "    def insert_right(self, new_node):\n",
    "        if self.right_child == None:\n",
    "            self.right_child = BinaryTree(new_node)\n",
    "        else:\n",
    "            temp = BinaryTree(new_node)\n",
    "            temp.right = self.right_child\n",
    "            self.right_child = temp\n",
    "            \n",
    "    def get_right_child(self):\n",
    "        return self.right_child\n",
    "    \n",
    "    def get_left_child(self):\n",
    "        return self.left_child\n",
    "    \n",
    "    def set_root_value(self, new_val):\n",
    "        self.key = new_val\n",
    "        \n",
    "    def get_root_value(self):\n",
    "        return self.key"
   ]
  },
  {
   "cell_type": "code",
   "execution_count": 5,
   "metadata": {},
   "outputs": [],
   "source": [
    "bt = BinaryTree('a')\n",
    "bt.insert_left('b')\n",
    "bt.insert_right('c')\n",
    "bt.get_left_child().insert_left('d')\n",
    "bt.get_left_child().insert_right('e')\n",
    "bt.get_right_child().insert_right('f')"
   ]
  },
  {
   "cell_type": "code",
   "execution_count": 6,
   "metadata": {},
   "outputs": [
    {
     "name": "stdout",
     "output_type": "stream",
     "text": [
      "a\n",
      "b\n",
      "d\n",
      "e\n",
      "c\n",
      "f\n"
     ]
    }
   ],
   "source": [
    "bt.preorder()"
   ]
  },
  {
   "cell_type": "code",
   "execution_count": 12,
   "metadata": {},
   "outputs": [],
   "source": [
    "def preorder(tree):\n",
    "    if tree:\n",
    "        print(tree.get_root_value())\n",
    "        preorder(tree.get_left_child())\n",
    "        preorder(tree.get_right_child())\n",
    "\n",
    "def postorder(tree):\n",
    "    if tree != None:\n",
    "        postorder(tree.get_left_child())\n",
    "        postorder(tree.get_right_child())\n",
    "        print(tree.get_root_value())\n",
    "        \n",
    "def inorder(tree):\n",
    "    if tree != None:\n",
    "        inorder(tree.get_left_child())\n",
    "        print(tree.get_root_value())\n",
    "        inorder(tree.get_right_child())"
   ]
  },
  {
   "cell_type": "code",
   "execution_count": 13,
   "metadata": {},
   "outputs": [
    {
     "name": "stdout",
     "output_type": "stream",
     "text": [
      "preorder:\n",
      "a\n",
      "b\n",
      "d\n",
      "e\n",
      "c\n",
      "f\n",
      "\n",
      "postorder:\n",
      "d\n",
      "e\n",
      "b\n",
      "f\n",
      "c\n",
      "a\n",
      "\n",
      "inorder:\n",
      "d\n",
      "b\n",
      "e\n",
      "a\n",
      "c\n",
      "f\n"
     ]
    }
   ],
   "source": [
    "print(\"preorder:\")\n",
    "preorder(bt)\n",
    "print()\n",
    "print(\"postorder:\")\n",
    "postorder(bt)\n",
    "print()\n",
    "print(\"inorder:\")\n",
    "inorder(bt)\n"
   ]
  },
  {
   "cell_type": "code",
   "execution_count": null,
   "metadata": {},
   "outputs": [],
   "source": []
  }
 ],
 "metadata": {
  "kernelspec": {
   "display_name": "Python 3",
   "language": "python",
   "name": "python3"
  },
  "language_info": {
   "codemirror_mode": {
    "name": "ipython",
    "version": 3
   },
   "file_extension": ".py",
   "mimetype": "text/x-python",
   "name": "python",
   "nbconvert_exporter": "python",
   "pygments_lexer": "ipython3",
   "version": "3.7.4"
  }
 },
 "nbformat": 4,
 "nbformat_minor": 2
}
