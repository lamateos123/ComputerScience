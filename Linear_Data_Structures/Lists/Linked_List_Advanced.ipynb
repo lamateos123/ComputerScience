{
 "cells": [
  {
   "cell_type": "code",
   "execution_count": 2,
   "metadata": {},
   "outputs": [
    {
     "name": "stdout",
     "output_type": "stream",
     "text": [
      "<__main__.LinkedList object at 0x000001BBB245F8C8>\n",
      "<__main__.Head object at 0x000001BBB245FF48>\n",
      "None\n",
      "4->3->2->1->None\n"
     ]
    }
   ],
   "source": [
    "\"\"\"Linked List with methods\"\"\"\n",
    "\n",
    "class Node:\n",
    "    def __init__(self, data, next=None):\n",
    "        self.data = data\n",
    "        self.next = next\n",
    "\n",
    "class Head:\n",
    "    def __init__(self):\n",
    "        self.next = None\n",
    "        \n",
    "class LinkedList:\n",
    "    def __init__(self):\n",
    "        self.head = Head()\n",
    "        self.head.next = None\n",
    "        \n",
    "    def insert(self, data):\n",
    "        new_node = Node(data)\n",
    "        new_node.next = self.head.next\n",
    "        self.head.next = new_node\n",
    "        \n",
    "    def printll(self):\n",
    "        next_node = self.head.next\n",
    "        while next_node!=None:\n",
    "            print(next_node.data,end=\"->\")\n",
    "            next_node = next_node.next\n",
    "        print(\"None\")\n",
    "    \n",
    "\n",
    "ll = LinkedList()\n",
    "print(ll)\n",
    "print(ll.head)\n",
    "print(ll.head.next)\n",
    "ll.insert(1)\n",
    "ll.insert(2)\n",
    "ll.insert(3)\n",
    "ll.insert(4)\n",
    "\n",
    "ll.printll()"
   ]
  },
  {
   "cell_type": "code",
   "execution_count": null,
   "metadata": {},
   "outputs": [],
   "source": []
  }
 ],
 "metadata": {
  "kernelspec": {
   "display_name": "Python 3",
   "language": "python",
   "name": "python3"
  },
  "language_info": {
   "codemirror_mode": {
    "name": "ipython",
    "version": 3
   },
   "file_extension": ".py",
   "mimetype": "text/x-python",
   "name": "python",
   "nbconvert_exporter": "python",
   "pygments_lexer": "ipython3",
   "version": "3.7.4"
  }
 },
 "nbformat": 4,
 "nbformat_minor": 2
}
