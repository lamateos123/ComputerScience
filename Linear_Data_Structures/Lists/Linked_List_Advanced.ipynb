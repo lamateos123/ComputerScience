{
 "cells": [
  {
   "cell_type": "code",
   "execution_count": 7,
   "metadata": {},
   "outputs": [
    {
     "name": "stdout",
     "output_type": "stream",
     "text": [
      "<__main__.LinkedList object at 0x7fadc83348e0>\n",
      "<__main__.Node object at 0x7fadc83349d0>\n",
      "The number of elements is 4\n",
      "4->3->2->1->None\n"
     ]
    }
   ],
   "source": [
    "\"\"\"Linked List with methods\"\"\"\n",
    "\n",
    "class Node:\n",
    "    def __init__(self, data = None):\n",
    "        \"\"\"Create a Node with data and pointer to next = None\"\"\"\n",
    "        self.data = data\n",
    "        self.next = None\n",
    "\n",
    "class LinkedList:\n",
    "    def __init__(self):\n",
    "        \"\"\"Create a linked list with head pointing to None\"\"\"\n",
    "        self.head = Node()\n",
    "        \n",
    "    def insert(self, data):\n",
    "        \"\"\"Insert a Node at the beginning of the linked list\"\"\"\n",
    "        new_node = Node(data)\n",
    "        current = self.head\n",
    "        new_node.next = current.next\n",
    "        current.next = new_node\n",
    "        \n",
    "    def append(self, data):\n",
    "        \"\"\"Append a Node at the end of the linked list\"\"\"\n",
    "        new_node = Node(data)\n",
    "        current = self.head\n",
    "        if current.next == None:            \n",
    "            new_node.next = current.next\n",
    "            current.next = new_node\n",
    "        else:\n",
    "            while current.next != None:\n",
    "                current = current.next\n",
    "            current.next = new_node\n",
    "            new_node.next = None\n",
    "            \n",
    "    def length(self):\n",
    "        \"\"\"Returns the length of the linked list\"\"\"\n",
    "        counter = 0\n",
    "        current = self.head\n",
    "        while current.next != None:\n",
    "            counter += 1\n",
    "            current = current.next\n",
    "        return counter\n",
    "    \n",
    "    def search(self, item):\n",
    "        \"\"\"Search for an item in the linked list\"\"\"\n",
    "        found = False\n",
    "        current = self.head\n",
    "        while current.next != None:\n",
    "            current = current.next\n",
    "            if current.data == item:\n",
    "                found = True\n",
    "        return found\n",
    "            \n",
    "    def delete(self, item):\n",
    "        \"\"\"Delete an item if found\"\"\"\n",
    "        current = self.head\n",
    "        while current.next != None:\n",
    "            previous = current\n",
    "            current = current.next\n",
    "            if current.data == item:\n",
    "                previous.next = current.next\n",
    "        \n",
    "    def printll(self):\n",
    "        \"\"\"Traverse the linked list and print the elements\"\"\"\n",
    "        current = self.head\n",
    "        while current.next != None:\n",
    "            current = current.next\n",
    "            print(current.data,end=\"->\")\n",
    "        print(\"None\")\n",
    "    \n",
    "\n",
    "ll = LinkedList()\n",
    "print(ll)\n",
    "print(ll.head)\n",
    "ll.insert(1)\n",
    "ll.insert(2)\n",
    "ll.insert(3)\n",
    "ll.insert(4)\n",
    "print(f\"The number of elements is {ll.length()}\")\n",
    "ll.printll()"
   ]
  },
  {
   "cell_type": "code",
   "execution_count": 8,
   "metadata": {},
   "outputs": [
    {
     "name": "stdout",
     "output_type": "stream",
     "text": [
      "The number of elements is 5\n",
      "4->3->2->1->5->None\n"
     ]
    }
   ],
   "source": [
    "ll.append(5)\n",
    "print(f\"The number of elements is {ll.length()}\")\n",
    "ll.printll()"
   ]
  },
  {
   "cell_type": "code",
   "execution_count": 9,
   "metadata": {},
   "outputs": [
    {
     "data": {
      "text/plain": [
       "False"
      ]
     },
     "execution_count": 9,
     "metadata": {},
     "output_type": "execute_result"
    }
   ],
   "source": [
    "ll.search(8)"
   ]
  },
  {
   "cell_type": "code",
   "execution_count": 10,
   "metadata": {},
   "outputs": [
    {
     "name": "stdout",
     "output_type": "stream",
     "text": [
      "The number of elements is 3\n",
      "4->3->5->None\n"
     ]
    }
   ],
   "source": [
    "ll.delete(2)\n",
    "ll.delete(1)\n",
    "print(f\"The number of elements is {ll.length()}\")\n",
    "ll.printll()"
   ]
  },
  {
   "cell_type": "code",
   "execution_count": null,
   "metadata": {},
   "outputs": [],
   "source": []
  },
  {
   "cell_type": "code",
   "execution_count": 5,
   "metadata": {},
   "outputs": [
    {
     "name": "stdout",
     "output_type": "stream",
     "text": [
      "<__main__.LinkedList object at 0x7fadc83ab610>\n",
      "<__main__.Head object at 0x7fadc83abe80>\n",
      "None\n",
      "4->3->2->1->None\n"
     ]
    }
   ],
   "source": [
    "\"\"\"Linked List with methods\"\"\"\n",
    "\n",
    "class Node:\n",
    "    def __init__(self, data, next=None):\n",
    "        self.data = data\n",
    "        self.next = next\n",
    "\n",
    "class Head:\n",
    "    def __init__(self):\n",
    "        self.next = None\n",
    "        \n",
    "class LinkedList:\n",
    "    def __init__(self):\n",
    "        self.head = Head()\n",
    "        self.head.next = None\n",
    "        \n",
    "    def insert(self, data):\n",
    "        new_node = Node(data)\n",
    "        new_node.next = self.head.next\n",
    "        self.head.next = new_node\n",
    "        \n",
    "    def printll(self):\n",
    "        next_node = self.head.next\n",
    "        while next_node!=None:\n",
    "            print(next_node.data,end=\"->\")\n",
    "            next_node = next_node.next\n",
    "        print(\"None\")\n",
    "    \n",
    "\n",
    "ll = LinkedList()\n",
    "print(ll)\n",
    "print(ll.head)\n",
    "print(ll.head.next)\n",
    "ll.insert(1)\n",
    "ll.insert(2)\n",
    "ll.insert(3)\n",
    "ll.insert(4)\n",
    "\n",
    "ll.printll()"
   ]
  },
  {
   "cell_type": "code",
   "execution_count": null,
   "metadata": {},
   "outputs": [],
   "source": []
  }
 ],
 "metadata": {
  "kernelspec": {
   "display_name": "Python 3",
   "language": "python",
   "name": "python3"
  },
  "language_info": {
   "codemirror_mode": {
    "name": "ipython",
    "version": 3
   },
   "file_extension": ".py",
   "mimetype": "text/x-python",
   "name": "python",
   "nbconvert_exporter": "python",
   "pygments_lexer": "ipython3",
   "version": "3.8.10"
  }
 },
 "nbformat": 4,
 "nbformat_minor": 2
}
