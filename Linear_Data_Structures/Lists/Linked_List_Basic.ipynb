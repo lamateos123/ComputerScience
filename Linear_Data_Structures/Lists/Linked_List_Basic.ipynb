{
 "cells": [
  {
   "cell_type": "code",
   "execution_count": 2,
   "metadata": {},
   "outputs": [
    {
     "name": "stdout",
     "output_type": "stream",
     "text": [
      "HEAD at <__main__.Head object at 0x0000024670BFC788>\n",
      "HEAD next None\n",
      "<__main__.Node object at 0x0000024670BFC988>\n",
      "2\n",
      "<__main__.Node object at 0x0000024670BFC888>\n",
      "3\n",
      "<__main__.Node object at 0x0000024670BFCE08>\n",
      "None\n"
     ]
    }
   ],
   "source": [
    "\"\"\"Basic idea of a Linked List\"\"\"\n",
    "\n",
    "class Node:\n",
    "    def __init__(self, data, next=None):\n",
    "        self.data = data\n",
    "        self.next = next\n",
    "\n",
    "class Head:\n",
    "    def __init__(self):\n",
    "        self.next = None\n",
    "        \n",
    "# Create the head\n",
    "h = Head()\n",
    "print(f\"HEAD at {h}\")\n",
    "print(f\"HEAD next {h.next}\")\n",
    "tail = h.next\n",
    "\n",
    "# Create nodes\n",
    "node = Node(1)\n",
    "node2 = Node(2)\n",
    "node3 = Node(3)\n",
    "\n",
    "# Connect head and nodes\n",
    "h.next = node.data\n",
    "node.next = node2.data\n",
    "node2.next = node3.data\n",
    "node3.next = tail\n",
    "\n",
    "# Print Linked List\n",
    "print(node)\n",
    "print(node.next)\n",
    "print(node2)\n",
    "print(node2.next)\n",
    "print(node3)\n",
    "print(node3.next)"
   ]
  },
  {
   "cell_type": "code",
   "execution_count": null,
   "metadata": {},
   "outputs": [],
   "source": []
  }
 ],
 "metadata": {
  "kernelspec": {
   "display_name": "Python 3",
   "language": "python",
   "name": "python3"
  },
  "language_info": {
   "codemirror_mode": {
    "name": "ipython",
    "version": 3
   },
   "file_extension": ".py",
   "mimetype": "text/x-python",
   "name": "python",
   "nbconvert_exporter": "python",
   "pygments_lexer": "ipython3",
   "version": "3.7.4"
  }
 },
 "nbformat": 4,
 "nbformat_minor": 2
}
