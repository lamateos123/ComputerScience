{
 "cells": [
  {
   "cell_type": "code",
   "execution_count": 1,
   "metadata": {},
   "outputs": [],
   "source": [
    "\"\"\"Dequeue rear is index [0], while queue front is [-1]\"\"\"\n",
    "\n",
    "class Dequeue:\n",
    "    def __init__(self):\n",
    "        self.items = []\n",
    "        \n",
    "    def is_empty(self):\n",
    "        \"\"\"test to see if the dequeue is empty. Requires no parameters and returns a boolean value\"\"\"\n",
    "        return self.items == []\n",
    "    \n",
    "    def add_front(self, item):\n",
    "        \"\"\"adds a new item to the rear of the dequeue. It requires the items and returns nothing. The dequeue is modified\"\"\"\n",
    "        self.items.insert(0, item)\n",
    "        \n",
    "    def add_rear(self, item):\n",
    "        \"\"\"adds a new item to the front of the dequeue. It requires the items and returns nothing. The dequeue is modified\"\"\"\n",
    "        self.items.append(item)\n",
    "        \n",
    "    def remove_front(self):\n",
    "        \"\"\"removes the front item from the dequeue. It requires no parameters and returns the item. The dequeue is modified\"\"\"\n",
    "        return self.items.pop()\n",
    "    \n",
    "    def remove_rear(self):\n",
    "        \"\"\"removes the rear item from the dequeue. It requires no parameters and returns the item. The dequeue is modified\"\"\"\n",
    "        return self.items.pop(0)\n",
    "    \n",
    "    def size(self):\n",
    "        \"\"\"return the number of items in the dequeue. Requires no parameters and returns an integer\"\"\"\n",
    "        return len(self.items)\n",
    "    \n",
    "    def print(self):\n",
    "        \"\"\"Prints the dequeue items\"\"\"\n",
    "        for item in self.items:\n",
    "            print(item,end=\",\")"
   ]
  },
  {
   "cell_type": "code",
   "execution_count": 2,
   "metadata": {},
   "outputs": [
    {
     "data": {
      "text/plain": [
       "True"
      ]
     },
     "execution_count": 2,
     "metadata": {},
     "output_type": "execute_result"
    }
   ],
   "source": [
    "d = Dequeue()\n",
    "d.is_empty()"
   ]
  },
  {
   "cell_type": "code",
   "execution_count": 3,
   "metadata": {},
   "outputs": [
    {
     "data": {
      "text/plain": [
       "5"
      ]
     },
     "execution_count": 3,
     "metadata": {},
     "output_type": "execute_result"
    }
   ],
   "source": [
    "d.add_front(\"green\")\n",
    "d.add_rear(\"blue\")\n",
    "d.add_front(\"red\")\n",
    "d.add_front(\"white\")\n",
    "d.add_rear(\"black\")\n",
    "d.size()"
   ]
  },
  {
   "cell_type": "code",
   "execution_count": 4,
   "metadata": {},
   "outputs": [
    {
     "name": "stdout",
     "output_type": "stream",
     "text": [
      "white,red,green,blue,black,"
     ]
    }
   ],
   "source": [
    "d.print()"
   ]
  },
  {
   "cell_type": "code",
   "execution_count": 5,
   "metadata": {},
   "outputs": [
    {
     "data": {
      "text/plain": [
       "False"
      ]
     },
     "execution_count": 5,
     "metadata": {},
     "output_type": "execute_result"
    }
   ],
   "source": [
    "d.remove_front()\n",
    "d.is_empty()"
   ]
  },
  {
   "cell_type": "code",
   "execution_count": 6,
   "metadata": {},
   "outputs": [
    {
     "name": "stdout",
     "output_type": "stream",
     "text": [
      "white,red,green,blue,"
     ]
    }
   ],
   "source": [
    "d.print()"
   ]
  },
  {
   "cell_type": "code",
   "execution_count": 7,
   "metadata": {},
   "outputs": [
    {
     "name": "stdout",
     "output_type": "stream",
     "text": [
      "red,green,blue,"
     ]
    }
   ],
   "source": [
    "d.remove_rear()\n",
    "d.print()"
   ]
  },
  {
   "cell_type": "code",
   "execution_count": null,
   "metadata": {},
   "outputs": [],
   "source": []
  }
 ],
 "metadata": {
  "kernelspec": {
   "display_name": "Python 3",
   "language": "python",
   "name": "python3"
  },
  "language_info": {
   "codemirror_mode": {
    "name": "ipython",
    "version": 3
   },
   "file_extension": ".py",
   "mimetype": "text/x-python",
   "name": "python",
   "nbconvert_exporter": "python",
   "pygments_lexer": "ipython3",
   "version": "3.7.4"
  }
 },
 "nbformat": 4,
 "nbformat_minor": 2
}
