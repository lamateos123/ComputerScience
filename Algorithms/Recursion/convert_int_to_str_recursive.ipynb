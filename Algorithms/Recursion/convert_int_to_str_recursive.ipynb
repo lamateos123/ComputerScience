{
 "cells": [
  {
   "cell_type": "code",
   "execution_count": 2,
   "metadata": {},
   "outputs": [
    {
     "data": {
      "text/plain": [
       "'1110'"
      ]
     },
     "execution_count": 2,
     "metadata": {},
     "output_type": "execute_result"
    }
   ],
   "source": [
    "# RECURSIVE\n",
    "def toStr(n, base):\n",
    "    \"\"\"Convert an integer to a string\n",
    "    Steps:\n",
    "    1. Reduce the original number to a series of single-digit numbers\n",
    "    2. Convert the single digit-number to a string using lookup\n",
    "    3. Concatenate the single-digit strings together\"\"\"\n",
    "    \n",
    "    digits = \"01234567890ABCDEF\"\n",
    "    if n < base:\n",
    "        return digits[n]\n",
    "    else:\n",
    "        return toStr(n//base, base) + digits[n%base]\n",
    "        \n",
    "toStr(14, 2)"
   ]
  },
  {
   "cell_type": "code",
   "execution_count": 8,
   "metadata": {},
   "outputs": [
    {
     "data": {
      "text/plain": [
       "'E6'"
      ]
     },
     "execution_count": 8,
     "metadata": {},
     "output_type": "execute_result"
    }
   ],
   "source": [
    "# ITERATIVE\n",
    "def toStr(n, base):\n",
    "    digits = \"01234567890ABCDEF\"\n",
    "    \n",
    "    new_string = \"\"\n",
    "    stack = []\n",
    "    \n",
    "    while n > 0:\n",
    "        rem = n%base\n",
    "        stack.append(rem)\n",
    "        n = n // base\n",
    "        \n",
    "    while len(stack) > 0:\n",
    "        new_string += digits[stack.pop()]\n",
    "    return new_string\n",
    "\n",
    "toStr(246,16)"
   ]
  },
  {
   "cell_type": "code",
   "execution_count": null,
   "metadata": {},
   "outputs": [],
   "source": []
  }
 ],
 "metadata": {
  "kernelspec": {
   "display_name": "Python 3",
   "language": "python",
   "name": "python3"
  },
  "language_info": {
   "codemirror_mode": {
    "name": "ipython",
    "version": 3
   },
   "file_extension": ".py",
   "mimetype": "text/x-python",
   "name": "python",
   "nbconvert_exporter": "python",
   "pygments_lexer": "ipython3",
   "version": "3.7.4"
  }
 },
 "nbformat": 4,
 "nbformat_minor": 2
}
