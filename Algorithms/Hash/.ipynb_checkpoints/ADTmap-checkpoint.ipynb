{
 "cells": [
  {
   "cell_type": "code",
   "execution_count": 59,
   "metadata": {},
   "outputs": [],
   "source": [
    "class HashTable:\n",
    "    def __init__(self):\n",
    "        self.size = 11\n",
    "        self.slots = [None] * self.size\n",
    "        self.data = [None] * self.size\n",
    "    \n",
    "    def __getitem__(self, key):\n",
    "        \"\"\"Function overloading for get the item as array with []\"\"\"\n",
    "        return self.get(key)\n",
    "    \n",
    "    def __setitem__(self, key, data):\n",
    "        \"\"\"Function overloading for set an item as array with []\"\"\"\n",
    "        self.put(key, data)\n",
    "        \n",
    "    def hashfunction(self, key, size):\n",
    "        \"\"\"Creates the hashvalue\"\"\"\n",
    "        return key%size\n",
    "    \n",
    "    def rehash(self, oldhash, size):\n",
    "        \"\"\"From an old hashvalue it modified to 'plus1'\"\"\"\n",
    "        return (oldhash+1)%size\n",
    "    \n",
    "    def put(self, key, data):\n",
    "        \"\"\"Adds a new key-value pair. If the key in the map it replaces\"\"\"\n",
    "        hashvalue = self.hashfunction(key, len(self.slots))\n",
    "        \n",
    "        if self.slots[hashvalue] == None:\n",
    "            self.slots[hashvalue] = key\n",
    "            self.data[hashvalue] = data\n",
    "        else:\n",
    "            if self.slots[hashvalue] == key:\n",
    "                self.data[hashvalue] = data  # replace\n",
    "            else:\n",
    "                nextslot = self.rehash(hashvalue, len(self.slots))\n",
    "                while self.slots[nextslot] != None and \\\n",
    "                self.slots[nextslot] != key:\n",
    "                    nextslot = self.rehash(nextslot, len(self.slots))\n",
    "                    \n",
    "                if self.slots[nextslot] == None:\n",
    "                    self.slots[nextslot] = key\n",
    "                    self.data[nextslot] = data\n",
    "                else:\n",
    "                    self.data[nextslot] = data # replace\n",
    "                    \n",
    "    def get(self, key):\n",
    "        \"\"\"Given the key return the value otherwise None\"\"\"\n",
    "        startslot = self.hashfunction(key, len(self.slots))\n",
    "        \n",
    "        data = None\n",
    "        stop = False\n",
    "        found = False\n",
    "        position = startslot\n",
    "        \n",
    "        while self.slots[position] != None and not found and not stop:\n",
    "            if self.slots[position] == key:\n",
    "                found = True\n",
    "                data = self.data[position]\n",
    "            else:\n",
    "                position = self.rehash(position, len(self.slots))\n",
    "                if position == startslot:\n",
    "                    stop = True\n",
    "        return data\n",
    "    \n",
    "    def dell(self, key):\n",
    "        \"\"\"Delete the key-value pair if exists from a given key\"\"\"\n",
    "        startslot = self.hashfunction(key, len(self.slots))\n",
    "\n",
    "        stop = False\n",
    "        found = False\n",
    "        position = startslot\n",
    "        \n",
    "        while self.slots[position] != None and not found and not stop:\n",
    "            if self.slots[position] == key:\n",
    "                print(\"here\")\n",
    "                print(position,self.slots[position])\n",
    "                found = True\n",
    "                self.slots[position] = None\n",
    "                self.data[position] = None \n",
    "            else:\n",
    "                position = self.rehash(position, len(self.slots))\n",
    "                if position == startslot:\n",
    "                    stop = True\n",
    "        #return data\n",
    "        \n",
    "    \n",
    "    def lenn(self):\n",
    "        \"\"\"Return the length of key-value pairitems in the map\"\"\"\n",
    "        count = 0\n",
    "        for x in self.slots:\n",
    "            if x != None:\n",
    "                count += 1\n",
    "        return count\n",
    "    \n",
    "    def inn(self, key):\n",
    "        \"\"\"Return True if the key exists in the map\"\"\"\n",
    "        for x in self.slots:\n",
    "            if x == key:\n",
    "                return True\n",
    "        return False"
   ]
  },
  {
   "cell_type": "code",
   "execution_count": 60,
   "metadata": {},
   "outputs": [
    {
     "name": "stdout",
     "output_type": "stream",
     "text": [
      "[77, None, None, None, 26, 93, 17, None, None, 31, 54]\n",
      "['bird', None, None, None, 'dog', 'lion', 'tiger', None, None, 'cow', 'cat']\n"
     ]
    }
   ],
   "source": [
    "h = HashTable()\n",
    "h[54] = \"cat\"\n",
    "h[26] = \"dog\"\n",
    "h[93] = \"lion\"\n",
    "h[17] = \"tiger\"\n",
    "h[77] = \"bird\"\n",
    "h[31] = \"cow\"\n",
    "print(h.slots)\n",
    "print(h.data)"
   ]
  },
  {
   "cell_type": "code",
   "execution_count": 61,
   "metadata": {},
   "outputs": [
    {
     "name": "stdout",
     "output_type": "stream",
     "text": [
      "[77, 44, None, None, 26, 93, 17, None, None, 31, 54]\n",
      "['bird', 'goat', None, None, 'dog', 'lion', 'tiger', None, None, 'cow', 'cat']\n"
     ]
    }
   ],
   "source": [
    "h[44] = \"goat\"\n",
    "print(h.slots)\n",
    "print(h.data)"
   ]
  },
  {
   "cell_type": "code",
   "execution_count": 62,
   "metadata": {},
   "outputs": [
    {
     "data": {
      "text/plain": [
       "7"
      ]
     },
     "execution_count": 62,
     "metadata": {},
     "output_type": "execute_result"
    }
   ],
   "source": [
    "h.lenn()"
   ]
  },
  {
   "cell_type": "code",
   "execution_count": 63,
   "metadata": {},
   "outputs": [
    {
     "data": {
      "text/plain": [
       "False"
      ]
     },
     "execution_count": 63,
     "metadata": {},
     "output_type": "execute_result"
    }
   ],
   "source": [
    "h.inn(33)"
   ]
  },
  {
   "cell_type": "code",
   "execution_count": 64,
   "metadata": {},
   "outputs": [
    {
     "name": "stdout",
     "output_type": "stream",
     "text": [
      "here\n",
      "0 77\n"
     ]
    }
   ],
   "source": [
    "h.dell(77)"
   ]
  },
  {
   "cell_type": "code",
   "execution_count": 65,
   "metadata": {},
   "outputs": [
    {
     "name": "stdout",
     "output_type": "stream",
     "text": [
      "[None, 44, None, None, 26, 93, 17, None, None, 31, 54]\n",
      "[None, 'goat', None, None, 'dog', 'lion', 'tiger', None, None, 'cow', 'cat']\n"
     ]
    }
   ],
   "source": [
    "print(h.slots)\n",
    "print(h.data)"
   ]
  },
  {
   "cell_type": "code",
   "execution_count": 66,
   "metadata": {},
   "outputs": [
    {
     "name": "stdout",
     "output_type": "stream",
     "text": [
      "[55, 44, None, None, 26, 93, 17, None, None, 31, 54]\n",
      "['pig', 'goat', None, None, 'dog', 'lion', 'tiger', None, None, 'cow', 'cat']\n"
     ]
    }
   ],
   "source": [
    "h[55] = \"pig\"\n",
    "print(h.slots)\n",
    "print(h.data)"
   ]
  },
  {
   "cell_type": "code",
   "execution_count": 67,
   "metadata": {},
   "outputs": [
    {
     "name": "stdout",
     "output_type": "stream",
     "text": [
      "[55, 44, 20, None, 26, 93, 17, None, None, 31, 54]\n",
      "['pig', 'goat', 'chicken', None, 'dog', 'lion', 'tiger', None, None, 'cow', 'cat']\n"
     ]
    }
   ],
   "source": [
    "h[20] = \"chicken\"\n",
    "print(h.slots)\n",
    "print(h.data)"
   ]
  },
  {
   "cell_type": "code",
   "execution_count": 68,
   "metadata": {},
   "outputs": [
    {
     "data": {
      "text/plain": [
       "'chicken'"
      ]
     },
     "execution_count": 68,
     "metadata": {},
     "output_type": "execute_result"
    }
   ],
   "source": [
    "h[20]"
   ]
  },
  {
   "cell_type": "code",
   "execution_count": 69,
   "metadata": {},
   "outputs": [
    {
     "data": {
      "text/plain": [
       "'tiger'"
      ]
     },
     "execution_count": 69,
     "metadata": {},
     "output_type": "execute_result"
    }
   ],
   "source": [
    "h[17]"
   ]
  },
  {
   "cell_type": "code",
   "execution_count": 70,
   "metadata": {},
   "outputs": [],
   "source": [
    "h[20] = \"duck\""
   ]
  },
  {
   "cell_type": "code",
   "execution_count": 71,
   "metadata": {},
   "outputs": [
    {
     "name": "stdout",
     "output_type": "stream",
     "text": [
      "[55, 44, 20, None, 26, 93, 17, None, None, 31, 54]\n",
      "['pig', 'goat', 'duck', None, 'dog', 'lion', 'tiger', None, None, 'cow', 'cat']\n"
     ]
    }
   ],
   "source": [
    "print(h.slots)\n",
    "print(h.data)"
   ]
  },
  {
   "cell_type": "code",
   "execution_count": 72,
   "metadata": {},
   "outputs": [
    {
     "name": "stdout",
     "output_type": "stream",
     "text": [
      "None\n"
     ]
    }
   ],
   "source": [
    "print(h[99])"
   ]
  }
 ],
 "metadata": {
  "kernelspec": {
   "display_name": "Python 3",
   "language": "python",
   "name": "python3"
  },
  "language_info": {
   "codemirror_mode": {
    "name": "ipython",
    "version": 3
   },
   "file_extension": ".py",
   "mimetype": "text/x-python",
   "name": "python",
   "nbconvert_exporter": "python",
   "pygments_lexer": "ipython3",
   "version": "3.7.4"
  }
 },
 "nbformat": 4,
 "nbformat_minor": 2
}
