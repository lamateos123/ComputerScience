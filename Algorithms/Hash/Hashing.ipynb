{
 "cells": [
  {
   "cell_type": "code",
   "execution_count": 1,
   "metadata": {},
   "outputs": [
    {
     "name": "stdout",
     "output_type": "stream",
     "text": [
      "Number of slots = 11 in table [None, None, None, None, None, None, None, None, None, None, None]\n"
     ]
    }
   ],
   "source": [
    "\"\"\"This notebook shows the hashing\"\"\"\n",
    "# ----------------------------\n",
    "# Hash function\n",
    "#-----------------------------\n",
    "# hash table with 11 slot\n",
    "\n",
    "hash_table = [None] * 11\n",
    "elements = [54,26,93,17,77,31]\n",
    "n = len(hash_table)\n",
    "\n",
    "print(f\"Number of slots = {n} in table {hash_table}\")"
   ]
  },
  {
   "cell_type": "code",
   "execution_count": 2,
   "metadata": {},
   "outputs": [
    {
     "name": "stdout",
     "output_type": "stream",
     "text": [
      "11\n",
      "[77, None, None, None, 26, 93, 17, None, None, 31, 54]\n"
     ]
    }
   ],
   "source": [
    "# Populate the hash table\n",
    "print(n)\n",
    "for x in elements:\n",
    "    hash_function = x%n\n",
    "    hash_table[hash_function] = x\n",
    "print(hash_table)"
   ]
  },
  {
   "cell_type": "code",
   "execution_count": 3,
   "metadata": {},
   "outputs": [],
   "source": [
    "# six of the slots are now occupied\n",
    "# meaning a load factor of 6/11"
   ]
  },
  {
   "cell_type": "code",
   "execution_count": 4,
   "metadata": {},
   "outputs": [
    {
     "name": "stdout",
     "output_type": "stream",
     "text": [
      "The item 26 is located at index 4 in the hash table [77, None, None, None, 26, 93, 17, None, None, 31, 54]\n"
     ]
    }
   ],
   "source": [
    "# The searching in the ideal case will take O(1), since a constant amount \n",
    "# of time is required to computer the hash value and then index the table\n",
    "\n",
    "search_item = 26\n",
    "search_index = search_item%n\n",
    "print(f\"The item {search_item} is located at index \\\n",
    "{search_index} in the hash table {hash_table}\")"
   ]
  },
  {
   "cell_type": "code",
   "execution_count": 5,
   "metadata": {},
   "outputs": [
    {
     "name": "stdout",
     "output_type": "stream",
     "text": [
      "Collision detected, placing item 44 in index 0+1\n",
      "[77, 44, None, None, 26, 93, 17, None, None, 31, 54]\n",
      "Collision detected, placing item 55 in index 0+1\n",
      "Collision detected, placing item 55 in index 1+1\n",
      "[77, 44, 55, None, 26, 93, 17, None, None, 31, 54]\n",
      "Collision detected, placing item 20 in index 9+1\n",
      "Collision detected, placing item 20 in index 10+1\n",
      "Collision detected, placing item 20 in index 0+1\n",
      "Collision detected, placing item 20 in index 1+1\n",
      "Collision detected, placing item 20 in index 2+1\n",
      "[77, 44, 55, 20, 26, 93, 17, None, None, 31, 54]\n"
     ]
    }
   ],
   "source": [
    "# Collision Resolution\n",
    "# If an item is occupying a space in the hash table and\n",
    "# another item is set to that space. Then we have a collsion and we need to \n",
    "# fix it with \"plus 1\", \"plus 3\" or other methods\n",
    "# Add 44, 55 and 20\n",
    "# to the original hash table\n",
    "# [77, None, None, None, 26, 93, 17, None, None, 31, 54]\n",
    "def plus_one(item, i, n):\n",
    "    while hash_table[i] != None:\n",
    "        print(f\"Collision detected, placing item {item} in index {i}+1\")\n",
    "        if i >= n-1:\n",
    "            i = 0\n",
    "        else:\n",
    "            i += 1\n",
    "    hash_table[i] = item\n",
    "\n",
    "# add 44\n",
    "new_item = 44    \n",
    "hash_function = new_item%n\n",
    "plus_one(new_item, hash_function, n)\n",
    "print(hash_table)\n",
    "# add 55\n",
    "new_item = 55    \n",
    "hash_function = new_item%n\n",
    "plus_one(new_item, hash_function, n)\n",
    "print(hash_table)\n",
    "# add 20\n",
    "new_item = 20    \n",
    "hash_function = new_item%n\n",
    "plus_one(new_item, hash_function, n)\n",
    "print(hash_table)\n"
   ]
  }
 ],
 "metadata": {
  "kernelspec": {
   "display_name": "Python 3",
   "language": "python",
   "name": "python3"
  },
  "language_info": {
   "codemirror_mode": {
    "name": "ipython",
    "version": 3
   },
   "file_extension": ".py",
   "mimetype": "text/x-python",
   "name": "python",
   "nbconvert_exporter": "python",
   "pygments_lexer": "ipython3",
   "version": "3.7.4"
  }
 },
 "nbformat": 4,
 "nbformat_minor": 2
}
