{
 "cells": [
  {
   "cell_type": "code",
   "execution_count": 4,
   "metadata": {},
   "outputs": [],
   "source": [
    "\"\"\"This notebook shows the linear search for unordered and ordered data\"\"\"\n",
    "\n",
    "# We have list A\n",
    "# with n = 9 elements\n",
    "# search item is 3\n",
    "\n",
    "A = [6,5,7,4,8,3,1,9,2]\n",
    "n = len(A)\n",
    "item = 3"
   ]
  },
  {
   "cell_type": "code",
   "execution_count": 9,
   "metadata": {},
   "outputs": [],
   "source": [
    "def linear_search_unordered(A,item): \n",
    "    '''Perform linear search\n",
    "    if the item exist return True else False'''\n",
    "    for i in range(n-1):\n",
    "        print(f\"searching for {item} finding {A[i]}\")\n",
    "        if A[i] == item:            \n",
    "            return True\n",
    "    return False        "
   ]
  },
  {
   "cell_type": "code",
   "execution_count": 10,
   "metadata": {},
   "outputs": [
    {
     "name": "stdout",
     "output_type": "stream",
     "text": [
      "searching for 3 finding 6\n",
      "searching for 3 finding 5\n",
      "searching for 3 finding 7\n",
      "searching for 3 finding 4\n",
      "searching for 3 finding 8\n",
      "searching for 3 finding 3\n",
      "True\n"
     ]
    }
   ],
   "source": [
    "print(linear_search_unordered(A,item))"
   ]
  }
 ],
 "metadata": {
  "kernelspec": {
   "display_name": "Python 3",
   "language": "python",
   "name": "python3"
  },
  "language_info": {
   "codemirror_mode": {
    "name": "ipython",
    "version": 3
   },
   "file_extension": ".py",
   "mimetype": "text/x-python",
   "name": "python",
   "nbconvert_exporter": "python",
   "pygments_lexer": "ipython3",
   "version": "3.7.4"
  }
 },
 "nbformat": 4,
 "nbformat_minor": 2
}
