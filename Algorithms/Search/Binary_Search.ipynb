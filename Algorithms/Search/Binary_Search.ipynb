{
 "cells": [
  {
   "cell_type": "code",
   "execution_count": 6,
   "metadata": {},
   "outputs": [],
   "source": [
    "\"\"\"This notebook shows the binary search for ordered data\"\"\"\n",
    "\n",
    "# ----------------------------\n",
    "# Binary search\n",
    "#-----------------------------\n",
    "# We have list A\n",
    "# with n = 16 elements\n",
    "# search item is 3\n",
    "\n",
    "A = [1,2,4,5,7,8,9,10,30,40,50,80,90,500,800,900]\n",
    "n = len(A)\n",
    "item = 3"
   ]
  },
  {
   "cell_type": "code",
   "execution_count": 7,
   "metadata": {},
   "outputs": [],
   "source": [
    "def binary_search(A,item): \n",
    "    '''Perform bynary search on ORDERED data\n",
    "    if the item exist return True else False'''\n",
    "    left = 0\n",
    "    right = n-1\n",
    "    while left <= right:\n",
    "        #mid = (left+right)//2\n",
    "        mid = left + (right - left) //2\n",
    "        print(f\"searching for {item} finding {A[mid]}\")\n",
    "        if A[mid] == item:\n",
    "            return True\n",
    "        else:\n",
    "            if A[mid] < item:\n",
    "                left = mid + 1\n",
    "            else:\n",
    "                right = mid - 1\n",
    "    return False"
   ]
  },
  {
   "cell_type": "code",
   "execution_count": 8,
   "metadata": {},
   "outputs": [
    {
     "name": "stdout",
     "output_type": "stream",
     "text": [
      "searching for 2 finding 10\n",
      "searching for 2 finding 5\n",
      "searching for 2 finding 2\n",
      "True\n"
     ]
    }
   ],
   "source": [
    "item = 2\n",
    "print(binary_search(A,item))"
   ]
  },
  {
   "cell_type": "code",
   "execution_count": 9,
   "metadata": {},
   "outputs": [
    {
     "name": "stdout",
     "output_type": "stream",
     "text": [
      "searching for 933 finding 10\n",
      "searching for 933 finding 80\n",
      "searching for 933 finding 500\n",
      "searching for 933 finding 800\n",
      "searching for 933 finding 900\n",
      "False\n"
     ]
    }
   ],
   "source": [
    "item = 933\n",
    "print(binary_search(A,item))"
   ]
  },
  {
   "cell_type": "code",
   "execution_count": null,
   "metadata": {},
   "outputs": [],
   "source": []
  }
 ],
 "metadata": {
  "kernelspec": {
   "display_name": "Python 3",
   "language": "python",
   "name": "python3"
  },
  "language_info": {
   "codemirror_mode": {
    "name": "ipython",
    "version": 3
   },
   "file_extension": ".py",
   "mimetype": "text/x-python",
   "name": "python",
   "nbconvert_exporter": "python",
   "pygments_lexer": "ipython3",
   "version": "3.8.10"
  }
 },
 "nbformat": 4,
 "nbformat_minor": 2
}
