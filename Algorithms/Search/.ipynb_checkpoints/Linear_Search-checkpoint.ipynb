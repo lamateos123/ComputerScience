{
 "cells": [
  {
   "cell_type": "code",
   "execution_count": 1,
   "metadata": {},
   "outputs": [],
   "source": [
    "\"\"\"This notebook shows the linear search for unordered and ordered data\"\"\"\n",
    "# ----------------------------\n",
    "# Unordered data search\n",
    "#-----------------------------\n",
    "# We have list A\n",
    "# with n = 9 elements\n",
    "# search item is 3\n",
    "\n",
    "A = [6,5,7,4,8,3,1,9,2]\n",
    "n = len(A)\n",
    "item = 3"
   ]
  },
  {
   "cell_type": "code",
   "execution_count": 2,
   "metadata": {},
   "outputs": [],
   "source": [
    "def linear_search_unordered(A,item): \n",
    "    '''Perform linear search on UNORDERED data\n",
    "    if the item exist return True else False'''\n",
    "    for i in range(n-1):\n",
    "        print(f\"searching for {item} finding {A[i]}\")\n",
    "        if A[i] == item:            \n",
    "            return True\n",
    "    return False        "
   ]
  },
  {
   "cell_type": "code",
   "execution_count": 3,
   "metadata": {},
   "outputs": [
    {
     "name": "stdout",
     "output_type": "stream",
     "text": [
      "searching for 3 finding 6\n",
      "searching for 3 finding 5\n",
      "searching for 3 finding 7\n",
      "searching for 3 finding 4\n",
      "searching for 3 finding 8\n",
      "searching for 3 finding 3\n",
      "True\n"
     ]
    }
   ],
   "source": [
    "print(linear_search_unordered(A,item))"
   ]
  },
  {
   "cell_type": "code",
   "execution_count": 4,
   "metadata": {},
   "outputs": [],
   "source": [
    "# ----------------------------\n",
    "# Ordered data search\n",
    "#-----------------------------\n",
    "# We have list A\n",
    "# with n = 9 elements\n",
    "# search item is 3\n",
    "\n",
    "A = [1,2,4,5,6,7,8,9]\n",
    "n = len(A)\n",
    "item = 3"
   ]
  },
  {
   "cell_type": "code",
   "execution_count": 5,
   "metadata": {},
   "outputs": [],
   "source": [
    "def linear_search_ordered(A,item):\n",
    "    '''Perform linear search on ORDERED data\n",
    "    if the item exists resturn True else False\n",
    "    with Ordered data, we can stop searching if the data is bigger than the search item,\n",
    "    reducing the searching time'''\n",
    "    for i in range(n-1):\n",
    "        print(f\"searching for {item} finding {A[i]}\")\n",
    "        if A[i] == item:\n",
    "            return True\n",
    "        if A[i] > item:\n",
    "            return False\n",
    "    return False"
   ]
  },
  {
   "cell_type": "code",
   "execution_count": 6,
   "metadata": {},
   "outputs": [
    {
     "name": "stdout",
     "output_type": "stream",
     "text": [
      "searching for 3 finding 1\n",
      "searching for 3 finding 2\n",
      "searching for 3 finding 4\n",
      "False\n"
     ]
    }
   ],
   "source": [
    "print(linear_search_ordered(A,item))"
   ]
  }
 ],
 "metadata": {
  "kernelspec": {
   "display_name": "Python 3",
   "language": "python",
   "name": "python3"
  },
  "language_info": {
   "codemirror_mode": {
    "name": "ipython",
    "version": 3
   },
   "file_extension": ".py",
   "mimetype": "text/x-python",
   "name": "python",
   "nbconvert_exporter": "python",
   "pygments_lexer": "ipython3",
   "version": "3.7.4"
  }
 },
 "nbformat": 4,
 "nbformat_minor": 2
}
