{
 "cells": [
  {
   "cell_type": "code",
   "execution_count": 7,
   "metadata": {},
   "outputs": [],
   "source": [
    "\"\"\"This notebook shows the selection sort\"\"\"\n",
    "# ----------------------------\n",
    "# Selection sort\n",
    "\"\"\"\n",
    "First step\n",
    " Extract minimum element\n",
    " Swap it with the element at index 0\n",
    " \n",
    "Subsequent steps\n",
    " In the remaining sublist, extract minimum element\n",
    " Swap it with the element at index 1\n",
    " \n",
    "Keep the left portion of the list sorted\n",
    " At i^th step, first i element in list are sorted\n",
    " All other elements are bigger that first i elements\n",
    "\"\"\"\n",
    "#-----------------------------\n",
    "# We have list A\n",
    "# with n = 9 elements\n",
    "\n",
    "A = [6,5,7,4,8,3,1,9,2]"
   ]
  },
  {
   "cell_type": "code",
   "execution_count": 8,
   "metadata": {},
   "outputs": [
    {
     "name": "stdout",
     "output_type": "stream",
     "text": [
      "[6, 5, 7, 4, 8, 3, 1, 9, 2]\n",
      "----------------------------\n",
      "[1, 5, 7, 4, 8, 3, 6, 9, 2]\n",
      "[1, 2, 7, 4, 8, 3, 6, 9, 5]\n",
      "[1, 2, 3, 4, 8, 7, 6, 9, 5]\n",
      "[1, 2, 3, 4, 8, 7, 6, 9, 5]\n",
      "[1, 2, 3, 4, 5, 7, 6, 9, 8]\n",
      "[1, 2, 3, 4, 5, 6, 7, 9, 8]\n",
      "[1, 2, 3, 4, 5, 6, 7, 9, 8]\n",
      "[1, 2, 3, 4, 5, 6, 7, 8, 9]\n",
      "[1, 2, 3, 4, 5, 6, 7, 8, 9]\n"
     ]
    }
   ],
   "source": [
    "# Using min function\n",
    "def selection_sort(A):\n",
    "    '''Perform selection sort with min() function and return the sorted list'''\n",
    "    n = len(A)\n",
    "    for i in range(n):\n",
    "        min_element = min(A[i:])\n",
    "        min_element_index = A.index(min_element)\n",
    "        A[i], A[min_element_index] = A[min_element_index], A[i]\n",
    "        print(A)\n",
    "\n",
    "print(A)\n",
    "print(\"----------------------------\")\n",
    "selection_sort(A)"
   ]
  },
  {
   "cell_type": "code",
   "execution_count": 26,
   "metadata": {},
   "outputs": [
    {
     "name": "stdout",
     "output_type": "stream",
     "text": [
      "[6, 5, 7, 4, 8, 3, 1, 9, 2]\n",
      "----------------------------\n",
      "i=0 A[0] = 6 and min_element = 6\n",
      "i=0 A[1] = 5 and min_element = 6\n",
      "i=0 A[2] = 7 and min_element = 5\n",
      "i=0 A[3] = 4 and min_element = 5\n",
      "i=0 A[4] = 8 and min_element = 4\n",
      "i=0 A[5] = 3 and min_element = 4\n",
      "i=0 A[6] = 1 and min_element = 3\n",
      "i=0 A[7] = 9 and min_element = 1\n",
      "i=0 A[8] = 2 and min_element = 1\n",
      "[1, 5, 7, 4, 8, 3, 6, 9, 2]\n",
      "i=1 A[1] = 5 and min_element = 5\n",
      "i=1 A[2] = 7 and min_element = 5\n",
      "i=1 A[3] = 4 and min_element = 5\n",
      "i=1 A[4] = 8 and min_element = 4\n",
      "i=1 A[5] = 3 and min_element = 4\n",
      "i=1 A[6] = 6 and min_element = 3\n",
      "i=1 A[7] = 9 and min_element = 3\n",
      "i=1 A[8] = 2 and min_element = 3\n",
      "[1, 2, 7, 4, 8, 3, 6, 9, 5]\n",
      "i=2 A[2] = 7 and min_element = 7\n",
      "i=2 A[3] = 4 and min_element = 7\n",
      "i=2 A[4] = 8 and min_element = 4\n",
      "i=2 A[5] = 3 and min_element = 4\n",
      "i=2 A[6] = 6 and min_element = 3\n",
      "i=2 A[7] = 9 and min_element = 3\n",
      "i=2 A[8] = 5 and min_element = 3\n",
      "[1, 2, 3, 4, 8, 7, 6, 9, 5]\n",
      "i=3 A[3] = 4 and min_element = 4\n",
      "i=3 A[4] = 8 and min_element = 4\n",
      "i=3 A[5] = 7 and min_element = 4\n",
      "i=3 A[6] = 6 and min_element = 4\n",
      "i=3 A[7] = 9 and min_element = 4\n",
      "i=3 A[8] = 5 and min_element = 4\n",
      "[1, 2, 3, 4, 8, 7, 6, 9, 5]\n",
      "i=4 A[4] = 8 and min_element = 8\n",
      "i=4 A[5] = 7 and min_element = 8\n",
      "i=4 A[6] = 6 and min_element = 7\n",
      "i=4 A[7] = 9 and min_element = 6\n",
      "i=4 A[8] = 5 and min_element = 6\n",
      "[1, 2, 3, 4, 5, 7, 6, 9, 8]\n",
      "i=5 A[5] = 7 and min_element = 7\n",
      "i=5 A[6] = 6 and min_element = 7\n",
      "i=5 A[7] = 9 and min_element = 6\n",
      "i=5 A[8] = 8 and min_element = 6\n",
      "[1, 2, 3, 4, 5, 6, 7, 9, 8]\n",
      "i=6 A[6] = 7 and min_element = 7\n",
      "i=6 A[7] = 9 and min_element = 7\n",
      "i=6 A[8] = 8 and min_element = 7\n",
      "[1, 2, 3, 4, 5, 6, 7, 9, 8]\n",
      "i=7 A[7] = 9 and min_element = 9\n",
      "i=7 A[8] = 8 and min_element = 9\n",
      "[1, 2, 3, 4, 5, 6, 7, 8, 9]\n",
      "i=8 A[8] = 9 and min_element = 9\n",
      "[1, 2, 3, 4, 5, 6, 7, 8, 9]\n"
     ]
    }
   ],
   "source": [
    "A = [6,5,7,4,8,3,1,9,2]\n",
    "# Using two loops\n",
    "def selection_sort(A):\n",
    "    '''Perform selection sort with two loops and the return the sorted list'''\n",
    "    n = len(A)\n",
    "    for i in range(n):\n",
    "        min_element = A[i] # set min_element to current value\n",
    "        for j in range(i,n):\n",
    "            print(f\"i={i} A[{j}] = {A[j]} and min_element = {min_element}\")\n",
    "            if A[j] < min_element:\n",
    "                min_element = A[j] # Update the min element from the remainder elements in list\n",
    "        min_element_index = A.index(min_element) # Get the index of the min_element\n",
    "        A[i], A[min_element_index] = A[min_element_index], A[i] # Swap the current value with the min element\n",
    "        print(A)\n",
    "        \n",
    "print(A)\n",
    "print(\"----------------------------\")\n",
    "selection_sort(A)"
   ]
  },
  {
   "cell_type": "code",
   "execution_count": null,
   "metadata": {},
   "outputs": [],
   "source": []
  }
 ],
 "metadata": {
  "kernelspec": {
   "display_name": "Python 3",
   "language": "python",
   "name": "python3"
  },
  "language_info": {
   "codemirror_mode": {
    "name": "ipython",
    "version": 3
   },
   "file_extension": ".py",
   "mimetype": "text/x-python",
   "name": "python",
   "nbconvert_exporter": "python",
   "pygments_lexer": "ipython3",
   "version": "3.8.10"
  }
 },
 "nbformat": 4,
 "nbformat_minor": 4
}
